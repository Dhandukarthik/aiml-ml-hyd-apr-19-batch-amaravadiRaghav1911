{
 "cells": [
  {
   "cell_type": "code",
   "execution_count": 0,
   "metadata": {
    "colab": {},
    "colab_type": "code",
    "id": "3Ke88vbaCkE6"
   },
   "outputs": [],
   "source": [
    "from zipfile import ZipFile\n",
    "import pandas as pd"
   ]
  },
  {
   "cell_type": "code",
   "execution_count": 2,
   "metadata": {
    "colab": {
     "base_uri": "https://localhost:8080/",
     "height": 125
    },
    "colab_type": "code",
    "id": "BMNjmBooIPAJ",
    "outputId": "f4729348-f5d2-4782-9822-dcee1551d566"
   },
   "outputs": [
    {
     "name": "stdout",
     "output_type": "stream",
     "text": [
      "Go to this URL in a browser: https://accounts.google.com/o/oauth2/auth?client_id=947318989803-6bn6qk8qdgf4n4g3pfee6491hc0brc4i.apps.googleusercontent.com&redirect_uri=urn%3aietf%3awg%3aoauth%3a2.0%3aoob&response_type=code&scope=email%20https%3a%2f%2fwww.googleapis.com%2fauth%2fdocs.test%20https%3a%2f%2fwww.googleapis.com%2fauth%2fdrive%20https%3a%2f%2fwww.googleapis.com%2fauth%2fdrive.photos.readonly%20https%3a%2f%2fwww.googleapis.com%2fauth%2fpeopleapi.readonly\n",
      "\n",
      "Enter your authorization code:\n",
      "··········\n",
      "Mounted at /content/drive\n"
     ]
    }
   ],
   "source": [
    "from google.colab import drive\n",
    "drive.mount('/content/drive')"
   ]
  },
  {
   "cell_type": "code",
   "execution_count": 0,
   "metadata": {
    "colab": {},
    "colab_type": "code",
    "id": "edpXaljPITuT"
   },
   "outputs": [],
   "source": [
    "train_txtArchive = ZipFile('/content/drive/My Drive/R8_NN_Project2/blog-authorship-corpus.zip', 'r')"
   ]
  },
  {
   "cell_type": "code",
   "execution_count": 0,
   "metadata": {
    "colab": {},
    "colab_type": "code",
    "id": "V0l9sTxiIXXm"
   },
   "outputs": [],
   "source": [
    "df = pd.read_csv(train_txtArchive.open('blogtext.csv'))"
   ]
  },
  {
   "cell_type": "code",
   "execution_count": 5,
   "metadata": {
    "colab": {
     "base_uri": "https://localhost:8080/",
     "height": 199
    },
    "colab_type": "code",
    "id": "yOhMBL22I_0L",
    "outputId": "418b2c54-72f0-48ed-b3ee-e3bac077a22e"
   },
   "outputs": [
    {
     "data": {
      "text/html": [
       "<div>\n",
       "<style scoped>\n",
       "    .dataframe tbody tr th:only-of-type {\n",
       "        vertical-align: middle;\n",
       "    }\n",
       "\n",
       "    .dataframe tbody tr th {\n",
       "        vertical-align: top;\n",
       "    }\n",
       "\n",
       "    .dataframe thead th {\n",
       "        text-align: right;\n",
       "    }\n",
       "</style>\n",
       "<table border=\"1\" class=\"dataframe\">\n",
       "  <thead>\n",
       "    <tr style=\"text-align: right;\">\n",
       "      <th></th>\n",
       "      <th>id</th>\n",
       "      <th>gender</th>\n",
       "      <th>age</th>\n",
       "      <th>topic</th>\n",
       "      <th>sign</th>\n",
       "      <th>date</th>\n",
       "      <th>text</th>\n",
       "    </tr>\n",
       "  </thead>\n",
       "  <tbody>\n",
       "    <tr>\n",
       "      <th>0</th>\n",
       "      <td>2059027</td>\n",
       "      <td>male</td>\n",
       "      <td>15</td>\n",
       "      <td>Student</td>\n",
       "      <td>Leo</td>\n",
       "      <td>14,May,2004</td>\n",
       "      <td>Info has been found (+/- 100 pages,...</td>\n",
       "    </tr>\n",
       "    <tr>\n",
       "      <th>1</th>\n",
       "      <td>2059027</td>\n",
       "      <td>male</td>\n",
       "      <td>15</td>\n",
       "      <td>Student</td>\n",
       "      <td>Leo</td>\n",
       "      <td>13,May,2004</td>\n",
       "      <td>These are the team members:   Drewe...</td>\n",
       "    </tr>\n",
       "    <tr>\n",
       "      <th>2</th>\n",
       "      <td>2059027</td>\n",
       "      <td>male</td>\n",
       "      <td>15</td>\n",
       "      <td>Student</td>\n",
       "      <td>Leo</td>\n",
       "      <td>12,May,2004</td>\n",
       "      <td>In het kader van kernfusie op aarde...</td>\n",
       "    </tr>\n",
       "    <tr>\n",
       "      <th>3</th>\n",
       "      <td>2059027</td>\n",
       "      <td>male</td>\n",
       "      <td>15</td>\n",
       "      <td>Student</td>\n",
       "      <td>Leo</td>\n",
       "      <td>12,May,2004</td>\n",
       "      <td>testing!!!  testing!!!</td>\n",
       "    </tr>\n",
       "    <tr>\n",
       "      <th>4</th>\n",
       "      <td>3581210</td>\n",
       "      <td>male</td>\n",
       "      <td>33</td>\n",
       "      <td>InvestmentBanking</td>\n",
       "      <td>Aquarius</td>\n",
       "      <td>11,June,2004</td>\n",
       "      <td>Thanks to Yahoo!'s Toolbar I can ...</td>\n",
       "    </tr>\n",
       "  </tbody>\n",
       "</table>\n",
       "</div>"
      ],
      "text/plain": [
       "        id  ...                                               text\n",
       "0  2059027  ...             Info has been found (+/- 100 pages,...\n",
       "1  2059027  ...             These are the team members:   Drewe...\n",
       "2  2059027  ...             In het kader van kernfusie op aarde...\n",
       "3  2059027  ...                   testing!!!  testing!!!          \n",
       "4  3581210  ...               Thanks to Yahoo!'s Toolbar I can ...\n",
       "\n",
       "[5 rows x 7 columns]"
      ]
     },
     "execution_count": 5,
     "metadata": {
      "tags": []
     },
     "output_type": "execute_result"
    }
   ],
   "source": [
    "df.head()"
   ]
  },
  {
   "cell_type": "code",
   "execution_count": 6,
   "metadata": {
    "colab": {
     "base_uri": "https://localhost:8080/",
     "height": 34
    },
    "colab_type": "code",
    "id": "_pWXaIMHJQgl",
    "outputId": "a4f19fe3-d0b6-412b-f874-f99ae4b6dd25"
   },
   "outputs": [
    {
     "data": {
      "text/plain": [
       "(681284, 7)"
      ]
     },
     "execution_count": 6,
     "metadata": {
      "tags": []
     },
     "output_type": "execute_result"
    }
   ],
   "source": [
    "df.shape"
   ]
  },
  {
   "cell_type": "code",
   "execution_count": 7,
   "metadata": {
    "colab": {
     "base_uri": "https://localhost:8080/",
     "height": 157
    },
    "colab_type": "code",
    "id": "pJflvybjp6ZB",
    "outputId": "754ad4e2-e913-4fc7-d68b-b352256b7104"
   },
   "outputs": [
    {
     "data": {
      "text/plain": [
       "id        0\n",
       "gender    0\n",
       "age       0\n",
       "topic     0\n",
       "sign      0\n",
       "date      0\n",
       "text      0\n",
       "dtype: int64"
      ]
     },
     "execution_count": 7,
     "metadata": {
      "tags": []
     },
     "output_type": "execute_result"
    }
   ],
   "source": [
    "df.isna().sum()"
   ]
  },
  {
   "cell_type": "code",
   "execution_count": 8,
   "metadata": {
    "colab": {
     "base_uri": "https://localhost:8080/",
     "height": 157
    },
    "colab_type": "code",
    "id": "Kt75XoCXpWcJ",
    "outputId": "dc7cb259-3dc2-440a-9f19-8c5cf62b5afd"
   },
   "outputs": [
    {
     "data": {
      "text/plain": [
       "id        0\n",
       "gender    0\n",
       "age       0\n",
       "topic     0\n",
       "sign      0\n",
       "date      0\n",
       "text      0\n",
       "dtype: int64"
      ]
     },
     "execution_count": 8,
     "metadata": {
      "tags": []
     },
     "output_type": "execute_result"
    }
   ],
   "source": [
    "df.isnull().sum()"
   ]
  },
  {
   "cell_type": "code",
   "execution_count": 0,
   "metadata": {
    "colab": {},
    "colab_type": "code",
    "id": "BOROQvQnKv-M"
   },
   "outputs": [],
   "source": [
    "label = []\n",
    "for i in range(0,df.shape[0]):\n",
    "  label.append([df.gender[i], str(df.age[i]), df.topic[i],df.sign[i]])"
   ]
  },
  {
   "cell_type": "code",
   "execution_count": 10,
   "metadata": {
    "colab": {
     "base_uri": "https://localhost:8080/",
     "height": 34
    },
    "colab_type": "code",
    "id": "WBGNWkGfL20i",
    "outputId": "cb9bfb8f-d019-4c6c-b5f3-64eb27b0965d"
   },
   "outputs": [
    {
     "data": {
      "text/plain": [
       "['male', '33', 'InvestmentBanking', 'Aquarius']"
      ]
     },
     "execution_count": 10,
     "metadata": {
      "tags": []
     },
     "output_type": "execute_result"
    }
   ],
   "source": [
    "label[4]"
   ]
  },
  {
   "cell_type": "code",
   "execution_count": 0,
   "metadata": {
    "colab": {},
    "colab_type": "code",
    "id": "_6pcBhFOL8Vc"
   },
   "outputs": [],
   "source": [
    "df['Label'] = label"
   ]
  },
  {
   "cell_type": "code",
   "execution_count": 12,
   "metadata": {
    "colab": {
     "base_uri": "https://localhost:8080/",
     "height": 199
    },
    "colab_type": "code",
    "id": "zcalVnqSQMqD",
    "outputId": "582a405a-28c3-4309-a6de-a8be5d938007"
   },
   "outputs": [
    {
     "data": {
      "text/html": [
       "<div>\n",
       "<style scoped>\n",
       "    .dataframe tbody tr th:only-of-type {\n",
       "        vertical-align: middle;\n",
       "    }\n",
       "\n",
       "    .dataframe tbody tr th {\n",
       "        vertical-align: top;\n",
       "    }\n",
       "\n",
       "    .dataframe thead th {\n",
       "        text-align: right;\n",
       "    }\n",
       "</style>\n",
       "<table border=\"1\" class=\"dataframe\">\n",
       "  <thead>\n",
       "    <tr style=\"text-align: right;\">\n",
       "      <th></th>\n",
       "      <th>id</th>\n",
       "      <th>gender</th>\n",
       "      <th>age</th>\n",
       "      <th>topic</th>\n",
       "      <th>sign</th>\n",
       "      <th>date</th>\n",
       "      <th>text</th>\n",
       "      <th>Label</th>\n",
       "    </tr>\n",
       "  </thead>\n",
       "  <tbody>\n",
       "    <tr>\n",
       "      <th>0</th>\n",
       "      <td>2059027</td>\n",
       "      <td>male</td>\n",
       "      <td>15</td>\n",
       "      <td>Student</td>\n",
       "      <td>Leo</td>\n",
       "      <td>14,May,2004</td>\n",
       "      <td>Info has been found (+/- 100 pages,...</td>\n",
       "      <td>[male, 15, Student, Leo]</td>\n",
       "    </tr>\n",
       "    <tr>\n",
       "      <th>1</th>\n",
       "      <td>2059027</td>\n",
       "      <td>male</td>\n",
       "      <td>15</td>\n",
       "      <td>Student</td>\n",
       "      <td>Leo</td>\n",
       "      <td>13,May,2004</td>\n",
       "      <td>These are the team members:   Drewe...</td>\n",
       "      <td>[male, 15, Student, Leo]</td>\n",
       "    </tr>\n",
       "    <tr>\n",
       "      <th>2</th>\n",
       "      <td>2059027</td>\n",
       "      <td>male</td>\n",
       "      <td>15</td>\n",
       "      <td>Student</td>\n",
       "      <td>Leo</td>\n",
       "      <td>12,May,2004</td>\n",
       "      <td>In het kader van kernfusie op aarde...</td>\n",
       "      <td>[male, 15, Student, Leo]</td>\n",
       "    </tr>\n",
       "    <tr>\n",
       "      <th>3</th>\n",
       "      <td>2059027</td>\n",
       "      <td>male</td>\n",
       "      <td>15</td>\n",
       "      <td>Student</td>\n",
       "      <td>Leo</td>\n",
       "      <td>12,May,2004</td>\n",
       "      <td>testing!!!  testing!!!</td>\n",
       "      <td>[male, 15, Student, Leo]</td>\n",
       "    </tr>\n",
       "    <tr>\n",
       "      <th>4</th>\n",
       "      <td>3581210</td>\n",
       "      <td>male</td>\n",
       "      <td>33</td>\n",
       "      <td>InvestmentBanking</td>\n",
       "      <td>Aquarius</td>\n",
       "      <td>11,June,2004</td>\n",
       "      <td>Thanks to Yahoo!'s Toolbar I can ...</td>\n",
       "      <td>[male, 33, InvestmentBanking, Aquarius]</td>\n",
       "    </tr>\n",
       "  </tbody>\n",
       "</table>\n",
       "</div>"
      ],
      "text/plain": [
       "        id  ...                                    Label\n",
       "0  2059027  ...                 [male, 15, Student, Leo]\n",
       "1  2059027  ...                 [male, 15, Student, Leo]\n",
       "2  2059027  ...                 [male, 15, Student, Leo]\n",
       "3  2059027  ...                 [male, 15, Student, Leo]\n",
       "4  3581210  ...  [male, 33, InvestmentBanking, Aquarius]\n",
       "\n",
       "[5 rows x 8 columns]"
      ]
     },
     "execution_count": 12,
     "metadata": {
      "tags": []
     },
     "output_type": "execute_result"
    }
   ],
   "source": [
    "df.head()"
   ]
  },
  {
   "cell_type": "code",
   "execution_count": 0,
   "metadata": {
    "colab": {},
    "colab_type": "code",
    "id": "xULDpMHjQQSy"
   },
   "outputs": [],
   "source": [
    "df_new = df.drop(columns = {'gender','age','topic','sign','date','id'})"
   ]
  },
  {
   "cell_type": "code",
   "execution_count": 14,
   "metadata": {
    "colab": {
     "base_uri": "https://localhost:8080/",
     "height": 199
    },
    "colab_type": "code",
    "id": "VkQCQtdpQp8j",
    "outputId": "4023fee1-2d2f-431a-d87b-65395ee1d696"
   },
   "outputs": [
    {
     "data": {
      "text/html": [
       "<div>\n",
       "<style scoped>\n",
       "    .dataframe tbody tr th:only-of-type {\n",
       "        vertical-align: middle;\n",
       "    }\n",
       "\n",
       "    .dataframe tbody tr th {\n",
       "        vertical-align: top;\n",
       "    }\n",
       "\n",
       "    .dataframe thead th {\n",
       "        text-align: right;\n",
       "    }\n",
       "</style>\n",
       "<table border=\"1\" class=\"dataframe\">\n",
       "  <thead>\n",
       "    <tr style=\"text-align: right;\">\n",
       "      <th></th>\n",
       "      <th>text</th>\n",
       "      <th>Label</th>\n",
       "    </tr>\n",
       "  </thead>\n",
       "  <tbody>\n",
       "    <tr>\n",
       "      <th>0</th>\n",
       "      <td>Info has been found (+/- 100 pages,...</td>\n",
       "      <td>[male, 15, Student, Leo]</td>\n",
       "    </tr>\n",
       "    <tr>\n",
       "      <th>1</th>\n",
       "      <td>These are the team members:   Drewe...</td>\n",
       "      <td>[male, 15, Student, Leo]</td>\n",
       "    </tr>\n",
       "    <tr>\n",
       "      <th>2</th>\n",
       "      <td>In het kader van kernfusie op aarde...</td>\n",
       "      <td>[male, 15, Student, Leo]</td>\n",
       "    </tr>\n",
       "    <tr>\n",
       "      <th>3</th>\n",
       "      <td>testing!!!  testing!!!</td>\n",
       "      <td>[male, 15, Student, Leo]</td>\n",
       "    </tr>\n",
       "    <tr>\n",
       "      <th>4</th>\n",
       "      <td>Thanks to Yahoo!'s Toolbar I can ...</td>\n",
       "      <td>[male, 33, InvestmentBanking, Aquarius]</td>\n",
       "    </tr>\n",
       "  </tbody>\n",
       "</table>\n",
       "</div>"
      ],
      "text/plain": [
       "                                                text                                    Label\n",
       "0             Info has been found (+/- 100 pages,...                 [male, 15, Student, Leo]\n",
       "1             These are the team members:   Drewe...                 [male, 15, Student, Leo]\n",
       "2             In het kader van kernfusie op aarde...                 [male, 15, Student, Leo]\n",
       "3                   testing!!!  testing!!!                           [male, 15, Student, Leo]\n",
       "4               Thanks to Yahoo!'s Toolbar I can ...  [male, 33, InvestmentBanking, Aquarius]"
      ]
     },
     "execution_count": 14,
     "metadata": {
      "tags": []
     },
     "output_type": "execute_result"
    }
   ],
   "source": [
    "df_new.head()"
   ]
  },
  {
   "cell_type": "code",
   "execution_count": 0,
   "metadata": {
    "colab": {},
    "colab_type": "code",
    "id": "BukJFXy-Qx3o"
   },
   "outputs": [],
   "source": [
    "#Converting all the strings in the text column to lower case\n",
    "df_new['text'] = df_new.text.str.lower()"
   ]
  },
  {
   "cell_type": "code",
   "execution_count": 0,
   "metadata": {
    "colab": {},
    "colab_type": "code",
    "id": "M0Lh7W3vTTdR"
   },
   "outputs": [],
   "source": [
    "#removing the unwanted spaces using strip function\n",
    "df_new['text'] = df_new.text.str.strip()"
   ]
  },
  {
   "cell_type": "code",
   "execution_count": 0,
   "metadata": {
    "colab": {},
    "colab_type": "code",
    "id": "gQSTp052lNCW"
   },
   "outputs": [],
   "source": [
    "from sklearn.model_selection import train_test_split\n",
    "from sklearn.feature_extraction.text import CountVectorizer, TfidfVectorizer\n",
    "from spacy.lang.en.stop_words import STOP_WORDS"
   ]
  },
  {
   "cell_type": "code",
   "execution_count": 0,
   "metadata": {
    "colab": {},
    "colab_type": "code",
    "id": "xyuv9gGOqqHa"
   },
   "outputs": [],
   "source": [
    "df_partial = df_new.iloc[0:5000,:]"
   ]
  },
  {
   "cell_type": "code",
   "execution_count": 19,
   "metadata": {
    "colab": {
     "base_uri": "https://localhost:8080/",
     "height": 263
    },
    "colab_type": "code",
    "id": "iZO19irvqzg1",
    "outputId": "ea540450-5c6e-48d5-a121-7494d1feb2a1"
   },
   "outputs": [
    {
     "data": {
      "text/plain": [
       "<bound method NDFrame.head of                                                    text                                    Label\n",
       "0     info has been found (+/- 100 pages, and 4.5 mb...                 [male, 15, Student, Leo]\n",
       "1     these are the team members:   drewes van der l...                 [male, 15, Student, Leo]\n",
       "2     in het kader van kernfusie op aarde:  maak je ...                 [male, 15, Student, Leo]\n",
       "3                                testing!!!  testing!!!                 [male, 15, Student, Leo]\n",
       "4     thanks to yahoo!'s toolbar i can now 'capture'...  [male, 33, InvestmentBanking, Aquarius]\n",
       "...                                                 ...                                      ...\n",
       "4995  so... i had another one of those dreams last n...            [female, 17, indUnk, Scorpio]\n",
       "4996  mmm... strawberry tea for breakfast. tomorrow ...            [female, 17, indUnk, Scorpio]\n",
       "4997  yay for a new layout!!  yeah, i know, i need t...            [female, 17, indUnk, Scorpio]\n",
       "4998  ok, so i lied... fed up isn't playing friday n...            [female, 17, indUnk, Scorpio]\n",
       "4999  well, today i went to church and talked to the...            [female, 17, indUnk, Scorpio]\n",
       "\n",
       "[5000 rows x 2 columns]>"
      ]
     },
     "execution_count": 19,
     "metadata": {
      "tags": []
     },
     "output_type": "execute_result"
    }
   ],
   "source": [
    "df_partial.head"
   ]
  },
  {
   "cell_type": "code",
   "execution_count": 0,
   "metadata": {
    "colab": {},
    "colab_type": "code",
    "id": "T6iB-oyileDz"
   },
   "outputs": [],
   "source": [
    "X_train, X_test, y_train, y_test = train_test_split(df_partial.text, df_partial.Label, random_state=43, test_size = 0.4)"
   ]
  },
  {
   "cell_type": "code",
   "execution_count": 21,
   "metadata": {
    "colab": {
     "base_uri": "https://localhost:8080/",
     "height": 52
    },
    "colab_type": "code",
    "id": "09619jR5ld7y",
    "outputId": "2f84545d-a8f4-416d-c34c-445f31ca40b5"
   },
   "outputs": [
    {
     "name": "stdout",
     "output_type": "stream",
     "text": [
      "(3000,)\n",
      "(2000,)\n"
     ]
    }
   ],
   "source": [
    "print(X_train.shape)\n",
    "print(X_test.shape)"
   ]
  },
  {
   "cell_type": "code",
   "execution_count": 22,
   "metadata": {
    "colab": {
     "base_uri": "https://localhost:8080/",
     "height": 52
    },
    "colab_type": "code",
    "id": "XNBB8cZpldyn",
    "outputId": "f6f2462c-cb12-4a6f-f36a-9caea34e05d8"
   },
   "outputs": [
    {
     "name": "stdout",
     "output_type": "stream",
     "text": [
      "(3000,)\n",
      "(2000,)\n"
     ]
    }
   ],
   "source": [
    "print(y_train.shape)\n",
    "print(y_test.shape)"
   ]
  },
  {
   "cell_type": "code",
   "execution_count": 0,
   "metadata": {
    "colab": {},
    "colab_type": "code",
    "id": "92G41JUB33HH"
   },
   "outputs": [],
   "source": []
  },
  {
   "cell_type": "code",
   "execution_count": 0,
   "metadata": {
    "colab": {},
    "colab_type": "code",
    "id": "0u30gDGwmHIf"
   },
   "outputs": [],
   "source": [
    "vect = TfidfVectorizer(lowercase = True, ngram_range=(1,2), stop_words = STOP_WORDS)"
   ]
  },
  {
   "cell_type": "code",
   "execution_count": 24,
   "metadata": {
    "colab": {
     "base_uri": "https://localhost:8080/",
     "height": 1000
    },
    "colab_type": "code",
    "id": "DZwE1QSTbUFM",
    "outputId": "d7f3ccf5-1215-419a-9d50-6ed703c763a6"
   },
   "outputs": [
    {
     "data": {
      "text/plain": [
       "frozenset({\"'d\",\n",
       "           \"'ll\",\n",
       "           \"'m\",\n",
       "           \"'re\",\n",
       "           \"'s\",\n",
       "           \"'ve\",\n",
       "           'a',\n",
       "           'about',\n",
       "           'above',\n",
       "           'across',\n",
       "           'after',\n",
       "           'afterwards',\n",
       "           'again',\n",
       "           'against',\n",
       "           'all',\n",
       "           'almost',\n",
       "           'alone',\n",
       "           'along',\n",
       "           'already',\n",
       "           'also',\n",
       "           'although',\n",
       "           'always',\n",
       "           'am',\n",
       "           'among',\n",
       "           'amongst',\n",
       "           'amount',\n",
       "           'an',\n",
       "           'and',\n",
       "           'another',\n",
       "           'any',\n",
       "           'anyhow',\n",
       "           'anyone',\n",
       "           'anything',\n",
       "           'anyway',\n",
       "           'anywhere',\n",
       "           'are',\n",
       "           'around',\n",
       "           'as',\n",
       "           'at',\n",
       "           'back',\n",
       "           'be',\n",
       "           'became',\n",
       "           'because',\n",
       "           'become',\n",
       "           'becomes',\n",
       "           'becoming',\n",
       "           'been',\n",
       "           'before',\n",
       "           'beforehand',\n",
       "           'behind',\n",
       "           'being',\n",
       "           'below',\n",
       "           'beside',\n",
       "           'besides',\n",
       "           'between',\n",
       "           'beyond',\n",
       "           'both',\n",
       "           'bottom',\n",
       "           'but',\n",
       "           'by',\n",
       "           'ca',\n",
       "           'call',\n",
       "           'can',\n",
       "           'cannot',\n",
       "           'could',\n",
       "           'did',\n",
       "           'do',\n",
       "           'does',\n",
       "           'doing',\n",
       "           'done',\n",
       "           'down',\n",
       "           'due',\n",
       "           'during',\n",
       "           'each',\n",
       "           'eight',\n",
       "           'either',\n",
       "           'eleven',\n",
       "           'else',\n",
       "           'elsewhere',\n",
       "           'empty',\n",
       "           'enough',\n",
       "           'even',\n",
       "           'ever',\n",
       "           'every',\n",
       "           'everyone',\n",
       "           'everything',\n",
       "           'everywhere',\n",
       "           'except',\n",
       "           'few',\n",
       "           'fifteen',\n",
       "           'fifty',\n",
       "           'first',\n",
       "           'five',\n",
       "           'for',\n",
       "           'former',\n",
       "           'formerly',\n",
       "           'forty',\n",
       "           'four',\n",
       "           'from',\n",
       "           'front',\n",
       "           'full',\n",
       "           'further',\n",
       "           'get',\n",
       "           'give',\n",
       "           'go',\n",
       "           'had',\n",
       "           'has',\n",
       "           'have',\n",
       "           'he',\n",
       "           'hence',\n",
       "           'her',\n",
       "           'here',\n",
       "           'hereafter',\n",
       "           'hereby',\n",
       "           'herein',\n",
       "           'hereupon',\n",
       "           'hers',\n",
       "           'herself',\n",
       "           'him',\n",
       "           'himself',\n",
       "           'his',\n",
       "           'how',\n",
       "           'however',\n",
       "           'hundred',\n",
       "           'i',\n",
       "           'if',\n",
       "           'in',\n",
       "           'indeed',\n",
       "           'into',\n",
       "           'is',\n",
       "           'it',\n",
       "           'its',\n",
       "           'itself',\n",
       "           'just',\n",
       "           'keep',\n",
       "           'last',\n",
       "           'latter',\n",
       "           'latterly',\n",
       "           'least',\n",
       "           'less',\n",
       "           'made',\n",
       "           'make',\n",
       "           'many',\n",
       "           'may',\n",
       "           'me',\n",
       "           'meanwhile',\n",
       "           'might',\n",
       "           'mine',\n",
       "           'more',\n",
       "           'moreover',\n",
       "           'most',\n",
       "           'mostly',\n",
       "           'move',\n",
       "           'much',\n",
       "           'must',\n",
       "           'my',\n",
       "           'myself',\n",
       "           \"n't\",\n",
       "           'name',\n",
       "           'namely',\n",
       "           'neither',\n",
       "           'never',\n",
       "           'nevertheless',\n",
       "           'next',\n",
       "           'nine',\n",
       "           'no',\n",
       "           'nobody',\n",
       "           'none',\n",
       "           'noone',\n",
       "           'nor',\n",
       "           'not',\n",
       "           'nothing',\n",
       "           'now',\n",
       "           'nowhere',\n",
       "           'n‘t',\n",
       "           'n’t',\n",
       "           'of',\n",
       "           'off',\n",
       "           'often',\n",
       "           'on',\n",
       "           'once',\n",
       "           'one',\n",
       "           'only',\n",
       "           'onto',\n",
       "           'or',\n",
       "           'other',\n",
       "           'others',\n",
       "           'otherwise',\n",
       "           'our',\n",
       "           'ours',\n",
       "           'ourselves',\n",
       "           'out',\n",
       "           'over',\n",
       "           'own',\n",
       "           'part',\n",
       "           'per',\n",
       "           'perhaps',\n",
       "           'please',\n",
       "           'put',\n",
       "           'quite',\n",
       "           'rather',\n",
       "           're',\n",
       "           'really',\n",
       "           'regarding',\n",
       "           'same',\n",
       "           'say',\n",
       "           'see',\n",
       "           'seem',\n",
       "           'seemed',\n",
       "           'seeming',\n",
       "           'seems',\n",
       "           'serious',\n",
       "           'several',\n",
       "           'she',\n",
       "           'should',\n",
       "           'show',\n",
       "           'side',\n",
       "           'since',\n",
       "           'six',\n",
       "           'sixty',\n",
       "           'so',\n",
       "           'some',\n",
       "           'somehow',\n",
       "           'someone',\n",
       "           'something',\n",
       "           'sometime',\n",
       "           'sometimes',\n",
       "           'somewhere',\n",
       "           'still',\n",
       "           'such',\n",
       "           'take',\n",
       "           'ten',\n",
       "           'than',\n",
       "           'that',\n",
       "           'the',\n",
       "           'their',\n",
       "           'them',\n",
       "           'themselves',\n",
       "           'then',\n",
       "           'thence',\n",
       "           'there',\n",
       "           'thereafter',\n",
       "           'thereby',\n",
       "           'therefore',\n",
       "           'therein',\n",
       "           'thereupon',\n",
       "           'these',\n",
       "           'they',\n",
       "           'third',\n",
       "           'this',\n",
       "           'those',\n",
       "           'though',\n",
       "           'three',\n",
       "           'through',\n",
       "           'throughout',\n",
       "           'thru',\n",
       "           'thus',\n",
       "           'to',\n",
       "           'together',\n",
       "           'too',\n",
       "           'top',\n",
       "           'toward',\n",
       "           'towards',\n",
       "           'twelve',\n",
       "           'twenty',\n",
       "           'two',\n",
       "           'under',\n",
       "           'unless',\n",
       "           'until',\n",
       "           'up',\n",
       "           'upon',\n",
       "           'us',\n",
       "           'used',\n",
       "           'using',\n",
       "           'various',\n",
       "           'very',\n",
       "           'via',\n",
       "           'was',\n",
       "           'we',\n",
       "           'well',\n",
       "           'were',\n",
       "           'what',\n",
       "           'whatever',\n",
       "           'when',\n",
       "           'whence',\n",
       "           'whenever',\n",
       "           'where',\n",
       "           'whereafter',\n",
       "           'whereas',\n",
       "           'whereby',\n",
       "           'wherein',\n",
       "           'whereupon',\n",
       "           'wherever',\n",
       "           'whether',\n",
       "           'which',\n",
       "           'while',\n",
       "           'whither',\n",
       "           'who',\n",
       "           'whoever',\n",
       "           'whole',\n",
       "           'whom',\n",
       "           'whose',\n",
       "           'why',\n",
       "           'will',\n",
       "           'with',\n",
       "           'within',\n",
       "           'without',\n",
       "           'would',\n",
       "           'yet',\n",
       "           'you',\n",
       "           'your',\n",
       "           'yours',\n",
       "           'yourself',\n",
       "           'yourselves',\n",
       "           '‘d',\n",
       "           '‘ll',\n",
       "           '‘m',\n",
       "           '‘re',\n",
       "           '‘s',\n",
       "           '‘ve',\n",
       "           '’d',\n",
       "           '’ll',\n",
       "           '’m',\n",
       "           '’re',\n",
       "           '’s',\n",
       "           '’ve'})"
      ]
     },
     "execution_count": 24,
     "metadata": {
      "tags": []
     },
     "output_type": "execute_result"
    }
   ],
   "source": [
    "vect.get_stop_words()"
   ]
  },
  {
   "cell_type": "code",
   "execution_count": 25,
   "metadata": {
    "colab": {
     "base_uri": "https://localhost:8080/",
     "height": 72
    },
    "colab_type": "code",
    "id": "xDZTufYAmHE_",
    "outputId": "63f02899-ec84-43c0-b971-429bec173093"
   },
   "outputs": [
    {
     "name": "stderr",
     "output_type": "stream",
     "text": [
      "/usr/local/lib/python3.6/dist-packages/sklearn/feature_extraction/text.py:300: UserWarning: Your stop_words may be inconsistent with your preprocessing. Tokenizing the stop words generated tokens ['ll', 've'] not in stop_words.\n",
      "  'stop_words.' % sorted(inconsistent))\n"
     ]
    }
   ],
   "source": [
    "X_train_vect = vect.fit_transform(X_train)\n",
    "X_test_vect = vect.transform(X_test)"
   ]
  },
  {
   "cell_type": "code",
   "execution_count": 26,
   "metadata": {
    "colab": {
     "base_uri": "https://localhost:8080/",
     "height": 34
    },
    "colab_type": "code",
    "id": "seXVhUTOmHBK",
    "outputId": "62911f4e-f334-42b0-a0b7-12075c93469e"
   },
   "outputs": [
    {
     "data": {
      "text/plain": [
       "(3000, 199863)"
      ]
     },
     "execution_count": 26,
     "metadata": {
      "tags": []
     },
     "output_type": "execute_result"
    }
   ],
   "source": [
    "X_train_vect.shape"
   ]
  },
  {
   "cell_type": "code",
   "execution_count": 27,
   "metadata": {
    "colab": {
     "base_uri": "https://localhost:8080/",
     "height": 34
    },
    "colab_type": "code",
    "id": "a0-4TQhzmG_f",
    "outputId": "1c93e180-e6db-45d5-c68d-137190fdd24e"
   },
   "outputs": [
    {
     "data": {
      "text/plain": [
       "(2000, 199863)"
      ]
     },
     "execution_count": 27,
     "metadata": {
      "tags": []
     },
     "output_type": "execute_result"
    }
   ],
   "source": [
    "X_test_vect.shape"
   ]
  },
  {
   "cell_type": "code",
   "execution_count": 0,
   "metadata": {
    "colab": {},
    "colab_type": "code",
    "id": "IZg5VXALmG8L"
   },
   "outputs": [],
   "source": [
    "#pd.unique(y_train).size"
   ]
  },
  {
   "cell_type": "code",
   "execution_count": 0,
   "metadata": {
    "colab": {},
    "colab_type": "code",
    "id": "Ve9IkRJToaUF"
   },
   "outputs": [],
   "source": [
    "from sklearn.preprocessing import MultiLabelBinarizer\n",
    "mlb = MultiLabelBinarizer()"
   ]
  },
  {
   "cell_type": "code",
   "execution_count": 30,
   "metadata": {
    "colab": {
     "base_uri": "https://localhost:8080/",
     "height": 34
    },
    "colab_type": "code",
    "id": "qFpfZEuPThOw",
    "outputId": "c24fcd9c-0803-4c7d-9ea5-e1ccc71a1fee"
   },
   "outputs": [
    {
     "data": {
      "text/plain": [
       "MultiLabelBinarizer(classes=None, sparse_output=False)"
      ]
     },
     "execution_count": 30,
     "metadata": {
      "tags": []
     },
     "output_type": "execute_result"
    }
   ],
   "source": [
    "mlb.fit(y_train)"
   ]
  },
  {
   "cell_type": "code",
   "execution_count": 31,
   "metadata": {
    "colab": {
     "base_uri": "https://localhost:8080/",
     "height": 175
    },
    "colab_type": "code",
    "id": "70M6ach04_vv",
    "outputId": "681d6d2b-170a-4577-d800-161524a8d2d1"
   },
   "outputs": [
    {
     "data": {
      "text/plain": [
       "array(['14', '15', '16', '17', '23', '24', '25', '26', '27', '33', '34',\n",
       "       '35', '36', '37', '39', '41', '42', '44', '45', '46', 'Accounting',\n",
       "       'Aquarius', 'Aries', 'Arts', 'Automotive', 'Banking',\n",
       "       'BusinessServices', 'Cancer', 'Capricorn', 'Communications-Media',\n",
       "       'Consulting', 'Education', 'Engineering', 'Gemini', 'Internet',\n",
       "       'InvestmentBanking', 'Leo', 'Libra', 'Museums-Libraries',\n",
       "       'Non-Profit', 'Pisces', 'Religion', 'Sagittarius', 'Science',\n",
       "       'Scorpio', 'Sports-Recreation', 'Student', 'Taurus', 'Technology',\n",
       "       'Virgo', 'female', 'indUnk', 'male'], dtype=object)"
      ]
     },
     "execution_count": 31,
     "metadata": {
      "tags": []
     },
     "output_type": "execute_result"
    }
   ],
   "source": [
    "mlb.classes_"
   ]
  },
  {
   "cell_type": "code",
   "execution_count": 0,
   "metadata": {
    "colab": {},
    "colab_type": "code",
    "id": "1dPAWxpi5JqU"
   },
   "outputs": [],
   "source": [
    "y_train_bin = mlb.transform(y_train)"
   ]
  },
  {
   "cell_type": "code",
   "execution_count": 33,
   "metadata": {
    "colab": {
     "base_uri": "https://localhost:8080/",
     "height": 140
    },
    "colab_type": "code",
    "id": "slERFeTW5RWG",
    "outputId": "ba13f053-388d-4d2d-8b16-42e59adb8e66"
   },
   "outputs": [
    {
     "data": {
      "text/plain": [
       "array([[0, 0, 0, ..., 0, 0, 1],\n",
       "       [0, 0, 1, ..., 1, 1, 0],\n",
       "       [0, 0, 0, ..., 1, 1, 0],\n",
       "       ...,\n",
       "       [0, 0, 0, ..., 0, 0, 1],\n",
       "       [0, 0, 0, ..., 0, 0, 1],\n",
       "       [0, 0, 0, ..., 0, 0, 1]])"
      ]
     },
     "execution_count": 33,
     "metadata": {
      "tags": []
     },
     "output_type": "execute_result"
    }
   ],
   "source": [
    "y_train_bin"
   ]
  },
  {
   "cell_type": "code",
   "execution_count": 34,
   "metadata": {
    "colab": {
     "base_uri": "https://localhost:8080/",
     "height": 52
    },
    "colab_type": "code",
    "id": "Gr6f0HuZ5XYe",
    "outputId": "9f2e18d2-ff0d-49b8-e480-6a27235ee608"
   },
   "outputs": [
    {
     "name": "stderr",
     "output_type": "stream",
     "text": [
      "/usr/local/lib/python3.6/dist-packages/sklearn/preprocessing/label.py:951: UserWarning: unknown class(es) ['Law'] will be ignored\n",
      "  .format(sorted(unknown, key=str)))\n"
     ]
    }
   ],
   "source": [
    "y_test_bin = mlb.transform(y_test)"
   ]
  },
  {
   "cell_type": "code",
   "execution_count": 35,
   "metadata": {
    "colab": {
     "base_uri": "https://localhost:8080/",
     "height": 140
    },
    "colab_type": "code",
    "id": "OPeY2dRS5XQ9",
    "outputId": "afd38573-24cb-45d2-b152-0e9c7b823cad"
   },
   "outputs": [
    {
     "data": {
      "text/plain": [
       "array([[0, 0, 0, ..., 0, 0, 1],\n",
       "       [0, 0, 0, ..., 0, 0, 1],\n",
       "       [0, 0, 0, ..., 1, 1, 0],\n",
       "       ...,\n",
       "       [0, 0, 0, ..., 0, 0, 1],\n",
       "       [0, 0, 0, ..., 1, 1, 0],\n",
       "       [0, 0, 0, ..., 0, 0, 1]])"
      ]
     },
     "execution_count": 35,
     "metadata": {
      "tags": []
     },
     "output_type": "execute_result"
    }
   ],
   "source": [
    "y_test_bin"
   ]
  },
  {
   "cell_type": "code",
   "execution_count": 0,
   "metadata": {
    "colab": {},
    "colab_type": "code",
    "id": "oaYCZbLW5jDE"
   },
   "outputs": [],
   "source": [
    "from sklearn.multiclass import OneVsRestClassifier\n",
    "from sklearn.linear_model import LogisticRegression"
   ]
  },
  {
   "cell_type": "code",
   "execution_count": 0,
   "metadata": {
    "colab": {},
    "colab_type": "code",
    "id": "wc7g9aP35i_v"
   },
   "outputs": [],
   "source": [
    "clf = LogisticRegression(solver = 'lbfgs')\n",
    "clf = OneVsRestClassifier(clf)"
   ]
  },
  {
   "cell_type": "code",
   "execution_count": 38,
   "metadata": {
    "colab": {
     "base_uri": "https://localhost:8080/",
     "height": 193
    },
    "colab_type": "code",
    "id": "Jst3DfrW5i8m",
    "outputId": "30dd54f0-43fc-4888-882f-f7273adb5073"
   },
   "outputs": [
    {
     "data": {
      "text/plain": [
       "OneVsRestClassifier(estimator=LogisticRegression(C=1.0, class_weight=None,\n",
       "                                                 dual=False, fit_intercept=True,\n",
       "                                                 intercept_scaling=1,\n",
       "                                                 l1_ratio=None, max_iter=100,\n",
       "                                                 multi_class='warn',\n",
       "                                                 n_jobs=None, penalty='l2',\n",
       "                                                 random_state=None,\n",
       "                                                 solver='lbfgs', tol=0.0001,\n",
       "                                                 verbose=0, warm_start=False),\n",
       "                    n_jobs=None)"
      ]
     },
     "execution_count": 38,
     "metadata": {
      "tags": []
     },
     "output_type": "execute_result"
    }
   ],
   "source": [
    "clf.fit(X_train_vect,y_train_bin)"
   ]
  },
  {
   "cell_type": "code",
   "execution_count": 0,
   "metadata": {
    "colab": {},
    "colab_type": "code",
    "id": "FSAdTWsj5i6M"
   },
   "outputs": [],
   "source": [
    "output = clf.predict(X_test_vect)"
   ]
  },
  {
   "cell_type": "code",
   "execution_count": 40,
   "metadata": {
    "colab": {
     "base_uri": "https://localhost:8080/",
     "height": 140
    },
    "colab_type": "code",
    "id": "KxdC1koc5i2I",
    "outputId": "10b2d823-8454-44e6-d0e6-c4b9b017ac9f"
   },
   "outputs": [
    {
     "data": {
      "text/plain": [
       "array([[0, 0, 0, ..., 0, 0, 1],\n",
       "       [0, 0, 0, ..., 0, 0, 1],\n",
       "       [0, 0, 0, ..., 1, 1, 0],\n",
       "       ...,\n",
       "       [0, 0, 0, ..., 0, 0, 1],\n",
       "       [0, 0, 0, ..., 1, 0, 0],\n",
       "       [0, 0, 0, ..., 0, 0, 1]])"
      ]
     },
     "execution_count": 40,
     "metadata": {
      "tags": []
     },
     "output_type": "execute_result"
    }
   ],
   "source": [
    "output"
   ]
  },
  {
   "cell_type": "code",
   "execution_count": 41,
   "metadata": {
    "colab": {
     "base_uri": "https://localhost:8080/",
     "height": 34
    },
    "colab_type": "code",
    "id": "Vu98hPvQ6xfe",
    "outputId": "90619491-84eb-46fd-94cd-38efde88f47e"
   },
   "outputs": [
    {
     "data": {
      "text/plain": [
       "0.3365"
      ]
     },
     "execution_count": 41,
     "metadata": {
      "tags": []
     },
     "output_type": "execute_result"
    }
   ],
   "source": [
    "clf.score(X_test_vect,y_test_bin)"
   ]
  },
  {
   "cell_type": "code",
   "execution_count": 0,
   "metadata": {
    "colab": {},
    "colab_type": "code",
    "id": "BiLXYS4D7A3q"
   },
   "outputs": [],
   "source": [
    "from sklearn import metrics"
   ]
  },
  {
   "cell_type": "code",
   "execution_count": 43,
   "metadata": {
    "colab": {
     "base_uri": "https://localhost:8080/",
     "height": 34
    },
    "colab_type": "code",
    "id": "1SrR573Jekre",
    "outputId": "27a910a3-ba65-4da3-9d81-a17ab45e6667"
   },
   "outputs": [
    {
     "data": {
      "text/plain": [
       "0.6325382359933434"
      ]
     },
     "execution_count": 43,
     "metadata": {
      "tags": []
     },
     "output_type": "execute_result"
    }
   ],
   "source": [
    "metrics.f1_score(y_test_bin,output,average='micro')"
   ]
  },
  {
   "cell_type": "code",
   "execution_count": 0,
   "metadata": {
    "colab": {},
    "colab_type": "code",
    "id": "qcChBR3Bekhr"
   },
   "outputs": [],
   "source": []
  },
  {
   "cell_type": "code",
   "execution_count": 44,
   "metadata": {
    "colab": {
     "base_uri": "https://localhost:8080/",
     "height": 1000
    },
    "colab_type": "code",
    "id": "LYCu3zf07AlL",
    "outputId": "f93f17b5-d927-4566-c998-9471d64d4346"
   },
   "outputs": [
    {
     "name": "stdout",
     "output_type": "stream",
     "text": [
      "14\n",
      "[[1940    0]\n",
      " [  60    0]]\n",
      "15\n",
      "[[1862    0]\n",
      " [ 134    4]]\n",
      "16\n",
      "[[1971    0]\n",
      " [  29    0]]\n",
      "17\n",
      "[[1883    0]\n",
      " [ 117    0]]\n",
      "23\n",
      "[[1940    0]\n",
      " [  60    0]]\n",
      "24\n",
      "[[1849    0]\n",
      " [ 151    0]]\n",
      "25\n",
      "[[1892    0]\n",
      " [ 108    0]]\n",
      "26\n",
      "[[1963    0]\n",
      " [  37    0]]\n",
      "27\n",
      "[[1968    0]\n",
      " [  32    0]]\n",
      "33\n",
      "[[1956    0]\n",
      " [  44    0]]\n",
      "34\n",
      "[[1770    1]\n",
      " [ 195   34]]\n",
      "35\n",
      "[[996  78]\n",
      " [284 642]]\n",
      "36\n",
      "[[1984    0]\n",
      " [  16    0]]\n",
      "37\n",
      "[[1992    0]\n",
      " [   8    0]]\n",
      "39\n",
      "[[1971    0]\n",
      " [  29    0]]\n",
      "41\n",
      "[[1992    0]\n",
      " [   8    0]]\n",
      "42\n",
      "[[1998    0]\n",
      " [   2    0]]\n",
      "44\n",
      "[[1999    0]\n",
      " [   1    0]]\n",
      "45\n",
      "[[1997    0]\n",
      " [   3    0]]\n",
      "46\n",
      "[[1998    0]\n",
      " [   2    0]]\n",
      "Accounting\n",
      "[[2000    0]\n",
      " [   0    0]]\n",
      "Aquarius\n",
      "[[1867    0]\n",
      " [ 133    0]]\n",
      "Aries\n",
      "[[898 102]\n",
      " [252 748]]\n",
      "Arts\n",
      "[[1987    0]\n",
      " [  13    0]]\n",
      "Automotive\n",
      "[[1996    0]\n",
      " [   4    0]]\n",
      "Banking\n",
      "[[1992    0]\n",
      " [   8    0]]\n",
      "BusinessServices\n",
      "[[1962    0]\n",
      " [  38    0]]\n",
      "Cancer\n",
      "[[1968    0]\n",
      " [  32    0]]\n",
      "Capricorn\n",
      "[[1970    0]\n",
      " [  30    0]]\n",
      "Communications-Media\n",
      "[[1974    0]\n",
      " [  26    0]]\n",
      "Consulting\n",
      "[[1996    0]\n",
      " [   4    0]]\n",
      "Education\n",
      "[[1957    0]\n",
      " [  43    0]]\n",
      "Engineering\n",
      "[[1946    0]\n",
      " [  54    0]]\n",
      "Gemini\n",
      "[[1971    0]\n",
      " [  29    0]]\n",
      "Internet\n",
      "[[1991    0]\n",
      " [   9    0]]\n",
      "InvestmentBanking\n",
      "[[1972    0]\n",
      " [  28    0]]\n",
      "Leo\n",
      "[[1935    0]\n",
      " [  65    0]]\n",
      "Libra\n",
      "[[1823    0]\n",
      " [ 171    6]]\n",
      "Museums-Libraries\n",
      "[[1999    0]\n",
      " [   1    0]]\n",
      "Non-Profit\n",
      "[[1989    0]\n",
      " [  11    0]]\n",
      "Pisces\n",
      "[[1979    0]\n",
      " [  21    0]]\n",
      "Religion\n",
      "[[1999    0]\n",
      " [   1    0]]\n",
      "Sagittarius\n",
      "[[1703    1]\n",
      " [ 249   47]]\n",
      "Science\n",
      "[[1988    0]\n",
      " [  12    0]]\n",
      "Scorpio\n",
      "[[1841    0]\n",
      " [ 159    0]]\n",
      "Sports-Recreation\n",
      "[[1972    0]\n",
      " [  28    0]]\n",
      "Student\n",
      "[[1785    0]\n",
      " [ 201   14]]\n",
      "Taurus\n",
      "[[1956    0]\n",
      " [  44    0]]\n",
      "Technology\n",
      "[[980  84]\n",
      " [275 661]]\n",
      "Virgo\n",
      "[[1986    0]\n",
      " [  14    0]]\n",
      "female\n",
      "[[1196  120]\n",
      " [ 228  456]]\n",
      "indUnk\n",
      "[[1417   17]\n",
      " [ 383  183]]\n",
      "male\n",
      "[[ 456  228]\n",
      " [ 120 1196]]\n"
     ]
    }
   ],
   "source": [
    "#print('Confusion matri for the below classes: ', mlb.classes_)\n",
    "classes = mlb.classes_\n",
    "n_classes = classes.size\n",
    "cm = metrics.multilabel_confusion_matrix(y_test_bin,output)\n",
    "for i in range(0,classes.size):\n",
    "  print(classes[i])\n",
    "  print(cm[i])"
   ]
  },
  {
   "cell_type": "code",
   "execution_count": 45,
   "metadata": {
    "colab": {
     "base_uri": "https://localhost:8080/",
     "height": 70
    },
    "colab_type": "code",
    "id": "c4FbgoXheis3",
    "outputId": "1d7d4d1b-3491-4e66-fe72-3fd8b953960f"
   },
   "outputs": [
    {
     "name": "stdout",
     "output_type": "stream",
     "text": [
      "Average precision score, micro-averaged over all classes: 0.47\n"
     ]
    },
    {
     "name": "stderr",
     "output_type": "stream",
     "text": [
      "/usr/local/lib/python3.6/dist-packages/sklearn/metrics/ranking.py:528: RuntimeWarning: invalid value encountered in true_divide\n",
      "  recall = tps / tps[-1]\n"
     ]
    }
   ],
   "source": [
    "from sklearn.metrics import precision_recall_curve\n",
    "from sklearn.metrics import average_precision_score\n",
    "\n",
    "# For each class\n",
    "precision = dict()\n",
    "recall = dict()\n",
    "average_precision = dict()\n",
    "for i in range(n_classes):\n",
    "    precision[i], recall[i], _ = precision_recall_curve(y_test_bin[:, i],output[:, i])\n",
    "    average_precision[i] = average_precision_score(y_test_bin[:, i], output[:, i])\n",
    "\n",
    "# A \"micro-average\": quantifying score on all classes jointly\n",
    "precision[\"micro\"], recall[\"micro\"], _ = precision_recall_curve(y_test_bin.ravel(), output.ravel())\n",
    "average_precision[\"micro\"] = average_precision_score(y_test_bin, output, average=\"micro\")\n",
    "print('Average precision score, micro-averaged over all classes: {0:0.2f}'.format(average_precision[\"micro\"]))"
   ]
  },
  {
   "cell_type": "code",
   "execution_count": 0,
   "metadata": {
    "colab": {},
    "colab_type": "code",
    "id": "fRyUkP3-WmP9"
   },
   "outputs": [],
   "source": [
    "gender = df.gender.value_counts().to_dict()\n",
    "#print(gender)"
   ]
  },
  {
   "cell_type": "code",
   "execution_count": 0,
   "metadata": {
    "colab": {},
    "colab_type": "code",
    "id": "G0P085aDXrRS"
   },
   "outputs": [],
   "source": [
    "age = df.age.value_counts().to_dict()\n",
    "#print(age)"
   ]
  },
  {
   "cell_type": "code",
   "execution_count": 0,
   "metadata": {
    "colab": {},
    "colab_type": "code",
    "id": "UNZHNCF2Yd68"
   },
   "outputs": [],
   "source": [
    "topic = df.topic.value_counts().to_dict()"
   ]
  },
  {
   "cell_type": "code",
   "execution_count": 0,
   "metadata": {
    "colab": {},
    "colab_type": "code",
    "id": "QZ_omvbWxFBo"
   },
   "outputs": [],
   "source": [
    "sign = df.sign.value_counts().to_dict()"
   ]
  },
  {
   "cell_type": "code",
   "execution_count": 0,
   "metadata": {
    "colab": {},
    "colab_type": "code",
    "id": "RHcyJx3jxM6l"
   },
   "outputs": [],
   "source": [
    "categories = {**gender, **age, **topic, **sign}"
   ]
  },
  {
   "cell_type": "code",
   "execution_count": 51,
   "metadata": {
    "colab": {
     "base_uri": "https://localhost:8080/",
     "height": 1000
    },
    "colab_type": "code",
    "id": "TWpQeR3Cxd4Q",
    "outputId": "6caaea3f-98fe-4438-c56a-235370d7dfac"
   },
   "outputs": [
    {
     "data": {
      "text/plain": [
       "{13: 13133,\n",
       " 14: 27400,\n",
       " 15: 41767,\n",
       " 16: 72708,\n",
       " 17: 80859,\n",
       " 23: 72889,\n",
       " 24: 80071,\n",
       " 25: 67051,\n",
       " 26: 55312,\n",
       " 27: 46124,\n",
       " 33: 17584,\n",
       " 34: 21347,\n",
       " 35: 17462,\n",
       " 36: 14229,\n",
       " 37: 9317,\n",
       " 38: 7545,\n",
       " 39: 5556,\n",
       " 40: 5016,\n",
       " 41: 3738,\n",
       " 42: 2908,\n",
       " 43: 4230,\n",
       " 44: 2044,\n",
       " 45: 4482,\n",
       " 46: 2733,\n",
       " 47: 2207,\n",
       " 48: 3572,\n",
       " 'Accounting': 3832,\n",
       " 'Advertising': 4676,\n",
       " 'Agriculture': 1235,\n",
       " 'Aquarius': 49687,\n",
       " 'Architecture': 1638,\n",
       " 'Aries': 64979,\n",
       " 'Arts': 32449,\n",
       " 'Automotive': 1244,\n",
       " 'Banking': 4049,\n",
       " 'Biotech': 2234,\n",
       " 'BusinessServices': 4500,\n",
       " 'Cancer': 65048,\n",
       " 'Capricorn': 49201,\n",
       " 'Chemicals': 3928,\n",
       " 'Communications-Media': 20140,\n",
       " 'Construction': 1093,\n",
       " 'Consulting': 5862,\n",
       " 'Education': 29633,\n",
       " 'Engineering': 11653,\n",
       " 'Environment': 592,\n",
       " 'Fashion': 4851,\n",
       " 'Gemini': 51985,\n",
       " 'Government': 6907,\n",
       " 'HumanResources': 3010,\n",
       " 'Internet': 16006,\n",
       " 'InvestmentBanking': 1292,\n",
       " 'Law': 9040,\n",
       " 'LawEnforcement-Security': 1878,\n",
       " 'Leo': 53811,\n",
       " 'Libra': 62363,\n",
       " 'Manufacturing': 2272,\n",
       " 'Maritime': 280,\n",
       " 'Marketing': 4769,\n",
       " 'Military': 3128,\n",
       " 'Museums-Libraries': 3096,\n",
       " 'Non-Profit': 14700,\n",
       " 'Pisces': 54053,\n",
       " 'Publishing': 7753,\n",
       " 'RealEstate': 2870,\n",
       " 'Religion': 5235,\n",
       " 'Sagittarius': 50036,\n",
       " 'Science': 7269,\n",
       " 'Scorpio': 57161,\n",
       " 'Sports-Recreation': 3038,\n",
       " 'Student': 153903,\n",
       " 'Taurus': 62561,\n",
       " 'Technology': 42055,\n",
       " 'Telecommunications': 3891,\n",
       " 'Tourism': 1942,\n",
       " 'Transportation': 2326,\n",
       " 'Virgo': 60399,\n",
       " 'female': 336091,\n",
       " 'indUnk': 251015,\n",
       " 'male': 345193}"
      ]
     },
     "execution_count": 51,
     "metadata": {
      "tags": []
     },
     "output_type": "execute_result"
    }
   ],
   "source": [
    "categories"
   ]
  },
  {
   "cell_type": "code",
   "execution_count": 0,
   "metadata": {
    "colab": {},
    "colab_type": "code",
    "id": "GVEQcb7axg8I"
   },
   "outputs": [],
   "source": []
  }
 ],
 "metadata": {
  "colab": {
   "collapsed_sections": [],
   "machine_shape": "hm",
   "name": "R8_Project1_StatisticalNLP_Amaravadi_Praneeth.ipynb",
   "provenance": []
  },
  "kernelspec": {
   "display_name": "Python 3",
   "language": "python",
   "name": "python3"
  },
  "language_info": {
   "codemirror_mode": {
    "name": "ipython",
    "version": 3
   },
   "file_extension": ".py",
   "mimetype": "text/x-python",
   "name": "python",
   "nbconvert_exporter": "python",
   "pygments_lexer": "ipython3",
   "version": "3.7.1"
  }
 },
 "nbformat": 4,
 "nbformat_minor": 1
}
