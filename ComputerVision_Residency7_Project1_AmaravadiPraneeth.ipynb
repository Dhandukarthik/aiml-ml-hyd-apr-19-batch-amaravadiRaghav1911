{
 "cells": [
  {
   "cell_type": "code",
   "execution_count": 0,
   "metadata": {
    "colab": {},
    "colab_type": "code",
    "id": "VSz_T2NbRxqm"
   },
   "outputs": [],
   "source": [
    "from zipfile import ZipFile\n",
    "from PIL import Image\n",
    "import numpy as np\n",
    "import matplotlib.pyplot as plt"
   ]
  },
  {
   "cell_type": "code",
   "execution_count": 0,
   "metadata": {
    "colab": {
     "base_uri": "https://localhost:8080/",
     "height": 125
    },
    "colab_type": "code",
    "id": "VsUkUQNxTsPr",
    "outputId": "7012e6d6-0b72-486a-a552-2da8350fa53e"
   },
   "outputs": [
    {
     "name": "stdout",
     "output_type": "stream",
     "text": [
      "Go to this URL in a browser: https://accounts.google.com/o/oauth2/auth?client_id=947318989803-6bn6qk8qdgf4n4g3pfee6491hc0brc4i.apps.googleusercontent.com&redirect_uri=urn%3aietf%3awg%3aoauth%3a2.0%3aoob&response_type=code&scope=email%20https%3a%2f%2fwww.googleapis.com%2fauth%2fdocs.test%20https%3a%2f%2fwww.googleapis.com%2fauth%2fdrive%20https%3a%2f%2fwww.googleapis.com%2fauth%2fdrive.photos.readonly%20https%3a%2f%2fwww.googleapis.com%2fauth%2fpeopleapi.readonly\n",
      "\n",
      "Enter your authorization code:\n",
      "··········\n",
      "Mounted at /content/drive\n"
     ]
    }
   ],
   "source": [
    "from google.colab import drive\n",
    "drive.mount('/content/drive')"
   ]
  },
  {
   "cell_type": "code",
   "execution_count": 0,
   "metadata": {
    "colab": {},
    "colab_type": "code",
    "id": "jSoJzy-WT6Mr"
   },
   "outputs": [],
   "source": [
    "#Reading the zip file and storint it as an archive\n",
    "train_imgArchive = ZipFile('/content/drive/My Drive/ComputerVision/train.zip', 'r')"
   ]
  },
  {
   "cell_type": "code",
   "execution_count": 0,
   "metadata": {
    "colab": {},
    "colab_type": "code",
    "id": "3mLcL61KUY1V"
   },
   "outputs": [],
   "source": [
    "y_train = []\n",
    "x_train = []\n",
    "\n",
    "#Get the list of info on all the files/folders preset in the archive\n",
    "file_list = train_imgArchive.infolist()\n",
    "for fle in file_list:\n",
    "\n",
    "  #For each entry in the archive, check if it is file or folder and if it is a file then proceed to read the file. \n",
    "  if fle.is_dir() is False:\n",
    "    with train_imgArchive.open(fle) as file:\n",
    "            img = Image.open(file)\n",
    "            #PIL image is saved as an png image, to convert it in to an array, we use np.array(image)\n",
    "            x_train.append(np.array(img))\n",
    "    #Add the corresponding class of the image to the target variable.\n",
    "    img_info = fle.filename.split('/')\n",
    "    img_class = img_info[1]\n",
    "    y_train.append(img_class)"
   ]
  },
  {
   "cell_type": "code",
   "execution_count": 0,
   "metadata": {
    "colab": {},
    "colab_type": "code",
    "id": "VOcEoEFgpW_P"
   },
   "outputs": [],
   "source": [
    "x_test = []\n",
    "\n",
    "#Reading the zip file and storint it as an archive\n",
    "test_imgArchive = ZipFile('/content/drive/My Drive/ComputerVision/test.zip', 'r')\n",
    "\n",
    "test_file_list = test_imgArchive.infolist()\n",
    "for fle in test_file_list:\n",
    "\n",
    "  #For each entry in the archive, check if it is file or folder and if it is a file then proceed to read the file. \n",
    "  if fle.is_dir() is False:\n",
    "    with test_imgArchive.open(fle) as file:\n",
    "            img = Image.open(file)\n",
    "            #PIL image is saved as an png image, to convert it in to an array, we use np.array(image)\n",
    "            x_test.append(np.array(img))\n"
   ]
  },
  {
   "cell_type": "code",
   "execution_count": 0,
   "metadata": {
    "colab": {},
    "colab_type": "code",
    "id": "777KCLbPV_D7"
   },
   "outputs": [],
   "source": [
    "for i in range(len(x_train)):\n",
    "  x_train[i].resize(64,64,3)"
   ]
  },
  {
   "cell_type": "code",
   "execution_count": 0,
   "metadata": {
    "colab": {},
    "colab_type": "code",
    "id": "AFx2af34p3YO"
   },
   "outputs": [],
   "source": [
    "for i in range(len(x_test)):\n",
    "  x_test[i].resize(64,64,3)"
   ]
  },
  {
   "cell_type": "code",
   "execution_count": 0,
   "metadata": {
    "colab": {},
    "colab_type": "code",
    "id": "o2p-p0TGgJIN"
   },
   "outputs": [],
   "source": [
    "X_train = np.stack(x_train)"
   ]
  },
  {
   "cell_type": "code",
   "execution_count": 0,
   "metadata": {
    "colab": {},
    "colab_type": "code",
    "id": "FaZ9Ve6sp8GR"
   },
   "outputs": [],
   "source": [
    "X_test = np.stack(x_test)"
   ]
  },
  {
   "cell_type": "code",
   "execution_count": 0,
   "metadata": {
    "colab": {
     "base_uri": "https://localhost:8080/",
     "height": 34
    },
    "colab_type": "code",
    "id": "kNebiwqsgSD5",
    "outputId": "5981d157-524a-4a3b-c0f4-b977357f1270"
   },
   "outputs": [
    {
     "data": {
      "text/plain": [
       "(4750, 64, 64, 3)"
      ]
     },
     "execution_count": 10,
     "metadata": {
      "tags": []
     },
     "output_type": "execute_result"
    }
   ],
   "source": [
    "X_train.shape"
   ]
  },
  {
   "cell_type": "code",
   "execution_count": 0,
   "metadata": {
    "colab": {
     "base_uri": "https://localhost:8080/",
     "height": 34
    },
    "colab_type": "code",
    "id": "MKBOUScwqB9N",
    "outputId": "52df76aa-f41b-4a5d-ae51-0f94976f38b4"
   },
   "outputs": [
    {
     "data": {
      "text/plain": [
       "(794, 64, 64, 3)"
      ]
     },
     "execution_count": 11,
     "metadata": {
      "tags": []
     },
     "output_type": "execute_result"
    }
   ],
   "source": [
    "X_test.shape"
   ]
  },
  {
   "cell_type": "code",
   "execution_count": 0,
   "metadata": {
    "colab": {},
    "colab_type": "code",
    "id": "RtSWUJ12hQ9J"
   },
   "outputs": [],
   "source": [
    "y_train = np.array(y_train)"
   ]
  },
  {
   "cell_type": "code",
   "execution_count": 0,
   "metadata": {
    "colab": {
     "base_uri": "https://localhost:8080/",
     "height": 34
    },
    "colab_type": "code",
    "id": "fROI_86LhWcZ",
    "outputId": "f48fc095-690a-48fa-d66b-273f5f1d9216"
   },
   "outputs": [
    {
     "data": {
      "text/plain": [
       "(4750,)"
      ]
     },
     "execution_count": 13,
     "metadata": {
      "tags": []
     },
     "output_type": "execute_result"
    }
   ],
   "source": [
    "y_train.shape"
   ]
  },
  {
   "cell_type": "code",
   "execution_count": 0,
   "metadata": {
    "colab": {
     "base_uri": "https://localhost:8080/",
     "height": 34
    },
    "colab_type": "code",
    "id": "G14xQ8GiUhO8",
    "outputId": "435b5cc2-fdb4-4ddf-984a-904250606a82"
   },
   "outputs": [
    {
     "name": "stderr",
     "output_type": "stream",
     "text": [
      "Using TensorFlow backend.\n"
     ]
    }
   ],
   "source": [
    "%tensorflow_version 1.x\n",
    "import tensorflow as tf\n",
    "import matplotlib.pyplot as plt\n",
    "import keras\n",
    "from keras import optimizers\n",
    "from keras.models import Sequential\n",
    "from keras.layers import Dense, Activation, Dropout, Flatten, Reshape\n",
    "from keras.layers import Convolution2D, MaxPooling2D, Convolution3D, MaxPooling3D\n",
    "from keras.layers import BatchNormalization\n",
    "from keras.utils import np_utils\n",
    "from sklearn.preprocessing import LabelEncoder"
   ]
  },
  {
   "cell_type": "code",
   "execution_count": 0,
   "metadata": {
    "colab": {
     "base_uri": "https://localhost:8080/",
     "height": 34
    },
    "colab_type": "code",
    "id": "rUSA2vKMYFN1",
    "outputId": "d2431602-6f8f-4b33-b1b4-7451d27af8ee"
   },
   "outputs": [
    {
     "data": {
      "text/plain": [
       "12"
      ]
     },
     "execution_count": 15,
     "metadata": {
      "tags": []
     },
     "output_type": "execute_result"
    }
   ],
   "source": [
    "print(np.unique(y_train))\n",
    "np.unique(y_train).size"
   ]
  },
  {
   "cell_type": "code",
   "execution_count": 0,
   "metadata": {
    "colab": {},
    "colab_type": "code",
    "id": "ieTJaI7XYIiM"
   },
   "outputs": [],
   "source": [
    "le = LabelEncoder()\n",
    "Y_train = le.fit_transform(y_train)"
   ]
  },
  {
   "cell_type": "code",
   "execution_count": 0,
   "metadata": {
    "colab": {},
    "colab_type": "code",
    "id": "MTLy6Iz4U5_K"
   },
   "outputs": [],
   "source": [
    "Y_train = np_utils.to_categorical(Y_train)"
   ]
  },
  {
   "cell_type": "code",
   "execution_count": 0,
   "metadata": {
    "colab": {
     "base_uri": "https://localhost:8080/",
     "height": 34
    },
    "colab_type": "code",
    "id": "xRC0NMxjpFSw",
    "outputId": "824f20ba-2f82-471b-e216-367a039e1d8f"
   },
   "outputs": [
    {
     "data": {
      "text/plain": [
       "(4750, 12)"
      ]
     },
     "execution_count": 18,
     "metadata": {
      "tags": []
     },
     "output_type": "execute_result"
    }
   ],
   "source": [
    "Y_train.shape"
   ]
  },
  {
   "cell_type": "code",
   "execution_count": 0,
   "metadata": {
    "colab": {
     "base_uri": "https://localhost:8080/",
     "height": 87
    },
    "colab_type": "code",
    "id": "rEQbgaILrq8e",
    "outputId": "43c3fdc6-3b07-41cc-ece5-5fe623fc1387"
   },
   "outputs": [
    {
     "name": "stdout",
     "output_type": "stream",
     "text": [
      "(3800, 64, 64, 3)\n",
      "(3800, 12)\n",
      "(950, 64, 64, 3)\n",
      "(950, 12)\n"
     ]
    }
   ],
   "source": [
    "from sklearn.model_selection import train_test_split\n",
    "X_training, X_val, y_training, y_val = train_test_split(X_train, Y_train, test_size=0.2, random_state=50)\n",
    "print(X_training.shape)\n",
    "print(y_training.shape)\n",
    "print(X_val.shape)\n",
    "print(y_val.shape)"
   ]
  },
  {
   "cell_type": "code",
   "execution_count": 0,
   "metadata": {
    "colab": {},
    "colab_type": "code",
    "id": "hyCdnbBe9zM8"
   },
   "outputs": [],
   "source": []
  },
  {
   "cell_type": "code",
   "execution_count": 0,
   "metadata": {
    "colab": {},
    "colab_type": "code",
    "id": "vpgxXkRy1Caq"
   },
   "outputs": [],
   "source": [
    "#to check for convolution3d\n",
    "X_train_nn = X_training.reshape(X_training.shape[0], 64, 64, 3, 1).astype('float32')\n",
    "X_val_nn = X_val.reshape(X_val.shape[0], 64, 64, 3, 1).astype('float32')"
   ]
  },
  {
   "cell_type": "code",
   "execution_count": 0,
   "metadata": {
    "colab": {},
    "colab_type": "code",
    "id": "rFnMMmM5sveV"
   },
   "outputs": [],
   "source": [
    "BATCH_SIZE = 64\n",
    "EPOCHS = 10"
   ]
  },
  {
   "cell_type": "code",
   "execution_count": 0,
   "metadata": {
    "colab": {
     "base_uri": "https://localhost:8080/",
     "height": 511
    },
    "colab_type": "code",
    "id": "i0PInUEOvZDn",
    "outputId": "ed2331fd-797b-49b2-966d-5b9cf80993fb"
   },
   "outputs": [
    {
     "name": "stdout",
     "output_type": "stream",
     "text": [
      "WARNING:tensorflow:From /usr/local/lib/python3.6/dist-packages/keras/backend/tensorflow_backend.py:66: The name tf.get_default_graph is deprecated. Please use tf.compat.v1.get_default_graph instead.\n",
      "\n",
      "WARNING:tensorflow:From /usr/local/lib/python3.6/dist-packages/keras/backend/tensorflow_backend.py:541: The name tf.placeholder is deprecated. Please use tf.compat.v1.placeholder instead.\n",
      "\n",
      "WARNING:tensorflow:From /usr/local/lib/python3.6/dist-packages/keras/backend/tensorflow_backend.py:190: The name tf.get_default_session is deprecated. Please use tf.compat.v1.get_default_session instead.\n",
      "\n",
      "WARNING:tensorflow:From /usr/local/lib/python3.6/dist-packages/keras/backend/tensorflow_backend.py:197: The name tf.ConfigProto is deprecated. Please use tf.compat.v1.ConfigProto instead.\n",
      "\n",
      "WARNING:tensorflow:From /usr/local/lib/python3.6/dist-packages/keras/backend/tensorflow_backend.py:203: The name tf.Session is deprecated. Please use tf.compat.v1.Session instead.\n",
      "\n",
      "WARNING:tensorflow:From /usr/local/lib/python3.6/dist-packages/keras/backend/tensorflow_backend.py:207: The name tf.global_variables is deprecated. Please use tf.compat.v1.global_variables instead.\n",
      "\n",
      "WARNING:tensorflow:From /usr/local/lib/python3.6/dist-packages/keras/backend/tensorflow_backend.py:216: The name tf.is_variable_initialized is deprecated. Please use tf.compat.v1.is_variable_initialized instead.\n",
      "\n",
      "WARNING:tensorflow:From /usr/local/lib/python3.6/dist-packages/keras/backend/tensorflow_backend.py:223: The name tf.variables_initializer is deprecated. Please use tf.compat.v1.variables_initializer instead.\n",
      "\n",
      "WARNING:tensorflow:From /usr/local/lib/python3.6/dist-packages/keras/backend/tensorflow_backend.py:2041: The name tf.nn.fused_batch_norm is deprecated. Please use tf.compat.v1.nn.fused_batch_norm instead.\n",
      "\n",
      "WARNING:tensorflow:From /usr/local/lib/python3.6/dist-packages/keras/backend/tensorflow_backend.py:148: The name tf.placeholder_with_default is deprecated. Please use tf.compat.v1.placeholder_with_default instead.\n",
      "\n",
      "WARNING:tensorflow:From /usr/local/lib/python3.6/dist-packages/keras/backend/tensorflow_backend.py:4432: The name tf.random_uniform is deprecated. Please use tf.random.uniform instead.\n",
      "\n",
      "WARNING:tensorflow:From /usr/local/lib/python3.6/dist-packages/keras/backend/tensorflow_backend.py:4267: The name tf.nn.max_pool is deprecated. Please use tf.nn.max_pool2d instead.\n",
      "\n",
      "WARNING:tensorflow:From /usr/local/lib/python3.6/dist-packages/keras/backend/tensorflow_backend.py:3733: calling dropout (from tensorflow.python.ops.nn_ops) with keep_prob is deprecated and will be removed in a future version.\n",
      "Instructions for updating:\n",
      "Please use `rate` instead of `keep_prob`. Rate should be set to `rate = 1 - keep_prob`.\n"
     ]
    }
   ],
   "source": [
    "model = Sequential()\n",
    "\n",
    "model.add(BatchNormalization(input_shape = (64,64,3)))\n",
    "model.add(Convolution2D(32, (3,3), activation ='relu', input_shape = (64, 64, 3))) \n",
    "model.add(MaxPooling2D(pool_size=2))\n",
    "model.add(Dropout(0.5))\n",
    "\n",
    "model.add(Convolution2D(filters=128, kernel_size=4, padding='same', activation='relu'))\n",
    "model.add(MaxPooling2D(pool_size=2))\n",
    "model.add(Dropout(0.4))\n",
    "\n",
    "model.add(Convolution2D(filters=32, kernel_size=2, padding='same', activation='relu'))\n",
    "model.add(MaxPooling2D(pool_size=2))\n",
    "model.add(Dropout(0.5))\n",
    "\n",
    "model.add(Flatten()) \n",
    "\n",
    "# fully connected layer\n",
    "model.add(Dense(units=64,activation = 'relu'))\n",
    "\n",
    "model.add(Dense(units = 128, activation = 'relu'))\n",
    "\n",
    "model.add(Dropout(0.5))\n",
    "model.add(Dense(units = 32, activation = 'relu'))\n",
    "\n",
    "model.add(Dropout(0.2))\n",
    "model.add(Dense(units = 12, activation = 'softmax')) "
   ]
  },
  {
   "cell_type": "code",
   "execution_count": 0,
   "metadata": {
    "colab": {
     "base_uri": "https://localhost:8080/",
     "height": 107
    },
    "colab_type": "code",
    "id": "Ff_USy3mrT9E",
    "outputId": "991454cf-8bc5-4e1b-939b-dd2f1e8668ac"
   },
   "outputs": [
    {
     "name": "stdout",
     "output_type": "stream",
     "text": [
      "WARNING:tensorflow:From /usr/local/lib/python3.6/dist-packages/keras/optimizers.py:793: The name tf.train.Optimizer is deprecated. Please use tf.compat.v1.train.Optimizer instead.\n",
      "\n",
      "WARNING:tensorflow:From /usr/local/lib/python3.6/dist-packages/keras/backend/tensorflow_backend.py:3576: The name tf.log is deprecated. Please use tf.math.log instead.\n",
      "\n"
     ]
    }
   ],
   "source": [
    "optimizer = optimizers.Adam(lr=0.003)\n",
    "model.compile(loss = 'categorical_crossentropy', optimizer=optimizer, metrics = ['accuracy'])\n",
    "\n",
    "early_stopping = keras.callbacks.EarlyStopping(monitor='val_acc', patience=7, verbose=1, mode='auto')\n",
    "callback_list = [early_stopping]"
   ]
  },
  {
   "cell_type": "code",
   "execution_count": 0,
   "metadata": {
    "colab": {
     "base_uri": "https://localhost:8080/",
     "height": 582
    },
    "colab_type": "code",
    "id": "D0I8BR9ZsrjV",
    "outputId": "4737ee6d-81f0-46a2-aaaf-ff2d3e7c3550"
   },
   "outputs": [
    {
     "name": "stdout",
     "output_type": "stream",
     "text": [
      "WARNING:tensorflow:From /usr/local/lib/python3.6/dist-packages/tensorflow_core/python/ops/math_grad.py:1424: where (from tensorflow.python.ops.array_ops) is deprecated and will be removed in a future version.\n",
      "Instructions for updating:\n",
      "Use tf.where in 2.0, which has the same broadcast rule as np.where\n"
     ]
    },
    {
     "name": "stderr",
     "output_type": "stream",
     "text": [
      "/usr/local/lib/python3.6/dist-packages/ipykernel_launcher.py:1: UserWarning: The `nb_epoch` argument in `fit` has been renamed `epochs`.\n",
      "  \"\"\"Entry point for launching an IPython kernel.\n"
     ]
    },
    {
     "name": "stdout",
     "output_type": "stream",
     "text": [
      "WARNING:tensorflow:From /usr/local/lib/python3.6/dist-packages/keras/backend/tensorflow_backend.py:1033: The name tf.assign_add is deprecated. Please use tf.compat.v1.assign_add instead.\n",
      "\n",
      "WARNING:tensorflow:From /usr/local/lib/python3.6/dist-packages/keras/backend/tensorflow_backend.py:1020: The name tf.assign is deprecated. Please use tf.compat.v1.assign instead.\n",
      "\n",
      "Train on 3800 samples, validate on 950 samples\n",
      "Epoch 1/10\n",
      "3800/3800 [==============================] - 59s 16ms/step - loss: 2.4689 - acc: 0.1213 - val_loss: 2.4346 - val_acc: 0.1400\n",
      "Epoch 2/10\n",
      "3800/3800 [==============================] - 58s 15ms/step - loss: 2.4178 - acc: 0.1450 - val_loss: 2.3822 - val_acc: 0.1842\n",
      "Epoch 3/10\n",
      "3800/3800 [==============================] - 58s 15ms/step - loss: 2.3449 - acc: 0.1908 - val_loss: 2.3070 - val_acc: 0.2000\n",
      "Epoch 4/10\n",
      "3800/3800 [==============================] - 58s 15ms/step - loss: 2.3001 - acc: 0.1997 - val_loss: 2.3022 - val_acc: 0.2021\n",
      "Epoch 5/10\n",
      "3800/3800 [==============================] - 59s 16ms/step - loss: 2.2759 - acc: 0.2074 - val_loss: 2.3285 - val_acc: 0.2126\n",
      "Epoch 6/10\n",
      "3800/3800 [==============================] - 59s 16ms/step - loss: 2.2822 - acc: 0.2032 - val_loss: 2.2791 - val_acc: 0.2158\n",
      "Epoch 7/10\n",
      "3800/3800 [==============================] - 59s 16ms/step - loss: 2.2808 - acc: 0.2082 - val_loss: 2.2993 - val_acc: 0.2105\n",
      "Epoch 8/10\n",
      "3800/3800 [==============================] - 59s 16ms/step - loss: 2.2588 - acc: 0.2189 - val_loss: 2.2808 - val_acc: 0.2147\n",
      "Epoch 9/10\n",
      "3800/3800 [==============================] - 59s 16ms/step - loss: 2.2415 - acc: 0.2176 - val_loss: 2.2823 - val_acc: 0.2305\n",
      "Epoch 10/10\n",
      "3800/3800 [==============================] - 59s 16ms/step - loss: 2.2341 - acc: 0.2242 - val_loss: 2.2680 - val_acc: 0.2274\n"
     ]
    },
    {
     "data": {
      "text/plain": [
       "<keras.callbacks.History at 0x7f3b41e12cc0>"
      ]
     },
     "execution_count": 24,
     "metadata": {
      "tags": []
     },
     "output_type": "execute_result"
    }
   ],
   "source": [
    "# Train the model\n",
    "model.fit(X_training, y_training, batch_size=BATCH_SIZE, nb_epoch=EPOCHS, callbacks=callback_list, validation_data=(X_val, y_val))"
   ]
  },
  {
   "cell_type": "code",
   "execution_count": 0,
   "metadata": {
    "colab": {},
    "colab_type": "code",
    "id": "wkAceSKutQqI"
   },
   "outputs": [],
   "source": []
  }
 ],
 "metadata": {
  "colab": {
   "collapsed_sections": [],
   "name": "ComputerVision_Residency7_Project1_AmaravadiPraneeth.ipynb",
   "provenance": []
  },
  "kernelspec": {
   "display_name": "Python 3",
   "language": "python",
   "name": "python3"
  },
  "language_info": {
   "codemirror_mode": {
    "name": "ipython",
    "version": 3
   },
   "file_extension": ".py",
   "mimetype": "text/x-python",
   "name": "python",
   "nbconvert_exporter": "python",
   "pygments_lexer": "ipython3",
   "version": "3.7.1"
  }
 },
 "nbformat": 4,
 "nbformat_minor": 1
}
