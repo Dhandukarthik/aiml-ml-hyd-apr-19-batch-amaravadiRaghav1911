{
 "cells": [
  {
   "cell_type": "code",
   "execution_count": 0,
   "metadata": {
    "colab": {
     "base_uri": "https://localhost:8080/",
     "height": 34
    },
    "colab_type": "code",
    "id": "efPYsg02yro_",
    "outputId": "a9f440ad-8e80-41cb-d8d4-6075e178e61c"
   },
   "outputs": [
    {
     "name": "stderr",
     "output_type": "stream",
     "text": [
      "Using TensorFlow backend.\n"
     ]
    }
   ],
   "source": [
    "%tensorflow_version 1.x\n",
    "import tensorflow as tf\n",
    "import h5py\n",
    "import matplotlib.pyplot as plt\n",
    "import keras\n",
    "from keras.models import Sequential\n",
    "from keras.layers import Dense, Activation, Dropout, Flatten, Reshape\n",
    "from keras.layers import Convolution2D, MaxPooling2D\n",
    "from keras.utils import np_utils\n",
    "#import pickle\n",
    "import seaborn as sns"
   ]
  },
  {
   "cell_type": "markdown",
   "metadata": {
    "colab_type": "text",
    "id": "9Yqs18L1MLlp"
   },
   "source": [
    "### Connecting to Drive to read the data"
   ]
  },
  {
   "cell_type": "code",
   "execution_count": 0,
   "metadata": {
    "colab": {
     "base_uri": "https://localhost:8080/",
     "height": 125
    },
    "colab_type": "code",
    "id": "-l1RLx_HteM0",
    "outputId": "c241ec59-d271-41e1-92ba-0e3bbcc98e9e"
   },
   "outputs": [
    {
     "name": "stdout",
     "output_type": "stream",
     "text": [
      "Go to this URL in a browser: https://accounts.google.com/o/oauth2/auth?client_id=947318989803-6bn6qk8qdgf4n4g3pfee6491hc0brc4i.apps.googleusercontent.com&redirect_uri=urn%3aietf%3awg%3aoauth%3a2.0%3aoob&response_type=code&scope=email%20https%3a%2f%2fwww.googleapis.com%2fauth%2fdocs.test%20https%3a%2f%2fwww.googleapis.com%2fauth%2fdrive%20https%3a%2f%2fwww.googleapis.com%2fauth%2fdrive.photos.readonly%20https%3a%2f%2fwww.googleapis.com%2fauth%2fpeopleapi.readonly\n",
      "\n",
      "Enter your authorization code:\n",
      "··········\n",
      "Mounted at /content/drive\n"
     ]
    }
   ],
   "source": [
    "from google.colab import drive\n",
    "drive.mount('/content/drive')"
   ]
  },
  {
   "cell_type": "markdown",
   "metadata": {
    "colab_type": "text",
    "id": "ZFfUW3QXMA2E"
   },
   "source": [
    "### Reading HDF5 format(.h5) file from Drive"
   ]
  },
  {
   "cell_type": "code",
   "execution_count": 0,
   "metadata": {
    "colab": {},
    "colab_type": "code",
    "id": "p2ymgdpiyoi-"
   },
   "outputs": [],
   "source": [
    "f = h5py.File('/content/drive/My Drive/NN_Project/SVHN_single_grey1.h5', 'r')"
   ]
  },
  {
   "cell_type": "markdown",
   "metadata": {
    "colab_type": "text",
    "id": "4ScvShPLL6RS"
   },
   "source": [
    "### Names of the groups in HDF5 file."
   ]
  },
  {
   "cell_type": "code",
   "execution_count": 0,
   "metadata": {
    "colab": {
     "base_uri": "https://localhost:8080/",
     "height": 122
    },
    "colab_type": "code",
    "id": "5ztYrlqQ0oCr",
    "outputId": "e1bd864e-4b28-45d9-db0c-f319ad43761c"
   },
   "outputs": [
    {
     "name": "stdout",
     "output_type": "stream",
     "text": [
      "X_test\n",
      "X_train\n",
      "X_val\n",
      "y_test\n",
      "y_train\n",
      "y_val\n"
     ]
    }
   ],
   "source": [
    "for key in f.keys():\n",
    "  print(key) "
   ]
  },
  {
   "cell_type": "markdown",
   "metadata": {
    "colab_type": "text",
    "id": "EnwMBTJHMUQR"
   },
   "source": [
    "### Extracting each group and storing the value in the corresponding datasets."
   ]
  },
  {
   "cell_type": "code",
   "execution_count": 0,
   "metadata": {
    "colab": {},
    "colab_type": "code",
    "id": "bHTsEj6Z03rC"
   },
   "outputs": [],
   "source": [
    "X_test = f['X_test']\n",
    "X_train = f['X_train']\n",
    "X_val = f['X_val']\n",
    "y_test = f['y_test']\n",
    "y_train = f['y_train']\n",
    "y_val = f['y_val']"
   ]
  },
  {
   "cell_type": "code",
   "execution_count": 0,
   "metadata": {
    "colab": {},
    "colab_type": "code",
    "id": "kMrUczHI068C"
   },
   "outputs": [],
   "source": [
    "X_test = X_test.value\n",
    "X_train = X_train.value\n",
    "X_val = X_val.value\n",
    "y_test = y_test.value\n",
    "y_train = y_train.value\n",
    "y_val = y_val.value"
   ]
  },
  {
   "cell_type": "code",
   "execution_count": 0,
   "metadata": {
    "colab": {
     "base_uri": "https://localhost:8080/",
     "height": 105
    },
    "colab_type": "code",
    "id": "OT7r4w1h12BG",
    "outputId": "9c53ac33-bac0-42b6-8bb7-cd284cc07398"
   },
   "outputs": [
    {
     "name": "stdout",
     "output_type": "stream",
     "text": [
      "Number of images in:\n",
      "Train dataset: 42000\n",
      "Validation dataset: 60000\n",
      "Test dataset: 18000\n"
     ]
    },
    {
     "data": {
      "text/plain": [
       "(42000, 32, 32)"
      ]
     },
     "execution_count": 7,
     "metadata": {
      "tags": []
     },
     "output_type": "execute_result"
    }
   ],
   "source": [
    "print(\"Number of images in:\")\n",
    "print(\"Train dataset: \"+str(X_train.shape[0]))\n",
    "print(\"Validation dataset: \"+str(X_val.shape[0]))\n",
    "print(\"Test dataset: \"+str(X_test.shape[0]))\n",
    "X_train.shape"
   ]
  },
  {
   "cell_type": "markdown",
   "metadata": {
    "colab_type": "text",
    "id": "HWwMVD3wI0Tk"
   },
   "source": [
    "### Viewing the images present in the dataset"
   ]
  },
  {
   "cell_type": "code",
   "execution_count": 0,
   "metadata": {
    "colab": {},
    "colab_type": "code",
    "id": "0jM8d8tiIvM2"
   },
   "outputs": [],
   "source": [
    "img1 = X_train[0,:,:]\n",
    "img1_key = y_train[0]"
   ]
  },
  {
   "cell_type": "code",
   "execution_count": 0,
   "metadata": {
    "colab": {
     "base_uri": "https://localhost:8080/",
     "height": 301
    },
    "colab_type": "code",
    "id": "nbn1kBl3IvJX",
    "outputId": "e3d02bd2-7952-4bd9-8427-48912a9fcc86"
   },
   "outputs": [
    {
     "name": "stdout",
     "output_type": "stream",
     "text": [
      "Number in the image is: 2\n"
     ]
    },
    {
     "data": {
      "text/plain": [
       "<matplotlib.image.AxesImage at 0x7f9e12297b38>"
      ]
     },
     "execution_count": 9,
     "metadata": {
      "tags": []
     },
     "output_type": "execute_result"
    },
    {
     "data": {
      "image/png": "[encoded data removed]",
      "text/plain": [
       "<Figure size 432x288 with 1 Axes>"
      ]
     },
     "metadata": {
      "tags": []
     },
     "output_type": "display_data"
    }
   ],
   "source": [
    "print(\"Number in the image is: \"+str(img1_key))\n",
    "plt.imshow(img1)"
   ]
  },
  {
   "cell_type": "code",
   "execution_count": 0,
   "metadata": {
    "colab": {},
    "colab_type": "code",
    "id": "2w_0Ss6zIvGb"
   },
   "outputs": [],
   "source": [
    "img2 = X_train[100,:,:]\n",
    "img2_key = y_train[100]"
   ]
  },
  {
   "cell_type": "code",
   "execution_count": 0,
   "metadata": {
    "colab": {
     "base_uri": "https://localhost:8080/",
     "height": 301
    },
    "colab_type": "code",
    "id": "C5R-PcINIvDr",
    "outputId": "94b9fa05-0795-4974-dd99-909e2dc21085"
   },
   "outputs": [
    {
     "name": "stdout",
     "output_type": "stream",
     "text": [
      "Number in the image is: 0\n"
     ]
    },
    {
     "data": {
      "text/plain": [
       "<matplotlib.image.AxesImage at 0x7f9e11de7dd8>"
      ]
     },
     "execution_count": 11,
     "metadata": {
      "tags": []
     },
     "output_type": "execute_result"
    },
    {
     "data": {
      "image/png": "[encoded data removed]",
      "text/plain": [
       "<Figure size 432x288 with 1 Axes>"
      ]
     },
     "metadata": {
      "tags": []
     },
     "output_type": "display_data"
    }
   ],
   "source": [
    "print(\"Number in the image is: \"+str(img2_key))\n",
    "plt.imshow(img2)"
   ]
  },
  {
   "cell_type": "code",
   "execution_count": 0,
   "metadata": {
    "colab": {},
    "colab_type": "code",
    "id": "G_a7V7cnIu7V"
   },
   "outputs": [],
   "source": [
    "img3 = X_train[234,:,:]\n",
    "img3_key = y_train[234]"
   ]
  },
  {
   "cell_type": "code",
   "execution_count": 0,
   "metadata": {
    "colab": {
     "base_uri": "https://localhost:8080/",
     "height": 301
    },
    "colab_type": "code",
    "id": "YXYHchnFHo3W",
    "outputId": "327135cc-d46a-4a04-c97e-6c081c072c13"
   },
   "outputs": [
    {
     "name": "stdout",
     "output_type": "stream",
     "text": [
      "Number in the image is: 8\n"
     ]
    },
    {
     "data": {
      "text/plain": [
       "<matplotlib.image.AxesImage at 0x7f9e11d51e80>"
      ]
     },
     "execution_count": 13,
     "metadata": {
      "tags": []
     },
     "output_type": "execute_result"
    },
    {
     "data": {
      "image/png": "[encoded data removed]",
      "text/plain": [
       "<Figure size 432x288 with 1 Axes>"
      ]
     },
     "metadata": {
      "tags": []
     },
     "output_type": "display_data"
    }
   ],
   "source": [
    "print(\"Number in the image is: \"+str(img3_key))\n",
    "plt.imshow(img3)"
   ]
  },
  {
   "cell_type": "markdown",
   "metadata": {
    "colab_type": "text",
    "id": "0aH28xfxMe6L"
   },
   "source": [
    "### Reshaping the input and the output data and storing in a new variable"
   ]
  },
  {
   "cell_type": "code",
   "execution_count": 0,
   "metadata": {
    "colab": {},
    "colab_type": "code",
    "id": "E0bmSXV2GWja"
   },
   "outputs": [],
   "source": [
    "X_train_nn = X_train.reshape(X_train.shape[0], 32, 32, 1).astype('float32')\n",
    "X_test_nn = X_test.reshape(X_test.shape[0], 32, 32, 1).astype('float32')\n",
    "X_val_nn = X_val.reshape(X_val.shape[0], 32, 32, 1).astype('float32')\n",
    "X_train_nn /= 255\n",
    "X_test_nn /= 255\n",
    "X_val_nn /= 255\n",
    "y_train_nn = np_utils.to_categorical(y_train, 10)\n",
    "y_test_nn = np_utils.to_categorical(y_test, 10)\n",
    "y_val_nn = np_utils.to_categorical(y_val, 10)"
   ]
  },
  {
   "cell_type": "markdown",
   "metadata": {
    "colab_type": "text",
    "id": "ban8wNtgMoez"
   },
   "source": [
    "### Parameter defenition and Model creation"
   ]
  },
  {
   "cell_type": "code",
   "execution_count": 0,
   "metadata": {
    "colab": {},
    "colab_type": "code",
    "id": "mXgGrVGtIw4a"
   },
   "outputs": [],
   "source": [
    "BATCH_SIZE = 32\n",
    "EPOCHS = 15"
   ]
  },
  {
   "cell_type": "code",
   "execution_count": 0,
   "metadata": {
    "colab": {
     "base_uri": "https://localhost:8080/",
     "height": 1000
    },
    "colab_type": "code",
    "id": "XX3RZXZPHcqj",
    "outputId": "ad0acada-7783-4aa4-b830-92952954133b"
   },
   "outputs": [
    {
     "name": "stdout",
     "output_type": "stream",
     "text": [
      "WARNING:tensorflow:From /usr/local/lib/python3.6/dist-packages/keras/backend/tensorflow_backend.py:66: The name tf.get_default_graph is deprecated. Please use tf.compat.v1.get_default_graph instead.\n",
      "\n",
      "WARNING:tensorflow:From /usr/local/lib/python3.6/dist-packages/keras/backend/tensorflow_backend.py:541: The name tf.placeholder is deprecated. Please use tf.compat.v1.placeholder instead.\n",
      "\n",
      "WARNING:tensorflow:From /usr/local/lib/python3.6/dist-packages/keras/backend/tensorflow_backend.py:4432: The name tf.random_uniform is deprecated. Please use tf.random.uniform instead.\n",
      "\n",
      "WARNING:tensorflow:From /usr/local/lib/python3.6/dist-packages/keras/backend/tensorflow_backend.py:4267: The name tf.nn.max_pool is deprecated. Please use tf.nn.max_pool2d instead.\n",
      "\n",
      "WARNING:tensorflow:From /usr/local/lib/python3.6/dist-packages/keras/backend/tensorflow_backend.py:148: The name tf.placeholder_with_default is deprecated. Please use tf.compat.v1.placeholder_with_default instead.\n",
      "\n",
      "WARNING:tensorflow:From /usr/local/lib/python3.6/dist-packages/keras/backend/tensorflow_backend.py:3733: calling dropout (from tensorflow.python.ops.nn_ops) with keep_prob is deprecated and will be removed in a future version.\n",
      "Instructions for updating:\n",
      "Please use `rate` instead of `keep_prob`. Rate should be set to `rate = 1 - keep_prob`.\n",
      "WARNING:tensorflow:From /usr/local/lib/python3.6/dist-packages/keras/optimizers.py:793: The name tf.train.Optimizer is deprecated. Please use tf.compat.v1.train.Optimizer instead.\n",
      "\n",
      "WARNING:tensorflow:From /usr/local/lib/python3.6/dist-packages/keras/backend/tensorflow_backend.py:3576: The name tf.log is deprecated. Please use tf.math.log instead.\n",
      "\n"
     ]
    },
    {
     "name": "stderr",
     "output_type": "stream",
     "text": [
      "/usr/local/lib/python3.6/dist-packages/ipykernel_launcher.py:4: UserWarning: Update your `Conv2D` call to the Keras 2 API: `Conv2D(32, (3, 3), input_shape=(32, 32, 1...)`\n",
      "  after removing the cwd from sys.path.\n",
      "/usr/local/lib/python3.6/dist-packages/ipykernel_launcher.py:8: UserWarning: Update your `Conv2D` call to the Keras 2 API: `Conv2D(32, (3, 3))`\n",
      "  \n",
      "/usr/local/lib/python3.6/dist-packages/ipykernel_launcher.py:12: UserWarning: Update your `Conv2D` call to the Keras 2 API: `Conv2D(32, (3, 3))`\n",
      "  if sys.path[0] == '':\n",
      "/usr/local/lib/python3.6/dist-packages/ipykernel_launcher.py:40: UserWarning: The `nb_epoch` argument in `fit` has been renamed `epochs`.\n"
     ]
    },
    {
     "name": "stdout",
     "output_type": "stream",
     "text": [
      "WARNING:tensorflow:From /usr/local/lib/python3.6/dist-packages/tensorflow_core/python/ops/math_grad.py:1424: where (from tensorflow.python.ops.array_ops) is deprecated and will be removed in a future version.\n",
      "Instructions for updating:\n",
      "Use tf.where in 2.0, which has the same broadcast rule as np.where\n",
      "WARNING:tensorflow:From /usr/local/lib/python3.6/dist-packages/keras/backend/tensorflow_backend.py:1033: The name tf.assign_add is deprecated. Please use tf.compat.v1.assign_add instead.\n",
      "\n",
      "WARNING:tensorflow:From /usr/local/lib/python3.6/dist-packages/keras/backend/tensorflow_backend.py:1020: The name tf.assign is deprecated. Please use tf.compat.v1.assign instead.\n",
      "\n",
      "WARNING:tensorflow:From /usr/local/lib/python3.6/dist-packages/keras/backend/tensorflow_backend.py:3005: The name tf.Session is deprecated. Please use tf.compat.v1.Session instead.\n",
      "\n",
      "Train on 42000 samples, validate on 60000 samples\n",
      "Epoch 1/15\n",
      "WARNING:tensorflow:From /usr/local/lib/python3.6/dist-packages/keras/backend/tensorflow_backend.py:190: The name tf.get_default_session is deprecated. Please use tf.compat.v1.get_default_session instead.\n",
      "\n",
      "WARNING:tensorflow:From /usr/local/lib/python3.6/dist-packages/keras/backend/tensorflow_backend.py:197: The name tf.ConfigProto is deprecated. Please use tf.compat.v1.ConfigProto instead.\n",
      "\n",
      "WARNING:tensorflow:From /usr/local/lib/python3.6/dist-packages/keras/backend/tensorflow_backend.py:207: The name tf.global_variables is deprecated. Please use tf.compat.v1.global_variables instead.\n",
      "\n",
      "WARNING:tensorflow:From /usr/local/lib/python3.6/dist-packages/keras/backend/tensorflow_backend.py:216: The name tf.is_variable_initialized is deprecated. Please use tf.compat.v1.is_variable_initialized instead.\n",
      "\n",
      "WARNING:tensorflow:From /usr/local/lib/python3.6/dist-packages/keras/backend/tensorflow_backend.py:223: The name tf.variables_initializer is deprecated. Please use tf.compat.v1.variables_initializer instead.\n",
      "\n",
      "42000/42000 [==============================] - 17s 408us/step - loss: 1.0070 - acc: 0.6735 - val_loss: 0.5039 - val_acc: 0.8483\n",
      "Epoch 2/15\n",
      "42000/42000 [==============================] - 10s 233us/step - loss: 0.5812 - acc: 0.8228 - val_loss: 0.3765 - val_acc: 0.8907\n",
      "Epoch 3/15\n",
      "42000/42000 [==============================] - 10s 231us/step - loss: 0.4998 - acc: 0.8446 - val_loss: 0.3591 - val_acc: 0.8933\n",
      "Epoch 4/15\n",
      "42000/42000 [==============================] - 10s 231us/step - loss: 0.4577 - acc: 0.8583 - val_loss: 0.2958 - val_acc: 0.9122\n",
      "Epoch 5/15\n",
      "42000/42000 [==============================] - 10s 229us/step - loss: 0.4257 - acc: 0.8667 - val_loss: 0.2736 - val_acc: 0.9197\n",
      "Epoch 6/15\n",
      "42000/42000 [==============================] - 10s 227us/step - loss: 0.3901 - acc: 0.8797 - val_loss: 0.2565 - val_acc: 0.9261\n",
      "Epoch 7/15\n",
      "42000/42000 [==============================] - 9s 225us/step - loss: 0.3667 - acc: 0.8830 - val_loss: 0.3153 - val_acc: 0.9077\n",
      "Epoch 8/15\n",
      "42000/42000 [==============================] - 10s 234us/step - loss: 0.3461 - acc: 0.8908 - val_loss: 0.2346 - val_acc: 0.9330\n",
      "Epoch 9/15\n",
      "42000/42000 [==============================] - 10s 229us/step - loss: 0.3300 - acc: 0.8965 - val_loss: 0.2153 - val_acc: 0.9390\n",
      "Epoch 10/15\n",
      "42000/42000 [==============================] - 10s 227us/step - loss: 0.3101 - acc: 0.9011 - val_loss: 0.2088 - val_acc: 0.9420\n",
      "Epoch 11/15\n",
      "42000/42000 [==============================] - 10s 231us/step - loss: 0.2952 - acc: 0.9059 - val_loss: 0.1993 - val_acc: 0.9440\n",
      "Epoch 12/15\n",
      "42000/42000 [==============================] - 10s 229us/step - loss: 0.2849 - acc: 0.9091 - val_loss: 0.1855 - val_acc: 0.9496\n",
      "Epoch 13/15\n",
      "42000/42000 [==============================] - 10s 227us/step - loss: 0.2751 - acc: 0.9096 - val_loss: 0.2013 - val_acc: 0.9443\n",
      "Epoch 14/15\n",
      "42000/42000 [==============================] - 10s 229us/step - loss: 0.2576 - acc: 0.9156 - val_loss: 0.1784 - val_acc: 0.9522\n",
      "Epoch 15/15\n",
      "42000/42000 [==============================] - 10s 228us/step - loss: 0.2522 - acc: 0.9177 - val_loss: 0.1756 - val_acc: 0.9536\n"
     ]
    },
    {
     "data": {
      "text/plain": [
       "<keras.callbacks.History at 0x7f9e114ae668>"
      ]
     },
     "execution_count": 16,
     "metadata": {
      "tags": []
     },
     "output_type": "execute_result"
    }
   ],
   "source": [
    "model = Sequential()\n",
    "\n",
    "# 1st Conv Layer\n",
    "model.add(Convolution2D(32, 3, 3, input_shape=(32, 32, 1)))\n",
    "model.add(Activation('relu'))\n",
    "\n",
    "# 2nd Conv Layer\n",
    "model.add(Convolution2D(32, 3, 3))\n",
    "model.add(Activation('relu'))\n",
    "\n",
    "# 3rd Conv Layer\n",
    "model.add(Convolution2D(32, 3, 3))\n",
    "model.add(Activation('relu'))\n",
    "\n",
    "# Max Pooling\n",
    "model.add(MaxPooling2D(pool_size=(2,2)))\n",
    "    \n",
    "# Dropout\n",
    "model.add(Dropout(0.1))\n",
    "\n",
    "# Fully Connected Layer\n",
    "model.add(Flatten())\n",
    "model.add(Dense(150))\n",
    "model.add(Activation('relu'))\n",
    "    \n",
    "# Dropout\n",
    "model.add(Dropout(0.5))\n",
    "\n",
    "# Prediction Layer\n",
    "model.add(Dense(10))\n",
    "model.add(Activation('softmax'))\n",
    "\n",
    "model.compile(loss='categorical_crossentropy', optimizer='adam', metrics=['accuracy'])\n",
    "   \n",
    "# Store Training Results\n",
    "early_stopping = keras.callbacks.EarlyStopping(monitor='val_acc', patience=7, verbose=1, mode='auto')\n",
    "callback_list = [early_stopping]\n",
    "\n",
    "# Train the model\n",
    "model.fit(X_train_nn, y_train_nn, batch_size=BATCH_SIZE, nb_epoch=EPOCHS, validation_data=(X_val_nn, y_val_nn), callbacks=callback_list)"
   ]
  },
  {
   "cell_type": "markdown",
   "metadata": {
    "colab_type": "text",
    "id": "ziRZgt2nGS9k"
   },
   "source": [
    "### Evaluating the model on the test data and check the accuracy."
   ]
  },
  {
   "cell_type": "code",
   "execution_count": 0,
   "metadata": {
    "colab": {
     "base_uri": "https://localhost:8080/",
     "height": 52
    },
    "colab_type": "code",
    "id": "TzLHAacrM7FI",
    "outputId": "670fd348-49d4-40a5-dd8b-06265c24812b"
   },
   "outputs": [
    {
     "name": "stdout",
     "output_type": "stream",
     "text": [
      "18000/18000 [==============================] - 1s 52us/step\n"
     ]
    },
    {
     "data": {
      "text/plain": [
       "[0.3367886358201504, 0.9103888888888889]"
      ]
     },
     "execution_count": 17,
     "metadata": {
      "tags": []
     },
     "output_type": "execute_result"
    }
   ],
   "source": [
    "model.evaluate(x=X_test_nn, y=y_test_nn)"
   ]
  },
  {
   "cell_type": "code",
   "execution_count": 0,
   "metadata": {
    "colab": {},
    "colab_type": "code",
    "id": "qy-XhyuwM6_Y"
   },
   "outputs": [],
   "source": []
  },
  {
   "cell_type": "code",
   "execution_count": 0,
   "metadata": {
    "colab": {},
    "colab_type": "code",
    "id": "QFjsC3JrM6wS"
   },
   "outputs": [],
   "source": []
  },
  {
   "cell_type": "markdown",
   "metadata": {
    "colab_type": "text",
    "id": "GWlFeZ1sIOOX"
   },
   "source": [
    "### KNN based classification"
   ]
  },
  {
   "cell_type": "markdown",
   "metadata": {
    "colab_type": "text",
    "id": "nJHgY9y_F2Qu"
   },
   "source": [
    "#### Extracting feaures from the images for applying KNN"
   ]
  },
  {
   "cell_type": "code",
   "execution_count": 0,
   "metadata": {
    "colab": {
     "base_uri": "https://localhost:8080/",
     "height": 34
    },
    "colab_type": "code",
    "id": "yu5uN5jQF1XQ",
    "outputId": "b861f38e-1308-4a21-f416-eb880fd73d31"
   },
   "outputs": [
    {
     "data": {
      "text/plain": [
       "(18000, 32, 32)"
      ]
     },
     "execution_count": 18,
     "metadata": {
      "tags": []
     },
     "output_type": "execute_result"
    }
   ],
   "source": [
    "X_test.shape"
   ]
  },
  {
   "cell_type": "code",
   "execution_count": 0,
   "metadata": {
    "colab": {},
    "colab_type": "code",
    "id": "Bx5gjPpWF1PX"
   },
   "outputs": [],
   "source": [
    "X_test_reshaped = X_test.reshape(X_test.shape[0],1024)\n",
    "X_train_reshaped = X_train.reshape(X_train.shape[0],1024)\n",
    "X_val_reshaped = X_val.reshape(X_val.shape[0],1024)\n",
    "y_test_reshaped = np_utils.to_categorical(y_test, 10)\n",
    "y_train_reshaped = np_utils.to_categorical(y_train, 10)\n",
    "y_val_reshaped = np_utils.to_categorical(y_val, 10)"
   ]
  },
  {
   "cell_type": "code",
   "execution_count": 0,
   "metadata": {
    "colab": {
     "base_uri": "https://localhost:8080/",
     "height": 70
    },
    "colab_type": "code",
    "id": "i4wu64AF2jaH",
    "outputId": "458180d6-1938-49f2-847d-8364c6a00eb9"
   },
   "outputs": [
    {
     "data": {
      "text/plain": [
       "KNeighborsClassifier(algorithm='auto', leaf_size=30, metric='minkowski',\n",
       "                     metric_params=None, n_jobs=None, n_neighbors=5, p=2,\n",
       "                     weights='uniform')"
      ]
     },
     "execution_count": 29,
     "metadata": {
      "tags": []
     },
     "output_type": "execute_result"
    }
   ],
   "source": [
    "from sklearn.neighbors import KNeighborsClassifier\n",
    "knn = KNeighborsClassifier(n_neighbors= 5 , weights = 'uniform')\n",
    "knn.fit(X_train_reshaped, y_train_reshaped)"
   ]
  },
  {
   "cell_type": "code",
   "execution_count": 0,
   "metadata": {
    "colab": {},
    "colab_type": "code",
    "id": "u9UfIzGQ9hkQ"
   },
   "outputs": [],
   "source": [
    "acc = knn.score(X_val_reshaped, y_val_reshaped)"
   ]
  },
  {
   "cell_type": "code",
   "execution_count": 0,
   "metadata": {
    "colab": {
     "base_uri": "https://localhost:8080/",
     "height": 167
    },
    "colab_type": "code",
    "id": "_jByYxhYSOag",
    "outputId": "d3946229-a681-45bf-d7c9-86abf1046fe5"
   },
   "outputs": [
    {
     "ename": "NameError",
     "evalue": "ignored",
     "output_type": "error",
     "traceback": [
      "\u001b[0;31m---------------------------------------------------------------------------\u001b[0m",
      "\u001b[0;31mNameError\u001b[0m                                 Traceback (most recent call last)",
      "\u001b[0;32m<ipython-input-1-f2587427db44>\u001b[0m in \u001b[0;36m<module>\u001b[0;34m()\u001b[0m\n\u001b[0;32m----> 1\u001b[0;31m \u001b[0mprint\u001b[0m\u001b[0;34m(\u001b[0m\u001b[0macc\u001b[0m\u001b[0;34m*\u001b[0m\u001b[0;36m100\u001b[0m\u001b[0;34m)\u001b[0m\u001b[0;34m\u001b[0m\u001b[0;34m\u001b[0m\u001b[0m\n\u001b[0m",
      "\u001b[0;31mNameError\u001b[0m: name 'acc' is not defined"
     ]
    }
   ],
   "source": [
    "#acc = 81% from the above statement.\n",
    "print(acc*100)"
   ]
  },
  {
   "cell_type": "code",
   "execution_count": 0,
   "metadata": {
    "colab": {},
    "colab_type": "code",
    "id": "ooJx9F3vPbUI"
   },
   "outputs": [],
   "source": [
    "test_acc = knn.score(X_test_reshaped, y_test_reshaped)"
   ]
  },
  {
   "cell_type": "code",
   "execution_count": 0,
   "metadata": {
    "colab": {
     "base_uri": "https://localhost:8080/",
     "height": 34
    },
    "colab_type": "code",
    "id": "tkHy8pe9PuE1",
    "outputId": "7b432ca0-9a6b-465b-f2dc-18d8ee8e99a1"
   },
   "outputs": [
    {
     "name": "stdout",
     "output_type": "stream",
     "text": [
      "37.87222222222223\n"
     ]
    }
   ],
   "source": [
    "print(test_acc*100)"
   ]
  },
  {
   "cell_type": "code",
   "execution_count": 0,
   "metadata": {
    "colab": {},
    "colab_type": "code",
    "id": "XnELZ12UXnGa"
   },
   "outputs": [],
   "source": []
  }
 ],
 "metadata": {
  "accelerator": "GPU",
  "colab": {
   "collapsed_sections": [],
   "name": "NN_Residency7_Project1_AmaravadiPraneeth.ipynb",
   "provenance": []
  },
  "kernelspec": {
   "display_name": "Python 3",
   "language": "python",
   "name": "python3"
  },
  "language_info": {
   "codemirror_mode": {
    "name": "ipython",
    "version": 3
   },
   "file_extension": ".py",
   "mimetype": "text/x-python",
   "name": "python",
   "nbconvert_exporter": "python",
   "pygments_lexer": "ipython3",
   "version": "3.7.1"
  }
 },
 "nbformat": 4,
 "nbformat_minor": 1
}
