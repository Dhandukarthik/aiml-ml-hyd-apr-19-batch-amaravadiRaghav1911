{
 "cells": [
  {
   "cell_type": "markdown",
   "metadata": {},
   "source": [
    "## The dataset HR contains information collected from the survey floated by a HR within the company.\n",
    "\n",
    "\n",
    "As a part of this lab, you are expected to answer the below questions"
   ]
  },
  {
   "cell_type": "markdown",
   "metadata": {},
   "source": [
    "### Import numpy and Pandas "
   ]
  },
  {
   "cell_type": "code",
   "execution_count": 5,
   "metadata": {},
   "outputs": [],
   "source": [
    "import numpy as np\n",
    "import pandas as pd"
   ]
  },
  {
   "cell_type": "markdown",
   "metadata": {},
   "source": [
    "### Import the dataset (Note: The dataset is in .txt format) - Make sure to use delimiters"
   ]
  },
  {
   "cell_type": "code",
   "execution_count": 6,
   "metadata": {},
   "outputs": [
    {
     "data": {
      "text/html": [
       "<div>\n",
       "<style scoped>\n",
       "    .dataframe tbody tr th:only-of-type {\n",
       "        vertical-align: middle;\n",
       "    }\n",
       "\n",
       "    .dataframe tbody tr th {\n",
       "        vertical-align: top;\n",
       "    }\n",
       "\n",
       "    .dataframe thead th {\n",
       "        text-align: right;\n",
       "    }\n",
       "</style>\n",
       "<table border=\"1\" class=\"dataframe\">\n",
       "  <thead>\n",
       "    <tr style=\"text-align: right;\">\n",
       "      <th></th>\n",
       "      <th>Attrition</th>\n",
       "      <th>Age</th>\n",
       "      <th>BusinessTravel</th>\n",
       "      <th>DailyRate</th>\n",
       "      <th>Department</th>\n",
       "      <th>DistanceFromHome</th>\n",
       "      <th>Education</th>\n",
       "      <th>EducationField</th>\n",
       "      <th>EmployeeCount</th>\n",
       "      <th>EmployeeNumber</th>\n",
       "      <th>...</th>\n",
       "      <th>RelationshipSatisfaction</th>\n",
       "      <th>StandardHours</th>\n",
       "      <th>StockOptionLevel</th>\n",
       "      <th>TotalWorkingYears</th>\n",
       "      <th>TrainingTimesLastYear</th>\n",
       "      <th>WorkLifeBalance</th>\n",
       "      <th>YearsAtCompany</th>\n",
       "      <th>YearsInCurrentRole</th>\n",
       "      <th>YearsSinceLastPromotion</th>\n",
       "      <th>YearsWithCurrManager</th>\n",
       "    </tr>\n",
       "    <tr>\n",
       "      <th>Individual</th>\n",
       "      <th></th>\n",
       "      <th></th>\n",
       "      <th></th>\n",
       "      <th></th>\n",
       "      <th></th>\n",
       "      <th></th>\n",
       "      <th></th>\n",
       "      <th></th>\n",
       "      <th></th>\n",
       "      <th></th>\n",
       "      <th></th>\n",
       "      <th></th>\n",
       "      <th></th>\n",
       "      <th></th>\n",
       "      <th></th>\n",
       "      <th></th>\n",
       "      <th></th>\n",
       "      <th></th>\n",
       "      <th></th>\n",
       "      <th></th>\n",
       "      <th></th>\n",
       "    </tr>\n",
       "  </thead>\n",
       "  <tbody>\n",
       "    <tr>\n",
       "      <th>Ind1</th>\n",
       "      <td>Yes</td>\n",
       "      <td>41</td>\n",
       "      <td>1</td>\n",
       "      <td>1102</td>\n",
       "      <td>1</td>\n",
       "      <td>1</td>\n",
       "      <td>2</td>\n",
       "      <td>1</td>\n",
       "      <td>1</td>\n",
       "      <td>1</td>\n",
       "      <td>...</td>\n",
       "      <td>1</td>\n",
       "      <td>80</td>\n",
       "      <td>0</td>\n",
       "      <td>8</td>\n",
       "      <td>0</td>\n",
       "      <td>1</td>\n",
       "      <td>6</td>\n",
       "      <td>4</td>\n",
       "      <td>0</td>\n",
       "      <td>5</td>\n",
       "    </tr>\n",
       "    <tr>\n",
       "      <th>Ind2</th>\n",
       "      <td>No</td>\n",
       "      <td>49</td>\n",
       "      <td>2</td>\n",
       "      <td>279</td>\n",
       "      <td>2</td>\n",
       "      <td>8</td>\n",
       "      <td>1</td>\n",
       "      <td>1</td>\n",
       "      <td>1</td>\n",
       "      <td>2</td>\n",
       "      <td>...</td>\n",
       "      <td>4</td>\n",
       "      <td>80</td>\n",
       "      <td>1</td>\n",
       "      <td>10</td>\n",
       "      <td>3</td>\n",
       "      <td>3</td>\n",
       "      <td>10</td>\n",
       "      <td>7</td>\n",
       "      <td>1</td>\n",
       "      <td>7</td>\n",
       "    </tr>\n",
       "    <tr>\n",
       "      <th>Ind3</th>\n",
       "      <td>Yes</td>\n",
       "      <td>37</td>\n",
       "      <td>1</td>\n",
       "      <td>1373</td>\n",
       "      <td>2</td>\n",
       "      <td>2</td>\n",
       "      <td>2</td>\n",
       "      <td>6</td>\n",
       "      <td>1</td>\n",
       "      <td>4</td>\n",
       "      <td>...</td>\n",
       "      <td>2</td>\n",
       "      <td>80</td>\n",
       "      <td>0</td>\n",
       "      <td>7</td>\n",
       "      <td>3</td>\n",
       "      <td>3</td>\n",
       "      <td>0</td>\n",
       "      <td>0</td>\n",
       "      <td>0</td>\n",
       "      <td>0</td>\n",
       "    </tr>\n",
       "    <tr>\n",
       "      <th>Ind4</th>\n",
       "      <td>No</td>\n",
       "      <td>33</td>\n",
       "      <td>2</td>\n",
       "      <td>1392</td>\n",
       "      <td>2</td>\n",
       "      <td>3</td>\n",
       "      <td>4</td>\n",
       "      <td>1</td>\n",
       "      <td>1</td>\n",
       "      <td>5</td>\n",
       "      <td>...</td>\n",
       "      <td>3</td>\n",
       "      <td>80</td>\n",
       "      <td>0</td>\n",
       "      <td>8</td>\n",
       "      <td>3</td>\n",
       "      <td>3</td>\n",
       "      <td>8</td>\n",
       "      <td>7</td>\n",
       "      <td>3</td>\n",
       "      <td>0</td>\n",
       "    </tr>\n",
       "    <tr>\n",
       "      <th>Ind5</th>\n",
       "      <td>No</td>\n",
       "      <td>27</td>\n",
       "      <td>1</td>\n",
       "      <td>591</td>\n",
       "      <td>2</td>\n",
       "      <td>2</td>\n",
       "      <td>1</td>\n",
       "      <td>2</td>\n",
       "      <td>1</td>\n",
       "      <td>7</td>\n",
       "      <td>...</td>\n",
       "      <td>4</td>\n",
       "      <td>80</td>\n",
       "      <td>1</td>\n",
       "      <td>6</td>\n",
       "      <td>3</td>\n",
       "      <td>3</td>\n",
       "      <td>2</td>\n",
       "      <td>2</td>\n",
       "      <td>2</td>\n",
       "      <td>2</td>\n",
       "    </tr>\n",
       "    <tr>\n",
       "      <th>Ind6</th>\n",
       "      <td>No</td>\n",
       "      <td>32</td>\n",
       "      <td>2</td>\n",
       "      <td>1005</td>\n",
       "      <td>2</td>\n",
       "      <td>2</td>\n",
       "      <td>2</td>\n",
       "      <td>1</td>\n",
       "      <td>1</td>\n",
       "      <td>8</td>\n",
       "      <td>...</td>\n",
       "      <td>3</td>\n",
       "      <td>80</td>\n",
       "      <td>0</td>\n",
       "      <td>8</td>\n",
       "      <td>2</td>\n",
       "      <td>2</td>\n",
       "      <td>7</td>\n",
       "      <td>7</td>\n",
       "      <td>3</td>\n",
       "      <td>6</td>\n",
       "    </tr>\n",
       "    <tr>\n",
       "      <th>Ind7</th>\n",
       "      <td>No</td>\n",
       "      <td>59</td>\n",
       "      <td>1</td>\n",
       "      <td>1324</td>\n",
       "      <td>2</td>\n",
       "      <td>3</td>\n",
       "      <td>3</td>\n",
       "      <td>2</td>\n",
       "      <td>1</td>\n",
       "      <td>10</td>\n",
       "      <td>...</td>\n",
       "      <td>1</td>\n",
       "      <td>80</td>\n",
       "      <td>3</td>\n",
       "      <td>12</td>\n",
       "      <td>3</td>\n",
       "      <td>2</td>\n",
       "      <td>1</td>\n",
       "      <td>0</td>\n",
       "      <td>0</td>\n",
       "      <td>0</td>\n",
       "    </tr>\n",
       "    <tr>\n",
       "      <th>Ind8</th>\n",
       "      <td>No</td>\n",
       "      <td>30</td>\n",
       "      <td>1</td>\n",
       "      <td>1358</td>\n",
       "      <td>2</td>\n",
       "      <td>24</td>\n",
       "      <td>1</td>\n",
       "      <td>1</td>\n",
       "      <td>1</td>\n",
       "      <td>11</td>\n",
       "      <td>...</td>\n",
       "      <td>2</td>\n",
       "      <td>80</td>\n",
       "      <td>1</td>\n",
       "      <td>1</td>\n",
       "      <td>2</td>\n",
       "      <td>3</td>\n",
       "      <td>1</td>\n",
       "      <td>0</td>\n",
       "      <td>0</td>\n",
       "      <td>0</td>\n",
       "    </tr>\n",
       "    <tr>\n",
       "      <th>Ind9</th>\n",
       "      <td>No</td>\n",
       "      <td>38</td>\n",
       "      <td>2</td>\n",
       "      <td>216</td>\n",
       "      <td>2</td>\n",
       "      <td>23</td>\n",
       "      <td>3</td>\n",
       "      <td>1</td>\n",
       "      <td>1</td>\n",
       "      <td>12</td>\n",
       "      <td>...</td>\n",
       "      <td>2</td>\n",
       "      <td>80</td>\n",
       "      <td>0</td>\n",
       "      <td>10</td>\n",
       "      <td>2</td>\n",
       "      <td>3</td>\n",
       "      <td>9</td>\n",
       "      <td>7</td>\n",
       "      <td>1</td>\n",
       "      <td>8</td>\n",
       "    </tr>\n",
       "    <tr>\n",
       "      <th>Ind10</th>\n",
       "      <td>No</td>\n",
       "      <td>36</td>\n",
       "      <td>1</td>\n",
       "      <td>1299</td>\n",
       "      <td>2</td>\n",
       "      <td>27</td>\n",
       "      <td>3</td>\n",
       "      <td>2</td>\n",
       "      <td>1</td>\n",
       "      <td>13</td>\n",
       "      <td>...</td>\n",
       "      <td>2</td>\n",
       "      <td>80</td>\n",
       "      <td>2</td>\n",
       "      <td>17</td>\n",
       "      <td>3</td>\n",
       "      <td>2</td>\n",
       "      <td>7</td>\n",
       "      <td>7</td>\n",
       "      <td>7</td>\n",
       "      <td>7</td>\n",
       "    </tr>\n",
       "  </tbody>\n",
       "</table>\n",
       "<p>10 rows × 34 columns</p>\n",
       "</div>"
      ],
      "text/plain": [
       "            Attrition  Age  BusinessTravel  DailyRate  Department  \\\n",
       "Individual                                                          \n",
       "Ind1              Yes   41               1       1102           1   \n",
       "Ind2               No   49               2        279           2   \n",
       "Ind3              Yes   37               1       1373           2   \n",
       "Ind4               No   33               2       1392           2   \n",
       "Ind5               No   27               1        591           2   \n",
       "Ind6               No   32               2       1005           2   \n",
       "Ind7               No   59               1       1324           2   \n",
       "Ind8               No   30               1       1358           2   \n",
       "Ind9               No   38               2        216           2   \n",
       "Ind10              No   36               1       1299           2   \n",
       "\n",
       "             DistanceFromHome  Education  EducationField  EmployeeCount  \\\n",
       "Individual                                                                \n",
       "Ind1                        1          2               1              1   \n",
       "Ind2                        8          1               1              1   \n",
       "Ind3                        2          2               6              1   \n",
       "Ind4                        3          4               1              1   \n",
       "Ind5                        2          1               2              1   \n",
       "Ind6                        2          2               1              1   \n",
       "Ind7                        3          3               2              1   \n",
       "Ind8                       24          1               1              1   \n",
       "Ind9                       23          3               1              1   \n",
       "Ind10                      27          3               2              1   \n",
       "\n",
       "             EmployeeNumber          ...           RelationshipSatisfaction  \\\n",
       "Individual                           ...                                      \n",
       "Ind1                      1          ...                                  1   \n",
       "Ind2                      2          ...                                  4   \n",
       "Ind3                      4          ...                                  2   \n",
       "Ind4                      5          ...                                  3   \n",
       "Ind5                      7          ...                                  4   \n",
       "Ind6                      8          ...                                  3   \n",
       "Ind7                     10          ...                                  1   \n",
       "Ind8                     11          ...                                  2   \n",
       "Ind9                     12          ...                                  2   \n",
       "Ind10                    13          ...                                  2   \n",
       "\n",
       "             StandardHours  StockOptionLevel  TotalWorkingYears  \\\n",
       "Individual                                                        \n",
       "Ind1                    80                 0                  8   \n",
       "Ind2                    80                 1                 10   \n",
       "Ind3                    80                 0                  7   \n",
       "Ind4                    80                 0                  8   \n",
       "Ind5                    80                 1                  6   \n",
       "Ind6                    80                 0                  8   \n",
       "Ind7                    80                 3                 12   \n",
       "Ind8                    80                 1                  1   \n",
       "Ind9                    80                 0                 10   \n",
       "Ind10                   80                 2                 17   \n",
       "\n",
       "             TrainingTimesLastYear  WorkLifeBalance  YearsAtCompany  \\\n",
       "Individual                                                            \n",
       "Ind1                             0                1               6   \n",
       "Ind2                             3                3              10   \n",
       "Ind3                             3                3               0   \n",
       "Ind4                             3                3               8   \n",
       "Ind5                             3                3               2   \n",
       "Ind6                             2                2               7   \n",
       "Ind7                             3                2               1   \n",
       "Ind8                             2                3               1   \n",
       "Ind9                             2                3               9   \n",
       "Ind10                            3                2               7   \n",
       "\n",
       "             YearsInCurrentRole  YearsSinceLastPromotion  YearsWithCurrManager  \n",
       "Individual                                                                      \n",
       "Ind1                          4                        0                     5  \n",
       "Ind2                          7                        1                     7  \n",
       "Ind3                          0                        0                     0  \n",
       "Ind4                          7                        3                     0  \n",
       "Ind5                          2                        2                     2  \n",
       "Ind6                          7                        3                     6  \n",
       "Ind7                          0                        0                     0  \n",
       "Ind8                          0                        0                     0  \n",
       "Ind9                          7                        1                     8  \n",
       "Ind10                         7                        7                     7  \n",
       "\n",
       "[10 rows x 34 columns]"
      ]
     },
     "execution_count": 6,
     "metadata": {},
     "output_type": "execute_result"
    }
   ],
   "source": [
    "dataset = pd.read_csv(\"HR-1.txt\", delimiter='\\t', index_col=0)\n",
    "dataset.head(10)"
   ]
  },
  {
   "cell_type": "markdown",
   "metadata": {},
   "source": [
    "### Print the no of rows and columns in the dataset "
   ]
  },
  {
   "cell_type": "code",
   "execution_count": 7,
   "metadata": {},
   "outputs": [],
   "source": [
    "dimen = dataset.shape"
   ]
  },
  {
   "cell_type": "code",
   "execution_count": 8,
   "metadata": {},
   "outputs": [
    {
     "name": "stdout",
     "output_type": "stream",
     "text": [
      "No. of rows: 1470\n",
      "No of columns: 34\n"
     ]
    }
   ],
   "source": [
    "print(\"No. of rows: \" + str(dimen[0]))\n",
    "print(\"No of columns: \" + str(dimen[1]))"
   ]
  },
  {
   "cell_type": "markdown",
   "metadata": {},
   "source": [
    "### Find out the type of each and every column in the dataset "
   ]
  },
  {
   "cell_type": "code",
   "execution_count": 9,
   "metadata": {},
   "outputs": [
    {
     "data": {
      "text/plain": [
       "Attrition                   object\n",
       "Age                          int64\n",
       "BusinessTravel               int64\n",
       "DailyRate                    int64\n",
       "Department                   int64\n",
       "DistanceFromHome             int64\n",
       "Education                    int64\n",
       "EducationField               int64\n",
       "EmployeeCount                int64\n",
       "EmployeeNumber               int64\n",
       "EnvironmentSatisfaction      int64\n",
       "Gender                       int64\n",
       "HourlyRate                   int64\n",
       "JobInvolvement               int64\n",
       "JobLevel                     int64\n",
       "JobRole                      int64\n",
       "JobSatisfaction              int64\n",
       "MaritalStatus                int64\n",
       "MonthlyIncome                int64\n",
       "MonthlyRate                  int64\n",
       "NumCompaniesWorked           int64\n",
       "OverTime                     int64\n",
       "PercentSalaryHike            int64\n",
       "PerformanceRating            int64\n",
       "RelationshipSatisfaction     int64\n",
       "StandardHours                int64\n",
       "StockOptionLevel             int64\n",
       "TotalWorkingYears            int64\n",
       "TrainingTimesLastYear        int64\n",
       "WorkLifeBalance              int64\n",
       "YearsAtCompany               int64\n",
       "YearsInCurrentRole           int64\n",
       "YearsSinceLastPromotion      int64\n",
       "YearsWithCurrManager         int64\n",
       "dtype: object"
      ]
     },
     "execution_count": 9,
     "metadata": {},
     "output_type": "execute_result"
    }
   ],
   "source": [
    "dataset.dtypes"
   ]
  },
  {
   "cell_type": "code",
   "execution_count": null,
   "metadata": {},
   "outputs": [],
   "source": []
  },
  {
   "cell_type": "markdown",
   "metadata": {},
   "source": [
    "### Print out all the rows from 3rd column to 10th columns  "
   ]
  },
  {
   "cell_type": "code",
   "execution_count": 10,
   "metadata": {},
   "outputs": [
    {
     "name": "stdout",
     "output_type": "stream",
     "text": [
      "             BusinessTravel  DailyRate  Department  DistanceFromHome  \\\n",
      "Individual                                                             \n",
      "Ind1                      1       1102           1                 1   \n",
      "Ind2                      2        279           2                 8   \n",
      "Ind3                      1       1373           2                 2   \n",
      "Ind4                      2       1392           2                 3   \n",
      "Ind5                      1        591           2                 2   \n",
      "Ind6                      2       1005           2                 2   \n",
      "Ind7                      1       1324           2                 3   \n",
      "Ind8                      1       1358           2                24   \n",
      "Ind9                      2        216           2                23   \n",
      "Ind10                     1       1299           2                27   \n",
      "Ind11                     1        809           2                16   \n",
      "Ind12                     1        153           2                15   \n",
      "Ind13                     1        670           2                26   \n",
      "Ind14                     1       1346           2                19   \n",
      "Ind15                     1        103           2                24   \n",
      "Ind16                     1       1389           2                21   \n",
      "Ind17                     1        334           2                 5   \n",
      "Ind18                     3       1123           2                16   \n",
      "Ind19                     1       1219           1                 2   \n",
      "Ind20                     1        371           2                 2   \n",
      "Ind21                     3        673           2                11   \n",
      "Ind22                     1       1218           1                 9   \n",
      "Ind23                     1        419           2                 7   \n",
      "Ind24                     1        391           2                15   \n",
      "Ind25                     1        699           2                 6   \n",
      "Ind26                     1       1282           2                 5   \n",
      "Ind27                     2       1125           2                16   \n",
      "Ind28                     1        691           1                 8   \n",
      "Ind29                     1        477           2                 7   \n",
      "Ind30                     1        705           1                 2   \n",
      "...                     ...        ...         ...               ...   \n",
      "Ind1441                   2        688           2                 4   \n",
      "Ind1442                   3        667           2                 1   \n",
      "Ind1443                   1       1092           2                 1   \n",
      "Ind1444                   1        300           2                 2   \n",
      "Ind1445                   1        310           2                 7   \n",
      "Ind1446                   1        582           2                28   \n",
      "Ind1447                   1        704           1                28   \n",
      "Ind1448                   3        301           1                15   \n",
      "Ind1449                   1        930           1                 3   \n",
      "Ind1450                   1        529           2                 2   \n",
      "Ind1451                   1       1146           3                26   \n",
      "Ind1452                   1        345           1                10   \n",
      "Ind1453                   2        878           1                 1   \n",
      "Ind1454                   1       1120           1                11   \n",
      "Ind1455                   1        374           1                20   \n",
      "Ind1456                   1       1322           2                 2   \n",
      "Ind1457                   2       1199           2                18   \n",
      "Ind1458                   1       1194           2                 2   \n",
      "Ind1459                   1        287           2                 1   \n",
      "Ind1460                   1       1378           2                13   \n",
      "Ind1461                   1        468           2                28   \n",
      "Ind1462                   1        410           1                28   \n",
      "Ind1463                   1        722           1                24   \n",
      "Ind1464                   3        325           2                 5   \n",
      "Ind1465                   1       1167           1                 5   \n",
      "Ind1466                   2        884           2                23   \n",
      "Ind1467                   1        613           2                 6   \n",
      "Ind1468                   1        155           2                 4   \n",
      "Ind1469                   2       1023           1                 2   \n",
      "Ind1470                   1        628           2                 8   \n",
      "\n",
      "             Education  EducationField  EmployeeCount  EmployeeNumber  \n",
      "Individual                                                             \n",
      "Ind1                 2               1              1               1  \n",
      "Ind2                 1               1              1               2  \n",
      "Ind3                 2               6              1               4  \n",
      "Ind4                 4               1              1               5  \n",
      "Ind5                 1               2              1               7  \n",
      "Ind6                 2               1              1               8  \n",
      "Ind7                 3               2              1              10  \n",
      "Ind8                 1               1              1              11  \n",
      "Ind9                 3               1              1              12  \n",
      "Ind10                3               2              1              13  \n",
      "Ind11                3               2              1              14  \n",
      "Ind12                2               1              1              15  \n",
      "Ind13                1               1              1              16  \n",
      "Ind14                2               2              1              18  \n",
      "Ind15                3               1              1              19  \n",
      "Ind16                4               1              1              20  \n",
      "Ind17                2               1              1              21  \n",
      "Ind18                2               2              1              22  \n",
      "Ind19                4               1              1              23  \n",
      "Ind20                3               1              1              24  \n",
      "Ind21                2               6              1              26  \n",
      "Ind22                4               1              1              27  \n",
      "Ind23                4               1              1              28  \n",
      "Ind24                2               1              1              30  \n",
      "Ind25                1               2              1              31  \n",
      "Ind26                3               6              1              32  \n",
      "Ind27                1               1              1              33  \n",
      "Ind28                4               3              1              35  \n",
      "Ind29                4               2              1              36  \n",
      "Ind30                4               3              1              38  \n",
      "...                ...             ...            ...             ...  \n",
      "Ind1441              2               1              1            2025  \n",
      "Ind1442              4               1              1            2026  \n",
      "Ind1443              4               2              1            2027  \n",
      "Ind1444              3               1              1            2031  \n",
      "Ind1445              2               4              1            2032  \n",
      "Ind1446              4               1              1            2034  \n",
      "Ind1447              3               3              1            2035  \n",
      "Ind1448              4               3              1            2036  \n",
      "Ind1449              3               1              1            2037  \n",
      "Ind1450              3               4              1            2038  \n",
      "Ind1451              4               1              1            2040  \n",
      "Ind1452              2               1              1            2041  \n",
      "Ind1453              4               1              1            2044  \n",
      "Ind1454              4               3              1            2045  \n",
      "Ind1455              3               1              1            2046  \n",
      "Ind1456              4               1              1            2048  \n",
      "Ind1457              4               1              1            2049  \n",
      "Ind1458              4               2              1            2051  \n",
      "Ind1459              4               1              1            2052  \n",
      "Ind1460              2               6              1            2053  \n",
      "Ind1461              4               2              1            2054  \n",
      "Ind1462              3               3              1            2055  \n",
      "Ind1463              1               3              1            2056  \n",
      "Ind1464              3               2              1            2057  \n",
      "Ind1465              3               6              1            2060  \n",
      "Ind1466              2               2              1            2061  \n",
      "Ind1467              1               2              1            2062  \n",
      "Ind1468              3               1              1            2064  \n",
      "Ind1469              3               2              1            2065  \n",
      "Ind1470              3               2              1            2068  \n",
      "\n",
      "[1470 rows x 8 columns]\n"
     ]
    }
   ],
   "source": [
    "print(str(dataset.iloc[:,2:10]))"
   ]
  },
  {
   "cell_type": "markdown",
   "metadata": {},
   "source": [
    "### Find out the no of male & female employees in the company\n",
    "\n",
    "*Hint: Use can use a condition to find out the no of 1s and 0s in gender and sum it*"
   ]
  },
  {
   "cell_type": "code",
   "execution_count": 11,
   "metadata": {},
   "outputs": [],
   "source": [
    "gender = dataset[\"Gender\"]"
   ]
  },
  {
   "cell_type": "code",
   "execution_count": 12,
   "metadata": {},
   "outputs": [
    {
     "name": "stdout",
     "output_type": "stream",
     "text": [
      "Gender 1 : 882\n",
      "Gender 2 : 588\n"
     ]
    }
   ],
   "source": [
    "print(\"Gender 1 : \" + str(np.count_nonzero(gender == 1)))\n",
    "print(\"Gender 2 : \" + str(np.count_nonzero(gender == 2)))"
   ]
  },
  {
   "cell_type": "markdown",
   "metadata": {},
   "source": [
    "### Find out the IQR for the column - Age \n",
    "\n",
    "*Hint: IQR - Interquartile range = 75th percentile - 25th percentile* "
   ]
  },
  {
   "cell_type": "code",
   "execution_count": 13,
   "metadata": {},
   "outputs": [
    {
     "name": "stdout",
     "output_type": "stream",
     "text": [
      "IQR : 13.0\n"
     ]
    }
   ],
   "source": [
    "age = dataset[\"Age\"]\n",
    "IQR = age.quantile(.75) - age.quantile(.25)\n",
    "print(\"IQR : \"+str(IQR))"
   ]
  },
  {
   "cell_type": "markdown",
   "metadata": {},
   "source": [
    "### Find out the mean, median and variance for the column - DailyRate "
   ]
  },
  {
   "cell_type": "code",
   "execution_count": 14,
   "metadata": {},
   "outputs": [
    {
     "name": "stdout",
     "output_type": "stream",
     "text": [
      "802.4857142857143\n",
      "802.0\n",
      "162819.59373723628\n"
     ]
    }
   ],
   "source": [
    "dailyrate = dataset[\"DailyRate\"]\n",
    "print(dailyrate.mean())\n",
    "print(dailyrate.median())\n",
    "print(dailyrate.var())"
   ]
  },
  {
   "cell_type": "markdown",
   "metadata": {},
   "source": [
    "### Plot the attrition column (Since it is a categorical variable, use histogram to plot the data)"
   ]
  },
  {
   "cell_type": "code",
   "execution_count": 29,
   "metadata": {},
   "outputs": [
    {
     "data": {
      "image/png": "[encoded data removed]",
      "text/plain": [
       "<Figure size 432x288 with 1 Axes>"
      ]
     },
     "metadata": {
      "needs_background": "light"
     },
     "output_type": "display_data"
    }
   ],
   "source": [
    "import matplotlib.pyplot as py\n",
    "py.hist(dataset.loc[:,\"Attrition\"])\n",
    "py.show()"
   ]
  },
  {
   "cell_type": "code",
   "execution_count": null,
   "metadata": {},
   "outputs": [],
   "source": []
  },
  {
   "cell_type": "markdown",
   "metadata": {},
   "source": [
    "### Plot Total working years using matplotlib plot function"
   ]
  },
  {
   "cell_type": "code",
   "execution_count": 16,
   "metadata": {},
   "outputs": [
    {
     "data": {
      "image/png": "[encoded data removed]",
      "text/plain": [
       "<Figure size 1080x1080 with 1 Axes>"
      ]
     },
     "metadata": {
      "needs_background": "light"
     },
     "output_type": "display_data"
    }
   ],
   "source": [
    "import matplotlib.pyplot as py\n",
    "py.figure(figsize=(15,15))\n",
    "py.plot(dataset.iloc[1:50,-7])\n",
    "py.xticks(rotation=90)\n",
    "py.show() \n",
    "#ploted the grah for only 50 values as the processing time is huge and laptop is getting hung."
   ]
  },
  {
   "cell_type": "markdown",
   "metadata": {},
   "source": [
    "### Create 500 random samples from normal distribution with mean 1 and  standard deviation 0.5"
   ]
  },
  {
   "cell_type": "code",
   "execution_count": 25,
   "metadata": {},
   "outputs": [],
   "source": [
    "import numpy as np \n",
    "mean = 1\n",
    "stddev = 0.5\n",
    "samples = np.random.normal(mean, stddev, 500)"
   ]
  },
  {
   "cell_type": "markdown",
   "metadata": {},
   "source": [
    "###  Plot the histogram of the above normal distribution "
   ]
  },
  {
   "cell_type": "code",
   "execution_count": 24,
   "metadata": {},
   "outputs": [
    {
     "data": {
      "image/png": "[encoded data removed]",
      "text/plain": [
       "<Figure size 432x288 with 1 Axes>"
      ]
     },
     "metadata": {
      "needs_background": "light"
     },
     "output_type": "display_data"
    }
   ],
   "source": [
    "py.hist(samples)\n",
    "#samples.mean()\n",
    "#samples.std()\n",
    "py.show()"
   ]
  }
 ],
 "metadata": {
  "kernelspec": {
   "display_name": "Python 3",
   "language": "python",
   "name": "python3"
  },
  "language_info": {
   "codemirror_mode": {
    "name": "ipython",
    "version": 3
   },
   "file_extension": ".py",
   "mimetype": "text/x-python",
   "name": "python",
   "nbconvert_exporter": "python",
   "pygments_lexer": "ipython3",
   "version": "3.7.1"
  }
 },
 "nbformat": 4,
 "nbformat_minor": 2
}
