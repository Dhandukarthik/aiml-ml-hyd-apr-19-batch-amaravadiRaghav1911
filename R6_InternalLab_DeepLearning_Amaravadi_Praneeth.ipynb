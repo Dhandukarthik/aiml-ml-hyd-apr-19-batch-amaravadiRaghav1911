{
  "nbformat": 4,
  "nbformat_minor": 0,
  "metadata": {
    "colab": {
      "name": "R6_InternalLab_AIML (1).ipynb",
      "provenance": [],
      "collapsed_sections": [
        "YJRBuqXhOB7_"
      ]
    },
    "kernelspec": {
      "name": "python3",
      "display_name": "Python 3"
    },
    "language_info": {
      "codemirror_mode": {
        "name": "ipython",
        "version": 3
      },
      "file_extension": ".py",
      "mimetype": "text/x-python",
      "name": "python",
      "nbconvert_exporter": "python",
      "pygments_lexer": "ipython3",
      "version": "3.6.5"
    },
    "accelerator": "GPU"
  },
  "cells": [
    {
      "cell_type": "markdown",
      "metadata": {
        "colab_type": "text",
        "id": "sb7Epo0VOB58"
      },
      "source": [
        "### Load tensorflow"
      ]
    },
    {
      "cell_type": "code",
      "metadata": {
        "colab_type": "code",
        "id": "fHpCNRv1OB5-",
        "colab": {}
      },
      "source": [
        "import tensorflow as tf"
      ],
      "execution_count": 0,
      "outputs": []
    },
    {
      "cell_type": "markdown",
      "metadata": {
        "id": "K1SJIEZ090ar",
        "colab_type": "text"
      },
      "source": [
        "### Enable Eager Execution if you are using tensorflow 1.x"
      ]
    },
    {
      "cell_type": "code",
      "metadata": {
        "colab_type": "code",
        "id": "tnSsH8sNOB6F",
        "colab": {}
      },
      "source": [
        "tf.enable_eager_execution()"
      ],
      "execution_count": 0,
      "outputs": []
    },
    {
      "cell_type": "markdown",
      "metadata": {
        "colab_type": "text",
        "id": "DxJDmJqqOB6K"
      },
      "source": [
        "### Collect Data"
      ]
    },
    {
      "cell_type": "code",
      "metadata": {
        "colab_type": "code",
        "id": "FhllFLyKOB6N",
        "colab": {}
      },
      "source": [
        "import pandas as pd\n",
        "import numpy as np"
      ],
      "execution_count": 0,
      "outputs": []
    },
    {
      "cell_type": "code",
      "metadata": {
        "id": "avxZZtPaDPbV",
        "colab_type": "code",
        "colab": {
          "base_uri": "https://localhost:8080/",
          "height": 55
        },
        "outputId": "ca11f6b3-7b72-4789-f6e5-a5ccd669b1f2"
      },
      "source": [
        "from google.colab import drive\n",
        "drive.mount('/content/drive')"
      ],
      "execution_count": 4,
      "outputs": [
        {
          "output_type": "stream",
          "text": [
            "Drive already mounted at /content/drive; to attempt to forcibly remount, call drive.mount(\"/content/drive\", force_remount=True).\n"
          ],
          "name": "stdout"
        }
      ]
    },
    {
      "cell_type": "code",
      "metadata": {
        "colab_type": "code",
        "id": "B4yQKMiJOB6R",
        "colab": {}
      },
      "source": [
        "data = pd.read_csv('/content/drive/My Drive/Colab Notebooks/prices.csv')"
      ],
      "execution_count": 0,
      "outputs": []
    },
    {
      "cell_type": "markdown",
      "metadata": {
        "colab_type": "text",
        "id": "fgkX6SEqOB6W"
      },
      "source": [
        "### Check all columns in the dataset"
      ]
    },
    {
      "cell_type": "code",
      "metadata": {
        "colab_type": "code",
        "id": "7K8pWsNQOB6X",
        "colab": {
          "base_uri": "https://localhost:8080/",
          "height": 202
        },
        "outputId": "44f6f0bc-dd71-4a15-a62f-90e45eec226e"
      },
      "source": [
        "data.head()"
      ],
      "execution_count": 6,
      "outputs": [
        {
          "output_type": "execute_result",
          "data": {
            "text/html": [
              "<div>\n",
              "<style scoped>\n",
              "    .dataframe tbody tr th:only-of-type {\n",
              "        vertical-align: middle;\n",
              "    }\n",
              "\n",
              "    .dataframe tbody tr th {\n",
              "        vertical-align: top;\n",
              "    }\n",
              "\n",
              "    .dataframe thead th {\n",
              "        text-align: right;\n",
              "    }\n",
              "</style>\n",
              "<table border=\"1\" class=\"dataframe\">\n",
              "  <thead>\n",
              "    <tr style=\"text-align: right;\">\n",
              "      <th></th>\n",
              "      <th>date</th>\n",
              "      <th>symbol</th>\n",
              "      <th>open</th>\n",
              "      <th>close</th>\n",
              "      <th>low</th>\n",
              "      <th>high</th>\n",
              "      <th>volume</th>\n",
              "    </tr>\n",
              "  </thead>\n",
              "  <tbody>\n",
              "    <tr>\n",
              "      <th>0</th>\n",
              "      <td>2016-01-05 00:00:00</td>\n",
              "      <td>WLTW</td>\n",
              "      <td>123.430000</td>\n",
              "      <td>125.839996</td>\n",
              "      <td>122.309998</td>\n",
              "      <td>126.250000</td>\n",
              "      <td>2163600.0</td>\n",
              "    </tr>\n",
              "    <tr>\n",
              "      <th>1</th>\n",
              "      <td>2016-01-06 00:00:00</td>\n",
              "      <td>WLTW</td>\n",
              "      <td>125.239998</td>\n",
              "      <td>119.980003</td>\n",
              "      <td>119.940002</td>\n",
              "      <td>125.540001</td>\n",
              "      <td>2386400.0</td>\n",
              "    </tr>\n",
              "    <tr>\n",
              "      <th>2</th>\n",
              "      <td>2016-01-07 00:00:00</td>\n",
              "      <td>WLTW</td>\n",
              "      <td>116.379997</td>\n",
              "      <td>114.949997</td>\n",
              "      <td>114.930000</td>\n",
              "      <td>119.739998</td>\n",
              "      <td>2489500.0</td>\n",
              "    </tr>\n",
              "    <tr>\n",
              "      <th>3</th>\n",
              "      <td>2016-01-08 00:00:00</td>\n",
              "      <td>WLTW</td>\n",
              "      <td>115.480003</td>\n",
              "      <td>116.620003</td>\n",
              "      <td>113.500000</td>\n",
              "      <td>117.440002</td>\n",
              "      <td>2006300.0</td>\n",
              "    </tr>\n",
              "    <tr>\n",
              "      <th>4</th>\n",
              "      <td>2016-01-11 00:00:00</td>\n",
              "      <td>WLTW</td>\n",
              "      <td>117.010002</td>\n",
              "      <td>114.970001</td>\n",
              "      <td>114.089996</td>\n",
              "      <td>117.330002</td>\n",
              "      <td>1408600.0</td>\n",
              "    </tr>\n",
              "  </tbody>\n",
              "</table>\n",
              "</div>"
            ],
            "text/plain": [
              "                  date symbol        open  ...         low        high     volume\n",
              "0  2016-01-05 00:00:00   WLTW  123.430000  ...  122.309998  126.250000  2163600.0\n",
              "1  2016-01-06 00:00:00   WLTW  125.239998  ...  119.940002  125.540001  2386400.0\n",
              "2  2016-01-07 00:00:00   WLTW  116.379997  ...  114.930000  119.739998  2489500.0\n",
              "3  2016-01-08 00:00:00   WLTW  115.480003  ...  113.500000  117.440002  2006300.0\n",
              "4  2016-01-11 00:00:00   WLTW  117.010002  ...  114.089996  117.330002  1408600.0\n",
              "\n",
              "[5 rows x 7 columns]"
            ]
          },
          "metadata": {
            "tags": []
          },
          "execution_count": 6
        }
      ]
    },
    {
      "cell_type": "markdown",
      "metadata": {
        "colab_type": "text",
        "id": "7dU6X7MpOB6c"
      },
      "source": [
        "### Drop columns `date` and  `symbol`"
      ]
    },
    {
      "cell_type": "code",
      "metadata": {
        "colab_type": "code",
        "id": "lh_6spSKOB6e",
        "colab": {}
      },
      "source": [
        "data.drop(columns = {'date','symbol'},inplace = True)"
      ],
      "execution_count": 0,
      "outputs": []
    },
    {
      "cell_type": "code",
      "metadata": {
        "colab_type": "code",
        "id": "xlwbUgTwOB6i",
        "outputId": "a9886e60-5d6f-4eab-ccd5-207a8a057a35",
        "colab": {
          "base_uri": "https://localhost:8080/",
          "height": 202
        }
      },
      "source": [
        "data.head()"
      ],
      "execution_count": 8,
      "outputs": [
        {
          "output_type": "execute_result",
          "data": {
            "text/html": [
              "<div>\n",
              "<style scoped>\n",
              "    .dataframe tbody tr th:only-of-type {\n",
              "        vertical-align: middle;\n",
              "    }\n",
              "\n",
              "    .dataframe tbody tr th {\n",
              "        vertical-align: top;\n",
              "    }\n",
              "\n",
              "    .dataframe thead th {\n",
              "        text-align: right;\n",
              "    }\n",
              "</style>\n",
              "<table border=\"1\" class=\"dataframe\">\n",
              "  <thead>\n",
              "    <tr style=\"text-align: right;\">\n",
              "      <th></th>\n",
              "      <th>open</th>\n",
              "      <th>close</th>\n",
              "      <th>low</th>\n",
              "      <th>high</th>\n",
              "      <th>volume</th>\n",
              "    </tr>\n",
              "  </thead>\n",
              "  <tbody>\n",
              "    <tr>\n",
              "      <th>0</th>\n",
              "      <td>123.430000</td>\n",
              "      <td>125.839996</td>\n",
              "      <td>122.309998</td>\n",
              "      <td>126.250000</td>\n",
              "      <td>2163600.0</td>\n",
              "    </tr>\n",
              "    <tr>\n",
              "      <th>1</th>\n",
              "      <td>125.239998</td>\n",
              "      <td>119.980003</td>\n",
              "      <td>119.940002</td>\n",
              "      <td>125.540001</td>\n",
              "      <td>2386400.0</td>\n",
              "    </tr>\n",
              "    <tr>\n",
              "      <th>2</th>\n",
              "      <td>116.379997</td>\n",
              "      <td>114.949997</td>\n",
              "      <td>114.930000</td>\n",
              "      <td>119.739998</td>\n",
              "      <td>2489500.0</td>\n",
              "    </tr>\n",
              "    <tr>\n",
              "      <th>3</th>\n",
              "      <td>115.480003</td>\n",
              "      <td>116.620003</td>\n",
              "      <td>113.500000</td>\n",
              "      <td>117.440002</td>\n",
              "      <td>2006300.0</td>\n",
              "    </tr>\n",
              "    <tr>\n",
              "      <th>4</th>\n",
              "      <td>117.010002</td>\n",
              "      <td>114.970001</td>\n",
              "      <td>114.089996</td>\n",
              "      <td>117.330002</td>\n",
              "      <td>1408600.0</td>\n",
              "    </tr>\n",
              "  </tbody>\n",
              "</table>\n",
              "</div>"
            ],
            "text/plain": [
              "         open       close         low        high     volume\n",
              "0  123.430000  125.839996  122.309998  126.250000  2163600.0\n",
              "1  125.239998  119.980003  119.940002  125.540001  2386400.0\n",
              "2  116.379997  114.949997  114.930000  119.739998  2489500.0\n",
              "3  115.480003  116.620003  113.500000  117.440002  2006300.0\n",
              "4  117.010002  114.970001  114.089996  117.330002  1408600.0"
            ]
          },
          "metadata": {
            "tags": []
          },
          "execution_count": 8
        }
      ]
    },
    {
      "cell_type": "markdown",
      "metadata": {
        "colab_type": "text",
        "id": "3DBv3WWYOB6q"
      },
      "source": [
        "### Consider only first 1000 rows in the dataset for building feature set and target set"
      ]
    },
    {
      "cell_type": "code",
      "metadata": {
        "colab_type": "code",
        "id": "Z_hG9rGBOB6s",
        "colab": {
          "base_uri": "https://localhost:8080/",
          "height": 35
        },
        "outputId": "d8f836f5-6ee2-4780-837c-024dea024f73"
      },
      "source": [
        "data.shape"
      ],
      "execution_count": 9,
      "outputs": [
        {
          "output_type": "execute_result",
          "data": {
            "text/plain": [
              "(851264, 5)"
            ]
          },
          "metadata": {
            "tags": []
          },
          "execution_count": 9
        }
      ]
    },
    {
      "cell_type": "code",
      "metadata": {
        "id": "NJvyChMNEtj8",
        "colab_type": "code",
        "colab": {}
      },
      "source": [
        "dataset = data.iloc[:1000,:]"
      ],
      "execution_count": 0,
      "outputs": []
    },
    {
      "cell_type": "code",
      "metadata": {
        "id": "wrq9gR7LE68m",
        "colab_type": "code",
        "colab": {
          "base_uri": "https://localhost:8080/",
          "height": 35
        },
        "outputId": "46c07bd3-ee76-45b3-fd6d-0cc0c099197d"
      },
      "source": [
        "dataset.shape"
      ],
      "execution_count": 11,
      "outputs": [
        {
          "output_type": "execute_result",
          "data": {
            "text/plain": [
              "(1000, 5)"
            ]
          },
          "metadata": {
            "tags": []
          },
          "execution_count": 11
        }
      ]
    },
    {
      "cell_type": "markdown",
      "metadata": {
        "id": "C0wjfZpv90bF",
        "colab_type": "text"
      },
      "source": [
        "### Convert Float64 to Float32"
      ]
    },
    {
      "cell_type": "code",
      "metadata": {
        "id": "vZw8v79890bG",
        "colab_type": "code",
        "colab": {
          "base_uri": "https://localhost:8080/",
          "height": 191
        },
        "outputId": "dc524032-dc62-46c3-af3e-07dce669c43f"
      },
      "source": [
        "dataset = dataset.astype('float32')\n",
        "dataset.info()"
      ],
      "execution_count": 12,
      "outputs": [
        {
          "output_type": "stream",
          "text": [
            "<class 'pandas.core.frame.DataFrame'>\n",
            "RangeIndex: 1000 entries, 0 to 999\n",
            "Data columns (total 5 columns):\n",
            "open      1000 non-null float32\n",
            "close     1000 non-null float32\n",
            "low       1000 non-null float32\n",
            "high      1000 non-null float32\n",
            "volume    1000 non-null float32\n",
            "dtypes: float32(5)\n",
            "memory usage: 19.6 KB\n"
          ],
          "name": "stdout"
        }
      ]
    },
    {
      "cell_type": "markdown",
      "metadata": {
        "colab_type": "text",
        "id": "M3UaApqYOB6x"
      },
      "source": [
        "### Divide the data into train and test sets"
      ]
    },
    {
      "cell_type": "code",
      "metadata": {
        "colab_type": "code",
        "id": "2EkKAy7fOB6y",
        "colab": {}
      },
      "source": [
        "from sklearn.model_selection import train_test_split "
      ],
      "execution_count": 0,
      "outputs": []
    },
    {
      "cell_type": "code",
      "metadata": {
        "id": "GhqIiEZ2F8g-",
        "colab_type": "code",
        "colab": {}
      },
      "source": [
        "y = dataset['close']"
      ],
      "execution_count": 0,
      "outputs": []
    },
    {
      "cell_type": "code",
      "metadata": {
        "id": "kClZXSxlF8v2",
        "colab_type": "code",
        "colab": {}
      },
      "source": [
        "X = dataset.drop(columns = 'close')"
      ],
      "execution_count": 0,
      "outputs": []
    },
    {
      "cell_type": "code",
      "metadata": {
        "id": "DnA1UMDPFmFn",
        "colab_type": "code",
        "colab": {}
      },
      "source": [
        "X_train,X_test,y_train,y_test = train_test_split(X,y,train_size = 0.7)"
      ],
      "execution_count": 0,
      "outputs": []
    },
    {
      "cell_type": "markdown",
      "metadata": {
        "id": "9jufjJnm90bN",
        "colab_type": "text"
      },
      "source": [
        "### Normalize Train and Test Data "
      ]
    },
    {
      "cell_type": "code",
      "metadata": {
        "id": "nU2gV3d990bP",
        "colab_type": "code",
        "colab": {}
      },
      "source": [
        "from sklearn.preprocessing import Normalizer"
      ],
      "execution_count": 0,
      "outputs": []
    },
    {
      "cell_type": "code",
      "metadata": {
        "id": "tiz9L7T_ILvh",
        "colab_type": "code",
        "colab": {}
      },
      "source": [
        "norm = Normalizer()"
      ],
      "execution_count": 0,
      "outputs": []
    },
    {
      "cell_type": "code",
      "metadata": {
        "id": "RNvtQgdRJ99X",
        "colab_type": "code",
        "colab": {}
      },
      "source": [
        "train_x = norm.fit_transform(X_train)"
      ],
      "execution_count": 0,
      "outputs": []
    },
    {
      "cell_type": "markdown",
      "metadata": {
        "colab_type": "text",
        "id": "v6vE4eYCOB62"
      },
      "source": [
        "## Building the graph in tensorflow"
      ]
    },
    {
      "cell_type": "markdown",
      "metadata": {
        "colab_type": "text",
        "id": "297_qja4OB7A"
      },
      "source": [
        "2.Define Weights and Bias"
      ]
    },
    {
      "cell_type": "code",
      "metadata": {
        "colab_type": "code",
        "id": "L205qPeQOB7B",
        "colab": {}
      },
      "source": [
        "w = tf.zeros(shape=(4,1))\n",
        "b = tf.zeros(shape=(1))"
      ],
      "execution_count": 0,
      "outputs": []
    },
    {
      "cell_type": "markdown",
      "metadata": {
        "colab_type": "text",
        "id": "HgtWA-UIOB7F"
      },
      "source": [
        "3.Prediction"
      ]
    },
    {
      "cell_type": "code",
      "metadata": {
        "colab_type": "code",
        "id": "JveGlx25OB7H",
        "colab": {}
      },
      "source": [
        "def prediction(x, w, b):\n",
        "    \n",
        "    xw_matmul = tf.matmul(x, w)\n",
        "    y = tf.add(xw_matmul, b)\n",
        "    \n",
        "    return y"
      ],
      "execution_count": 0,
      "outputs": []
    },
    {
      "cell_type": "markdown",
      "metadata": {
        "colab_type": "text",
        "id": "TL1hIwf_OB7M"
      },
      "source": [
        "4.Loss (Cost) Function [Mean square error]"
      ]
    },
    {
      "cell_type": "code",
      "metadata": {
        "colab_type": "code",
        "id": "8VSWPiGXOB7P",
        "colab": {}
      },
      "source": [
        "def loss(y_actual, y_predicted):\n",
        "    \n",
        "    diff = y_actual - y_predicted\n",
        "    sqr = tf.square(diff)\n",
        "    avg = tf.reduce_mean(sqr)\n",
        "    \n",
        "    return avg"
      ],
      "execution_count": 0,
      "outputs": []
    },
    {
      "cell_type": "markdown",
      "metadata": {
        "colab_type": "text",
        "id": "jzG85FUlOB7U"
      },
      "source": [
        "5.GradientDescent Optimizer to minimize Loss [GradientDescentOptimizer]"
      ]
    },
    {
      "cell_type": "code",
      "metadata": {
        "colab_type": "code",
        "id": "cj802w-3OB7X",
        "colab": {}
      },
      "source": [
        "def train(x, y_actual, w, b, learning_rate=0.01):\n",
        "    \n",
        "    #Record mathematical operations on 'tape' to calculate loss\n",
        "    with tf.GradientTape() as t:\n",
        "        \n",
        "        t.watch([w,b])\n",
        "        \n",
        "        current_prediction = prediction(x, w, b)\n",
        "        current_loss = loss(y_actual, current_prediction)\n",
        "    \n",
        "    #Calculate Gradients for Loss with respect to Weights and Bias\n",
        "    dw, db = t.gradient(current_loss,[w, b])\n",
        "    \n",
        "    #Update Weights and Bias\n",
        "    w = w - learning_rate*dw\n",
        "    b = b - learning_rate*db\n",
        "    \n",
        "    return w, b"
      ],
      "execution_count": 0,
      "outputs": []
    },
    {
      "cell_type": "markdown",
      "metadata": {
        "colab_type": "text",
        "id": "xSypb_u8OB7e"
      },
      "source": [
        "## Execute the Graph for 100 epochs and observe the loss"
      ]
    },
    {
      "cell_type": "code",
      "metadata": {
        "colab_type": "code",
        "id": "DVvgj7eQOB7f",
        "colab": {
          "base_uri": "https://localhost:8080/",
          "height": 1000
        },
        "outputId": "90f22565-a2ce-4cc8-bc7a-039c2a421d96"
      },
      "source": [
        "for i in range(100):\n",
        "    \n",
        "    w, b = train(train_x, np.array(y_train), w, b, learning_rate=0.01)\n",
        "    print('Current Loss on iteration', i, loss(np.array(y_train), prediction(train_x, w, b)).numpy())"
      ],
      "execution_count": 27,
      "outputs": [
        {
          "output_type": "stream",
          "text": [
            "Current Loss on iteration 0 8212.707\n",
            "Current Loss on iteration 1 7881.321\n",
            "Current Loss on iteration 2 7575.9155\n",
            "Current Loss on iteration 3 7294.4526\n",
            "Current Loss on iteration 4 7035.0576\n",
            "Current Loss on iteration 5 6795.9995\n",
            "Current Loss on iteration 6 6575.6816\n",
            "Current Loss on iteration 7 6372.6387\n",
            "Current Loss on iteration 8 6185.5137\n",
            "Current Loss on iteration 9 6013.0596\n",
            "Current Loss on iteration 10 5854.1255\n",
            "Current Loss on iteration 11 5707.652\n",
            "Current Loss on iteration 12 5572.6616\n",
            "Current Loss on iteration 13 5448.255\n",
            "Current Loss on iteration 14 5333.601\n",
            "Current Loss on iteration 15 5227.937\n",
            "Current Loss on iteration 16 5130.5566\n",
            "Current Loss on iteration 17 5040.8105\n",
            "Current Loss on iteration 18 4958.1006\n",
            "Current Loss on iteration 19 4881.875\n",
            "Current Loss on iteration 20 4811.6255\n",
            "Current Loss on iteration 21 4746.885\n",
            "Current Loss on iteration 22 4687.2183\n",
            "Current Loss on iteration 23 4632.23\n",
            "Current Loss on iteration 24 4581.5537\n",
            "Current Loss on iteration 25 4534.849\n",
            "Current Loss on iteration 26 4491.8066\n",
            "Current Loss on iteration 27 4452.1387\n",
            "Current Loss on iteration 28 4415.581\n",
            "Current Loss on iteration 29 4381.8896\n",
            "Current Loss on iteration 30 4350.8384\n",
            "Current Loss on iteration 31 4322.223\n",
            "Current Loss on iteration 32 4295.8506\n",
            "Current Loss on iteration 33 4271.5454\n",
            "Current Loss on iteration 34 4249.146\n",
            "Current Loss on iteration 35 4228.503\n",
            "Current Loss on iteration 36 4209.478\n",
            "Current Loss on iteration 37 4191.945\n",
            "Current Loss on iteration 38 4175.7856\n",
            "Current Loss on iteration 39 4160.894\n",
            "Current Loss on iteration 40 4147.17\n",
            "Current Loss on iteration 41 4134.522\n",
            "Current Loss on iteration 42 4122.8643\n",
            "Current Loss on iteration 43 4112.1216\n",
            "Current Loss on iteration 44 4102.221\n",
            "Current Loss on iteration 45 4093.0972\n",
            "Current Loss on iteration 46 4084.6882\n",
            "Current Loss on iteration 47 4076.9382\n",
            "Current Loss on iteration 48 4069.7964\n",
            "Current Loss on iteration 49 4063.2139\n",
            "Current Loss on iteration 50 4057.1475\n",
            "Current Loss on iteration 51 4051.5571\n",
            "Current Loss on iteration 52 4046.4048\n",
            "Current Loss on iteration 53 4041.6565\n",
            "Current Loss on iteration 54 4037.2808\n",
            "Current Loss on iteration 55 4033.247\n",
            "Current Loss on iteration 56 4029.5308\n",
            "Current Loss on iteration 57 4026.105\n",
            "Current Loss on iteration 58 4022.9482\n",
            "Current Loss on iteration 59 4020.039\n",
            "Current Loss on iteration 60 4017.358\n",
            "Current Loss on iteration 61 4014.8865\n",
            "Current Loss on iteration 62 4012.6091\n",
            "Current Loss on iteration 63 4010.5103\n",
            "Current Loss on iteration 64 4008.5762\n",
            "Current Loss on iteration 65 4006.7935\n",
            "Current Loss on iteration 66 4005.1506\n",
            "Current Loss on iteration 67 4003.6365\n",
            "Current Loss on iteration 68 4002.2412\n",
            "Current Loss on iteration 69 4000.9553\n",
            "Current Loss on iteration 70 3999.77\n",
            "Current Loss on iteration 71 3998.6782\n",
            "Current Loss on iteration 72 3997.6716\n",
            "Current Loss on iteration 73 3996.7437\n",
            "Current Loss on iteration 74 3995.889\n",
            "Current Loss on iteration 75 3995.1008\n",
            "Current Loss on iteration 76 3994.3748\n",
            "Current Loss on iteration 77 3993.7056\n",
            "Current Loss on iteration 78 3993.0889\n",
            "Current Loss on iteration 79 3992.5203\n",
            "Current Loss on iteration 80 3991.9966\n",
            "Current Loss on iteration 81 3991.5134\n",
            "Current Loss on iteration 82 3991.0688\n",
            "Current Loss on iteration 83 3990.6587\n",
            "Current Loss on iteration 84 3990.2815\n",
            "Current Loss on iteration 85 3989.9324\n",
            "Current Loss on iteration 86 3989.6116\n",
            "Current Loss on iteration 87 3989.316\n",
            "Current Loss on iteration 88 3989.0432\n",
            "Current Loss on iteration 89 3988.792\n",
            "Current Loss on iteration 90 3988.5608\n",
            "Current Loss on iteration 91 3988.3474\n",
            "Current Loss on iteration 92 3988.151\n",
            "Current Loss on iteration 93 3987.9695\n",
            "Current Loss on iteration 94 3987.8025\n",
            "Current Loss on iteration 95 3987.6487\n",
            "Current Loss on iteration 96 3987.5063\n",
            "Current Loss on iteration 97 3987.376\n",
            "Current Loss on iteration 98 3987.2554\n",
            "Current Loss on iteration 99 3987.144\n"
          ],
          "name": "stdout"
        }
      ]
    },
    {
      "cell_type": "code",
      "metadata": {
        "colab_type": "code",
        "id": "9smwOW-1OB7k",
        "colab": {}
      },
      "source": [
        ""
      ],
      "execution_count": 0,
      "outputs": []
    },
    {
      "cell_type": "code",
      "metadata": {
        "colab_type": "code",
        "id": "9JuLI6bSOB7n",
        "colab": {}
      },
      "source": [
        ""
      ],
      "execution_count": 0,
      "outputs": []
    },
    {
      "cell_type": "markdown",
      "metadata": {
        "colab_type": "text",
        "id": "DOL2ncA1OB7q"
      },
      "source": [
        "### Get the shapes and values of W and b"
      ]
    },
    {
      "cell_type": "code",
      "metadata": {
        "colab_type": "code",
        "id": "ZGvtyTeuOB7r",
        "colab": {
          "base_uri": "https://localhost:8080/",
          "height": 104
        },
        "outputId": "66295c0f-21dd-4e90-dfd3-026166952454"
      },
      "source": [
        "print('Weights:\\n', w.numpy())"
      ],
      "execution_count": 28,
      "outputs": [
        {
          "output_type": "stream",
          "text": [
            "Weights:\n",
            " [[2.4683157e-03]\n",
            " [2.4446330e-03]\n",
            " [2.4887603e-03]\n",
            " [3.3290398e+01]]\n"
          ],
          "name": "stdout"
        }
      ]
    },
    {
      "cell_type": "code",
      "metadata": {
        "colab_type": "code",
        "id": "vhDtOv5UOB7x",
        "colab": {
          "base_uri": "https://localhost:8080/",
          "height": 52
        },
        "outputId": "5cb2700d-8295-4462-e128-ba8f68e415f7"
      },
      "source": [
        "print('Bias:\\n',b.numpy())"
      ],
      "execution_count": 29,
      "outputs": [
        {
          "output_type": "stream",
          "text": [
            "Bias:\n",
            " [33.290398]\n"
          ],
          "name": "stdout"
        }
      ]
    },
    {
      "cell_type": "markdown",
      "metadata": {
        "colab_type": "text",
        "id": "YJRBuqXhOB7_"
      },
      "source": [
        "### Linear Classification using Keras"
      ]
    },
    {
      "cell_type": "markdown",
      "metadata": {
        "colab_type": "text",
        "id": "8GoNTWXAOB8C"
      },
      "source": [
        "### Building the simple Neural Network in Keras with one neuron in the dense hidden layer.\n",
        "#### Use Mean square error as loss function and sgd as optimizer"
      ]
    },
    {
      "cell_type": "code",
      "metadata": {
        "colab_type": "code",
        "id": "zpeL5rCTOB8D",
        "colab": {}
      },
      "source": [
        "#Initialize Sequential Graph (model)\n",
        "model = tf.keras.Sequential()\n",
        "\n",
        "#Add Dense layer for prediction - Keras declares weights and bias automatically\n",
        "model.add(tf.keras.layers.Dense(1, input_shape=(4,)))\n",
        "\n",
        "#Compile the model - add Loss and Gradient Descent optimizer\n",
        "model.compile(optimizer='sgd', loss='mse')"
      ],
      "execution_count": 0,
      "outputs": []
    },
    {
      "cell_type": "markdown",
      "metadata": {
        "colab_type": "text",
        "id": "Wt-HYFMEOB8G"
      },
      "source": [
        "### Execute the model"
      ]
    },
    {
      "cell_type": "code",
      "metadata": {
        "colab_type": "code",
        "id": "66JGJt7GOB8H",
        "colab": {
          "base_uri": "https://localhost:8080/",
          "height": 1000
        },
        "outputId": "44586478-a984-4ce8-cfe5-af0768a8a04a"
      },
      "source": [
        "model.fit(train_x, np.array(y_train), epochs=100)"
      ],
      "execution_count": 31,
      "outputs": [
        {
          "output_type": "stream",
          "text": [
            "Epoch 1/100\n",
            "700/700 [==============================] - 0s 252us/sample - loss: 6186.7477\n",
            "Epoch 2/100\n",
            "700/700 [==============================] - 0s 59us/sample - loss: 4353.9785\n",
            "Epoch 3/100\n",
            "700/700 [==============================] - 0s 54us/sample - loss: 4045.8418\n",
            "Epoch 4/100\n",
            "700/700 [==============================] - 0s 52us/sample - loss: 4000.0145\n",
            "Epoch 5/100\n",
            "700/700 [==============================] - 0s 53us/sample - loss: 3990.3302\n",
            "Epoch 6/100\n",
            "700/700 [==============================] - 0s 54us/sample - loss: 3991.6112\n",
            "Epoch 7/100\n",
            "700/700 [==============================] - 0s 55us/sample - loss: 3990.6915\n",
            "Epoch 8/100\n",
            "700/700 [==============================] - 0s 51us/sample - loss: 3989.9782\n",
            "Epoch 9/100\n",
            "700/700 [==============================] - 0s 58us/sample - loss: 3990.0169\n",
            "Epoch 10/100\n",
            "700/700 [==============================] - 0s 56us/sample - loss: 3993.2594\n",
            "Epoch 11/100\n",
            "700/700 [==============================] - 0s 51us/sample - loss: 3990.5008\n",
            "Epoch 12/100\n",
            "700/700 [==============================] - 0s 54us/sample - loss: 3990.5077\n",
            "Epoch 13/100\n",
            "700/700 [==============================] - 0s 50us/sample - loss: 3988.1534\n",
            "Epoch 14/100\n",
            "700/700 [==============================] - 0s 57us/sample - loss: 3989.4445\n",
            "Epoch 15/100\n",
            "700/700 [==============================] - 0s 54us/sample - loss: 3988.2618\n",
            "Epoch 16/100\n",
            "700/700 [==============================] - 0s 60us/sample - loss: 3989.5680\n",
            "Epoch 17/100\n",
            "700/700 [==============================] - 0s 52us/sample - loss: 3989.7137\n",
            "Epoch 18/100\n",
            "700/700 [==============================] - 0s 58us/sample - loss: 3989.4765\n",
            "Epoch 19/100\n",
            "700/700 [==============================] - 0s 52us/sample - loss: 3988.7259\n",
            "Epoch 20/100\n",
            "700/700 [==============================] - 0s 55us/sample - loss: 3990.2568\n",
            "Epoch 21/100\n",
            "700/700 [==============================] - 0s 53us/sample - loss: 3990.0382\n",
            "Epoch 22/100\n",
            "700/700 [==============================] - 0s 55us/sample - loss: 3989.1974\n",
            "Epoch 23/100\n",
            "700/700 [==============================] - 0s 55us/sample - loss: 3988.8761\n",
            "Epoch 24/100\n",
            "700/700 [==============================] - 0s 52us/sample - loss: 3991.0103\n",
            "Epoch 25/100\n",
            "700/700 [==============================] - 0s 57us/sample - loss: 3990.0971\n",
            "Epoch 26/100\n",
            "700/700 [==============================] - 0s 54us/sample - loss: 3990.7995\n",
            "Epoch 27/100\n",
            "700/700 [==============================] - 0s 55us/sample - loss: 3990.2897\n",
            "Epoch 28/100\n",
            "700/700 [==============================] - 0s 57us/sample - loss: 3992.5101\n",
            "Epoch 29/100\n",
            "700/700 [==============================] - 0s 52us/sample - loss: 3989.0913\n",
            "Epoch 30/100\n",
            "700/700 [==============================] - 0s 58us/sample - loss: 3990.2312\n",
            "Epoch 31/100\n",
            "700/700 [==============================] - 0s 52us/sample - loss: 3990.4235\n",
            "Epoch 32/100\n",
            "700/700 [==============================] - 0s 50us/sample - loss: 3990.1113\n",
            "Epoch 33/100\n",
            "700/700 [==============================] - 0s 55us/sample - loss: 3989.6997\n",
            "Epoch 34/100\n",
            "700/700 [==============================] - 0s 56us/sample - loss: 3991.0243\n",
            "Epoch 35/100\n",
            "700/700 [==============================] - 0s 52us/sample - loss: 3992.1800\n",
            "Epoch 36/100\n",
            "700/700 [==============================] - 0s 60us/sample - loss: 3989.5851\n",
            "Epoch 37/100\n",
            "700/700 [==============================] - 0s 53us/sample - loss: 3990.7008\n",
            "Epoch 38/100\n",
            "700/700 [==============================] - 0s 56us/sample - loss: 3990.1671\n",
            "Epoch 39/100\n",
            "700/700 [==============================] - 0s 54us/sample - loss: 3994.0318\n",
            "Epoch 40/100\n",
            "700/700 [==============================] - 0s 54us/sample - loss: 3989.9244\n",
            "Epoch 41/100\n",
            "700/700 [==============================] - 0s 78us/sample - loss: 3990.5355\n",
            "Epoch 42/100\n",
            "700/700 [==============================] - 0s 59us/sample - loss: 3989.8915\n",
            "Epoch 43/100\n",
            "700/700 [==============================] - 0s 55us/sample - loss: 3992.3591\n",
            "Epoch 44/100\n",
            "700/700 [==============================] - 0s 57us/sample - loss: 3990.0747\n",
            "Epoch 45/100\n",
            "700/700 [==============================] - 0s 55us/sample - loss: 3988.2508\n",
            "Epoch 46/100\n",
            "700/700 [==============================] - 0s 51us/sample - loss: 3990.0578\n",
            "Epoch 47/100\n",
            "700/700 [==============================] - 0s 53us/sample - loss: 3989.7095\n",
            "Epoch 48/100\n",
            "700/700 [==============================] - 0s 56us/sample - loss: 3988.4866\n",
            "Epoch 49/100\n",
            "700/700 [==============================] - 0s 57us/sample - loss: 3989.6188\n",
            "Epoch 50/100\n",
            "700/700 [==============================] - 0s 59us/sample - loss: 3989.6146\n",
            "Epoch 51/100\n",
            "700/700 [==============================] - 0s 55us/sample - loss: 3990.2568\n",
            "Epoch 52/100\n",
            "700/700 [==============================] - 0s 58us/sample - loss: 3991.1799\n",
            "Epoch 53/100\n",
            "700/700 [==============================] - 0s 53us/sample - loss: 3990.4575\n",
            "Epoch 54/100\n",
            "700/700 [==============================] - 0s 55us/sample - loss: 3989.8038\n",
            "Epoch 55/100\n",
            "700/700 [==============================] - 0s 52us/sample - loss: 3989.3650\n",
            "Epoch 56/100\n",
            "700/700 [==============================] - 0s 55us/sample - loss: 3989.0580\n",
            "Epoch 57/100\n",
            "700/700 [==============================] - 0s 54us/sample - loss: 3990.4477\n",
            "Epoch 58/100\n",
            "700/700 [==============================] - 0s 63us/sample - loss: 3989.6919\n",
            "Epoch 59/100\n",
            "700/700 [==============================] - 0s 66us/sample - loss: 3992.5163\n",
            "Epoch 60/100\n",
            "700/700 [==============================] - 0s 68us/sample - loss: 3993.4129\n",
            "Epoch 61/100\n",
            "700/700 [==============================] - 0s 55us/sample - loss: 3989.4664\n",
            "Epoch 62/100\n",
            "700/700 [==============================] - 0s 56us/sample - loss: 3991.1613\n",
            "Epoch 63/100\n",
            "700/700 [==============================] - 0s 52us/sample - loss: 3990.4217\n",
            "Epoch 64/100\n",
            "700/700 [==============================] - 0s 52us/sample - loss: 3991.2745\n",
            "Epoch 65/100\n",
            "700/700 [==============================] - 0s 57us/sample - loss: 3989.6996\n",
            "Epoch 66/100\n",
            "700/700 [==============================] - 0s 61us/sample - loss: 3991.4759\n",
            "Epoch 67/100\n",
            "700/700 [==============================] - 0s 49us/sample - loss: 3992.0042\n",
            "Epoch 68/100\n",
            "700/700 [==============================] - 0s 53us/sample - loss: 3990.2813\n",
            "Epoch 69/100\n",
            "700/700 [==============================] - 0s 49us/sample - loss: 3990.9908\n",
            "Epoch 70/100\n",
            "700/700 [==============================] - 0s 54us/sample - loss: 3989.2430\n",
            "Epoch 71/100\n",
            "700/700 [==============================] - 0s 54us/sample - loss: 3988.5243\n",
            "Epoch 72/100\n",
            "700/700 [==============================] - 0s 54us/sample - loss: 3990.6561\n",
            "Epoch 73/100\n",
            "700/700 [==============================] - 0s 53us/sample - loss: 3990.3233\n",
            "Epoch 74/100\n",
            "700/700 [==============================] - 0s 57us/sample - loss: 3988.6475\n",
            "Epoch 75/100\n",
            "700/700 [==============================] - 0s 56us/sample - loss: 3990.2579\n",
            "Epoch 76/100\n",
            "700/700 [==============================] - 0s 52us/sample - loss: 3990.2923\n",
            "Epoch 77/100\n",
            "700/700 [==============================] - 0s 55us/sample - loss: 3988.9660\n",
            "Epoch 78/100\n",
            "700/700 [==============================] - 0s 52us/sample - loss: 3990.8347\n",
            "Epoch 79/100\n",
            "700/700 [==============================] - 0s 50us/sample - loss: 3989.0080\n",
            "Epoch 80/100\n",
            "700/700 [==============================] - 0s 53us/sample - loss: 3990.8221\n",
            "Epoch 81/100\n",
            "700/700 [==============================] - 0s 50us/sample - loss: 3991.8161\n",
            "Epoch 82/100\n",
            "700/700 [==============================] - 0s 50us/sample - loss: 3988.9965\n",
            "Epoch 83/100\n",
            "700/700 [==============================] - 0s 52us/sample - loss: 3989.9316\n",
            "Epoch 84/100\n",
            "700/700 [==============================] - 0s 55us/sample - loss: 3989.9705\n",
            "Epoch 85/100\n",
            "700/700 [==============================] - 0s 52us/sample - loss: 3989.8194\n",
            "Epoch 86/100\n",
            "700/700 [==============================] - 0s 55us/sample - loss: 3988.9835\n",
            "Epoch 87/100\n",
            "700/700 [==============================] - 0s 66us/sample - loss: 3991.5939\n",
            "Epoch 88/100\n",
            "700/700 [==============================] - 0s 63us/sample - loss: 3989.5610\n",
            "Epoch 89/100\n",
            "700/700 [==============================] - 0s 60us/sample - loss: 3991.5265\n",
            "Epoch 90/100\n",
            "700/700 [==============================] - 0s 69us/sample - loss: 3989.6593\n",
            "Epoch 91/100\n",
            "700/700 [==============================] - 0s 51us/sample - loss: 3989.3267\n",
            "Epoch 92/100\n",
            "700/700 [==============================] - 0s 53us/sample - loss: 3990.5019\n",
            "Epoch 93/100\n",
            "700/700 [==============================] - 0s 54us/sample - loss: 3989.2841\n",
            "Epoch 94/100\n",
            "700/700 [==============================] - 0s 52us/sample - loss: 3990.1901\n",
            "Epoch 95/100\n",
            "700/700 [==============================] - 0s 55us/sample - loss: 3989.7224\n",
            "Epoch 96/100\n",
            "700/700 [==============================] - 0s 58us/sample - loss: 3991.7069\n",
            "Epoch 97/100\n",
            "700/700 [==============================] - 0s 55us/sample - loss: 3991.3929\n",
            "Epoch 98/100\n",
            "700/700 [==============================] - 0s 59us/sample - loss: 3987.8772\n",
            "Epoch 99/100\n",
            "700/700 [==============================] - 0s 53us/sample - loss: 3990.5284\n",
            "Epoch 100/100\n",
            "700/700 [==============================] - 0s 59us/sample - loss: 3988.2901\n"
          ],
          "name": "stdout"
        },
        {
          "output_type": "execute_result",
          "data": {
            "text/plain": [
              "<tensorflow.python.keras.callbacks.History at 0x7f0d61356588>"
            ]
          },
          "metadata": {
            "tags": []
          },
          "execution_count": 31
        }
      ]
    },
    {
      "cell_type": "code",
      "metadata": {
        "id": "R61PNL6iVCmn",
        "colab_type": "code",
        "colab": {
          "base_uri": "https://localhost:8080/",
          "height": 191
        },
        "outputId": "ee950aa4-7d07-454f-c7ca-0a4909bf4347"
      },
      "source": [
        "model.summary()"
      ],
      "execution_count": 33,
      "outputs": [
        {
          "output_type": "stream",
          "text": [
            "Model: \"sequential\"\n",
            "_________________________________________________________________\n",
            "Layer (type)                 Output Shape              Param #   \n",
            "=================================================================\n",
            "dense (Dense)                (None, 1)                 5         \n",
            "=================================================================\n",
            "Total params: 5\n",
            "Trainable params: 5\n",
            "Non-trainable params: 0\n",
            "_________________________________________________________________\n"
          ],
          "name": "stdout"
        }
      ]
    },
    {
      "cell_type": "markdown",
      "metadata": {
        "id": "hj4z5ZBF90cF",
        "colab_type": "text"
      },
      "source": [
        "### Classification using Keras "
      ]
    },
    {
      "cell_type": "code",
      "metadata": {
        "id": "-66Shzvb90cJ",
        "colab_type": "code",
        "colab": {}
      },
      "source": [
        ""
      ],
      "execution_count": 0,
      "outputs": []
    },
    {
      "cell_type": "markdown",
      "metadata": {
        "id": "oVKKPs4H90cI",
        "colab_type": "text"
      },
      "source": [
        "### Load the given Iris data using pandas (Iris.csv)"
      ]
    },
    {
      "cell_type": "code",
      "metadata": {
        "id": "YxSpKp0W90cG",
        "colab_type": "code",
        "colab": {
          "base_uri": "https://localhost:8080/",
          "height": 202
        },
        "outputId": "b8aaefa7-d694-4773-ce8f-0afeb727f137"
      },
      "source": [
        "I_data = pd.read_csv('/content/drive/My Drive/Colab Notebooks/Iris.csv')\n",
        "I_data.head()"
      ],
      "execution_count": 36,
      "outputs": [
        {
          "output_type": "execute_result",
          "data": {
            "text/html": [
              "<div>\n",
              "<style scoped>\n",
              "    .dataframe tbody tr th:only-of-type {\n",
              "        vertical-align: middle;\n",
              "    }\n",
              "\n",
              "    .dataframe tbody tr th {\n",
              "        vertical-align: top;\n",
              "    }\n",
              "\n",
              "    .dataframe thead th {\n",
              "        text-align: right;\n",
              "    }\n",
              "</style>\n",
              "<table border=\"1\" class=\"dataframe\">\n",
              "  <thead>\n",
              "    <tr style=\"text-align: right;\">\n",
              "      <th></th>\n",
              "      <th>Id</th>\n",
              "      <th>SepalLengthCm</th>\n",
              "      <th>SepalWidthCm</th>\n",
              "      <th>PetalLengthCm</th>\n",
              "      <th>PetalWidthCm</th>\n",
              "      <th>Species</th>\n",
              "    </tr>\n",
              "  </thead>\n",
              "  <tbody>\n",
              "    <tr>\n",
              "      <th>0</th>\n",
              "      <td>1</td>\n",
              "      <td>5.1</td>\n",
              "      <td>3.5</td>\n",
              "      <td>1.4</td>\n",
              "      <td>0.2</td>\n",
              "      <td>Iris-setosa</td>\n",
              "    </tr>\n",
              "    <tr>\n",
              "      <th>1</th>\n",
              "      <td>2</td>\n",
              "      <td>4.9</td>\n",
              "      <td>3.0</td>\n",
              "      <td>1.4</td>\n",
              "      <td>0.2</td>\n",
              "      <td>Iris-setosa</td>\n",
              "    </tr>\n",
              "    <tr>\n",
              "      <th>2</th>\n",
              "      <td>3</td>\n",
              "      <td>4.7</td>\n",
              "      <td>3.2</td>\n",
              "      <td>1.3</td>\n",
              "      <td>0.2</td>\n",
              "      <td>Iris-setosa</td>\n",
              "    </tr>\n",
              "    <tr>\n",
              "      <th>3</th>\n",
              "      <td>4</td>\n",
              "      <td>4.6</td>\n",
              "      <td>3.1</td>\n",
              "      <td>1.5</td>\n",
              "      <td>0.2</td>\n",
              "      <td>Iris-setosa</td>\n",
              "    </tr>\n",
              "    <tr>\n",
              "      <th>4</th>\n",
              "      <td>5</td>\n",
              "      <td>5.0</td>\n",
              "      <td>3.6</td>\n",
              "      <td>1.4</td>\n",
              "      <td>0.2</td>\n",
              "      <td>Iris-setosa</td>\n",
              "    </tr>\n",
              "  </tbody>\n",
              "</table>\n",
              "</div>"
            ],
            "text/plain": [
              "   Id  SepalLengthCm  SepalWidthCm  PetalLengthCm  PetalWidthCm      Species\n",
              "0   1            5.1           3.5            1.4           0.2  Iris-setosa\n",
              "1   2            4.9           3.0            1.4           0.2  Iris-setosa\n",
              "2   3            4.7           3.2            1.3           0.2  Iris-setosa\n",
              "3   4            4.6           3.1            1.5           0.2  Iris-setosa\n",
              "4   5            5.0           3.6            1.4           0.2  Iris-setosa"
            ]
          },
          "metadata": {
            "tags": []
          },
          "execution_count": 36
        }
      ]
    },
    {
      "cell_type": "markdown",
      "metadata": {
        "id": "KYVQFto990cO",
        "colab_type": "text"
      },
      "source": [
        "### Splitting the data into feature set and target set"
      ]
    },
    {
      "cell_type": "code",
      "metadata": {
        "id": "A7STsSib90cP",
        "colab_type": "code",
        "colab": {}
      },
      "source": [
        "X = I_data.drop(columns = 'Species')\n",
        "y = I_data['Species']"
      ],
      "execution_count": 0,
      "outputs": []
    },
    {
      "cell_type": "code",
      "metadata": {
        "id": "PjvKPc_JV5zB",
        "colab_type": "code",
        "colab": {
          "base_uri": "https://localhost:8080/",
          "height": 202
        },
        "outputId": "c05bb69a-d8b2-43f0-bc9a-bccc006a0e8b"
      },
      "source": [
        "X.head()"
      ],
      "execution_count": 39,
      "outputs": [
        {
          "output_type": "execute_result",
          "data": {
            "text/html": [
              "<div>\n",
              "<style scoped>\n",
              "    .dataframe tbody tr th:only-of-type {\n",
              "        vertical-align: middle;\n",
              "    }\n",
              "\n",
              "    .dataframe tbody tr th {\n",
              "        vertical-align: top;\n",
              "    }\n",
              "\n",
              "    .dataframe thead th {\n",
              "        text-align: right;\n",
              "    }\n",
              "</style>\n",
              "<table border=\"1\" class=\"dataframe\">\n",
              "  <thead>\n",
              "    <tr style=\"text-align: right;\">\n",
              "      <th></th>\n",
              "      <th>Id</th>\n",
              "      <th>SepalLengthCm</th>\n",
              "      <th>SepalWidthCm</th>\n",
              "      <th>PetalLengthCm</th>\n",
              "      <th>PetalWidthCm</th>\n",
              "    </tr>\n",
              "  </thead>\n",
              "  <tbody>\n",
              "    <tr>\n",
              "      <th>0</th>\n",
              "      <td>1</td>\n",
              "      <td>5.1</td>\n",
              "      <td>3.5</td>\n",
              "      <td>1.4</td>\n",
              "      <td>0.2</td>\n",
              "    </tr>\n",
              "    <tr>\n",
              "      <th>1</th>\n",
              "      <td>2</td>\n",
              "      <td>4.9</td>\n",
              "      <td>3.0</td>\n",
              "      <td>1.4</td>\n",
              "      <td>0.2</td>\n",
              "    </tr>\n",
              "    <tr>\n",
              "      <th>2</th>\n",
              "      <td>3</td>\n",
              "      <td>4.7</td>\n",
              "      <td>3.2</td>\n",
              "      <td>1.3</td>\n",
              "      <td>0.2</td>\n",
              "    </tr>\n",
              "    <tr>\n",
              "      <th>3</th>\n",
              "      <td>4</td>\n",
              "      <td>4.6</td>\n",
              "      <td>3.1</td>\n",
              "      <td>1.5</td>\n",
              "      <td>0.2</td>\n",
              "    </tr>\n",
              "    <tr>\n",
              "      <th>4</th>\n",
              "      <td>5</td>\n",
              "      <td>5.0</td>\n",
              "      <td>3.6</td>\n",
              "      <td>1.4</td>\n",
              "      <td>0.2</td>\n",
              "    </tr>\n",
              "  </tbody>\n",
              "</table>\n",
              "</div>"
            ],
            "text/plain": [
              "   Id  SepalLengthCm  SepalWidthCm  PetalLengthCm  PetalWidthCm\n",
              "0   1            5.1           3.5            1.4           0.2\n",
              "1   2            4.9           3.0            1.4           0.2\n",
              "2   3            4.7           3.2            1.3           0.2\n",
              "3   4            4.6           3.1            1.5           0.2\n",
              "4   5            5.0           3.6            1.4           0.2"
            ]
          },
          "metadata": {
            "tags": []
          },
          "execution_count": 39
        }
      ]
    },
    {
      "cell_type": "code",
      "metadata": {
        "id": "bg_hq5FTV9dE",
        "colab_type": "code",
        "colab": {}
      },
      "source": [
        "X.drop(columns = 'Id', inplace = True)"
      ],
      "execution_count": 0,
      "outputs": []
    },
    {
      "cell_type": "code",
      "metadata": {
        "id": "2hr9BuaGWEnJ",
        "colab_type": "code",
        "colab": {
          "base_uri": "https://localhost:8080/",
          "height": 202
        },
        "outputId": "b4050c2b-2e6d-40bd-b4c1-0a93180e26ab"
      },
      "source": [
        "X.head()"
      ],
      "execution_count": 41,
      "outputs": [
        {
          "output_type": "execute_result",
          "data": {
            "text/html": [
              "<div>\n",
              "<style scoped>\n",
              "    .dataframe tbody tr th:only-of-type {\n",
              "        vertical-align: middle;\n",
              "    }\n",
              "\n",
              "    .dataframe tbody tr th {\n",
              "        vertical-align: top;\n",
              "    }\n",
              "\n",
              "    .dataframe thead th {\n",
              "        text-align: right;\n",
              "    }\n",
              "</style>\n",
              "<table border=\"1\" class=\"dataframe\">\n",
              "  <thead>\n",
              "    <tr style=\"text-align: right;\">\n",
              "      <th></th>\n",
              "      <th>SepalLengthCm</th>\n",
              "      <th>SepalWidthCm</th>\n",
              "      <th>PetalLengthCm</th>\n",
              "      <th>PetalWidthCm</th>\n",
              "    </tr>\n",
              "  </thead>\n",
              "  <tbody>\n",
              "    <tr>\n",
              "      <th>0</th>\n",
              "      <td>5.1</td>\n",
              "      <td>3.5</td>\n",
              "      <td>1.4</td>\n",
              "      <td>0.2</td>\n",
              "    </tr>\n",
              "    <tr>\n",
              "      <th>1</th>\n",
              "      <td>4.9</td>\n",
              "      <td>3.0</td>\n",
              "      <td>1.4</td>\n",
              "      <td>0.2</td>\n",
              "    </tr>\n",
              "    <tr>\n",
              "      <th>2</th>\n",
              "      <td>4.7</td>\n",
              "      <td>3.2</td>\n",
              "      <td>1.3</td>\n",
              "      <td>0.2</td>\n",
              "    </tr>\n",
              "    <tr>\n",
              "      <th>3</th>\n",
              "      <td>4.6</td>\n",
              "      <td>3.1</td>\n",
              "      <td>1.5</td>\n",
              "      <td>0.2</td>\n",
              "    </tr>\n",
              "    <tr>\n",
              "      <th>4</th>\n",
              "      <td>5.0</td>\n",
              "      <td>3.6</td>\n",
              "      <td>1.4</td>\n",
              "      <td>0.2</td>\n",
              "    </tr>\n",
              "  </tbody>\n",
              "</table>\n",
              "</div>"
            ],
            "text/plain": [
              "   SepalLengthCm  SepalWidthCm  PetalLengthCm  PetalWidthCm\n",
              "0            5.1           3.5            1.4           0.2\n",
              "1            4.9           3.0            1.4           0.2\n",
              "2            4.7           3.2            1.3           0.2\n",
              "3            4.6           3.1            1.5           0.2\n",
              "4            5.0           3.6            1.4           0.2"
            ]
          },
          "metadata": {
            "tags": []
          },
          "execution_count": 41
        }
      ]
    },
    {
      "cell_type": "markdown",
      "metadata": {
        "id": "tlfSOy7E90cS",
        "colab_type": "text"
      },
      "source": [
        "### Target set has different categories. So, Label encode them. And convert into one-hot vectors using get_dummies in pandas."
      ]
    },
    {
      "cell_type": "code",
      "metadata": {
        "id": "YE1snjKq90cU",
        "colab_type": "code",
        "colab": {}
      },
      "source": [
        "from sklearn.preprocessing import LabelEncoder"
      ],
      "execution_count": 0,
      "outputs": []
    },
    {
      "cell_type": "code",
      "metadata": {
        "id": "f13fHHzfWd0r",
        "colab_type": "code",
        "colab": {}
      },
      "source": [
        "enc = LabelEncoder()"
      ],
      "execution_count": 0,
      "outputs": []
    },
    {
      "cell_type": "code",
      "metadata": {
        "id": "f6P91xeAWd3m",
        "colab_type": "code",
        "colab": {}
      },
      "source": [
        "y = enc.fit_transform(y)"
      ],
      "execution_count": 0,
      "outputs": []
    },
    {
      "cell_type": "code",
      "metadata": {
        "id": "00gnNS9ZWtHb",
        "colab_type": "code",
        "colab": {
          "base_uri": "https://localhost:8080/",
          "height": 139
        },
        "outputId": "85c39680-c8ab-4742-e4b3-87a2846ddc18"
      },
      "source": [
        "y"
      ],
      "execution_count": 45,
      "outputs": [
        {
          "output_type": "execute_result",
          "data": {
            "text/plain": [
              "array([0, 0, 0, 0, 0, 0, 0, 0, 0, 0, 0, 0, 0, 0, 0, 0, 0, 0, 0, 0, 0, 0,\n",
              "       0, 0, 0, 0, 0, 0, 0, 0, 0, 0, 0, 0, 0, 0, 0, 0, 0, 0, 0, 0, 0, 0,\n",
              "       0, 0, 0, 0, 0, 0, 1, 1, 1, 1, 1, 1, 1, 1, 1, 1, 1, 1, 1, 1, 1, 1,\n",
              "       1, 1, 1, 1, 1, 1, 1, 1, 1, 1, 1, 1, 1, 1, 1, 1, 1, 1, 1, 1, 1, 1,\n",
              "       1, 1, 1, 1, 1, 1, 1, 1, 1, 1, 1, 1, 2, 2, 2, 2, 2, 2, 2, 2, 2, 2,\n",
              "       2, 2, 2, 2, 2, 2, 2, 2, 2, 2, 2, 2, 2, 2, 2, 2, 2, 2, 2, 2, 2, 2,\n",
              "       2, 2, 2, 2, 2, 2, 2, 2, 2, 2, 2, 2, 2, 2, 2, 2, 2, 2])"
            ]
          },
          "metadata": {
            "tags": []
          },
          "execution_count": 45
        }
      ]
    },
    {
      "cell_type": "code",
      "metadata": {
        "id": "pdeh7Uo0WtKT",
        "colab_type": "code",
        "colab": {}
      },
      "source": [
        "y_cat = tf.keras.utils.to_categorical(y, num_classes=3)"
      ],
      "execution_count": 0,
      "outputs": []
    },
    {
      "cell_type": "code",
      "metadata": {
        "id": "mvw-FlIIW9ji",
        "colab_type": "code",
        "colab": {
          "base_uri": "https://localhost:8080/",
          "height": 35
        },
        "outputId": "86f5840d-679f-41ff-f235-c883b32d43e6"
      },
      "source": [
        "y_cat[0]"
      ],
      "execution_count": 50,
      "outputs": [
        {
          "output_type": "execute_result",
          "data": {
            "text/plain": [
              "array([1., 0., 0.], dtype=float32)"
            ]
          },
          "metadata": {
            "tags": []
          },
          "execution_count": 50
        }
      ]
    },
    {
      "cell_type": "markdown",
      "metadata": {
        "id": "PHtxVBaA90cY",
        "colab_type": "text"
      },
      "source": [
        "### Divide the dataset into Training and test (70:30)"
      ]
    },
    {
      "cell_type": "code",
      "metadata": {
        "id": "qsjwLp6890ca",
        "colab_type": "code",
        "colab": {}
      },
      "source": [
        "X_train, X_test, y_train, y_test = train_test_split(X, y_cat, test_size=.25, random_state=10)"
      ],
      "execution_count": 0,
      "outputs": []
    },
    {
      "cell_type": "markdown",
      "metadata": {
        "id": "joNWAvtW90cd",
        "colab_type": "text"
      },
      "source": [
        "### Model\n",
        "Build the model with following layers: <br>\n",
        "1. First dense layer with 10 neurons with input shape 4 (according to the feature set) <br>\n",
        "2. Second Dense layer with 8 neurons <br>\n",
        "3. Output layer with 3 neurons with softmax activation (output layer, 3 neurons as we have 3 classes) <br>\n",
        "4. Use SGD and categorical_crossentropy loss "
      ]
    },
    {
      "cell_type": "code",
      "metadata": {
        "id": "D3lLprHW90ce",
        "colab_type": "code",
        "colab": {}
      },
      "source": [
        "#Initialize Sequential model\n",
        "model = tf.keras.models.Sequential()\n",
        "\n",
        "#Normalize the data\n",
        "model.add(tf.keras.layers.BatchNormalization(input_shape=(4,)))\n",
        "\n",
        "#Add 1st hidden layer\n",
        "model.add(tf.keras.layers.Dense(10, activation='sigmoid'))\n",
        "\n",
        "#Add 2nd hidden layer\n",
        "model.add(tf.keras.layers.Dense(8, activation='sigmoid'))\n",
        "\n",
        "#Add Dense Layer which provides 10 Outputs after applying softmax\n",
        "model.add(tf.keras.layers.Dense(3, activation='softmax'))\n",
        "\n",
        "#Comile the model\n",
        "model.compile(optimizer='sgd', loss='categorical_crossentropy', metrics=['accuracy'])"
      ],
      "execution_count": 0,
      "outputs": []
    },
    {
      "cell_type": "markdown",
      "metadata": {
        "id": "85b0PpSh90cg",
        "colab_type": "text"
      },
      "source": [
        "### Fitting the model and predicting "
      ]
    },
    {
      "cell_type": "code",
      "metadata": {
        "id": "vciFxQow90ch",
        "colab_type": "code",
        "colab": {
          "base_uri": "https://localhost:8080/",
          "height": 1000
        },
        "outputId": "4199a4e5-13e4-4cd8-d498-02dbf563143b"
      },
      "source": [
        "model.fit(X_train, y_train, validation_data=(X_test,y_test), epochs=150, batch_size=9)"
      ],
      "execution_count": 60,
      "outputs": [
        {
          "output_type": "stream",
          "text": [
            "Train on 112 samples, validate on 38 samples\n",
            "Epoch 1/150\n",
            "112/112 [==============================] - 0s 2ms/sample - loss: 0.4324 - acc: 0.8393 - val_loss: 0.4268 - val_acc: 0.8421\n",
            "Epoch 2/150\n",
            "112/112 [==============================] - 0s 499us/sample - loss: 0.4722 - acc: 0.8304 - val_loss: 0.4268 - val_acc: 0.8421\n",
            "Epoch 3/150\n",
            "112/112 [==============================] - 0s 413us/sample - loss: 0.4116 - acc: 0.8839 - val_loss: 0.4269 - val_acc: 0.8421\n",
            "Epoch 4/150\n",
            "112/112 [==============================] - 0s 390us/sample - loss: 0.4373 - acc: 0.8304 - val_loss: 0.4269 - val_acc: 0.8421\n",
            "Epoch 5/150\n",
            "112/112 [==============================] - 0s 391us/sample - loss: 0.4367 - acc: 0.8571 - val_loss: 0.4271 - val_acc: 0.8158\n",
            "Epoch 6/150\n",
            "112/112 [==============================] - 0s 402us/sample - loss: 0.4742 - acc: 0.8214 - val_loss: 0.4269 - val_acc: 0.8158\n",
            "Epoch 7/150\n",
            "112/112 [==============================] - 0s 407us/sample - loss: 0.4701 - acc: 0.8214 - val_loss: 0.4265 - val_acc: 0.8158\n",
            "Epoch 8/150\n",
            "112/112 [==============================] - 0s 431us/sample - loss: 0.4516 - acc: 0.8482 - val_loss: 0.4257 - val_acc: 0.8158\n",
            "Epoch 9/150\n",
            "112/112 [==============================] - 0s 384us/sample - loss: 0.4725 - acc: 0.7679 - val_loss: 0.4258 - val_acc: 0.8158\n",
            "Epoch 10/150\n",
            "112/112 [==============================] - 0s 411us/sample - loss: 0.4092 - acc: 0.8571 - val_loss: 0.4248 - val_acc: 0.8158\n",
            "Epoch 11/150\n",
            "112/112 [==============================] - 0s 421us/sample - loss: 0.4293 - acc: 0.8214 - val_loss: 0.4238 - val_acc: 0.8158\n",
            "Epoch 12/150\n",
            "112/112 [==============================] - 0s 402us/sample - loss: 0.4519 - acc: 0.8125 - val_loss: 0.4217 - val_acc: 0.8421\n",
            "Epoch 13/150\n",
            "112/112 [==============================] - 0s 405us/sample - loss: 0.4269 - acc: 0.8214 - val_loss: 0.4219 - val_acc: 0.8421\n",
            "Epoch 14/150\n",
            "112/112 [==============================] - 0s 405us/sample - loss: 0.5006 - acc: 0.8036 - val_loss: 0.4239 - val_acc: 0.8158\n",
            "Epoch 15/150\n",
            "112/112 [==============================] - 0s 432us/sample - loss: 0.4227 - acc: 0.8304 - val_loss: 0.4228 - val_acc: 0.8158\n",
            "Epoch 16/150\n",
            "112/112 [==============================] - 0s 406us/sample - loss: 0.4590 - acc: 0.8214 - val_loss: 0.4225 - val_acc: 0.8158\n",
            "Epoch 17/150\n",
            "112/112 [==============================] - 0s 407us/sample - loss: 0.4770 - acc: 0.7500 - val_loss: 0.4226 - val_acc: 0.8158\n",
            "Epoch 18/150\n",
            "112/112 [==============================] - 0s 403us/sample - loss: 0.4858 - acc: 0.7768 - val_loss: 0.4216 - val_acc: 0.8421\n",
            "Epoch 19/150\n",
            "112/112 [==============================] - 0s 400us/sample - loss: 0.4182 - acc: 0.8482 - val_loss: 0.4199 - val_acc: 0.8421\n",
            "Epoch 20/150\n",
            "112/112 [==============================] - 0s 457us/sample - loss: 0.4076 - acc: 0.8661 - val_loss: 0.4188 - val_acc: 0.8421\n",
            "Epoch 21/150\n",
            "112/112 [==============================] - 0s 487us/sample - loss: 0.4297 - acc: 0.8482 - val_loss: 0.4184 - val_acc: 0.8421\n",
            "Epoch 22/150\n",
            "112/112 [==============================] - 0s 399us/sample - loss: 0.4951 - acc: 0.7679 - val_loss: 0.4171 - val_acc: 0.8421\n",
            "Epoch 23/150\n",
            "112/112 [==============================] - 0s 424us/sample - loss: 0.4547 - acc: 0.7768 - val_loss: 0.4167 - val_acc: 0.8421\n",
            "Epoch 24/150\n",
            "112/112 [==============================] - 0s 406us/sample - loss: 0.4486 - acc: 0.8393 - val_loss: 0.4162 - val_acc: 0.8421\n",
            "Epoch 25/150\n",
            "112/112 [==============================] - 0s 393us/sample - loss: 0.4122 - acc: 0.8661 - val_loss: 0.4157 - val_acc: 0.8421\n",
            "Epoch 26/150\n",
            "112/112 [==============================] - 0s 430us/sample - loss: 0.4759 - acc: 0.7589 - val_loss: 0.4157 - val_acc: 0.8421\n",
            "Epoch 27/150\n",
            "112/112 [==============================] - 0s 426us/sample - loss: 0.5022 - acc: 0.7857 - val_loss: 0.4165 - val_acc: 0.8421\n",
            "Epoch 28/150\n",
            "112/112 [==============================] - 0s 411us/sample - loss: 0.4949 - acc: 0.7768 - val_loss: 0.4173 - val_acc: 0.8421\n",
            "Epoch 29/150\n",
            "112/112 [==============================] - 0s 408us/sample - loss: 0.4717 - acc: 0.7946 - val_loss: 0.4168 - val_acc: 0.8421\n",
            "Epoch 30/150\n",
            "112/112 [==============================] - 0s 399us/sample - loss: 0.4802 - acc: 0.8304 - val_loss: 0.4180 - val_acc: 0.8421\n",
            "Epoch 31/150\n",
            "112/112 [==============================] - 0s 413us/sample - loss: 0.4440 - acc: 0.8750 - val_loss: 0.4160 - val_acc: 0.8421\n",
            "Epoch 32/150\n",
            "112/112 [==============================] - 0s 396us/sample - loss: 0.3984 - acc: 0.8661 - val_loss: 0.4144 - val_acc: 0.8421\n",
            "Epoch 33/150\n",
            "112/112 [==============================] - 0s 408us/sample - loss: 0.4082 - acc: 0.8393 - val_loss: 0.4119 - val_acc: 0.8421\n",
            "Epoch 34/150\n",
            "112/112 [==============================] - 0s 442us/sample - loss: 0.4306 - acc: 0.8393 - val_loss: 0.4104 - val_acc: 0.8421\n",
            "Epoch 35/150\n",
            "112/112 [==============================] - 0s 430us/sample - loss: 0.4524 - acc: 0.8214 - val_loss: 0.4093 - val_acc: 0.8421\n",
            "Epoch 36/150\n",
            "112/112 [==============================] - 0s 397us/sample - loss: 0.4202 - acc: 0.8750 - val_loss: 0.4091 - val_acc: 0.8421\n",
            "Epoch 37/150\n",
            "112/112 [==============================] - 0s 478us/sample - loss: 0.4662 - acc: 0.7946 - val_loss: 0.4090 - val_acc: 0.8421\n",
            "Epoch 38/150\n",
            "112/112 [==============================] - 0s 424us/sample - loss: 0.3948 - acc: 0.9107 - val_loss: 0.4081 - val_acc: 0.8421\n",
            "Epoch 39/150\n",
            "112/112 [==============================] - 0s 408us/sample - loss: 0.4484 - acc: 0.8214 - val_loss: 0.4080 - val_acc: 0.8421\n",
            "Epoch 40/150\n",
            "112/112 [==============================] - 0s 406us/sample - loss: 0.4363 - acc: 0.7946 - val_loss: 0.4068 - val_acc: 0.8421\n",
            "Epoch 41/150\n",
            "112/112 [==============================] - 0s 494us/sample - loss: 0.5019 - acc: 0.7768 - val_loss: 0.4068 - val_acc: 0.8421\n",
            "Epoch 42/150\n",
            "112/112 [==============================] - 0s 406us/sample - loss: 0.4075 - acc: 0.8750 - val_loss: 0.4050 - val_acc: 0.8684\n",
            "Epoch 43/150\n",
            "112/112 [==============================] - 0s 425us/sample - loss: 0.4039 - acc: 0.8750 - val_loss: 0.4035 - val_acc: 0.8684\n",
            "Epoch 44/150\n",
            "112/112 [==============================] - 0s 413us/sample - loss: 0.4385 - acc: 0.8482 - val_loss: 0.4043 - val_acc: 0.8684\n",
            "Epoch 45/150\n",
            "112/112 [==============================] - 0s 426us/sample - loss: 0.4420 - acc: 0.8393 - val_loss: 0.4023 - val_acc: 0.8684\n",
            "Epoch 46/150\n",
            "112/112 [==============================] - 0s 433us/sample - loss: 0.4256 - acc: 0.8036 - val_loss: 0.4021 - val_acc: 0.8684\n",
            "Epoch 47/150\n",
            "112/112 [==============================] - 0s 432us/sample - loss: 0.4457 - acc: 0.8482 - val_loss: 0.4025 - val_acc: 0.8684\n",
            "Epoch 48/150\n",
            "112/112 [==============================] - 0s 397us/sample - loss: 0.4162 - acc: 0.8482 - val_loss: 0.4012 - val_acc: 0.8684\n",
            "Epoch 49/150\n",
            "112/112 [==============================] - 0s 418us/sample - loss: 0.3901 - acc: 0.8839 - val_loss: 0.3998 - val_acc: 0.8684\n",
            "Epoch 50/150\n",
            "112/112 [==============================] - 0s 436us/sample - loss: 0.5032 - acc: 0.7857 - val_loss: 0.4007 - val_acc: 0.8684\n",
            "Epoch 51/150\n",
            "112/112 [==============================] - 0s 404us/sample - loss: 0.4895 - acc: 0.8214 - val_loss: 0.4018 - val_acc: 0.8684\n",
            "Epoch 52/150\n",
            "112/112 [==============================] - 0s 421us/sample - loss: 0.4271 - acc: 0.8482 - val_loss: 0.4001 - val_acc: 0.8684\n",
            "Epoch 53/150\n",
            "112/112 [==============================] - 0s 433us/sample - loss: 0.4385 - acc: 0.8214 - val_loss: 0.3996 - val_acc: 0.8684\n",
            "Epoch 54/150\n",
            "112/112 [==============================] - 0s 453us/sample - loss: 0.4129 - acc: 0.8571 - val_loss: 0.4003 - val_acc: 0.8684\n",
            "Epoch 55/150\n",
            "112/112 [==============================] - 0s 407us/sample - loss: 0.4069 - acc: 0.8482 - val_loss: 0.3990 - val_acc: 0.8684\n",
            "Epoch 56/150\n",
            "112/112 [==============================] - 0s 415us/sample - loss: 0.4184 - acc: 0.8750 - val_loss: 0.3966 - val_acc: 0.8684\n",
            "Epoch 57/150\n",
            "112/112 [==============================] - 0s 418us/sample - loss: 0.4881 - acc: 0.7768 - val_loss: 0.3974 - val_acc: 0.8684\n",
            "Epoch 58/150\n",
            "112/112 [==============================] - 0s 416us/sample - loss: 0.4080 - acc: 0.8482 - val_loss: 0.3950 - val_acc: 0.8947\n",
            "Epoch 59/150\n",
            "112/112 [==============================] - 0s 407us/sample - loss: 0.3846 - acc: 0.8839 - val_loss: 0.3948 - val_acc: 0.8684\n",
            "Epoch 60/150\n",
            "112/112 [==============================] - 0s 472us/sample - loss: 0.4228 - acc: 0.8571 - val_loss: 0.3939 - val_acc: 0.8684\n",
            "Epoch 61/150\n",
            "112/112 [==============================] - 0s 449us/sample - loss: 0.4345 - acc: 0.8214 - val_loss: 0.3941 - val_acc: 0.8684\n",
            "Epoch 62/150\n",
            "112/112 [==============================] - 0s 410us/sample - loss: 0.4228 - acc: 0.8482 - val_loss: 0.3936 - val_acc: 0.8684\n",
            "Epoch 63/150\n",
            "112/112 [==============================] - 0s 423us/sample - loss: 0.4125 - acc: 0.8571 - val_loss: 0.3921 - val_acc: 0.8684\n",
            "Epoch 64/150\n",
            "112/112 [==============================] - 0s 401us/sample - loss: 0.3906 - acc: 0.8571 - val_loss: 0.3914 - val_acc: 0.8684\n",
            "Epoch 65/150\n",
            "112/112 [==============================] - 0s 446us/sample - loss: 0.4191 - acc: 0.8482 - val_loss: 0.3916 - val_acc: 0.8684\n",
            "Epoch 66/150\n",
            "112/112 [==============================] - 0s 432us/sample - loss: 0.4420 - acc: 0.7768 - val_loss: 0.3911 - val_acc: 0.8684\n",
            "Epoch 67/150\n",
            "112/112 [==============================] - 0s 403us/sample - loss: 0.4104 - acc: 0.8571 - val_loss: 0.3910 - val_acc: 0.8684\n",
            "Epoch 68/150\n",
            "112/112 [==============================] - 0s 414us/sample - loss: 0.4372 - acc: 0.8125 - val_loss: 0.3906 - val_acc: 0.8684\n",
            "Epoch 69/150\n",
            "112/112 [==============================] - 0s 433us/sample - loss: 0.4920 - acc: 0.7679 - val_loss: 0.3907 - val_acc: 0.8684\n",
            "Epoch 70/150\n",
            "112/112 [==============================] - 0s 402us/sample - loss: 0.4072 - acc: 0.8482 - val_loss: 0.3894 - val_acc: 0.8684\n",
            "Epoch 71/150\n",
            "112/112 [==============================] - 0s 382us/sample - loss: 0.4474 - acc: 0.8304 - val_loss: 0.3903 - val_acc: 0.8684\n",
            "Epoch 72/150\n",
            "112/112 [==============================] - 0s 411us/sample - loss: 0.4145 - acc: 0.8571 - val_loss: 0.3893 - val_acc: 0.8684\n",
            "Epoch 73/150\n",
            "112/112 [==============================] - 0s 418us/sample - loss: 0.4283 - acc: 0.8393 - val_loss: 0.3889 - val_acc: 0.8684\n",
            "Epoch 74/150\n",
            "112/112 [==============================] - 0s 430us/sample - loss: 0.3992 - acc: 0.8839 - val_loss: 0.3871 - val_acc: 0.8684\n",
            "Epoch 75/150\n",
            "112/112 [==============================] - 0s 415us/sample - loss: 0.4959 - acc: 0.7857 - val_loss: 0.3866 - val_acc: 0.8947\n",
            "Epoch 76/150\n",
            "112/112 [==============================] - 0s 397us/sample - loss: 0.3781 - acc: 0.8839 - val_loss: 0.3860 - val_acc: 0.8947\n",
            "Epoch 77/150\n",
            "112/112 [==============================] - 0s 398us/sample - loss: 0.4696 - acc: 0.8036 - val_loss: 0.3865 - val_acc: 0.8684\n",
            "Epoch 78/150\n",
            "112/112 [==============================] - 0s 451us/sample - loss: 0.4152 - acc: 0.8482 - val_loss: 0.3855 - val_acc: 0.8947\n",
            "Epoch 79/150\n",
            "112/112 [==============================] - 0s 392us/sample - loss: 0.4143 - acc: 0.8482 - val_loss: 0.3850 - val_acc: 0.8947\n",
            "Epoch 80/150\n",
            "112/112 [==============================] - 0s 457us/sample - loss: 0.3719 - acc: 0.9196 - val_loss: 0.3838 - val_acc: 0.8947\n",
            "Epoch 81/150\n",
            "112/112 [==============================] - 0s 456us/sample - loss: 0.3902 - acc: 0.8571 - val_loss: 0.3826 - val_acc: 0.8947\n",
            "Epoch 82/150\n",
            "112/112 [==============================] - 0s 414us/sample - loss: 0.4031 - acc: 0.8571 - val_loss: 0.3802 - val_acc: 0.8947\n",
            "Epoch 83/150\n",
            "112/112 [==============================] - 0s 408us/sample - loss: 0.4293 - acc: 0.8304 - val_loss: 0.3800 - val_acc: 0.8947\n",
            "Epoch 84/150\n",
            "112/112 [==============================] - 0s 423us/sample - loss: 0.4033 - acc: 0.8571 - val_loss: 0.3785 - val_acc: 0.8947\n",
            "Epoch 85/150\n",
            "112/112 [==============================] - 0s 469us/sample - loss: 0.5203 - acc: 0.7857 - val_loss: 0.3799 - val_acc: 0.8947\n",
            "Epoch 86/150\n",
            "112/112 [==============================] - 0s 410us/sample - loss: 0.3891 - acc: 0.8482 - val_loss: 0.3788 - val_acc: 0.8947\n",
            "Epoch 87/150\n",
            "112/112 [==============================] - 0s 402us/sample - loss: 0.4416 - acc: 0.7768 - val_loss: 0.3797 - val_acc: 0.8947\n",
            "Epoch 88/150\n",
            "112/112 [==============================] - 0s 411us/sample - loss: 0.3818 - acc: 0.8750 - val_loss: 0.3784 - val_acc: 0.8947\n",
            "Epoch 89/150\n",
            "112/112 [==============================] - 0s 473us/sample - loss: 0.3972 - acc: 0.8750 - val_loss: 0.3783 - val_acc: 0.8947\n",
            "Epoch 90/150\n",
            "112/112 [==============================] - 0s 396us/sample - loss: 0.3648 - acc: 0.9018 - val_loss: 0.3770 - val_acc: 0.8947\n",
            "Epoch 91/150\n",
            "112/112 [==============================] - 0s 415us/sample - loss: 0.4002 - acc: 0.8393 - val_loss: 0.3758 - val_acc: 0.8947\n",
            "Epoch 92/150\n",
            "112/112 [==============================] - 0s 415us/sample - loss: 0.3952 - acc: 0.8750 - val_loss: 0.3748 - val_acc: 0.8947\n",
            "Epoch 93/150\n",
            "112/112 [==============================] - 0s 453us/sample - loss: 0.4023 - acc: 0.8571 - val_loss: 0.3757 - val_acc: 0.8947\n",
            "Epoch 94/150\n",
            "112/112 [==============================] - 0s 419us/sample - loss: 0.4911 - acc: 0.7946 - val_loss: 0.3759 - val_acc: 0.8684\n",
            "Epoch 95/150\n",
            "112/112 [==============================] - 0s 429us/sample - loss: 0.3949 - acc: 0.8571 - val_loss: 0.3773 - val_acc: 0.8684\n",
            "Epoch 96/150\n",
            "112/112 [==============================] - 0s 405us/sample - loss: 0.4168 - acc: 0.8393 - val_loss: 0.3775 - val_acc: 0.8684\n",
            "Epoch 97/150\n",
            "112/112 [==============================] - 0s 417us/sample - loss: 0.4371 - acc: 0.8304 - val_loss: 0.3771 - val_acc: 0.8684\n",
            "Epoch 98/150\n",
            "112/112 [==============================] - 0s 386us/sample - loss: 0.3929 - acc: 0.8571 - val_loss: 0.3759 - val_acc: 0.8684\n",
            "Epoch 99/150\n",
            "112/112 [==============================] - 0s 397us/sample - loss: 0.4174 - acc: 0.8393 - val_loss: 0.3753 - val_acc: 0.8684\n",
            "Epoch 100/150\n",
            "112/112 [==============================] - 0s 493us/sample - loss: 0.3717 - acc: 0.8661 - val_loss: 0.3747 - val_acc: 0.8684\n",
            "Epoch 101/150\n",
            "112/112 [==============================] - 0s 451us/sample - loss: 0.3903 - acc: 0.8393 - val_loss: 0.3735 - val_acc: 0.8684\n",
            "Epoch 102/150\n",
            "112/112 [==============================] - 0s 536us/sample - loss: 0.4093 - acc: 0.8304 - val_loss: 0.3722 - val_acc: 0.8684\n",
            "Epoch 103/150\n",
            "112/112 [==============================] - 0s 401us/sample - loss: 0.3857 - acc: 0.8393 - val_loss: 0.3702 - val_acc: 0.8947\n",
            "Epoch 104/150\n",
            "112/112 [==============================] - 0s 410us/sample - loss: 0.4110 - acc: 0.8125 - val_loss: 0.3691 - val_acc: 0.8947\n",
            "Epoch 105/150\n",
            "112/112 [==============================] - 0s 416us/sample - loss: 0.4094 - acc: 0.8036 - val_loss: 0.3672 - val_acc: 0.8947\n",
            "Epoch 106/150\n",
            "112/112 [==============================] - 0s 429us/sample - loss: 0.4192 - acc: 0.8214 - val_loss: 0.3665 - val_acc: 0.8947\n",
            "Epoch 107/150\n",
            "112/112 [==============================] - 0s 417us/sample - loss: 0.4277 - acc: 0.8482 - val_loss: 0.3675 - val_acc: 0.8947\n",
            "Epoch 108/150\n",
            "112/112 [==============================] - 0s 414us/sample - loss: 0.3890 - acc: 0.8839 - val_loss: 0.3666 - val_acc: 0.8947\n",
            "Epoch 109/150\n",
            "112/112 [==============================] - 0s 437us/sample - loss: 0.4228 - acc: 0.8125 - val_loss: 0.3662 - val_acc: 0.8947\n",
            "Epoch 110/150\n",
            "112/112 [==============================] - 0s 401us/sample - loss: 0.4269 - acc: 0.7946 - val_loss: 0.3651 - val_acc: 0.9211\n",
            "Epoch 111/150\n",
            "112/112 [==============================] - 0s 404us/sample - loss: 0.4124 - acc: 0.8393 - val_loss: 0.3642 - val_acc: 0.9211\n",
            "Epoch 112/150\n",
            "112/112 [==============================] - 0s 406us/sample - loss: 0.3980 - acc: 0.8393 - val_loss: 0.3638 - val_acc: 0.9211\n",
            "Epoch 113/150\n",
            "112/112 [==============================] - 0s 393us/sample - loss: 0.4216 - acc: 0.8482 - val_loss: 0.3644 - val_acc: 0.8947\n",
            "Epoch 114/150\n",
            "112/112 [==============================] - 0s 424us/sample - loss: 0.3939 - acc: 0.8304 - val_loss: 0.3652 - val_acc: 0.8947\n",
            "Epoch 115/150\n",
            "112/112 [==============================] - 0s 423us/sample - loss: 0.3760 - acc: 0.8661 - val_loss: 0.3641 - val_acc: 0.8947\n",
            "Epoch 116/150\n",
            "112/112 [==============================] - 0s 421us/sample - loss: 0.4549 - acc: 0.8304 - val_loss: 0.3636 - val_acc: 0.8947\n",
            "Epoch 117/150\n",
            "112/112 [==============================] - 0s 404us/sample - loss: 0.4110 - acc: 0.8393 - val_loss: 0.3645 - val_acc: 0.8947\n",
            "Epoch 118/150\n",
            "112/112 [==============================] - 0s 410us/sample - loss: 0.4645 - acc: 0.7946 - val_loss: 0.3655 - val_acc: 0.8684\n",
            "Epoch 119/150\n",
            "112/112 [==============================] - 0s 402us/sample - loss: 0.3778 - acc: 0.8750 - val_loss: 0.3645 - val_acc: 0.8947\n",
            "Epoch 120/150\n",
            "112/112 [==============================] - 0s 501us/sample - loss: 0.4303 - acc: 0.7946 - val_loss: 0.3643 - val_acc: 0.8947\n",
            "Epoch 121/150\n",
            "112/112 [==============================] - 0s 410us/sample - loss: 0.4785 - acc: 0.7768 - val_loss: 0.3659 - val_acc: 0.8684\n",
            "Epoch 122/150\n",
            "112/112 [==============================] - 0s 469us/sample - loss: 0.3753 - acc: 0.8839 - val_loss: 0.3635 - val_acc: 0.8947\n",
            "Epoch 123/150\n",
            "112/112 [==============================] - 0s 394us/sample - loss: 0.3672 - acc: 0.8482 - val_loss: 0.3622 - val_acc: 0.8947\n",
            "Epoch 124/150\n",
            "112/112 [==============================] - 0s 431us/sample - loss: 0.3786 - acc: 0.8661 - val_loss: 0.3610 - val_acc: 0.8947\n",
            "Epoch 125/150\n",
            "112/112 [==============================] - 0s 413us/sample - loss: 0.4196 - acc: 0.8214 - val_loss: 0.3609 - val_acc: 0.8947\n",
            "Epoch 126/150\n",
            "112/112 [==============================] - 0s 426us/sample - loss: 0.3582 - acc: 0.8750 - val_loss: 0.3584 - val_acc: 0.9211\n",
            "Epoch 127/150\n",
            "112/112 [==============================] - 0s 408us/sample - loss: 0.3650 - acc: 0.8839 - val_loss: 0.3566 - val_acc: 0.9211\n",
            "Epoch 128/150\n",
            "112/112 [==============================] - 0s 412us/sample - loss: 0.5100 - acc: 0.7768 - val_loss: 0.3593 - val_acc: 0.8947\n",
            "Epoch 129/150\n",
            "112/112 [==============================] - 0s 409us/sample - loss: 0.4172 - acc: 0.8482 - val_loss: 0.3602 - val_acc: 0.8947\n",
            "Epoch 130/150\n",
            "112/112 [==============================] - 0s 426us/sample - loss: 0.4531 - acc: 0.7946 - val_loss: 0.3592 - val_acc: 0.8947\n",
            "Epoch 131/150\n",
            "112/112 [==============================] - 0s 460us/sample - loss: 0.4194 - acc: 0.8125 - val_loss: 0.3577 - val_acc: 0.9211\n",
            "Epoch 132/150\n",
            "112/112 [==============================] - 0s 419us/sample - loss: 0.4092 - acc: 0.8482 - val_loss: 0.3571 - val_acc: 0.9211\n",
            "Epoch 133/150\n",
            "112/112 [==============================] - 0s 420us/sample - loss: 0.3881 - acc: 0.8750 - val_loss: 0.3567 - val_acc: 0.9211\n",
            "Epoch 134/150\n",
            "112/112 [==============================] - 0s 421us/sample - loss: 0.4092 - acc: 0.8393 - val_loss: 0.3565 - val_acc: 0.9211\n",
            "Epoch 135/150\n",
            "112/112 [==============================] - 0s 416us/sample - loss: 0.4079 - acc: 0.8482 - val_loss: 0.3552 - val_acc: 0.9211\n",
            "Epoch 136/150\n",
            "112/112 [==============================] - 0s 417us/sample - loss: 0.3987 - acc: 0.8393 - val_loss: 0.3552 - val_acc: 0.9211\n",
            "Epoch 137/150\n",
            "112/112 [==============================] - 0s 426us/sample - loss: 0.3781 - acc: 0.8929 - val_loss: 0.3542 - val_acc: 0.9211\n",
            "Epoch 138/150\n",
            "112/112 [==============================] - 0s 397us/sample - loss: 0.3456 - acc: 0.8929 - val_loss: 0.3521 - val_acc: 0.9211\n",
            "Epoch 139/150\n",
            "112/112 [==============================] - 0s 389us/sample - loss: 0.3996 - acc: 0.8214 - val_loss: 0.3497 - val_acc: 0.9211\n",
            "Epoch 140/150\n",
            "112/112 [==============================] - 0s 509us/sample - loss: 0.4700 - acc: 0.8036 - val_loss: 0.3515 - val_acc: 0.9211\n",
            "Epoch 141/150\n",
            "112/112 [==============================] - 0s 466us/sample - loss: 0.4135 - acc: 0.8571 - val_loss: 0.3514 - val_acc: 0.9211\n",
            "Epoch 142/150\n",
            "112/112 [==============================] - 0s 399us/sample - loss: 0.3578 - acc: 0.8839 - val_loss: 0.3500 - val_acc: 0.9211\n",
            "Epoch 143/150\n",
            "112/112 [==============================] - 0s 431us/sample - loss: 0.4013 - acc: 0.8304 - val_loss: 0.3496 - val_acc: 0.9211\n",
            "Epoch 144/150\n",
            "112/112 [==============================] - 0s 456us/sample - loss: 0.3648 - acc: 0.9018 - val_loss: 0.3473 - val_acc: 0.9211\n",
            "Epoch 145/150\n",
            "112/112 [==============================] - 0s 437us/sample - loss: 0.3442 - acc: 0.8929 - val_loss: 0.3465 - val_acc: 0.9211\n",
            "Epoch 146/150\n",
            "112/112 [==============================] - 0s 419us/sample - loss: 0.3648 - acc: 0.8571 - val_loss: 0.3447 - val_acc: 0.9211\n",
            "Epoch 147/150\n",
            "112/112 [==============================] - 0s 478us/sample - loss: 0.3880 - acc: 0.8393 - val_loss: 0.3455 - val_acc: 0.9211\n",
            "Epoch 148/150\n",
            "112/112 [==============================] - 0s 416us/sample - loss: 0.3808 - acc: 0.8571 - val_loss: 0.3437 - val_acc: 0.9211\n",
            "Epoch 149/150\n",
            "112/112 [==============================] - 0s 422us/sample - loss: 0.3706 - acc: 0.9018 - val_loss: 0.3440 - val_acc: 0.9211\n",
            "Epoch 150/150\n",
            "112/112 [==============================] - 0s 440us/sample - loss: 0.4076 - acc: 0.8393 - val_loss: 0.3445 - val_acc: 0.9211\n"
          ],
          "name": "stdout"
        },
        {
          "output_type": "execute_result",
          "data": {
            "text/plain": [
              "<tensorflow.python.keras.callbacks.History at 0x7f0d5ff4d978>"
            ]
          },
          "metadata": {
            "tags": []
          },
          "execution_count": 60
        }
      ]
    },
    {
      "cell_type": "code",
      "metadata": {
        "id": "a7ChgYtQ90cj",
        "colab_type": "code",
        "colab": {
          "base_uri": "https://localhost:8080/",
          "height": 295
        },
        "outputId": "723fd722-a289-4c1f-a025-a3f6b828391f"
      },
      "source": [
        "model.summary()"
      ],
      "execution_count": 61,
      "outputs": [
        {
          "output_type": "stream",
          "text": [
            "Model: \"sequential_1\"\n",
            "_________________________________________________________________\n",
            "Layer (type)                 Output Shape              Param #   \n",
            "=================================================================\n",
            "batch_normalization (BatchNo (None, 4)                 16        \n",
            "_________________________________________________________________\n",
            "dense_1 (Dense)              (None, 10)                50        \n",
            "_________________________________________________________________\n",
            "dense_2 (Dense)              (None, 8)                 88        \n",
            "_________________________________________________________________\n",
            "dense_3 (Dense)              (None, 3)                 27        \n",
            "=================================================================\n",
            "Total params: 181\n",
            "Trainable params: 173\n",
            "Non-trainable params: 8\n",
            "_________________________________________________________________\n"
          ],
          "name": "stdout"
        }
      ]
    },
    {
      "cell_type": "markdown",
      "metadata": {
        "id": "tDGkA4V990cn",
        "colab_type": "text"
      },
      "source": [
        "### Report Accuracy of the predicted values"
      ]
    },
    {
      "cell_type": "code",
      "metadata": {
        "id": "BfnShFiN90cn",
        "colab_type": "code",
        "colab": {
          "base_uri": "https://localhost:8080/",
          "height": 676
        },
        "outputId": "49bcc7f2-f6d5-47c9-c430-4f0dd3a0954c"
      },
      "source": [
        "pred = model.predict(X_test)\n",
        "pred"
      ],
      "execution_count": 62,
      "outputs": [
        {
          "output_type": "execute_result",
          "data": {
            "text/plain": [
              "array([[0.01885681, 0.62666905, 0.3544742 ],\n",
              "       [0.00515039, 0.3180198 , 0.6768298 ],\n",
              "       [0.94014245, 0.05700803, 0.00284956],\n",
              "       [0.01923047, 0.5108761 , 0.4698935 ],\n",
              "       [0.9318728 , 0.06513178, 0.00299548],\n",
              "       [0.05988625, 0.78641164, 0.15370212],\n",
              "       [0.01017148, 0.47840068, 0.5114278 ],\n",
              "       [0.07698244, 0.74552596, 0.17749165],\n",
              "       [0.9345658 , 0.06250963, 0.00292459],\n",
              "       [0.0288354 , 0.63674736, 0.33441725],\n",
              "       [0.02103931, 0.5359303 , 0.4430304 ],\n",
              "       [0.00609359, 0.36002392, 0.6338825 ],\n",
              "       [0.02965303, 0.7107431 , 0.25960383],\n",
              "       [0.9122797 , 0.08389364, 0.00382662],\n",
              "       [0.94045335, 0.05667431, 0.0028723 ],\n",
              "       [0.00421082, 0.25929752, 0.7364917 ],\n",
              "       [0.02844746, 0.4318378 , 0.53971475],\n",
              "       [0.91789013, 0.07860328, 0.00350656],\n",
              "       [0.9382326 , 0.05879061, 0.00297678],\n",
              "       [0.92834014, 0.06854054, 0.00311925],\n",
              "       [0.00397425, 0.25023103, 0.7457947 ],\n",
              "       [0.00414138, 0.27229148, 0.7235671 ],\n",
              "       [0.00652815, 0.35641822, 0.6370536 ],\n",
              "       [0.9336087 , 0.06343617, 0.0029551 ],\n",
              "       [0.02008365, 0.52112806, 0.4587883 ],\n",
              "       [0.92906535, 0.06787557, 0.00305911],\n",
              "       [0.07870499, 0.68632954, 0.23496553],\n",
              "       [0.03736924, 0.7098379 , 0.25279287],\n",
              "       [0.01027042, 0.43059874, 0.55913085],\n",
              "       [0.00541474, 0.22998503, 0.7646002 ],\n",
              "       [0.01676586, 0.5037589 , 0.47947526],\n",
              "       [0.02592272, 0.5844651 , 0.38961223],\n",
              "       [0.00543367, 0.29243144, 0.7021349 ],\n",
              "       [0.00427141, 0.28256828, 0.7131603 ],\n",
              "       [0.00576165, 0.35508257, 0.6391558 ],\n",
              "       [0.92892647, 0.06801317, 0.00306039],\n",
              "       [0.00455736, 0.247882  , 0.7475606 ],\n",
              "       [0.00395379, 0.23893148, 0.75711477]], dtype=float32)"
            ]
          },
          "metadata": {
            "tags": []
          },
          "execution_count": 62
        }
      ]
    },
    {
      "cell_type": "code",
      "metadata": {
        "id": "flZRWejsZ_AO",
        "colab_type": "code",
        "colab": {}
      },
      "source": [
        "pred_val=[]\n",
        "for val in pred:  \n",
        "  pred_val.append(np.argmax(val))"
      ],
      "execution_count": 0,
      "outputs": []
    },
    {
      "cell_type": "code",
      "metadata": {
        "id": "MpOsbLB8aHLl",
        "colab_type": "code",
        "colab": {
          "base_uri": "https://localhost:8080/",
          "height": 676
        },
        "outputId": "dc5c120b-a4eb-4a6e-a2cb-17ca4cb22a76"
      },
      "source": [
        "pred_val"
      ],
      "execution_count": 68,
      "outputs": [
        {
          "output_type": "execute_result",
          "data": {
            "text/plain": [
              "[1,\n",
              " 2,\n",
              " 0,\n",
              " 1,\n",
              " 0,\n",
              " 1,\n",
              " 2,\n",
              " 1,\n",
              " 0,\n",
              " 1,\n",
              " 1,\n",
              " 2,\n",
              " 1,\n",
              " 0,\n",
              " 0,\n",
              " 2,\n",
              " 2,\n",
              " 0,\n",
              " 0,\n",
              " 0,\n",
              " 2,\n",
              " 2,\n",
              " 2,\n",
              " 0,\n",
              " 1,\n",
              " 0,\n",
              " 1,\n",
              " 1,\n",
              " 2,\n",
              " 2,\n",
              " 1,\n",
              " 1,\n",
              " 2,\n",
              " 2,\n",
              " 2,\n",
              " 0,\n",
              " 2,\n",
              " 2]"
            ]
          },
          "metadata": {
            "tags": []
          },
          "execution_count": 68
        }
      ]
    },
    {
      "cell_type": "code",
      "metadata": {
        "id": "Q7bqJhp2ZiCm",
        "colab_type": "code",
        "colab": {
          "base_uri": "https://localhost:8080/",
          "height": 52
        },
        "outputId": "ebc82e51-da70-4f5b-bbf2-a597261c1510"
      },
      "source": [
        "model.evaluate(X_test,y_test)"
      ],
      "execution_count": 63,
      "outputs": [
        {
          "output_type": "stream",
          "text": [
            "38/38 [==============================] - 0s 2ms/sample - loss: 0.3445 - acc: 0.9211\n"
          ],
          "name": "stdout"
        },
        {
          "output_type": "execute_result",
          "data": {
            "text/plain": [
              "[0.34453511394952474, 0.92105263]"
            ]
          },
          "metadata": {
            "tags": []
          },
          "execution_count": 63
        }
      ]
    },
    {
      "cell_type": "code",
      "metadata": {
        "id": "dNBmzTSyZxJa",
        "colab_type": "code",
        "colab": {}
      },
      "source": [
        ""
      ],
      "execution_count": 0,
      "outputs": []
    }
  ]
}