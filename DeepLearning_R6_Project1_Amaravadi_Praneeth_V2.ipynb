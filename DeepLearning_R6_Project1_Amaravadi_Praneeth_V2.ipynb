{
 "cells": [
  {
   "cell_type": "markdown",
   "metadata": {
    "colab_type": "text",
    "id": "mLh2jhIKZ8V_"
   },
   "source": [
    "## Determine whether a given bank customer will leave or not using Neural networks"
   ]
  },
  {
   "cell_type": "markdown",
   "metadata": {
    "colab_type": "text",
    "id": "0COyN1W6ZyNB"
   },
   "source": [
    "### Importing required libraries"
   ]
  },
  {
   "cell_type": "code",
   "execution_count": 0,
   "metadata": {
    "colab": {},
    "colab_type": "code",
    "id": "qOe3MF2huM2i"
   },
   "outputs": [],
   "source": [
    "import tensorflow as tf\n",
    "import numpy as np\n",
    "import pandas as pd\n",
    "import matplotlib.pyplot as plt"
   ]
  },
  {
   "cell_type": "code",
   "execution_count": 0,
   "metadata": {
    "colab": {},
    "colab_type": "code",
    "id": "Z7DQqzfEw2iG"
   },
   "outputs": [],
   "source": [
    "tf.enable_eager_execution()\n",
    "tf.set_random_seed(23)"
   ]
  },
  {
   "cell_type": "markdown",
   "metadata": {
    "colab_type": "text",
    "id": "tLU83M5vZSa_"
   },
   "source": [
    "### Reading data from Google Drive"
   ]
  },
  {
   "cell_type": "code",
   "execution_count": 3,
   "metadata": {
    "colab": {
     "base_uri": "https://localhost:8080/",
     "height": 125
    },
    "colab_type": "code",
    "id": "fFmZYUVGxzpR",
    "outputId": "8ec22cd8-cfbb-431b-c7a2-ed2fb6e567a4"
   },
   "outputs": [
    {
     "name": "stdout",
     "output_type": "stream",
     "text": [
      "Go to this URL in a browser: https://accounts.google.com/o/oauth2/auth?client_id=947318989803-6bn6qk8qdgf4n4g3pfee6491hc0brc4i.apps.googleusercontent.com&redirect_uri=urn%3Aietf%3Awg%3Aoauth%3A2.0%3Aoob&scope=email%20https%3A%2F%2Fwww.googleapis.com%2Fauth%2Fdocs.test%20https%3A%2F%2Fwww.googleapis.com%2Fauth%2Fdrive%20https%3A%2F%2Fwww.googleapis.com%2Fauth%2Fdrive.photos.readonly%20https%3A%2F%2Fwww.googleapis.com%2Fauth%2Fpeopleapi.readonly&response_type=code\n",
      "\n",
      "Enter your authorization code:\n",
      "··········\n",
      "Mounted at /content/drive\n"
     ]
    }
   ],
   "source": [
    "from google.colab import drive\n",
    "drive.mount('/content/drive')"
   ]
  },
  {
   "cell_type": "code",
   "execution_count": 0,
   "metadata": {
    "colab": {},
    "colab_type": "code",
    "id": "xywHmJkRxJzc"
   },
   "outputs": [],
   "source": [
    "data = pd.read_csv('/content/drive/My Drive/Colab Notebooks/bank.csv')"
   ]
  },
  {
   "cell_type": "code",
   "execution_count": 5,
   "metadata": {
    "colab": {
     "base_uri": "https://localhost:8080/",
     "height": 219
    },
    "colab_type": "code",
    "id": "o7k0Mg3ExfPB",
    "outputId": "ac03c9cc-f708-4991-de7a-9582c0e6f60f"
   },
   "outputs": [
    {
     "data": {
      "text/html": [
       "<div>\n",
       "<style scoped>\n",
       "    .dataframe tbody tr th:only-of-type {\n",
       "        vertical-align: middle;\n",
       "    }\n",
       "\n",
       "    .dataframe tbody tr th {\n",
       "        vertical-align: top;\n",
       "    }\n",
       "\n",
       "    .dataframe thead th {\n",
       "        text-align: right;\n",
       "    }\n",
       "</style>\n",
       "<table border=\"1\" class=\"dataframe\">\n",
       "  <thead>\n",
       "    <tr style=\"text-align: right;\">\n",
       "      <th></th>\n",
       "      <th>RowNumber</th>\n",
       "      <th>CustomerId</th>\n",
       "      <th>Surname</th>\n",
       "      <th>CreditScore</th>\n",
       "      <th>Geography</th>\n",
       "      <th>Gender</th>\n",
       "      <th>Age</th>\n",
       "      <th>Tenure</th>\n",
       "      <th>Balance</th>\n",
       "      <th>NumOfProducts</th>\n",
       "      <th>HasCrCard</th>\n",
       "      <th>IsActiveMember</th>\n",
       "      <th>EstimatedSalary</th>\n",
       "      <th>Exited</th>\n",
       "    </tr>\n",
       "  </thead>\n",
       "  <tbody>\n",
       "    <tr>\n",
       "      <th>0</th>\n",
       "      <td>1</td>\n",
       "      <td>15634602</td>\n",
       "      <td>Hargrave</td>\n",
       "      <td>619</td>\n",
       "      <td>France</td>\n",
       "      <td>Female</td>\n",
       "      <td>42</td>\n",
       "      <td>2</td>\n",
       "      <td>0.00</td>\n",
       "      <td>1</td>\n",
       "      <td>1</td>\n",
       "      <td>1</td>\n",
       "      <td>101348.88</td>\n",
       "      <td>1</td>\n",
       "    </tr>\n",
       "    <tr>\n",
       "      <th>1</th>\n",
       "      <td>2</td>\n",
       "      <td>15647311</td>\n",
       "      <td>Hill</td>\n",
       "      <td>608</td>\n",
       "      <td>Spain</td>\n",
       "      <td>Female</td>\n",
       "      <td>41</td>\n",
       "      <td>1</td>\n",
       "      <td>83807.86</td>\n",
       "      <td>1</td>\n",
       "      <td>0</td>\n",
       "      <td>1</td>\n",
       "      <td>112542.58</td>\n",
       "      <td>0</td>\n",
       "    </tr>\n",
       "    <tr>\n",
       "      <th>2</th>\n",
       "      <td>3</td>\n",
       "      <td>15619304</td>\n",
       "      <td>Onio</td>\n",
       "      <td>502</td>\n",
       "      <td>France</td>\n",
       "      <td>Female</td>\n",
       "      <td>42</td>\n",
       "      <td>8</td>\n",
       "      <td>159660.80</td>\n",
       "      <td>3</td>\n",
       "      <td>1</td>\n",
       "      <td>0</td>\n",
       "      <td>113931.57</td>\n",
       "      <td>1</td>\n",
       "    </tr>\n",
       "    <tr>\n",
       "      <th>3</th>\n",
       "      <td>4</td>\n",
       "      <td>15701354</td>\n",
       "      <td>Boni</td>\n",
       "      <td>699</td>\n",
       "      <td>France</td>\n",
       "      <td>Female</td>\n",
       "      <td>39</td>\n",
       "      <td>1</td>\n",
       "      <td>0.00</td>\n",
       "      <td>2</td>\n",
       "      <td>0</td>\n",
       "      <td>0</td>\n",
       "      <td>93826.63</td>\n",
       "      <td>0</td>\n",
       "    </tr>\n",
       "    <tr>\n",
       "      <th>4</th>\n",
       "      <td>5</td>\n",
       "      <td>15737888</td>\n",
       "      <td>Mitchell</td>\n",
       "      <td>850</td>\n",
       "      <td>Spain</td>\n",
       "      <td>Female</td>\n",
       "      <td>43</td>\n",
       "      <td>2</td>\n",
       "      <td>125510.82</td>\n",
       "      <td>1</td>\n",
       "      <td>1</td>\n",
       "      <td>1</td>\n",
       "      <td>79084.10</td>\n",
       "      <td>0</td>\n",
       "    </tr>\n",
       "  </tbody>\n",
       "</table>\n",
       "</div>"
      ],
      "text/plain": [
       "   RowNumber  CustomerId   Surname  ...  IsActiveMember EstimatedSalary Exited\n",
       "0          1    15634602  Hargrave  ...               1       101348.88      1\n",
       "1          2    15647311      Hill  ...               1       112542.58      0\n",
       "2          3    15619304      Onio  ...               0       113931.57      1\n",
       "3          4    15701354      Boni  ...               0        93826.63      0\n",
       "4          5    15737888  Mitchell  ...               1        79084.10      0\n",
       "\n",
       "[5 rows x 14 columns]"
      ]
     },
     "execution_count": 5,
     "metadata": {
      "tags": []
     },
     "output_type": "execute_result"
    }
   ],
   "source": [
    "data.head()"
   ]
  },
  {
   "cell_type": "markdown",
   "metadata": {
    "colab_type": "text",
    "id": "lOTCROkzZZr6"
   },
   "source": [
    "### Checking for null values and nan'**s**"
   ]
  },
  {
   "cell_type": "code",
   "execution_count": 6,
   "metadata": {
    "colab": {
     "base_uri": "https://localhost:8080/",
     "height": 280
    },
    "colab_type": "code",
    "id": "5iM_aySUyYD3",
    "outputId": "e396e02c-b1ed-402e-c3c6-4f4b279cdb0e"
   },
   "outputs": [
    {
     "data": {
      "text/plain": [
       "RowNumber          0\n",
       "CustomerId         0\n",
       "Surname            0\n",
       "CreditScore        0\n",
       "Geography          0\n",
       "Gender             0\n",
       "Age                0\n",
       "Tenure             0\n",
       "Balance            0\n",
       "NumOfProducts      0\n",
       "HasCrCard          0\n",
       "IsActiveMember     0\n",
       "EstimatedSalary    0\n",
       "Exited             0\n",
       "dtype: int64"
      ]
     },
     "execution_count": 6,
     "metadata": {
      "tags": []
     },
     "output_type": "execute_result"
    }
   ],
   "source": [
    "data.isna().sum()"
   ]
  },
  {
   "cell_type": "code",
   "execution_count": 7,
   "metadata": {
    "colab": {
     "base_uri": "https://localhost:8080/",
     "height": 280
    },
    "colab_type": "code",
    "id": "dKrbu57PycAQ",
    "outputId": "3fd07656-9de6-4cfd-d903-7665a78424d7"
   },
   "outputs": [
    {
     "data": {
      "text/plain": [
       "RowNumber          0\n",
       "CustomerId         0\n",
       "Surname            0\n",
       "CreditScore        0\n",
       "Geography          0\n",
       "Gender             0\n",
       "Age                0\n",
       "Tenure             0\n",
       "Balance            0\n",
       "NumOfProducts      0\n",
       "HasCrCard          0\n",
       "IsActiveMember     0\n",
       "EstimatedSalary    0\n",
       "Exited             0\n",
       "dtype: int64"
      ]
     },
     "execution_count": 7,
     "metadata": {
      "tags": []
     },
     "output_type": "execute_result"
    }
   ],
   "source": [
    "data.isnull().sum()"
   ]
  },
  {
   "cell_type": "markdown",
   "metadata": {
    "colab_type": "text",
    "id": "xEl3KnoPZiBD"
   },
   "source": [
    "### Checking the Data types of each columns"
   ]
  },
  {
   "cell_type": "code",
   "execution_count": 8,
   "metadata": {
    "colab": {
     "base_uri": "https://localhost:8080/",
     "height": 351
    },
    "colab_type": "code",
    "id": "AQhHln8qys-c",
    "outputId": "1cf7608a-e5d8-4f7d-eead-cdc957c9e28c"
   },
   "outputs": [
    {
     "name": "stdout",
     "output_type": "stream",
     "text": [
      "<class 'pandas.core.frame.DataFrame'>\n",
      "RangeIndex: 10000 entries, 0 to 9999\n",
      "Data columns (total 14 columns):\n",
      "RowNumber          10000 non-null int64\n",
      "CustomerId         10000 non-null int64\n",
      "Surname            10000 non-null object\n",
      "CreditScore        10000 non-null int64\n",
      "Geography          10000 non-null object\n",
      "Gender             10000 non-null object\n",
      "Age                10000 non-null int64\n",
      "Tenure             10000 non-null int64\n",
      "Balance            10000 non-null float64\n",
      "NumOfProducts      10000 non-null int64\n",
      "HasCrCard          10000 non-null int64\n",
      "IsActiveMember     10000 non-null int64\n",
      "EstimatedSalary    10000 non-null float64\n",
      "Exited             10000 non-null int64\n",
      "dtypes: float64(2), int64(9), object(3)\n",
      "memory usage: 1.1+ MB\n"
     ]
    }
   ],
   "source": [
    "data.info()"
   ]
  },
  {
   "cell_type": "markdown",
   "metadata": {
    "colab_type": "text",
    "id": "jDPdzRX0YruQ"
   },
   "source": [
    "### Checking the unique values in each column"
   ]
  },
  {
   "cell_type": "code",
   "execution_count": 9,
   "metadata": {
    "colab": {
     "base_uri": "https://localhost:8080/",
     "height": 1000
    },
    "colab_type": "code",
    "id": "d3yahOWmyfKZ",
    "outputId": "bb51777b-1cb4-4bde-92bc-83f751fd8c35"
   },
   "outputs": [
    {
     "name": "stdout",
     "output_type": "stream",
     "text": [
      "RowNumber\n",
      "[    1     2     3 ...  9998  9999 10000]\n",
      "_______________________________________________________________________________________\n",
      "CustomerId\n",
      "[15634602 15647311 15619304 ... 15584532 15682355 15628319]\n",
      "_______________________________________________________________________________________\n",
      "Surname\n",
      "['Hargrave' 'Hill' 'Onio' ... 'Kashiwagi' 'Aldridge' 'Burbidge']\n",
      "_______________________________________________________________________________________\n",
      "CreditScore\n",
      "[619 608 502 699 850 645 822 376 501 684 528 497 476 549 635 616 653 587\n",
      " 726 732 636 510 669 846 577 756 571 574 411 591 533 553 520 722 475 490\n",
      " 804 582 472 465 556 834 660 776 829 637 550 698 585 788 655 601 656 725\n",
      " 511 614 742 687 555 603 751 581 735 661 675 738 813 657 604 519 664 678\n",
      " 757 416 665 777 543 506 493 652 750 729 646 647 808 524 769 730 515 773\n",
      " 814 710 413 623 670 622 785 605 479 685 538 562 721 628 668 828 674 625\n",
      " 432 770 758 795 686 789 589 461 584 579 663 682 793 691 485 650 754 535\n",
      " 716 539 706 586 631 717 800 683 704 615 667 484 480 578 512 606 597 778\n",
      " 514 525 715 580 807 521 759 516 711 618 643 671 689 620 676 572 695 592\n",
      " 567 694 547 594 673 610 767 763 712 703 662 659 523 772 545 634 739 771\n",
      " 681 544 696 766 727 693 557 531 498 651 791 733 811 707 714 782 775 799\n",
      " 602 744 588 747 583 627 731 629 438 642 806 474 559 429 680 749 734 644\n",
      " 626 649 805 718 840 630 654 762 568 613 522 737 648 443 640 540 460 593\n",
      " 801 611 802 745 483 690 492 709 705 560 752 701 537 487 596 702 486 724\n",
      " 548 464 790 534 748 494 590 468 509 818 816 536 753 774 621 569 658 798\n",
      " 641 542 692 639 765 570 638 599 632 779 527 564 833 504 842 508 417 598\n",
      " 741 607 761 848 546 439 755 760 526 713 700 666 566 495 688 612 477 427\n",
      " 839 819 720 459 503 624 529 563 482 796 445 746 786 554 672 787 499 844\n",
      " 450 815 838 803 736 633 600 679 517 792 743 488 421 841 708 507 505 456\n",
      " 435 561 518 565 728 784 552 609 764 697 723 551 444 719 496 541 830 812\n",
      " 677 420 595 617 809 500 826 434 513 478 797 363 399 463 780 452 575 837\n",
      " 794 824 428 823 781 849 489 431 457 768 831 359 820 573 576 558 817 449\n",
      " 440 415 821 530 350 446 425 740 481 783 358 845 451 458 469 423 404 836\n",
      " 473 835 466 491 351 827 843 365 532 414 453 471 401 810 832 470 447 422\n",
      " 825 430 436 426 408 847 418 437 410 454 407 455 462 386 405 383 395 467\n",
      " 433 442 424 448 441 367 412 382 373 419]\n",
      "_______________________________________________________________________________________\n",
      "Geography\n",
      "['France' 'Spain' 'Germany']\n",
      "_______________________________________________________________________________________\n",
      "Gender\n",
      "['Female' 'Male']\n",
      "_______________________________________________________________________________________\n",
      "Age\n",
      "[42 41 39 43 44 50 29 27 31 24 34 25 35 45 58 32 38 46 36 33 40 51 61 49\n",
      " 37 19 66 56 26 21 55 75 22 30 28 65 48 52 57 73 47 54 72 20 67 79 62 53\n",
      " 80 59 68 23 60 70 63 64 18 82 69 74 71 76 77 88 85 84 78 81 92 83]\n",
      "_______________________________________________________________________________________\n",
      "Tenure\n",
      "[ 2  1  8  7  4  6  3 10  5  9  0]\n",
      "_______________________________________________________________________________________\n",
      "Balance\n",
      "[     0.    83807.86 159660.8  ...  57369.61  75075.31 130142.79]\n",
      "_______________________________________________________________________________________\n",
      "NumOfProducts\n",
      "[1 3 2 4]\n",
      "_______________________________________________________________________________________\n",
      "HasCrCard\n",
      "[1 0]\n",
      "_______________________________________________________________________________________\n",
      "IsActiveMember\n",
      "[1 0]\n",
      "_______________________________________________________________________________________\n",
      "EstimatedSalary\n",
      "[101348.88 112542.58 113931.57 ...  42085.58  92888.52  38190.78]\n",
      "_______________________________________________________________________________________\n",
      "Exited\n",
      "[1 0]\n",
      "_______________________________________________________________________________________\n"
     ]
    }
   ],
   "source": [
    "for i in range(0,14):\n",
    "  print(data.columns[i])\n",
    "  print(pd.unique(data.iloc[:,i]))\n",
    "  print('_______________________________________________________________________________________') "
   ]
  },
  {
   "cell_type": "code",
   "execution_count": 0,
   "metadata": {
    "colab": {},
    "colab_type": "code",
    "id": "pDcx0uHs0EOQ"
   },
   "outputs": [],
   "source": [
    "data.drop(columns = {'RowNumber','CustomerId'}, inplace=True)"
   ]
  },
  {
   "cell_type": "code",
   "execution_count": 11,
   "metadata": {
    "colab": {
     "base_uri": "https://localhost:8080/",
     "height": 674
    },
    "colab_type": "code",
    "id": "BOour0TqyklJ",
    "outputId": "f636b370-71d4-4006-9f26-bb8f47389c8a"
   },
   "outputs": [
    {
     "data": {
      "text/html": [
       "<div>\n",
       "<style scoped>\n",
       "    .dataframe tbody tr th:only-of-type {\n",
       "        vertical-align: middle;\n",
       "    }\n",
       "\n",
       "    .dataframe tbody tr th {\n",
       "        vertical-align: top;\n",
       "    }\n",
       "\n",
       "    .dataframe thead th {\n",
       "        text-align: right;\n",
       "    }\n",
       "</style>\n",
       "<table border=\"1\" class=\"dataframe\">\n",
       "  <thead>\n",
       "    <tr style=\"text-align: right;\">\n",
       "      <th></th>\n",
       "      <th>Surname</th>\n",
       "      <th>CreditScore</th>\n",
       "      <th>Geography</th>\n",
       "      <th>Gender</th>\n",
       "      <th>Age</th>\n",
       "      <th>Tenure</th>\n",
       "      <th>Balance</th>\n",
       "      <th>NumOfProducts</th>\n",
       "      <th>HasCrCard</th>\n",
       "      <th>IsActiveMember</th>\n",
       "      <th>EstimatedSalary</th>\n",
       "      <th>Exited</th>\n",
       "    </tr>\n",
       "  </thead>\n",
       "  <tbody>\n",
       "    <tr>\n",
       "      <th>0</th>\n",
       "      <td>Hargrave</td>\n",
       "      <td>619</td>\n",
       "      <td>France</td>\n",
       "      <td>Female</td>\n",
       "      <td>42</td>\n",
       "      <td>2</td>\n",
       "      <td>0.00</td>\n",
       "      <td>1</td>\n",
       "      <td>1</td>\n",
       "      <td>1</td>\n",
       "      <td>101348.88</td>\n",
       "      <td>1</td>\n",
       "    </tr>\n",
       "    <tr>\n",
       "      <th>1</th>\n",
       "      <td>Hill</td>\n",
       "      <td>608</td>\n",
       "      <td>Spain</td>\n",
       "      <td>Female</td>\n",
       "      <td>41</td>\n",
       "      <td>1</td>\n",
       "      <td>83807.86</td>\n",
       "      <td>1</td>\n",
       "      <td>0</td>\n",
       "      <td>1</td>\n",
       "      <td>112542.58</td>\n",
       "      <td>0</td>\n",
       "    </tr>\n",
       "    <tr>\n",
       "      <th>2</th>\n",
       "      <td>Onio</td>\n",
       "      <td>502</td>\n",
       "      <td>France</td>\n",
       "      <td>Female</td>\n",
       "      <td>42</td>\n",
       "      <td>8</td>\n",
       "      <td>159660.80</td>\n",
       "      <td>3</td>\n",
       "      <td>1</td>\n",
       "      <td>0</td>\n",
       "      <td>113931.57</td>\n",
       "      <td>1</td>\n",
       "    </tr>\n",
       "    <tr>\n",
       "      <th>3</th>\n",
       "      <td>Boni</td>\n",
       "      <td>699</td>\n",
       "      <td>France</td>\n",
       "      <td>Female</td>\n",
       "      <td>39</td>\n",
       "      <td>1</td>\n",
       "      <td>0.00</td>\n",
       "      <td>2</td>\n",
       "      <td>0</td>\n",
       "      <td>0</td>\n",
       "      <td>93826.63</td>\n",
       "      <td>0</td>\n",
       "    </tr>\n",
       "    <tr>\n",
       "      <th>4</th>\n",
       "      <td>Mitchell</td>\n",
       "      <td>850</td>\n",
       "      <td>Spain</td>\n",
       "      <td>Female</td>\n",
       "      <td>43</td>\n",
       "      <td>2</td>\n",
       "      <td>125510.82</td>\n",
       "      <td>1</td>\n",
       "      <td>1</td>\n",
       "      <td>1</td>\n",
       "      <td>79084.10</td>\n",
       "      <td>0</td>\n",
       "    </tr>\n",
       "    <tr>\n",
       "      <th>5</th>\n",
       "      <td>Chu</td>\n",
       "      <td>645</td>\n",
       "      <td>Spain</td>\n",
       "      <td>Male</td>\n",
       "      <td>44</td>\n",
       "      <td>8</td>\n",
       "      <td>113755.78</td>\n",
       "      <td>2</td>\n",
       "      <td>1</td>\n",
       "      <td>0</td>\n",
       "      <td>149756.71</td>\n",
       "      <td>1</td>\n",
       "    </tr>\n",
       "    <tr>\n",
       "      <th>6</th>\n",
       "      <td>Bartlett</td>\n",
       "      <td>822</td>\n",
       "      <td>France</td>\n",
       "      <td>Male</td>\n",
       "      <td>50</td>\n",
       "      <td>7</td>\n",
       "      <td>0.00</td>\n",
       "      <td>2</td>\n",
       "      <td>1</td>\n",
       "      <td>1</td>\n",
       "      <td>10062.80</td>\n",
       "      <td>0</td>\n",
       "    </tr>\n",
       "    <tr>\n",
       "      <th>7</th>\n",
       "      <td>Obinna</td>\n",
       "      <td>376</td>\n",
       "      <td>Germany</td>\n",
       "      <td>Female</td>\n",
       "      <td>29</td>\n",
       "      <td>4</td>\n",
       "      <td>115046.74</td>\n",
       "      <td>4</td>\n",
       "      <td>1</td>\n",
       "      <td>0</td>\n",
       "      <td>119346.88</td>\n",
       "      <td>1</td>\n",
       "    </tr>\n",
       "    <tr>\n",
       "      <th>8</th>\n",
       "      <td>He</td>\n",
       "      <td>501</td>\n",
       "      <td>France</td>\n",
       "      <td>Male</td>\n",
       "      <td>44</td>\n",
       "      <td>4</td>\n",
       "      <td>142051.07</td>\n",
       "      <td>2</td>\n",
       "      <td>0</td>\n",
       "      <td>1</td>\n",
       "      <td>74940.50</td>\n",
       "      <td>0</td>\n",
       "    </tr>\n",
       "    <tr>\n",
       "      <th>9</th>\n",
       "      <td>H?</td>\n",
       "      <td>684</td>\n",
       "      <td>France</td>\n",
       "      <td>Male</td>\n",
       "      <td>27</td>\n",
       "      <td>2</td>\n",
       "      <td>134603.88</td>\n",
       "      <td>1</td>\n",
       "      <td>1</td>\n",
       "      <td>1</td>\n",
       "      <td>71725.73</td>\n",
       "      <td>0</td>\n",
       "    </tr>\n",
       "    <tr>\n",
       "      <th>10</th>\n",
       "      <td>Bearce</td>\n",
       "      <td>528</td>\n",
       "      <td>France</td>\n",
       "      <td>Male</td>\n",
       "      <td>31</td>\n",
       "      <td>6</td>\n",
       "      <td>102016.72</td>\n",
       "      <td>2</td>\n",
       "      <td>0</td>\n",
       "      <td>0</td>\n",
       "      <td>80181.12</td>\n",
       "      <td>0</td>\n",
       "    </tr>\n",
       "    <tr>\n",
       "      <th>11</th>\n",
       "      <td>Andrews</td>\n",
       "      <td>497</td>\n",
       "      <td>Spain</td>\n",
       "      <td>Male</td>\n",
       "      <td>24</td>\n",
       "      <td>3</td>\n",
       "      <td>0.00</td>\n",
       "      <td>2</td>\n",
       "      <td>1</td>\n",
       "      <td>0</td>\n",
       "      <td>76390.01</td>\n",
       "      <td>0</td>\n",
       "    </tr>\n",
       "    <tr>\n",
       "      <th>12</th>\n",
       "      <td>Kay</td>\n",
       "      <td>476</td>\n",
       "      <td>France</td>\n",
       "      <td>Female</td>\n",
       "      <td>34</td>\n",
       "      <td>10</td>\n",
       "      <td>0.00</td>\n",
       "      <td>2</td>\n",
       "      <td>1</td>\n",
       "      <td>0</td>\n",
       "      <td>26260.98</td>\n",
       "      <td>0</td>\n",
       "    </tr>\n",
       "    <tr>\n",
       "      <th>13</th>\n",
       "      <td>Chin</td>\n",
       "      <td>549</td>\n",
       "      <td>France</td>\n",
       "      <td>Female</td>\n",
       "      <td>25</td>\n",
       "      <td>5</td>\n",
       "      <td>0.00</td>\n",
       "      <td>2</td>\n",
       "      <td>0</td>\n",
       "      <td>0</td>\n",
       "      <td>190857.79</td>\n",
       "      <td>0</td>\n",
       "    </tr>\n",
       "    <tr>\n",
       "      <th>14</th>\n",
       "      <td>Scott</td>\n",
       "      <td>635</td>\n",
       "      <td>Spain</td>\n",
       "      <td>Female</td>\n",
       "      <td>35</td>\n",
       "      <td>7</td>\n",
       "      <td>0.00</td>\n",
       "      <td>2</td>\n",
       "      <td>1</td>\n",
       "      <td>1</td>\n",
       "      <td>65951.65</td>\n",
       "      <td>0</td>\n",
       "    </tr>\n",
       "    <tr>\n",
       "      <th>15</th>\n",
       "      <td>Goforth</td>\n",
       "      <td>616</td>\n",
       "      <td>Germany</td>\n",
       "      <td>Male</td>\n",
       "      <td>45</td>\n",
       "      <td>3</td>\n",
       "      <td>143129.41</td>\n",
       "      <td>2</td>\n",
       "      <td>0</td>\n",
       "      <td>1</td>\n",
       "      <td>64327.26</td>\n",
       "      <td>0</td>\n",
       "    </tr>\n",
       "    <tr>\n",
       "      <th>16</th>\n",
       "      <td>Romeo</td>\n",
       "      <td>653</td>\n",
       "      <td>Germany</td>\n",
       "      <td>Male</td>\n",
       "      <td>58</td>\n",
       "      <td>1</td>\n",
       "      <td>132602.88</td>\n",
       "      <td>1</td>\n",
       "      <td>1</td>\n",
       "      <td>0</td>\n",
       "      <td>5097.67</td>\n",
       "      <td>1</td>\n",
       "    </tr>\n",
       "    <tr>\n",
       "      <th>17</th>\n",
       "      <td>Henderson</td>\n",
       "      <td>549</td>\n",
       "      <td>Spain</td>\n",
       "      <td>Female</td>\n",
       "      <td>24</td>\n",
       "      <td>9</td>\n",
       "      <td>0.00</td>\n",
       "      <td>2</td>\n",
       "      <td>1</td>\n",
       "      <td>1</td>\n",
       "      <td>14406.41</td>\n",
       "      <td>0</td>\n",
       "    </tr>\n",
       "    <tr>\n",
       "      <th>18</th>\n",
       "      <td>Muldrow</td>\n",
       "      <td>587</td>\n",
       "      <td>Spain</td>\n",
       "      <td>Male</td>\n",
       "      <td>45</td>\n",
       "      <td>6</td>\n",
       "      <td>0.00</td>\n",
       "      <td>1</td>\n",
       "      <td>0</td>\n",
       "      <td>0</td>\n",
       "      <td>158684.81</td>\n",
       "      <td>0</td>\n",
       "    </tr>\n",
       "    <tr>\n",
       "      <th>19</th>\n",
       "      <td>Hao</td>\n",
       "      <td>726</td>\n",
       "      <td>France</td>\n",
       "      <td>Female</td>\n",
       "      <td>24</td>\n",
       "      <td>6</td>\n",
       "      <td>0.00</td>\n",
       "      <td>2</td>\n",
       "      <td>1</td>\n",
       "      <td>1</td>\n",
       "      <td>54724.03</td>\n",
       "      <td>0</td>\n",
       "    </tr>\n",
       "  </tbody>\n",
       "</table>\n",
       "</div>"
      ],
      "text/plain": [
       "      Surname  CreditScore Geography  ... IsActiveMember  EstimatedSalary  Exited\n",
       "0    Hargrave          619    France  ...              1        101348.88       1\n",
       "1        Hill          608     Spain  ...              1        112542.58       0\n",
       "2        Onio          502    France  ...              0        113931.57       1\n",
       "3        Boni          699    France  ...              0         93826.63       0\n",
       "4    Mitchell          850     Spain  ...              1         79084.10       0\n",
       "5         Chu          645     Spain  ...              0        149756.71       1\n",
       "6    Bartlett          822    France  ...              1         10062.80       0\n",
       "7      Obinna          376   Germany  ...              0        119346.88       1\n",
       "8          He          501    France  ...              1         74940.50       0\n",
       "9          H?          684    France  ...              1         71725.73       0\n",
       "10     Bearce          528    France  ...              0         80181.12       0\n",
       "11    Andrews          497     Spain  ...              0         76390.01       0\n",
       "12        Kay          476    France  ...              0         26260.98       0\n",
       "13       Chin          549    France  ...              0        190857.79       0\n",
       "14      Scott          635     Spain  ...              1         65951.65       0\n",
       "15    Goforth          616   Germany  ...              1         64327.26       0\n",
       "16      Romeo          653   Germany  ...              0          5097.67       1\n",
       "17  Henderson          549     Spain  ...              1         14406.41       0\n",
       "18    Muldrow          587     Spain  ...              0        158684.81       0\n",
       "19        Hao          726    France  ...              1         54724.03       0\n",
       "\n",
       "[20 rows x 12 columns]"
      ]
     },
     "execution_count": 11,
     "metadata": {
      "tags": []
     },
     "output_type": "execute_result"
    }
   ],
   "source": [
    "data.head(20)"
   ]
  },
  {
   "cell_type": "markdown",
   "metadata": {
    "colab_type": "text",
    "id": "aN27s8pDBkP8"
   },
   "source": [
    "### Checking Correlation between the columns"
   ]
  },
  {
   "cell_type": "code",
   "execution_count": 0,
   "metadata": {
    "colab": {},
    "colab_type": "code",
    "id": "Y-zF1pjY3LZt"
   },
   "outputs": [],
   "source": [
    "correlation = data.corr()"
   ]
  },
  {
   "cell_type": "code",
   "execution_count": 0,
   "metadata": {
    "colab": {},
    "colab_type": "code",
    "id": "KROKleiS3LWh"
   },
   "outputs": [],
   "source": [
    "import seaborn as sns"
   ]
  },
  {
   "cell_type": "code",
   "execution_count": 14,
   "metadata": {
    "colab": {
     "base_uri": "https://localhost:8080/",
     "height": 685
    },
    "colab_type": "code",
    "id": "EXx9CifI3LTm",
    "outputId": "8998a246-0417-4bc3-e6d9-91ebab551c36"
   },
   "outputs": [
    {
     "data": {
      "text/plain": [
       "<matplotlib.axes._subplots.AxesSubplot at 0x7f21fb6d2be0>"
      ]
     },
     "execution_count": 14,
     "metadata": {
      "tags": []
     },
     "output_type": "execute_result"
    },
    {
     "data": {
      "image/png": "[encoded data removed]",
      "text/plain": [
       "<Figure size 1080x720 with 2 Axes>"
      ]
     },
     "metadata": {
      "tags": []
     },
     "output_type": "display_data"
    }
   ],
   "source": [
    "fig, ax = plt.subplots(figsize=(15,10))\n",
    "sns.heatmap(correlation, annot = True, cmap=\"YlGnBu\", ax = ax)"
   ]
  },
  {
   "cell_type": "markdown",
   "metadata": {
    "colab_type": "text",
    "id": "adL9xlQUpl40"
   },
   "source": [
    "### Visualizing Data"
   ]
  },
  {
   "cell_type": "code",
   "execution_count": 15,
   "metadata": {
    "colab": {
     "base_uri": "https://localhost:8080/",
     "height": 87
    },
    "colab_type": "code",
    "id": "R8WY-LoWpi-H",
    "outputId": "5c83de64-dd09-45ad-8cde-51bdb1ab114b"
   },
   "outputs": [
    {
     "data": {
      "text/plain": [
       "Index(['Surname', 'CreditScore', 'Geography', 'Gender', 'Age', 'Tenure',\n",
       "       'Balance', 'NumOfProducts', 'HasCrCard', 'IsActiveMember',\n",
       "       'EstimatedSalary', 'Exited'],\n",
       "      dtype='object')"
      ]
     },
     "execution_count": 15,
     "metadata": {
      "tags": []
     },
     "output_type": "execute_result"
    }
   ],
   "source": [
    "data.columns"
   ]
  },
  {
   "cell_type": "code",
   "execution_count": 0,
   "metadata": {
    "colab": {},
    "colab_type": "code",
    "id": "9VUuDqlRXmCo"
   },
   "outputs": [],
   "source": [
    "#data.loc[:,data.columns[0]]"
   ]
  },
  {
   "cell_type": "code",
   "execution_count": 17,
   "metadata": {
    "colab": {
     "base_uri": "https://localhost:8080/",
     "height": 999
    },
    "colab_type": "code",
    "id": "zpl-BVdnplUl",
    "outputId": "e016868b-0de2-40f3-de3b-b52f36fa27e3"
   },
   "outputs": [
    {
     "data": {
      "text/plain": [
       "<seaborn.axisgrid.PairGrid at 0x7f21f73db9b0>"
      ]
     },
     "execution_count": 17,
     "metadata": {
      "tags": []
     },
     "output_type": "execute_result"
    },
    {
     "data": {
      "image/png": "[encoded data removed]",
      "text/plain": [
       "<Figure size 972x972 with 90 Axes>"
      ]
     },
     "metadata": {
      "tags": []
     },
     "output_type": "display_data"
    }
   ],
   "source": [
    "sns.pairplot(data, height = 1.5 )"
   ]
  },
  {
   "cell_type": "code",
   "execution_count": 0,
   "metadata": {
    "colab": {},
    "colab_type": "code",
    "id": "ZlAnNLflplPC"
   },
   "outputs": [],
   "source": [
    "#cols = data.columns\n",
    "#for i in range(0,cols.size):\n",
    "#  print(cols[i])\n",
    "#  plt.hist(data[cols[i]])"
   ]
  },
  {
   "cell_type": "code",
   "execution_count": 19,
   "metadata": {
    "colab": {
     "base_uri": "https://localhost:8080/",
     "height": 34
    },
    "colab_type": "code",
    "id": "qeXG3oEkplKS",
    "outputId": "730714f2-1e99-4a22-e6bf-84b90a25d035"
   },
   "outputs": [
    {
     "data": {
      "text/plain": [
       "(3617, 12)"
      ]
     },
     "execution_count": 19,
     "metadata": {
      "tags": []
     },
     "output_type": "execute_result"
    }
   ],
   "source": [
    "data[data['Balance']<1].shape"
   ]
  },
  {
   "cell_type": "code",
   "execution_count": 20,
   "metadata": {
    "colab": {
     "base_uri": "https://localhost:8080/",
     "height": 34
    },
    "colab_type": "code",
    "id": "PSbEQd2GplEG",
    "outputId": "d985a83e-f575-4a8b-f8d0-b83ec99052dd"
   },
   "outputs": [
    {
     "data": {
      "text/plain": [
       "(6383, 12)"
      ]
     },
     "execution_count": 20,
     "metadata": {
      "tags": []
     },
     "output_type": "execute_result"
    }
   ],
   "source": [
    "data[data['Balance']>1].shape"
   ]
  },
  {
   "cell_type": "code",
   "execution_count": 21,
   "metadata": {
    "colab": {
     "base_uri": "https://localhost:8080/",
     "height": 34
    },
    "colab_type": "code",
    "id": "lThKl2J0ILoL",
    "outputId": "3027857a-5ab9-4986-a8ae-16b549a28668"
   },
   "outputs": [
    {
     "data": {
      "text/plain": [
       "(2037, 12)"
      ]
     },
     "execution_count": 21,
     "metadata": {
      "tags": []
     },
     "output_type": "execute_result"
    }
   ],
   "source": [
    "data[data['Exited']>0].shape"
   ]
  },
  {
   "cell_type": "code",
   "execution_count": 22,
   "metadata": {
    "colab": {
     "base_uri": "https://localhost:8080/",
     "height": 34
    },
    "colab_type": "code",
    "id": "bA6Y96h8ILe1",
    "outputId": "d4aa21ab-bfd5-4997-e709-4a5f7b8a45b2"
   },
   "outputs": [
    {
     "data": {
      "text/plain": [
       "(7963, 12)"
      ]
     },
     "execution_count": 22,
     "metadata": {
      "tags": []
     },
     "output_type": "execute_result"
    }
   ],
   "source": [
    "data[data['Exited']<1].shape"
   ]
  },
  {
   "cell_type": "markdown",
   "metadata": {
    "colab_type": "text",
    "id": "SUwAPHfvB_xV"
   },
   "source": [
    "### Logarithmic Transformation on the data"
   ]
  },
  {
   "cell_type": "code",
   "execution_count": 23,
   "metadata": {
    "colab": {
     "base_uri": "https://localhost:8080/",
     "height": 316
    },
    "colab_type": "code",
    "id": "rJcQSJ83ILSK",
    "outputId": "e026b8fd-4199-4c3f-a7a4-b14939a2d710"
   },
   "outputs": [
    {
     "name": "stdout",
     "output_type": "stream",
     "text": [
      "<class 'pandas.core.frame.DataFrame'>\n",
      "RangeIndex: 10000 entries, 0 to 9999\n",
      "Data columns (total 12 columns):\n",
      "Surname            10000 non-null object\n",
      "CreditScore        10000 non-null int64\n",
      "Geography          10000 non-null object\n",
      "Gender             10000 non-null object\n",
      "Age                10000 non-null int64\n",
      "Tenure             10000 non-null int64\n",
      "Balance            10000 non-null float64\n",
      "NumOfProducts      10000 non-null int64\n",
      "HasCrCard          10000 non-null int64\n",
      "IsActiveMember     10000 non-null int64\n",
      "EstimatedSalary    10000 non-null float64\n",
      "Exited             10000 non-null int64\n",
      "dtypes: float64(2), int64(7), object(3)\n",
      "memory usage: 937.6+ KB\n"
     ]
    }
   ],
   "source": [
    "data.info()"
   ]
  },
  {
   "cell_type": "code",
   "execution_count": 0,
   "metadata": {
    "colab": {},
    "colab_type": "code",
    "id": "3mWEQyJfB886"
   },
   "outputs": [],
   "source": []
  },
  {
   "cell_type": "code",
   "execution_count": 0,
   "metadata": {
    "colab": {},
    "colab_type": "code",
    "id": "h5zXKVqAB-zA"
   },
   "outputs": [],
   "source": []
  },
  {
   "cell_type": "code",
   "execution_count": 0,
   "metadata": {
    "colab": {},
    "colab_type": "code",
    "id": "poVuzgqeB-ty"
   },
   "outputs": [],
   "source": []
  },
  {
   "cell_type": "markdown",
   "metadata": {
    "colab_type": "text",
    "id": "qHCZx0diBdtI"
   },
   "source": [
    "### Checking for Outliers and Treating them"
   ]
  },
  {
   "cell_type": "code",
   "execution_count": 24,
   "metadata": {
    "colab": {
     "base_uri": "https://localhost:8080/",
     "height": 87
    },
    "colab_type": "code",
    "id": "Gu3FuGHkGWgi",
    "outputId": "f66cc0e8-a4d4-48cd-a77c-1ecd2fa8694c"
   },
   "outputs": [
    {
     "data": {
      "text/plain": [
       "Index(['Surname', 'CreditScore', 'Geography', 'Gender', 'Age', 'Tenure',\n",
       "       'Balance', 'NumOfProducts', 'HasCrCard', 'IsActiveMember',\n",
       "       'EstimatedSalary', 'Exited'],\n",
       "      dtype='object')"
      ]
     },
     "execution_count": 24,
     "metadata": {
      "tags": []
     },
     "output_type": "execute_result"
    }
   ],
   "source": [
    "data.columns"
   ]
  },
  {
   "cell_type": "code",
   "execution_count": 25,
   "metadata": {
    "colab": {
     "base_uri": "https://localhost:8080/",
     "height": 286
    },
    "colab_type": "code",
    "id": "PuiVgGB_3LK8",
    "outputId": "8ac8288b-b2fd-41ac-81b9-22941dcfbbc8"
   },
   "outputs": [
    {
     "data": {
      "text/plain": [
       "<matplotlib.axes._subplots.AxesSubplot at 0x7f21f4d4c9b0>"
      ]
     },
     "execution_count": 25,
     "metadata": {
      "tags": []
     },
     "output_type": "execute_result"
    },
    {
     "data": {
      "image/png": "[encoded data removed]",
      "text/plain": [
       "<Figure size 432x288 with 1 Axes>"
      ]
     },
     "metadata": {
      "tags": []
     },
     "output_type": "display_data"
    }
   ],
   "source": [
    "data.boxplot(column=['Balance','EstimatedSalary'])"
   ]
  },
  {
   "cell_type": "code",
   "execution_count": 26,
   "metadata": {
    "colab": {
     "base_uri": "https://localhost:8080/",
     "height": 286
    },
    "colab_type": "code",
    "id": "bom2Vjh93LIc",
    "outputId": "c969ca5d-8ea7-445d-f5ee-52a84ea885dd"
   },
   "outputs": [
    {
     "data": {
      "text/plain": [
       "<matplotlib.axes._subplots.AxesSubplot at 0x7f21f44dda20>"
      ]
     },
     "execution_count": 26,
     "metadata": {
      "tags": []
     },
     "output_type": "execute_result"
    },
    {
     "data": {
      "image/png": "[encoded data removed]",
      "text/plain": [
       "<Figure size 432x288 with 1 Axes>"
      ]
     },
     "metadata": {
      "tags": []
     },
     "output_type": "display_data"
    }
   ],
   "source": [
    "data.boxplot(column=['CreditScore'])"
   ]
  },
  {
   "cell_type": "code",
   "execution_count": 0,
   "metadata": {
    "colab": {},
    "colab_type": "code",
    "id": "vFwgnYWfA002"
   },
   "outputs": [],
   "source": [
    "q1 = data['CreditScore'].quantile(0.25)\n",
    "q3 = data['CreditScore'].quantile(0.75)\n",
    "IQR = q3-q1\n",
    "mean = data['CreditScore'].mean()\n",
    "ulim = mean+1.5*IQR\n",
    "llim = mean-1.5*IQR"
   ]
  },
  {
   "cell_type": "code",
   "execution_count": 0,
   "metadata": {
    "colab": {},
    "colab_type": "code",
    "id": "oRmBIVEhA0rT"
   },
   "outputs": [],
   "source": [
    "data['CreditScore'] = np.where(data['CreditScore']<llim, data['CreditScore'].median(), data['CreditScore'])"
   ]
  },
  {
   "cell_type": "code",
   "execution_count": 29,
   "metadata": {
    "colab": {
     "base_uri": "https://localhost:8080/",
     "height": 286
    },
    "colab_type": "code",
    "id": "1azwko7CA0os",
    "outputId": "5ee30070-769b-4cd5-b6e4-fb6f5b289d89"
   },
   "outputs": [
    {
     "data": {
      "text/plain": [
       "<matplotlib.axes._subplots.AxesSubplot at 0x7f21f73db978>"
      ]
     },
     "execution_count": 29,
     "metadata": {
      "tags": []
     },
     "output_type": "execute_result"
    },
    {
     "data": {
      "image/png": "[encoded data removed]",
      "text/plain": [
       "<Figure size 432x288 with 1 Axes>"
      ]
     },
     "metadata": {
      "tags": []
     },
     "output_type": "display_data"
    }
   ],
   "source": [
    "data.boxplot(column=['CreditScore'])"
   ]
  },
  {
   "cell_type": "code",
   "execution_count": 30,
   "metadata": {
    "colab": {
     "base_uri": "https://localhost:8080/",
     "height": 286
    },
    "colab_type": "code",
    "id": "m8qN3nSR3LCu",
    "outputId": "d3b6bb5e-29a0-4f41-e05a-2ff534e25288"
   },
   "outputs": [
    {
     "data": {
      "text/plain": [
       "<matplotlib.axes._subplots.AxesSubplot at 0x7f21f42bec18>"
      ]
     },
     "execution_count": 30,
     "metadata": {
      "tags": []
     },
     "output_type": "execute_result"
    },
    {
     "data": {
      "image/png": "[encoded data removed]",
      "text/plain": [
       "<Figure size 432x288 with 1 Axes>"
      ]
     },
     "metadata": {
      "tags": []
     },
     "output_type": "display_data"
    }
   ],
   "source": [
    "data.boxplot(column=['Age'])"
   ]
  },
  {
   "cell_type": "code",
   "execution_count": 0,
   "metadata": {
    "colab": {},
    "colab_type": "code",
    "id": "CaqhLkn33K7P"
   },
   "outputs": [],
   "source": [
    "q1 = data['Age'].quantile(0.25)\n",
    "q3 = data['Age'].quantile(0.75)\n",
    "IQR = q3-q1\n",
    "mean = data['Age'].mean()\n",
    "ulim = mean+1.5*IQR\n",
    "llim = mean-1.5*IQR"
   ]
  },
  {
   "cell_type": "code",
   "execution_count": 32,
   "metadata": {
    "colab": {
     "base_uri": "https://localhost:8080/",
     "height": 34
    },
    "colab_type": "code",
    "id": "eEZKe7Bl_81Q",
    "outputId": "70044732-99b4-4f6a-f301-da03267faf04"
   },
   "outputs": [
    {
     "data": {
      "text/plain": [
       "37.0"
      ]
     },
     "execution_count": 32,
     "metadata": {
      "tags": []
     },
     "output_type": "execute_result"
    }
   ],
   "source": [
    "data['Age'].median()"
   ]
  },
  {
   "cell_type": "code",
   "execution_count": 0,
   "metadata": {
    "colab": {},
    "colab_type": "code",
    "id": "Hoqp_nL3_8yf"
   },
   "outputs": [],
   "source": [
    "data['Age'] = np.where(data['Age']>ulim, data['Age'].median(), data['Age'])"
   ]
  },
  {
   "cell_type": "code",
   "execution_count": 34,
   "metadata": {
    "colab": {
     "base_uri": "https://localhost:8080/",
     "height": 286
    },
    "colab_type": "code",
    "id": "rWiEjpRC_8wX",
    "outputId": "00db3797-4373-4d2f-de10-341f12476fb2"
   },
   "outputs": [
    {
     "data": {
      "text/plain": [
       "<matplotlib.axes._subplots.AxesSubplot at 0x7f21f42a8f28>"
      ]
     },
     "execution_count": 34,
     "metadata": {
      "tags": []
     },
     "output_type": "execute_result"
    },
    {
     "data": {
      "image/png": "[encoded data removed]",
      "text/plain": [
       "<Figure size 432x288 with 1 Axes>"
      ]
     },
     "metadata": {
      "tags": []
     },
     "output_type": "display_data"
    }
   ],
   "source": [
    "data.boxplot(column=['Age'])"
   ]
  },
  {
   "cell_type": "code",
   "execution_count": 35,
   "metadata": {
    "colab": {
     "base_uri": "https://localhost:8080/",
     "height": 286
    },
    "colab_type": "code",
    "id": "Ya7BFdNIG05U",
    "outputId": "f7b3806d-0817-481f-b1a4-de370b83b04d"
   },
   "outputs": [
    {
     "data": {
      "text/plain": [
       "<matplotlib.axes._subplots.AxesSubplot at 0x7f21f41f9358>"
      ]
     },
     "execution_count": 35,
     "metadata": {
      "tags": []
     },
     "output_type": "execute_result"
    },
    {
     "data": {
      "image/png": "[encoded data removed]",
      "text/plain": [
       "<Figure size 432x288 with 1 Axes>"
      ]
     },
     "metadata": {
      "tags": []
     },
     "output_type": "display_data"
    }
   ],
   "source": [
    "data.boxplot(column = ['Balance','EstimatedSalary'] )"
   ]
  },
  {
   "cell_type": "markdown",
   "metadata": {
    "colab_type": "text",
    "id": "gWXNYXamBuPM"
   },
   "source": [
    "### Check if the data is Balanced or not based on the dependent variable"
   ]
  },
  {
   "cell_type": "code",
   "execution_count": 36,
   "metadata": {
    "colab": {
     "base_uri": "https://localhost:8080/",
     "height": 70
    },
    "colab_type": "code",
    "id": "-xF3f3piz_78",
    "outputId": "d504b091-225c-4d95-d398-3a62503cb2d0"
   },
   "outputs": [
    {
     "data": {
      "text/plain": [
       "0    7963\n",
       "1    2037\n",
       "Name: Exited, dtype: int64"
      ]
     },
     "execution_count": 36,
     "metadata": {
      "tags": []
     },
     "output_type": "execute_result"
    }
   ],
   "source": [
    "data.Exited.value_counts()"
   ]
  },
  {
   "cell_type": "markdown",
   "metadata": {
    "colab_type": "text",
    "id": "NcWYDMLy1JOo"
   },
   "source": [
    "Data is imbalanced. Data is more biased towards the customers that have exited the bank."
   ]
  },
  {
   "cell_type": "markdown",
   "metadata": {
    "colab_type": "text",
    "id": "FPikxTdyrF46"
   },
   "source": [
    "### Upsampling the data by resampling the category that is in minority"
   ]
  },
  {
   "cell_type": "code",
   "execution_count": 0,
   "metadata": {
    "colab": {},
    "colab_type": "code",
    "id": "IJwFnMbS0s6h"
   },
   "outputs": [],
   "source": [
    "data_majority = data.drop(columns='Surname')[data.Exited==0]\n",
    "data_minority = data.drop(columns='Surname')[data.Exited==1]"
   ]
  },
  {
   "cell_type": "code",
   "execution_count": 0,
   "metadata": {
    "colab": {},
    "colab_type": "code",
    "id": "iWvT4GzFA6ij"
   },
   "outputs": [],
   "source": [
    "from sklearn.utils import resample\n",
    "\n",
    "data_minority_upsampled = resample(data_minority, \n",
    "                                 replace=True,     # sample with replacement\n",
    "                                 n_samples=7963,    # to match majority class\n",
    "                                 random_state=123)"
   ]
  },
  {
   "cell_type": "code",
   "execution_count": 39,
   "metadata": {
    "colab": {
     "base_uri": "https://localhost:8080/",
     "height": 199
    },
    "colab_type": "code",
    "id": "uwb2l1SABeGx",
    "outputId": "bbd5e0cd-7620-4b85-92aa-7f0b6e8fc46c"
   },
   "outputs": [
    {
     "data": {
      "text/html": [
       "<div>\n",
       "<style scoped>\n",
       "    .dataframe tbody tr th:only-of-type {\n",
       "        vertical-align: middle;\n",
       "    }\n",
       "\n",
       "    .dataframe tbody tr th {\n",
       "        vertical-align: top;\n",
       "    }\n",
       "\n",
       "    .dataframe thead th {\n",
       "        text-align: right;\n",
       "    }\n",
       "</style>\n",
       "<table border=\"1\" class=\"dataframe\">\n",
       "  <thead>\n",
       "    <tr style=\"text-align: right;\">\n",
       "      <th></th>\n",
       "      <th>CreditScore</th>\n",
       "      <th>Geography</th>\n",
       "      <th>Gender</th>\n",
       "      <th>Age</th>\n",
       "      <th>Tenure</th>\n",
       "      <th>Balance</th>\n",
       "      <th>NumOfProducts</th>\n",
       "      <th>HasCrCard</th>\n",
       "      <th>IsActiveMember</th>\n",
       "      <th>EstimatedSalary</th>\n",
       "      <th>Exited</th>\n",
       "    </tr>\n",
       "  </thead>\n",
       "  <tbody>\n",
       "    <tr>\n",
       "      <th>7445</th>\n",
       "      <td>516.0</td>\n",
       "      <td>France</td>\n",
       "      <td>Female</td>\n",
       "      <td>45.0</td>\n",
       "      <td>4</td>\n",
       "      <td>0.00</td>\n",
       "      <td>1</td>\n",
       "      <td>1</td>\n",
       "      <td>0</td>\n",
       "      <td>95273.73</td>\n",
       "      <td>1</td>\n",
       "    </tr>\n",
       "    <tr>\n",
       "      <th>6729</th>\n",
       "      <td>454.0</td>\n",
       "      <td>Germany</td>\n",
       "      <td>Female</td>\n",
       "      <td>50.0</td>\n",
       "      <td>10</td>\n",
       "      <td>92895.56</td>\n",
       "      <td>1</td>\n",
       "      <td>1</td>\n",
       "      <td>0</td>\n",
       "      <td>154344.00</td>\n",
       "      <td>1</td>\n",
       "    </tr>\n",
       "    <tr>\n",
       "      <th>6812</th>\n",
       "      <td>576.0</td>\n",
       "      <td>Germany</td>\n",
       "      <td>Male</td>\n",
       "      <td>37.0</td>\n",
       "      <td>3</td>\n",
       "      <td>148843.56</td>\n",
       "      <td>1</td>\n",
       "      <td>1</td>\n",
       "      <td>0</td>\n",
       "      <td>69414.13</td>\n",
       "      <td>1</td>\n",
       "    </tr>\n",
       "    <tr>\n",
       "      <th>6497</th>\n",
       "      <td>669.0</td>\n",
       "      <td>France</td>\n",
       "      <td>Male</td>\n",
       "      <td>50.0</td>\n",
       "      <td>9</td>\n",
       "      <td>201009.64</td>\n",
       "      <td>1</td>\n",
       "      <td>1</td>\n",
       "      <td>0</td>\n",
       "      <td>158032.50</td>\n",
       "      <td>1</td>\n",
       "    </tr>\n",
       "    <tr>\n",
       "      <th>9858</th>\n",
       "      <td>507.0</td>\n",
       "      <td>Germany</td>\n",
       "      <td>Male</td>\n",
       "      <td>40.0</td>\n",
       "      <td>3</td>\n",
       "      <td>120105.43</td>\n",
       "      <td>1</td>\n",
       "      <td>1</td>\n",
       "      <td>0</td>\n",
       "      <td>92075.01</td>\n",
       "      <td>1</td>\n",
       "    </tr>\n",
       "  </tbody>\n",
       "</table>\n",
       "</div>"
      ],
      "text/plain": [
       "      CreditScore Geography  Gender  ...  IsActiveMember  EstimatedSalary  Exited\n",
       "7445        516.0    France  Female  ...               0         95273.73       1\n",
       "6729        454.0   Germany  Female  ...               0        154344.00       1\n",
       "6812        576.0   Germany    Male  ...               0         69414.13       1\n",
       "6497        669.0    France    Male  ...               0        158032.50       1\n",
       "9858        507.0   Germany    Male  ...               0         92075.01       1\n",
       "\n",
       "[5 rows x 11 columns]"
      ]
     },
     "execution_count": 39,
     "metadata": {
      "tags": []
     },
     "output_type": "execute_result"
    }
   ],
   "source": [
    "data_minority_upsampled.head()"
   ]
  },
  {
   "cell_type": "code",
   "execution_count": 40,
   "metadata": {
    "colab": {
     "base_uri": "https://localhost:8080/",
     "height": 34
    },
    "colab_type": "code",
    "id": "sBucwUeTByCs",
    "outputId": "808e11a9-9d51-419a-f023-15711453f7c3"
   },
   "outputs": [
    {
     "data": {
      "text/plain": [
       "(7963, 11)"
      ]
     },
     "execution_count": 40,
     "metadata": {
      "tags": []
     },
     "output_type": "execute_result"
    }
   ],
   "source": [
    "data_minority_upsampled.shape"
   ]
  },
  {
   "cell_type": "code",
   "execution_count": 41,
   "metadata": {
    "colab": {
     "base_uri": "https://localhost:8080/",
     "height": 34
    },
    "colab_type": "code",
    "id": "kMot6WuaCEbC",
    "outputId": "5b677e59-440d-4e0e-ac7b-32a5a97b4fd2"
   },
   "outputs": [
    {
     "data": {
      "text/plain": [
       "(10000, 12)"
      ]
     },
     "execution_count": 41,
     "metadata": {
      "tags": []
     },
     "output_type": "execute_result"
    }
   ],
   "source": [
    "data.shape"
   ]
  },
  {
   "cell_type": "code",
   "execution_count": 0,
   "metadata": {
    "colab": {},
    "colab_type": "code",
    "id": "qMERna80CI3A"
   },
   "outputs": [],
   "source": [
    "data_upsampled = pd.concat([data_majority, data_minority_upsampled])"
   ]
  },
  {
   "cell_type": "code",
   "execution_count": 43,
   "metadata": {
    "colab": {
     "base_uri": "https://localhost:8080/",
     "height": 70
    },
    "colab_type": "code",
    "id": "xohQAXvaCyIi",
    "outputId": "def2d0aa-1a1f-475b-ce84-fd36cc371652"
   },
   "outputs": [
    {
     "data": {
      "text/plain": [
       "1    7963\n",
       "0    7963\n",
       "Name: Exited, dtype: int64"
      ]
     },
     "execution_count": 43,
     "metadata": {
      "tags": []
     },
     "output_type": "execute_result"
    }
   ],
   "source": [
    "data_upsampled.Exited.value_counts()"
   ]
  },
  {
   "cell_type": "markdown",
   "metadata": {
    "colab_type": "text",
    "id": "5X7fqWcsDGKo"
   },
   "source": [
    "Now, the data is very much balanced and good to work on."
   ]
  },
  {
   "cell_type": "code",
   "execution_count": 44,
   "metadata": {
    "colab": {
     "base_uri": "https://localhost:8080/",
     "height": 34
    },
    "colab_type": "code",
    "id": "q3K0fmCKC6Vp",
    "outputId": "c026e430-32b2-44d7-b5ea-aef862f2e88c"
   },
   "outputs": [
    {
     "data": {
      "text/plain": [
       "array(['Spain', 'France', 'Germany'], dtype=object)"
      ]
     },
     "execution_count": 44,
     "metadata": {
      "tags": []
     },
     "output_type": "execute_result"
    }
   ],
   "source": [
    "pd.unique(data_upsampled.Geography)"
   ]
  },
  {
   "cell_type": "code",
   "execution_count": 45,
   "metadata": {
    "colab": {
     "base_uri": "https://localhost:8080/",
     "height": 78
    },
    "colab_type": "code",
    "id": "bxo_7ajtDytV",
    "outputId": "3f6be8e2-9d0a-423a-f3da-0ad13dd93591"
   },
   "outputs": [
    {
     "data": {
      "text/html": [
       "<div>\n",
       "<style scoped>\n",
       "    .dataframe tbody tr th:only-of-type {\n",
       "        vertical-align: middle;\n",
       "    }\n",
       "\n",
       "    .dataframe tbody tr th {\n",
       "        vertical-align: top;\n",
       "    }\n",
       "\n",
       "    .dataframe thead th {\n",
       "        text-align: right;\n",
       "    }\n",
       "</style>\n",
       "<table border=\"1\" class=\"dataframe\">\n",
       "  <thead>\n",
       "    <tr style=\"text-align: right;\">\n",
       "      <th></th>\n",
       "      <th>CreditScore</th>\n",
       "      <th>Geography</th>\n",
       "      <th>Gender</th>\n",
       "      <th>Age</th>\n",
       "      <th>Tenure</th>\n",
       "      <th>Balance</th>\n",
       "      <th>NumOfProducts</th>\n",
       "      <th>HasCrCard</th>\n",
       "      <th>IsActiveMember</th>\n",
       "      <th>EstimatedSalary</th>\n",
       "      <th>Exited</th>\n",
       "    </tr>\n",
       "  </thead>\n",
       "  <tbody>\n",
       "    <tr>\n",
       "      <th>1</th>\n",
       "      <td>608.0</td>\n",
       "      <td>Spain</td>\n",
       "      <td>Female</td>\n",
       "      <td>41.0</td>\n",
       "      <td>1</td>\n",
       "      <td>83807.86</td>\n",
       "      <td>1</td>\n",
       "      <td>0</td>\n",
       "      <td>1</td>\n",
       "      <td>112542.58</td>\n",
       "      <td>0</td>\n",
       "    </tr>\n",
       "  </tbody>\n",
       "</table>\n",
       "</div>"
      ],
      "text/plain": [
       "   CreditScore Geography  Gender  ...  IsActiveMember  EstimatedSalary  Exited\n",
       "1        608.0     Spain  Female  ...               1        112542.58       0\n",
       "\n",
       "[1 rows x 11 columns]"
      ]
     },
     "execution_count": 45,
     "metadata": {
      "tags": []
     },
     "output_type": "execute_result"
    }
   ],
   "source": [
    "data_upsampled.head(1)"
   ]
  },
  {
   "cell_type": "code",
   "execution_count": 46,
   "metadata": {
    "colab": {
     "base_uri": "https://localhost:8080/",
     "height": 34
    },
    "colab_type": "code",
    "id": "V70XgcrBEE9U",
    "outputId": "6ebb138b-8f62-46e0-ddcf-e1f2e2525817"
   },
   "outputs": [
    {
     "data": {
      "text/plain": [
       "2932"
      ]
     },
     "execution_count": 46,
     "metadata": {
      "tags": []
     },
     "output_type": "execute_result"
    }
   ],
   "source": [
    "pd.unique(data.Surname).size"
   ]
  },
  {
   "cell_type": "code",
   "execution_count": 47,
   "metadata": {
    "colab": {
     "base_uri": "https://localhost:8080/",
     "height": 34
    },
    "colab_type": "code",
    "id": "kZD5wgzSm7Lp",
    "outputId": "b08cb05a-b538-4ab2-ba4e-f47bdac482a0"
   },
   "outputs": [
    {
     "data": {
      "text/plain": [
       "(15926, 11)"
      ]
     },
     "execution_count": 47,
     "metadata": {
      "tags": []
     },
     "output_type": "execute_result"
    }
   ],
   "source": [
    "data_upsampled.shape"
   ]
  },
  {
   "cell_type": "code",
   "execution_count": 0,
   "metadata": {
    "colab": {},
    "colab_type": "code",
    "id": "XiLvF2hanBkF"
   },
   "outputs": [],
   "source": [
    "#Checking the output of pandas profiling to check if it can be used.\n",
    "\n",
    "#import pandas_profiling\n",
    "#pandas_profiling.ProfileReport(data_upsampled)"
   ]
  },
  {
   "cell_type": "code",
   "execution_count": 49,
   "metadata": {
    "colab": {
     "base_uri": "https://localhost:8080/",
     "height": 87
    },
    "colab_type": "code",
    "id": "qXiND_Z_okxp",
    "outputId": "42e876c8-45c0-4103-de3d-75db275e7836"
   },
   "outputs": [
    {
     "data": {
      "text/plain": [
       "Index(['CreditScore', 'Geography', 'Gender', 'Age', 'Tenure', 'Balance',\n",
       "       'NumOfProducts', 'HasCrCard', 'IsActiveMember', 'EstimatedSalary',\n",
       "       'Exited'],\n",
       "      dtype='object')"
      ]
     },
     "execution_count": 49,
     "metadata": {
      "tags": []
     },
     "output_type": "execute_result"
    }
   ],
   "source": [
    "data_upsampled.columns"
   ]
  },
  {
   "cell_type": "code",
   "execution_count": 50,
   "metadata": {
    "colab": {
     "base_uri": "https://localhost:8080/",
     "height": 87
    },
    "colab_type": "code",
    "id": "llpKv3-6r-Oy",
    "outputId": "97a6cb3b-a9ce-4c96-e853-d931899b5ce3"
   },
   "outputs": [
    {
     "data": {
      "text/plain": [
       "Index(['Surname', 'CreditScore', 'Geography', 'Gender', 'Age', 'Tenure',\n",
       "       'Balance', 'NumOfProducts', 'HasCrCard', 'IsActiveMember',\n",
       "       'EstimatedSalary', 'Exited'],\n",
       "      dtype='object')"
      ]
     },
     "execution_count": 50,
     "metadata": {
      "tags": []
     },
     "output_type": "execute_result"
    }
   ],
   "source": [
    "data.columns"
   ]
  },
  {
   "cell_type": "code",
   "execution_count": 0,
   "metadata": {
    "colab": {},
    "colab_type": "code",
    "id": "AMcQGFiSzi9r"
   },
   "outputs": [],
   "source": [
    "data_upsampled.sort_index(inplace = True)\n",
    "data_upsampled.reset_index(inplace = True)"
   ]
  },
  {
   "cell_type": "markdown",
   "metadata": {
    "colab_type": "text",
    "id": "h2MREgdSorfz"
   },
   "source": [
    "### OneHotEncoding of the data after doing a label encoding"
   ]
  },
  {
   "cell_type": "code",
   "execution_count": 0,
   "metadata": {
    "colab": {},
    "colab_type": "code",
    "id": "mt0CRIHrv0JI"
   },
   "outputs": [],
   "source": [
    "from sklearn.preprocessing import LabelEncoder"
   ]
  },
  {
   "cell_type": "code",
   "execution_count": 0,
   "metadata": {
    "colab": {},
    "colab_type": "code",
    "id": "PIihRHSmv0A8"
   },
   "outputs": [],
   "source": [
    "le = LabelEncoder()"
   ]
  },
  {
   "cell_type": "code",
   "execution_count": 0,
   "metadata": {
    "colab": {},
    "colab_type": "code",
    "id": "VJIf8reavz4j"
   },
   "outputs": [],
   "source": [
    "data['Gender']= le.fit_transform(data['Gender']) \n",
    "data['Geography']= le.fit_transform(data['Geography'])\n",
    "data_upsampled['Gender']= le.fit_transform(data_upsampled['Gender']) \n",
    "data_upsampled['Geography']= le.fit_transform(data_upsampled['Geography'])"
   ]
  },
  {
   "cell_type": "code",
   "execution_count": 55,
   "metadata": {
    "colab": {
     "base_uri": "https://localhost:8080/",
     "height": 219
    },
    "colab_type": "code",
    "id": "HvQHiJSDvzsx",
    "outputId": "510c71ad-ebb3-4b02-985a-c7ec3884c744"
   },
   "outputs": [
    {
     "data": {
      "text/html": [
       "<div>\n",
       "<style scoped>\n",
       "    .dataframe tbody tr th:only-of-type {\n",
       "        vertical-align: middle;\n",
       "    }\n",
       "\n",
       "    .dataframe tbody tr th {\n",
       "        vertical-align: top;\n",
       "    }\n",
       "\n",
       "    .dataframe thead th {\n",
       "        text-align: right;\n",
       "    }\n",
       "</style>\n",
       "<table border=\"1\" class=\"dataframe\">\n",
       "  <thead>\n",
       "    <tr style=\"text-align: right;\">\n",
       "      <th></th>\n",
       "      <th>Surname</th>\n",
       "      <th>CreditScore</th>\n",
       "      <th>Geography</th>\n",
       "      <th>Gender</th>\n",
       "      <th>Age</th>\n",
       "      <th>Tenure</th>\n",
       "      <th>Balance</th>\n",
       "      <th>NumOfProducts</th>\n",
       "      <th>HasCrCard</th>\n",
       "      <th>IsActiveMember</th>\n",
       "      <th>EstimatedSalary</th>\n",
       "      <th>Exited</th>\n",
       "    </tr>\n",
       "  </thead>\n",
       "  <tbody>\n",
       "    <tr>\n",
       "      <th>0</th>\n",
       "      <td>Hargrave</td>\n",
       "      <td>619.0</td>\n",
       "      <td>0</td>\n",
       "      <td>0</td>\n",
       "      <td>42.0</td>\n",
       "      <td>2</td>\n",
       "      <td>0.00</td>\n",
       "      <td>1</td>\n",
       "      <td>1</td>\n",
       "      <td>1</td>\n",
       "      <td>101348.88</td>\n",
       "      <td>1</td>\n",
       "    </tr>\n",
       "    <tr>\n",
       "      <th>1</th>\n",
       "      <td>Hill</td>\n",
       "      <td>608.0</td>\n",
       "      <td>2</td>\n",
       "      <td>0</td>\n",
       "      <td>41.0</td>\n",
       "      <td>1</td>\n",
       "      <td>83807.86</td>\n",
       "      <td>1</td>\n",
       "      <td>0</td>\n",
       "      <td>1</td>\n",
       "      <td>112542.58</td>\n",
       "      <td>0</td>\n",
       "    </tr>\n",
       "    <tr>\n",
       "      <th>2</th>\n",
       "      <td>Onio</td>\n",
       "      <td>502.0</td>\n",
       "      <td>0</td>\n",
       "      <td>0</td>\n",
       "      <td>42.0</td>\n",
       "      <td>8</td>\n",
       "      <td>159660.80</td>\n",
       "      <td>3</td>\n",
       "      <td>1</td>\n",
       "      <td>0</td>\n",
       "      <td>113931.57</td>\n",
       "      <td>1</td>\n",
       "    </tr>\n",
       "    <tr>\n",
       "      <th>3</th>\n",
       "      <td>Boni</td>\n",
       "      <td>699.0</td>\n",
       "      <td>0</td>\n",
       "      <td>0</td>\n",
       "      <td>39.0</td>\n",
       "      <td>1</td>\n",
       "      <td>0.00</td>\n",
       "      <td>2</td>\n",
       "      <td>0</td>\n",
       "      <td>0</td>\n",
       "      <td>93826.63</td>\n",
       "      <td>0</td>\n",
       "    </tr>\n",
       "    <tr>\n",
       "      <th>4</th>\n",
       "      <td>Mitchell</td>\n",
       "      <td>850.0</td>\n",
       "      <td>2</td>\n",
       "      <td>0</td>\n",
       "      <td>43.0</td>\n",
       "      <td>2</td>\n",
       "      <td>125510.82</td>\n",
       "      <td>1</td>\n",
       "      <td>1</td>\n",
       "      <td>1</td>\n",
       "      <td>79084.10</td>\n",
       "      <td>0</td>\n",
       "    </tr>\n",
       "  </tbody>\n",
       "</table>\n",
       "</div>"
      ],
      "text/plain": [
       "    Surname  CreditScore  Geography  ...  IsActiveMember  EstimatedSalary  Exited\n",
       "0  Hargrave        619.0          0  ...               1        101348.88       1\n",
       "1      Hill        608.0          2  ...               1        112542.58       0\n",
       "2      Onio        502.0          0  ...               0        113931.57       1\n",
       "3      Boni        699.0          0  ...               0         93826.63       0\n",
       "4  Mitchell        850.0          2  ...               1         79084.10       0\n",
       "\n",
       "[5 rows x 12 columns]"
      ]
     },
     "execution_count": 55,
     "metadata": {
      "tags": []
     },
     "output_type": "execute_result"
    }
   ],
   "source": [
    "data.head()"
   ]
  },
  {
   "cell_type": "code",
   "execution_count": 56,
   "metadata": {
    "colab": {
     "base_uri": "https://localhost:8080/",
     "height": 316
    },
    "colab_type": "code",
    "id": "7i8luhIxuhnX",
    "outputId": "c9cbee53-70b1-4d80-e33a-806b04b135d4"
   },
   "outputs": [
    {
     "name": "stdout",
     "output_type": "stream",
     "text": [
      "<class 'pandas.core.frame.DataFrame'>\n",
      "RangeIndex: 10000 entries, 0 to 9999\n",
      "Data columns (total 12 columns):\n",
      "Surname            10000 non-null object\n",
      "CreditScore        10000 non-null float64\n",
      "Geography          10000 non-null int64\n",
      "Gender             10000 non-null int64\n",
      "Age                10000 non-null float64\n",
      "Tenure             10000 non-null int64\n",
      "Balance            10000 non-null float64\n",
      "NumOfProducts      10000 non-null int64\n",
      "HasCrCard          10000 non-null int64\n",
      "IsActiveMember     10000 non-null int64\n",
      "EstimatedSalary    10000 non-null float64\n",
      "Exited             10000 non-null int64\n",
      "dtypes: float64(4), int64(7), object(1)\n",
      "memory usage: 937.6+ KB\n"
     ]
    }
   ],
   "source": [
    "data.info()"
   ]
  },
  {
   "cell_type": "code",
   "execution_count": 57,
   "metadata": {
    "colab": {
     "base_uri": "https://localhost:8080/",
     "height": 199
    },
    "colab_type": "code",
    "id": "gNFwM19NvAGL",
    "outputId": "480e6b83-e55f-4e52-b111-b5da5a0f1f18"
   },
   "outputs": [
    {
     "data": {
      "text/html": [
       "<div>\n",
       "<style scoped>\n",
       "    .dataframe tbody tr th:only-of-type {\n",
       "        vertical-align: middle;\n",
       "    }\n",
       "\n",
       "    .dataframe tbody tr th {\n",
       "        vertical-align: top;\n",
       "    }\n",
       "\n",
       "    .dataframe thead th {\n",
       "        text-align: right;\n",
       "    }\n",
       "</style>\n",
       "<table border=\"1\" class=\"dataframe\">\n",
       "  <thead>\n",
       "    <tr style=\"text-align: right;\">\n",
       "      <th></th>\n",
       "      <th>index</th>\n",
       "      <th>CreditScore</th>\n",
       "      <th>Geography</th>\n",
       "      <th>Gender</th>\n",
       "      <th>Age</th>\n",
       "      <th>Tenure</th>\n",
       "      <th>Balance</th>\n",
       "      <th>NumOfProducts</th>\n",
       "      <th>HasCrCard</th>\n",
       "      <th>IsActiveMember</th>\n",
       "      <th>EstimatedSalary</th>\n",
       "      <th>Exited</th>\n",
       "    </tr>\n",
       "  </thead>\n",
       "  <tbody>\n",
       "    <tr>\n",
       "      <th>0</th>\n",
       "      <td>0</td>\n",
       "      <td>619.0</td>\n",
       "      <td>0</td>\n",
       "      <td>0</td>\n",
       "      <td>42.0</td>\n",
       "      <td>2</td>\n",
       "      <td>0.00</td>\n",
       "      <td>1</td>\n",
       "      <td>1</td>\n",
       "      <td>1</td>\n",
       "      <td>101348.88</td>\n",
       "      <td>1</td>\n",
       "    </tr>\n",
       "    <tr>\n",
       "      <th>1</th>\n",
       "      <td>0</td>\n",
       "      <td>619.0</td>\n",
       "      <td>0</td>\n",
       "      <td>0</td>\n",
       "      <td>42.0</td>\n",
       "      <td>2</td>\n",
       "      <td>0.00</td>\n",
       "      <td>1</td>\n",
       "      <td>1</td>\n",
       "      <td>1</td>\n",
       "      <td>101348.88</td>\n",
       "      <td>1</td>\n",
       "    </tr>\n",
       "    <tr>\n",
       "      <th>2</th>\n",
       "      <td>0</td>\n",
       "      <td>619.0</td>\n",
       "      <td>0</td>\n",
       "      <td>0</td>\n",
       "      <td>42.0</td>\n",
       "      <td>2</td>\n",
       "      <td>0.00</td>\n",
       "      <td>1</td>\n",
       "      <td>1</td>\n",
       "      <td>1</td>\n",
       "      <td>101348.88</td>\n",
       "      <td>1</td>\n",
       "    </tr>\n",
       "    <tr>\n",
       "      <th>3</th>\n",
       "      <td>1</td>\n",
       "      <td>608.0</td>\n",
       "      <td>2</td>\n",
       "      <td>0</td>\n",
       "      <td>41.0</td>\n",
       "      <td>1</td>\n",
       "      <td>83807.86</td>\n",
       "      <td>1</td>\n",
       "      <td>0</td>\n",
       "      <td>1</td>\n",
       "      <td>112542.58</td>\n",
       "      <td>0</td>\n",
       "    </tr>\n",
       "    <tr>\n",
       "      <th>4</th>\n",
       "      <td>2</td>\n",
       "      <td>502.0</td>\n",
       "      <td>0</td>\n",
       "      <td>0</td>\n",
       "      <td>42.0</td>\n",
       "      <td>8</td>\n",
       "      <td>159660.80</td>\n",
       "      <td>3</td>\n",
       "      <td>1</td>\n",
       "      <td>0</td>\n",
       "      <td>113931.57</td>\n",
       "      <td>1</td>\n",
       "    </tr>\n",
       "  </tbody>\n",
       "</table>\n",
       "</div>"
      ],
      "text/plain": [
       "   index  CreditScore  Geography  ...  IsActiveMember  EstimatedSalary  Exited\n",
       "0      0        619.0          0  ...               1        101348.88       1\n",
       "1      0        619.0          0  ...               1        101348.88       1\n",
       "2      0        619.0          0  ...               1        101348.88       1\n",
       "3      1        608.0          2  ...               1        112542.58       0\n",
       "4      2        502.0          0  ...               0        113931.57       1\n",
       "\n",
       "[5 rows x 12 columns]"
      ]
     },
     "execution_count": 57,
     "metadata": {
      "tags": []
     },
     "output_type": "execute_result"
    }
   ],
   "source": [
    "data_upsampled.head()"
   ]
  },
  {
   "cell_type": "code",
   "execution_count": 0,
   "metadata": {
    "colab": {},
    "colab_type": "code",
    "id": "w2ONzeEQyOTd"
   },
   "outputs": [],
   "source": [
    "gender_up = tf.keras.utils.to_categorical(data_upsampled['Gender'], num_classes=2)\n",
    "gender = tf.keras.utils.to_categorical(data['Gender'], num_classes=2)"
   ]
  },
  {
   "cell_type": "code",
   "execution_count": 0,
   "metadata": {
    "colab": {},
    "colab_type": "code",
    "id": "xQ7fFhNGPHJv"
   },
   "outputs": [],
   "source": [
    "gender = pd.DataFrame(gender)\n",
    "gender_up = pd.DataFrame(gender_up)"
   ]
  },
  {
   "cell_type": "code",
   "execution_count": 60,
   "metadata": {
    "colab": {
     "base_uri": "https://localhost:8080/",
     "height": 72
    },
    "colab_type": "code",
    "id": "sPSBEY7APIzg",
    "outputId": "2617944a-3552-4c6b-b35b-65b11e3b6b10"
   },
   "outputs": [
    {
     "name": "stderr",
     "output_type": "stream",
     "text": [
      "/usr/local/lib/python3.6/dist-packages/ipykernel_launcher.py:2: UserWarning: Pandas doesn't allow columns to be created via a new attribute name - see https://pandas.pydata.org/pandas-docs/stable/indexing.html#attribute-access\n",
      "  \n"
     ]
    }
   ],
   "source": [
    "gender.columns = ['Female','Male']\n",
    "gender_up.colmuns = ['Female', 'Male']"
   ]
  },
  {
   "cell_type": "code",
   "execution_count": 61,
   "metadata": {
    "colab": {
     "base_uri": "https://localhost:8080/",
     "height": 34
    },
    "colab_type": "code",
    "id": "k100mJm1Pd3y",
    "outputId": "f5361aac-aa38-4319-fcd3-797220d16392"
   },
   "outputs": [
    {
     "data": {
      "text/plain": [
       "(10000, 2)"
      ]
     },
     "execution_count": 61,
     "metadata": {
      "tags": []
     },
     "output_type": "execute_result"
    }
   ],
   "source": [
    "gender.shape"
   ]
  },
  {
   "cell_type": "code",
   "execution_count": 62,
   "metadata": {
    "colab": {
     "base_uri": "https://localhost:8080/",
     "height": 1000
    },
    "colab_type": "code",
    "id": "rZHsdq2PYKde",
    "outputId": "affafbce-76f0-4230-af33-1e271f1477d9"
   },
   "outputs": [
    {
     "data": {
      "text/html": [
       "<div>\n",
       "<style scoped>\n",
       "    .dataframe tbody tr th:only-of-type {\n",
       "        vertical-align: middle;\n",
       "    }\n",
       "\n",
       "    .dataframe tbody tr th {\n",
       "        vertical-align: top;\n",
       "    }\n",
       "\n",
       "    .dataframe thead th {\n",
       "        text-align: right;\n",
       "    }\n",
       "</style>\n",
       "<table border=\"1\" class=\"dataframe\">\n",
       "  <thead>\n",
       "    <tr style=\"text-align: right;\">\n",
       "      <th></th>\n",
       "      <th>Female</th>\n",
       "      <th>Male</th>\n",
       "    </tr>\n",
       "  </thead>\n",
       "  <tbody>\n",
       "    <tr>\n",
       "      <th>0</th>\n",
       "      <td>1.0</td>\n",
       "      <td>0.0</td>\n",
       "    </tr>\n",
       "    <tr>\n",
       "      <th>1</th>\n",
       "      <td>1.0</td>\n",
       "      <td>0.0</td>\n",
       "    </tr>\n",
       "    <tr>\n",
       "      <th>2</th>\n",
       "      <td>1.0</td>\n",
       "      <td>0.0</td>\n",
       "    </tr>\n",
       "    <tr>\n",
       "      <th>3</th>\n",
       "      <td>1.0</td>\n",
       "      <td>0.0</td>\n",
       "    </tr>\n",
       "    <tr>\n",
       "      <th>4</th>\n",
       "      <td>1.0</td>\n",
       "      <td>0.0</td>\n",
       "    </tr>\n",
       "    <tr>\n",
       "      <th>5</th>\n",
       "      <td>0.0</td>\n",
       "      <td>1.0</td>\n",
       "    </tr>\n",
       "    <tr>\n",
       "      <th>6</th>\n",
       "      <td>0.0</td>\n",
       "      <td>1.0</td>\n",
       "    </tr>\n",
       "    <tr>\n",
       "      <th>7</th>\n",
       "      <td>1.0</td>\n",
       "      <td>0.0</td>\n",
       "    </tr>\n",
       "    <tr>\n",
       "      <th>8</th>\n",
       "      <td>0.0</td>\n",
       "      <td>1.0</td>\n",
       "    </tr>\n",
       "    <tr>\n",
       "      <th>9</th>\n",
       "      <td>0.0</td>\n",
       "      <td>1.0</td>\n",
       "    </tr>\n",
       "    <tr>\n",
       "      <th>10</th>\n",
       "      <td>0.0</td>\n",
       "      <td>1.0</td>\n",
       "    </tr>\n",
       "    <tr>\n",
       "      <th>11</th>\n",
       "      <td>0.0</td>\n",
       "      <td>1.0</td>\n",
       "    </tr>\n",
       "    <tr>\n",
       "      <th>12</th>\n",
       "      <td>1.0</td>\n",
       "      <td>0.0</td>\n",
       "    </tr>\n",
       "    <tr>\n",
       "      <th>13</th>\n",
       "      <td>1.0</td>\n",
       "      <td>0.0</td>\n",
       "    </tr>\n",
       "    <tr>\n",
       "      <th>14</th>\n",
       "      <td>1.0</td>\n",
       "      <td>0.0</td>\n",
       "    </tr>\n",
       "    <tr>\n",
       "      <th>15</th>\n",
       "      <td>0.0</td>\n",
       "      <td>1.0</td>\n",
       "    </tr>\n",
       "    <tr>\n",
       "      <th>16</th>\n",
       "      <td>0.0</td>\n",
       "      <td>1.0</td>\n",
       "    </tr>\n",
       "    <tr>\n",
       "      <th>17</th>\n",
       "      <td>1.0</td>\n",
       "      <td>0.0</td>\n",
       "    </tr>\n",
       "    <tr>\n",
       "      <th>18</th>\n",
       "      <td>0.0</td>\n",
       "      <td>1.0</td>\n",
       "    </tr>\n",
       "    <tr>\n",
       "      <th>19</th>\n",
       "      <td>1.0</td>\n",
       "      <td>0.0</td>\n",
       "    </tr>\n",
       "    <tr>\n",
       "      <th>20</th>\n",
       "      <td>0.0</td>\n",
       "      <td>1.0</td>\n",
       "    </tr>\n",
       "    <tr>\n",
       "      <th>21</th>\n",
       "      <td>1.0</td>\n",
       "      <td>0.0</td>\n",
       "    </tr>\n",
       "    <tr>\n",
       "      <th>22</th>\n",
       "      <td>1.0</td>\n",
       "      <td>0.0</td>\n",
       "    </tr>\n",
       "    <tr>\n",
       "      <th>23</th>\n",
       "      <td>0.0</td>\n",
       "      <td>1.0</td>\n",
       "    </tr>\n",
       "    <tr>\n",
       "      <th>24</th>\n",
       "      <td>1.0</td>\n",
       "      <td>0.0</td>\n",
       "    </tr>\n",
       "    <tr>\n",
       "      <th>25</th>\n",
       "      <td>0.0</td>\n",
       "      <td>1.0</td>\n",
       "    </tr>\n",
       "    <tr>\n",
       "      <th>26</th>\n",
       "      <td>0.0</td>\n",
       "      <td>1.0</td>\n",
       "    </tr>\n",
       "    <tr>\n",
       "      <th>27</th>\n",
       "      <td>0.0</td>\n",
       "      <td>1.0</td>\n",
       "    </tr>\n",
       "    <tr>\n",
       "      <th>28</th>\n",
       "      <td>1.0</td>\n",
       "      <td>0.0</td>\n",
       "    </tr>\n",
       "    <tr>\n",
       "      <th>29</th>\n",
       "      <td>0.0</td>\n",
       "      <td>1.0</td>\n",
       "    </tr>\n",
       "    <tr>\n",
       "      <th>...</th>\n",
       "      <td>...</td>\n",
       "      <td>...</td>\n",
       "    </tr>\n",
       "    <tr>\n",
       "      <th>9970</th>\n",
       "      <td>0.0</td>\n",
       "      <td>1.0</td>\n",
       "    </tr>\n",
       "    <tr>\n",
       "      <th>9971</th>\n",
       "      <td>1.0</td>\n",
       "      <td>0.0</td>\n",
       "    </tr>\n",
       "    <tr>\n",
       "      <th>9972</th>\n",
       "      <td>0.0</td>\n",
       "      <td>1.0</td>\n",
       "    </tr>\n",
       "    <tr>\n",
       "      <th>9973</th>\n",
       "      <td>0.0</td>\n",
       "      <td>1.0</td>\n",
       "    </tr>\n",
       "    <tr>\n",
       "      <th>9974</th>\n",
       "      <td>0.0</td>\n",
       "      <td>1.0</td>\n",
       "    </tr>\n",
       "    <tr>\n",
       "      <th>9975</th>\n",
       "      <td>0.0</td>\n",
       "      <td>1.0</td>\n",
       "    </tr>\n",
       "    <tr>\n",
       "      <th>9976</th>\n",
       "      <td>1.0</td>\n",
       "      <td>0.0</td>\n",
       "    </tr>\n",
       "    <tr>\n",
       "      <th>9977</th>\n",
       "      <td>1.0</td>\n",
       "      <td>0.0</td>\n",
       "    </tr>\n",
       "    <tr>\n",
       "      <th>9978</th>\n",
       "      <td>0.0</td>\n",
       "      <td>1.0</td>\n",
       "    </tr>\n",
       "    <tr>\n",
       "      <th>9979</th>\n",
       "      <td>1.0</td>\n",
       "      <td>0.0</td>\n",
       "    </tr>\n",
       "    <tr>\n",
       "      <th>9980</th>\n",
       "      <td>0.0</td>\n",
       "      <td>1.0</td>\n",
       "    </tr>\n",
       "    <tr>\n",
       "      <th>9981</th>\n",
       "      <td>0.0</td>\n",
       "      <td>1.0</td>\n",
       "    </tr>\n",
       "    <tr>\n",
       "      <th>9982</th>\n",
       "      <td>1.0</td>\n",
       "      <td>0.0</td>\n",
       "    </tr>\n",
       "    <tr>\n",
       "      <th>9983</th>\n",
       "      <td>0.0</td>\n",
       "      <td>1.0</td>\n",
       "    </tr>\n",
       "    <tr>\n",
       "      <th>9984</th>\n",
       "      <td>0.0</td>\n",
       "      <td>1.0</td>\n",
       "    </tr>\n",
       "    <tr>\n",
       "      <th>9985</th>\n",
       "      <td>0.0</td>\n",
       "      <td>1.0</td>\n",
       "    </tr>\n",
       "    <tr>\n",
       "      <th>9986</th>\n",
       "      <td>0.0</td>\n",
       "      <td>1.0</td>\n",
       "    </tr>\n",
       "    <tr>\n",
       "      <th>9987</th>\n",
       "      <td>0.0</td>\n",
       "      <td>1.0</td>\n",
       "    </tr>\n",
       "    <tr>\n",
       "      <th>9988</th>\n",
       "      <td>0.0</td>\n",
       "      <td>1.0</td>\n",
       "    </tr>\n",
       "    <tr>\n",
       "      <th>9989</th>\n",
       "      <td>0.0</td>\n",
       "      <td>1.0</td>\n",
       "    </tr>\n",
       "    <tr>\n",
       "      <th>9990</th>\n",
       "      <td>0.0</td>\n",
       "      <td>1.0</td>\n",
       "    </tr>\n",
       "    <tr>\n",
       "      <th>9991</th>\n",
       "      <td>1.0</td>\n",
       "      <td>0.0</td>\n",
       "    </tr>\n",
       "    <tr>\n",
       "      <th>9992</th>\n",
       "      <td>0.0</td>\n",
       "      <td>1.0</td>\n",
       "    </tr>\n",
       "    <tr>\n",
       "      <th>9993</th>\n",
       "      <td>0.0</td>\n",
       "      <td>1.0</td>\n",
       "    </tr>\n",
       "    <tr>\n",
       "      <th>9994</th>\n",
       "      <td>1.0</td>\n",
       "      <td>0.0</td>\n",
       "    </tr>\n",
       "    <tr>\n",
       "      <th>9995</th>\n",
       "      <td>0.0</td>\n",
       "      <td>1.0</td>\n",
       "    </tr>\n",
       "    <tr>\n",
       "      <th>9996</th>\n",
       "      <td>0.0</td>\n",
       "      <td>1.0</td>\n",
       "    </tr>\n",
       "    <tr>\n",
       "      <th>9997</th>\n",
       "      <td>1.0</td>\n",
       "      <td>0.0</td>\n",
       "    </tr>\n",
       "    <tr>\n",
       "      <th>9998</th>\n",
       "      <td>0.0</td>\n",
       "      <td>1.0</td>\n",
       "    </tr>\n",
       "    <tr>\n",
       "      <th>9999</th>\n",
       "      <td>1.0</td>\n",
       "      <td>0.0</td>\n",
       "    </tr>\n",
       "  </tbody>\n",
       "</table>\n",
       "<p>10000 rows × 2 columns</p>\n",
       "</div>"
      ],
      "text/plain": [
       "      Female  Male\n",
       "0        1.0   0.0\n",
       "1        1.0   0.0\n",
       "2        1.0   0.0\n",
       "3        1.0   0.0\n",
       "4        1.0   0.0\n",
       "5        0.0   1.0\n",
       "6        0.0   1.0\n",
       "7        1.0   0.0\n",
       "8        0.0   1.0\n",
       "9        0.0   1.0\n",
       "10       0.0   1.0\n",
       "11       0.0   1.0\n",
       "12       1.0   0.0\n",
       "13       1.0   0.0\n",
       "14       1.0   0.0\n",
       "15       0.0   1.0\n",
       "16       0.0   1.0\n",
       "17       1.0   0.0\n",
       "18       0.0   1.0\n",
       "19       1.0   0.0\n",
       "20       0.0   1.0\n",
       "21       1.0   0.0\n",
       "22       1.0   0.0\n",
       "23       0.0   1.0\n",
       "24       1.0   0.0\n",
       "25       0.0   1.0\n",
       "26       0.0   1.0\n",
       "27       0.0   1.0\n",
       "28       1.0   0.0\n",
       "29       0.0   1.0\n",
       "...      ...   ...\n",
       "9970     0.0   1.0\n",
       "9971     1.0   0.0\n",
       "9972     0.0   1.0\n",
       "9973     0.0   1.0\n",
       "9974     0.0   1.0\n",
       "9975     0.0   1.0\n",
       "9976     1.0   0.0\n",
       "9977     1.0   0.0\n",
       "9978     0.0   1.0\n",
       "9979     1.0   0.0\n",
       "9980     0.0   1.0\n",
       "9981     0.0   1.0\n",
       "9982     1.0   0.0\n",
       "9983     0.0   1.0\n",
       "9984     0.0   1.0\n",
       "9985     0.0   1.0\n",
       "9986     0.0   1.0\n",
       "9987     0.0   1.0\n",
       "9988     0.0   1.0\n",
       "9989     0.0   1.0\n",
       "9990     0.0   1.0\n",
       "9991     1.0   0.0\n",
       "9992     0.0   1.0\n",
       "9993     0.0   1.0\n",
       "9994     1.0   0.0\n",
       "9995     0.0   1.0\n",
       "9996     0.0   1.0\n",
       "9997     1.0   0.0\n",
       "9998     0.0   1.0\n",
       "9999     1.0   0.0\n",
       "\n",
       "[10000 rows x 2 columns]"
      ]
     },
     "execution_count": 62,
     "metadata": {
      "tags": []
     },
     "output_type": "execute_result"
    }
   ],
   "source": [
    "gender_up.reindex(data_upsampled.index)\n",
    "gender.reindex(data.index)"
   ]
  },
  {
   "cell_type": "code",
   "execution_count": 0,
   "metadata": {
    "colab": {},
    "colab_type": "code",
    "id": "AZ0oihDYPflN"
   },
   "outputs": [],
   "source": [
    "geography_up = tf.keras.utils.to_categorical(data_upsampled['Geography'], num_classes=3)\n",
    "geography = tf.keras.utils.to_categorical(data['Geography'], num_classes=3)"
   ]
  },
  {
   "cell_type": "code",
   "execution_count": 0,
   "metadata": {
    "colab": {},
    "colab_type": "code",
    "id": "0gFxgU8TPqBp"
   },
   "outputs": [],
   "source": [
    "geography = pd.DataFrame(geography)\n",
    "geography_up = pd.DataFrame(geography_up)"
   ]
  },
  {
   "cell_type": "code",
   "execution_count": 0,
   "metadata": {
    "colab": {},
    "colab_type": "code",
    "id": "zbRUIZ_FQKKx"
   },
   "outputs": [],
   "source": [
    "geography.columns = ['France','Germany','Spain',]\n",
    "geography_up.columns = ['France','Germany','Spain',]"
   ]
  },
  {
   "cell_type": "code",
   "execution_count": 66,
   "metadata": {
    "colab": {
     "base_uri": "https://localhost:8080/",
     "height": 1000
    },
    "colab_type": "code",
    "id": "hSZRNj4OZjvs",
    "outputId": "6f249ba3-4c07-4e7b-f446-43b98dce401e"
   },
   "outputs": [
    {
     "data": {
      "text/html": [
       "<div>\n",
       "<style scoped>\n",
       "    .dataframe tbody tr th:only-of-type {\n",
       "        vertical-align: middle;\n",
       "    }\n",
       "\n",
       "    .dataframe tbody tr th {\n",
       "        vertical-align: top;\n",
       "    }\n",
       "\n",
       "    .dataframe thead th {\n",
       "        text-align: right;\n",
       "    }\n",
       "</style>\n",
       "<table border=\"1\" class=\"dataframe\">\n",
       "  <thead>\n",
       "    <tr style=\"text-align: right;\">\n",
       "      <th></th>\n",
       "      <th>France</th>\n",
       "      <th>Germany</th>\n",
       "      <th>Spain</th>\n",
       "    </tr>\n",
       "  </thead>\n",
       "  <tbody>\n",
       "    <tr>\n",
       "      <th>0</th>\n",
       "      <td>1.0</td>\n",
       "      <td>0.0</td>\n",
       "      <td>0.0</td>\n",
       "    </tr>\n",
       "    <tr>\n",
       "      <th>1</th>\n",
       "      <td>0.0</td>\n",
       "      <td>0.0</td>\n",
       "      <td>1.0</td>\n",
       "    </tr>\n",
       "    <tr>\n",
       "      <th>2</th>\n",
       "      <td>1.0</td>\n",
       "      <td>0.0</td>\n",
       "      <td>0.0</td>\n",
       "    </tr>\n",
       "    <tr>\n",
       "      <th>3</th>\n",
       "      <td>1.0</td>\n",
       "      <td>0.0</td>\n",
       "      <td>0.0</td>\n",
       "    </tr>\n",
       "    <tr>\n",
       "      <th>4</th>\n",
       "      <td>0.0</td>\n",
       "      <td>0.0</td>\n",
       "      <td>1.0</td>\n",
       "    </tr>\n",
       "    <tr>\n",
       "      <th>5</th>\n",
       "      <td>0.0</td>\n",
       "      <td>0.0</td>\n",
       "      <td>1.0</td>\n",
       "    </tr>\n",
       "    <tr>\n",
       "      <th>6</th>\n",
       "      <td>1.0</td>\n",
       "      <td>0.0</td>\n",
       "      <td>0.0</td>\n",
       "    </tr>\n",
       "    <tr>\n",
       "      <th>7</th>\n",
       "      <td>0.0</td>\n",
       "      <td>1.0</td>\n",
       "      <td>0.0</td>\n",
       "    </tr>\n",
       "    <tr>\n",
       "      <th>8</th>\n",
       "      <td>1.0</td>\n",
       "      <td>0.0</td>\n",
       "      <td>0.0</td>\n",
       "    </tr>\n",
       "    <tr>\n",
       "      <th>9</th>\n",
       "      <td>1.0</td>\n",
       "      <td>0.0</td>\n",
       "      <td>0.0</td>\n",
       "    </tr>\n",
       "    <tr>\n",
       "      <th>10</th>\n",
       "      <td>1.0</td>\n",
       "      <td>0.0</td>\n",
       "      <td>0.0</td>\n",
       "    </tr>\n",
       "    <tr>\n",
       "      <th>11</th>\n",
       "      <td>0.0</td>\n",
       "      <td>0.0</td>\n",
       "      <td>1.0</td>\n",
       "    </tr>\n",
       "    <tr>\n",
       "      <th>12</th>\n",
       "      <td>1.0</td>\n",
       "      <td>0.0</td>\n",
       "      <td>0.0</td>\n",
       "    </tr>\n",
       "    <tr>\n",
       "      <th>13</th>\n",
       "      <td>1.0</td>\n",
       "      <td>0.0</td>\n",
       "      <td>0.0</td>\n",
       "    </tr>\n",
       "    <tr>\n",
       "      <th>14</th>\n",
       "      <td>0.0</td>\n",
       "      <td>0.0</td>\n",
       "      <td>1.0</td>\n",
       "    </tr>\n",
       "    <tr>\n",
       "      <th>15</th>\n",
       "      <td>0.0</td>\n",
       "      <td>1.0</td>\n",
       "      <td>0.0</td>\n",
       "    </tr>\n",
       "    <tr>\n",
       "      <th>16</th>\n",
       "      <td>0.0</td>\n",
       "      <td>1.0</td>\n",
       "      <td>0.0</td>\n",
       "    </tr>\n",
       "    <tr>\n",
       "      <th>17</th>\n",
       "      <td>0.0</td>\n",
       "      <td>0.0</td>\n",
       "      <td>1.0</td>\n",
       "    </tr>\n",
       "    <tr>\n",
       "      <th>18</th>\n",
       "      <td>0.0</td>\n",
       "      <td>0.0</td>\n",
       "      <td>1.0</td>\n",
       "    </tr>\n",
       "    <tr>\n",
       "      <th>19</th>\n",
       "      <td>1.0</td>\n",
       "      <td>0.0</td>\n",
       "      <td>0.0</td>\n",
       "    </tr>\n",
       "    <tr>\n",
       "      <th>20</th>\n",
       "      <td>1.0</td>\n",
       "      <td>0.0</td>\n",
       "      <td>0.0</td>\n",
       "    </tr>\n",
       "    <tr>\n",
       "      <th>21</th>\n",
       "      <td>0.0</td>\n",
       "      <td>0.0</td>\n",
       "      <td>1.0</td>\n",
       "    </tr>\n",
       "    <tr>\n",
       "      <th>22</th>\n",
       "      <td>0.0</td>\n",
       "      <td>0.0</td>\n",
       "      <td>1.0</td>\n",
       "    </tr>\n",
       "    <tr>\n",
       "      <th>23</th>\n",
       "      <td>1.0</td>\n",
       "      <td>0.0</td>\n",
       "      <td>0.0</td>\n",
       "    </tr>\n",
       "    <tr>\n",
       "      <th>24</th>\n",
       "      <td>1.0</td>\n",
       "      <td>0.0</td>\n",
       "      <td>0.0</td>\n",
       "    </tr>\n",
       "    <tr>\n",
       "      <th>25</th>\n",
       "      <td>1.0</td>\n",
       "      <td>0.0</td>\n",
       "      <td>0.0</td>\n",
       "    </tr>\n",
       "    <tr>\n",
       "      <th>26</th>\n",
       "      <td>0.0</td>\n",
       "      <td>1.0</td>\n",
       "      <td>0.0</td>\n",
       "    </tr>\n",
       "    <tr>\n",
       "      <th>27</th>\n",
       "      <td>1.0</td>\n",
       "      <td>0.0</td>\n",
       "      <td>0.0</td>\n",
       "    </tr>\n",
       "    <tr>\n",
       "      <th>28</th>\n",
       "      <td>0.0</td>\n",
       "      <td>1.0</td>\n",
       "      <td>0.0</td>\n",
       "    </tr>\n",
       "    <tr>\n",
       "      <th>29</th>\n",
       "      <td>1.0</td>\n",
       "      <td>0.0</td>\n",
       "      <td>0.0</td>\n",
       "    </tr>\n",
       "    <tr>\n",
       "      <th>...</th>\n",
       "      <td>...</td>\n",
       "      <td>...</td>\n",
       "      <td>...</td>\n",
       "    </tr>\n",
       "    <tr>\n",
       "      <th>9970</th>\n",
       "      <td>1.0</td>\n",
       "      <td>0.0</td>\n",
       "      <td>0.0</td>\n",
       "    </tr>\n",
       "    <tr>\n",
       "      <th>9971</th>\n",
       "      <td>1.0</td>\n",
       "      <td>0.0</td>\n",
       "      <td>0.0</td>\n",
       "    </tr>\n",
       "    <tr>\n",
       "      <th>9972</th>\n",
       "      <td>1.0</td>\n",
       "      <td>0.0</td>\n",
       "      <td>0.0</td>\n",
       "    </tr>\n",
       "    <tr>\n",
       "      <th>9973</th>\n",
       "      <td>1.0</td>\n",
       "      <td>0.0</td>\n",
       "      <td>0.0</td>\n",
       "    </tr>\n",
       "    <tr>\n",
       "      <th>9974</th>\n",
       "      <td>1.0</td>\n",
       "      <td>0.0</td>\n",
       "      <td>0.0</td>\n",
       "    </tr>\n",
       "    <tr>\n",
       "      <th>9975</th>\n",
       "      <td>0.0</td>\n",
       "      <td>1.0</td>\n",
       "      <td>0.0</td>\n",
       "    </tr>\n",
       "    <tr>\n",
       "      <th>9976</th>\n",
       "      <td>1.0</td>\n",
       "      <td>0.0</td>\n",
       "      <td>0.0</td>\n",
       "    </tr>\n",
       "    <tr>\n",
       "      <th>9977</th>\n",
       "      <td>1.0</td>\n",
       "      <td>0.0</td>\n",
       "      <td>0.0</td>\n",
       "    </tr>\n",
       "    <tr>\n",
       "      <th>9978</th>\n",
       "      <td>1.0</td>\n",
       "      <td>0.0</td>\n",
       "      <td>0.0</td>\n",
       "    </tr>\n",
       "    <tr>\n",
       "      <th>9979</th>\n",
       "      <td>1.0</td>\n",
       "      <td>0.0</td>\n",
       "      <td>0.0</td>\n",
       "    </tr>\n",
       "    <tr>\n",
       "      <th>9980</th>\n",
       "      <td>0.0</td>\n",
       "      <td>0.0</td>\n",
       "      <td>1.0</td>\n",
       "    </tr>\n",
       "    <tr>\n",
       "      <th>9981</th>\n",
       "      <td>0.0</td>\n",
       "      <td>1.0</td>\n",
       "      <td>0.0</td>\n",
       "    </tr>\n",
       "    <tr>\n",
       "      <th>9982</th>\n",
       "      <td>0.0</td>\n",
       "      <td>1.0</td>\n",
       "      <td>0.0</td>\n",
       "    </tr>\n",
       "    <tr>\n",
       "      <th>9983</th>\n",
       "      <td>1.0</td>\n",
       "      <td>0.0</td>\n",
       "      <td>0.0</td>\n",
       "    </tr>\n",
       "    <tr>\n",
       "      <th>9984</th>\n",
       "      <td>0.0</td>\n",
       "      <td>1.0</td>\n",
       "      <td>0.0</td>\n",
       "    </tr>\n",
       "    <tr>\n",
       "      <th>9985</th>\n",
       "      <td>1.0</td>\n",
       "      <td>0.0</td>\n",
       "      <td>0.0</td>\n",
       "    </tr>\n",
       "    <tr>\n",
       "      <th>9986</th>\n",
       "      <td>0.0</td>\n",
       "      <td>1.0</td>\n",
       "      <td>0.0</td>\n",
       "    </tr>\n",
       "    <tr>\n",
       "      <th>9987</th>\n",
       "      <td>0.0</td>\n",
       "      <td>0.0</td>\n",
       "      <td>1.0</td>\n",
       "    </tr>\n",
       "    <tr>\n",
       "      <th>9988</th>\n",
       "      <td>1.0</td>\n",
       "      <td>0.0</td>\n",
       "      <td>0.0</td>\n",
       "    </tr>\n",
       "    <tr>\n",
       "      <th>9989</th>\n",
       "      <td>0.0</td>\n",
       "      <td>0.0</td>\n",
       "      <td>1.0</td>\n",
       "    </tr>\n",
       "    <tr>\n",
       "      <th>9990</th>\n",
       "      <td>0.0</td>\n",
       "      <td>1.0</td>\n",
       "      <td>0.0</td>\n",
       "    </tr>\n",
       "    <tr>\n",
       "      <th>9991</th>\n",
       "      <td>1.0</td>\n",
       "      <td>0.0</td>\n",
       "      <td>0.0</td>\n",
       "    </tr>\n",
       "    <tr>\n",
       "      <th>9992</th>\n",
       "      <td>0.0</td>\n",
       "      <td>0.0</td>\n",
       "      <td>1.0</td>\n",
       "    </tr>\n",
       "    <tr>\n",
       "      <th>9993</th>\n",
       "      <td>1.0</td>\n",
       "      <td>0.0</td>\n",
       "      <td>0.0</td>\n",
       "    </tr>\n",
       "    <tr>\n",
       "      <th>9994</th>\n",
       "      <td>1.0</td>\n",
       "      <td>0.0</td>\n",
       "      <td>0.0</td>\n",
       "    </tr>\n",
       "    <tr>\n",
       "      <th>9995</th>\n",
       "      <td>1.0</td>\n",
       "      <td>0.0</td>\n",
       "      <td>0.0</td>\n",
       "    </tr>\n",
       "    <tr>\n",
       "      <th>9996</th>\n",
       "      <td>1.0</td>\n",
       "      <td>0.0</td>\n",
       "      <td>0.0</td>\n",
       "    </tr>\n",
       "    <tr>\n",
       "      <th>9997</th>\n",
       "      <td>1.0</td>\n",
       "      <td>0.0</td>\n",
       "      <td>0.0</td>\n",
       "    </tr>\n",
       "    <tr>\n",
       "      <th>9998</th>\n",
       "      <td>0.0</td>\n",
       "      <td>1.0</td>\n",
       "      <td>0.0</td>\n",
       "    </tr>\n",
       "    <tr>\n",
       "      <th>9999</th>\n",
       "      <td>1.0</td>\n",
       "      <td>0.0</td>\n",
       "      <td>0.0</td>\n",
       "    </tr>\n",
       "  </tbody>\n",
       "</table>\n",
       "<p>10000 rows × 3 columns</p>\n",
       "</div>"
      ],
      "text/plain": [
       "      France  Germany  Spain\n",
       "0        1.0      0.0    0.0\n",
       "1        0.0      0.0    1.0\n",
       "2        1.0      0.0    0.0\n",
       "3        1.0      0.0    0.0\n",
       "4        0.0      0.0    1.0\n",
       "5        0.0      0.0    1.0\n",
       "6        1.0      0.0    0.0\n",
       "7        0.0      1.0    0.0\n",
       "8        1.0      0.0    0.0\n",
       "9        1.0      0.0    0.0\n",
       "10       1.0      0.0    0.0\n",
       "11       0.0      0.0    1.0\n",
       "12       1.0      0.0    0.0\n",
       "13       1.0      0.0    0.0\n",
       "14       0.0      0.0    1.0\n",
       "15       0.0      1.0    0.0\n",
       "16       0.0      1.0    0.0\n",
       "17       0.0      0.0    1.0\n",
       "18       0.0      0.0    1.0\n",
       "19       1.0      0.0    0.0\n",
       "20       1.0      0.0    0.0\n",
       "21       0.0      0.0    1.0\n",
       "22       0.0      0.0    1.0\n",
       "23       1.0      0.0    0.0\n",
       "24       1.0      0.0    0.0\n",
       "25       1.0      0.0    0.0\n",
       "26       0.0      1.0    0.0\n",
       "27       1.0      0.0    0.0\n",
       "28       0.0      1.0    0.0\n",
       "29       1.0      0.0    0.0\n",
       "...      ...      ...    ...\n",
       "9970     1.0      0.0    0.0\n",
       "9971     1.0      0.0    0.0\n",
       "9972     1.0      0.0    0.0\n",
       "9973     1.0      0.0    0.0\n",
       "9974     1.0      0.0    0.0\n",
       "9975     0.0      1.0    0.0\n",
       "9976     1.0      0.0    0.0\n",
       "9977     1.0      0.0    0.0\n",
       "9978     1.0      0.0    0.0\n",
       "9979     1.0      0.0    0.0\n",
       "9980     0.0      0.0    1.0\n",
       "9981     0.0      1.0    0.0\n",
       "9982     0.0      1.0    0.0\n",
       "9983     1.0      0.0    0.0\n",
       "9984     0.0      1.0    0.0\n",
       "9985     1.0      0.0    0.0\n",
       "9986     0.0      1.0    0.0\n",
       "9987     0.0      0.0    1.0\n",
       "9988     1.0      0.0    0.0\n",
       "9989     0.0      0.0    1.0\n",
       "9990     0.0      1.0    0.0\n",
       "9991     1.0      0.0    0.0\n",
       "9992     0.0      0.0    1.0\n",
       "9993     1.0      0.0    0.0\n",
       "9994     1.0      0.0    0.0\n",
       "9995     1.0      0.0    0.0\n",
       "9996     1.0      0.0    0.0\n",
       "9997     1.0      0.0    0.0\n",
       "9998     0.0      1.0    0.0\n",
       "9999     1.0      0.0    0.0\n",
       "\n",
       "[10000 rows x 3 columns]"
      ]
     },
     "execution_count": 66,
     "metadata": {
      "tags": []
     },
     "output_type": "execute_result"
    }
   ],
   "source": [
    "geography_up.reindex(data_upsampled.index)\n",
    "geography.reindex(data.index)"
   ]
  },
  {
   "cell_type": "code",
   "execution_count": 67,
   "metadata": {
    "colab": {
     "base_uri": "https://localhost:8080/",
     "height": 371
    },
    "colab_type": "code",
    "id": "i2GhzxijYRsR",
    "outputId": "1355feb8-95d5-4fcf-b7e6-4c7e13ccd257"
   },
   "outputs": [
    {
     "data": {
      "text/html": [
       "<div>\n",
       "<style scoped>\n",
       "    .dataframe tbody tr th:only-of-type {\n",
       "        vertical-align: middle;\n",
       "    }\n",
       "\n",
       "    .dataframe tbody tr th {\n",
       "        vertical-align: top;\n",
       "    }\n",
       "\n",
       "    .dataframe thead th {\n",
       "        text-align: right;\n",
       "    }\n",
       "</style>\n",
       "<table border=\"1\" class=\"dataframe\">\n",
       "  <thead>\n",
       "    <tr style=\"text-align: right;\">\n",
       "      <th></th>\n",
       "      <th>Surname</th>\n",
       "      <th>CreditScore</th>\n",
       "      <th>Geography</th>\n",
       "      <th>Gender</th>\n",
       "      <th>Age</th>\n",
       "      <th>Tenure</th>\n",
       "      <th>Balance</th>\n",
       "      <th>NumOfProducts</th>\n",
       "      <th>HasCrCard</th>\n",
       "      <th>IsActiveMember</th>\n",
       "      <th>EstimatedSalary</th>\n",
       "      <th>Exited</th>\n",
       "    </tr>\n",
       "  </thead>\n",
       "  <tbody>\n",
       "    <tr>\n",
       "      <th>0</th>\n",
       "      <td>Hargrave</td>\n",
       "      <td>619.0</td>\n",
       "      <td>0</td>\n",
       "      <td>0</td>\n",
       "      <td>42.0</td>\n",
       "      <td>2</td>\n",
       "      <td>0.00</td>\n",
       "      <td>1</td>\n",
       "      <td>1</td>\n",
       "      <td>1</td>\n",
       "      <td>101348.88</td>\n",
       "      <td>1</td>\n",
       "    </tr>\n",
       "    <tr>\n",
       "      <th>1</th>\n",
       "      <td>Hill</td>\n",
       "      <td>608.0</td>\n",
       "      <td>2</td>\n",
       "      <td>0</td>\n",
       "      <td>41.0</td>\n",
       "      <td>1</td>\n",
       "      <td>83807.86</td>\n",
       "      <td>1</td>\n",
       "      <td>0</td>\n",
       "      <td>1</td>\n",
       "      <td>112542.58</td>\n",
       "      <td>0</td>\n",
       "    </tr>\n",
       "    <tr>\n",
       "      <th>2</th>\n",
       "      <td>Onio</td>\n",
       "      <td>502.0</td>\n",
       "      <td>0</td>\n",
       "      <td>0</td>\n",
       "      <td>42.0</td>\n",
       "      <td>8</td>\n",
       "      <td>159660.80</td>\n",
       "      <td>3</td>\n",
       "      <td>1</td>\n",
       "      <td>0</td>\n",
       "      <td>113931.57</td>\n",
       "      <td>1</td>\n",
       "    </tr>\n",
       "    <tr>\n",
       "      <th>3</th>\n",
       "      <td>Boni</td>\n",
       "      <td>699.0</td>\n",
       "      <td>0</td>\n",
       "      <td>0</td>\n",
       "      <td>39.0</td>\n",
       "      <td>1</td>\n",
       "      <td>0.00</td>\n",
       "      <td>2</td>\n",
       "      <td>0</td>\n",
       "      <td>0</td>\n",
       "      <td>93826.63</td>\n",
       "      <td>0</td>\n",
       "    </tr>\n",
       "    <tr>\n",
       "      <th>4</th>\n",
       "      <td>Mitchell</td>\n",
       "      <td>850.0</td>\n",
       "      <td>2</td>\n",
       "      <td>0</td>\n",
       "      <td>43.0</td>\n",
       "      <td>2</td>\n",
       "      <td>125510.82</td>\n",
       "      <td>1</td>\n",
       "      <td>1</td>\n",
       "      <td>1</td>\n",
       "      <td>79084.10</td>\n",
       "      <td>0</td>\n",
       "    </tr>\n",
       "    <tr>\n",
       "      <th>5</th>\n",
       "      <td>Chu</td>\n",
       "      <td>645.0</td>\n",
       "      <td>2</td>\n",
       "      <td>1</td>\n",
       "      <td>44.0</td>\n",
       "      <td>8</td>\n",
       "      <td>113755.78</td>\n",
       "      <td>2</td>\n",
       "      <td>1</td>\n",
       "      <td>0</td>\n",
       "      <td>149756.71</td>\n",
       "      <td>1</td>\n",
       "    </tr>\n",
       "    <tr>\n",
       "      <th>6</th>\n",
       "      <td>Bartlett</td>\n",
       "      <td>822.0</td>\n",
       "      <td>0</td>\n",
       "      <td>1</td>\n",
       "      <td>50.0</td>\n",
       "      <td>7</td>\n",
       "      <td>0.00</td>\n",
       "      <td>2</td>\n",
       "      <td>1</td>\n",
       "      <td>1</td>\n",
       "      <td>10062.80</td>\n",
       "      <td>0</td>\n",
       "    </tr>\n",
       "    <tr>\n",
       "      <th>7</th>\n",
       "      <td>Obinna</td>\n",
       "      <td>652.0</td>\n",
       "      <td>1</td>\n",
       "      <td>0</td>\n",
       "      <td>29.0</td>\n",
       "      <td>4</td>\n",
       "      <td>115046.74</td>\n",
       "      <td>4</td>\n",
       "      <td>1</td>\n",
       "      <td>0</td>\n",
       "      <td>119346.88</td>\n",
       "      <td>1</td>\n",
       "    </tr>\n",
       "    <tr>\n",
       "      <th>8</th>\n",
       "      <td>He</td>\n",
       "      <td>501.0</td>\n",
       "      <td>0</td>\n",
       "      <td>1</td>\n",
       "      <td>44.0</td>\n",
       "      <td>4</td>\n",
       "      <td>142051.07</td>\n",
       "      <td>2</td>\n",
       "      <td>0</td>\n",
       "      <td>1</td>\n",
       "      <td>74940.50</td>\n",
       "      <td>0</td>\n",
       "    </tr>\n",
       "    <tr>\n",
       "      <th>9</th>\n",
       "      <td>H?</td>\n",
       "      <td>684.0</td>\n",
       "      <td>0</td>\n",
       "      <td>1</td>\n",
       "      <td>27.0</td>\n",
       "      <td>2</td>\n",
       "      <td>134603.88</td>\n",
       "      <td>1</td>\n",
       "      <td>1</td>\n",
       "      <td>1</td>\n",
       "      <td>71725.73</td>\n",
       "      <td>0</td>\n",
       "    </tr>\n",
       "  </tbody>\n",
       "</table>\n",
       "</div>"
      ],
      "text/plain": [
       "    Surname  CreditScore  Geography  ...  IsActiveMember  EstimatedSalary  Exited\n",
       "0  Hargrave        619.0          0  ...               1        101348.88       1\n",
       "1      Hill        608.0          2  ...               1        112542.58       0\n",
       "2      Onio        502.0          0  ...               0        113931.57       1\n",
       "3      Boni        699.0          0  ...               0         93826.63       0\n",
       "4  Mitchell        850.0          2  ...               1         79084.10       0\n",
       "5       Chu        645.0          2  ...               0        149756.71       1\n",
       "6  Bartlett        822.0          0  ...               1         10062.80       0\n",
       "7    Obinna        652.0          1  ...               0        119346.88       1\n",
       "8        He        501.0          0  ...               1         74940.50       0\n",
       "9        H?        684.0          0  ...               1         71725.73       0\n",
       "\n",
       "[10 rows x 12 columns]"
      ]
     },
     "execution_count": 67,
     "metadata": {
      "tags": []
     },
     "output_type": "execute_result"
    }
   ],
   "source": [
    "data_upsampled.head(10)\n",
    "data.head(10)"
   ]
  },
  {
   "cell_type": "code",
   "execution_count": 0,
   "metadata": {
    "colab": {},
    "colab_type": "code",
    "id": "3aBXUQR4WhK-"
   },
   "outputs": [],
   "source": [
    "data_temp_up = pd.concat([data_upsampled, gender_up], axis = 1)\n",
    "data_temp = pd.concat([data, gender], axis = 1)"
   ]
  },
  {
   "cell_type": "code",
   "execution_count": 0,
   "metadata": {
    "colab": {},
    "colab_type": "code",
    "id": "r1dPl9drXeqI"
   },
   "outputs": [],
   "source": [
    "data_final_up = pd.concat([data_temp_up,geography_up], axis = 1)\n",
    "data_final = pd.concat([data_temp,geography], axis = 1)"
   ]
  },
  {
   "cell_type": "code",
   "execution_count": 0,
   "metadata": {
    "colab": {},
    "colab_type": "code",
    "id": "IS0haSIWXhcD"
   },
   "outputs": [],
   "source": [
    "data_final.drop(columns = {'Geography','Gender','Surname'}, inplace = True)\n",
    "data_final_up.drop(columns = {'Geography','Gender','index'}, inplace = True)\n",
    "#data_final_up.drop(columns = {'index'}, inplace = True)"
   ]
  },
  {
   "cell_type": "code",
   "execution_count": 71,
   "metadata": {
    "colab": {
     "base_uri": "https://localhost:8080/",
     "height": 219
    },
    "colab_type": "code",
    "id": "JQDkaGKpZyn8",
    "outputId": "9da083d9-870a-48e5-baf8-755e1a9c1c74"
   },
   "outputs": [
    {
     "data": {
      "text/html": [
       "<div>\n",
       "<style scoped>\n",
       "    .dataframe tbody tr th:only-of-type {\n",
       "        vertical-align: middle;\n",
       "    }\n",
       "\n",
       "    .dataframe tbody tr th {\n",
       "        vertical-align: top;\n",
       "    }\n",
       "\n",
       "    .dataframe thead th {\n",
       "        text-align: right;\n",
       "    }\n",
       "</style>\n",
       "<table border=\"1\" class=\"dataframe\">\n",
       "  <thead>\n",
       "    <tr style=\"text-align: right;\">\n",
       "      <th></th>\n",
       "      <th>CreditScore</th>\n",
       "      <th>Age</th>\n",
       "      <th>Tenure</th>\n",
       "      <th>Balance</th>\n",
       "      <th>NumOfProducts</th>\n",
       "      <th>HasCrCard</th>\n",
       "      <th>IsActiveMember</th>\n",
       "      <th>EstimatedSalary</th>\n",
       "      <th>Exited</th>\n",
       "      <th>0</th>\n",
       "      <th>1</th>\n",
       "      <th>France</th>\n",
       "      <th>Germany</th>\n",
       "      <th>Spain</th>\n",
       "    </tr>\n",
       "  </thead>\n",
       "  <tbody>\n",
       "    <tr>\n",
       "      <th>0</th>\n",
       "      <td>619.0</td>\n",
       "      <td>42.0</td>\n",
       "      <td>2</td>\n",
       "      <td>0.00</td>\n",
       "      <td>1</td>\n",
       "      <td>1</td>\n",
       "      <td>1</td>\n",
       "      <td>101348.88</td>\n",
       "      <td>1</td>\n",
       "      <td>1.0</td>\n",
       "      <td>0.0</td>\n",
       "      <td>1.0</td>\n",
       "      <td>0.0</td>\n",
       "      <td>0.0</td>\n",
       "    </tr>\n",
       "    <tr>\n",
       "      <th>1</th>\n",
       "      <td>619.0</td>\n",
       "      <td>42.0</td>\n",
       "      <td>2</td>\n",
       "      <td>0.00</td>\n",
       "      <td>1</td>\n",
       "      <td>1</td>\n",
       "      <td>1</td>\n",
       "      <td>101348.88</td>\n",
       "      <td>1</td>\n",
       "      <td>1.0</td>\n",
       "      <td>0.0</td>\n",
       "      <td>1.0</td>\n",
       "      <td>0.0</td>\n",
       "      <td>0.0</td>\n",
       "    </tr>\n",
       "    <tr>\n",
       "      <th>2</th>\n",
       "      <td>619.0</td>\n",
       "      <td>42.0</td>\n",
       "      <td>2</td>\n",
       "      <td>0.00</td>\n",
       "      <td>1</td>\n",
       "      <td>1</td>\n",
       "      <td>1</td>\n",
       "      <td>101348.88</td>\n",
       "      <td>1</td>\n",
       "      <td>1.0</td>\n",
       "      <td>0.0</td>\n",
       "      <td>1.0</td>\n",
       "      <td>0.0</td>\n",
       "      <td>0.0</td>\n",
       "    </tr>\n",
       "    <tr>\n",
       "      <th>3</th>\n",
       "      <td>608.0</td>\n",
       "      <td>41.0</td>\n",
       "      <td>1</td>\n",
       "      <td>83807.86</td>\n",
       "      <td>1</td>\n",
       "      <td>0</td>\n",
       "      <td>1</td>\n",
       "      <td>112542.58</td>\n",
       "      <td>0</td>\n",
       "      <td>1.0</td>\n",
       "      <td>0.0</td>\n",
       "      <td>0.0</td>\n",
       "      <td>0.0</td>\n",
       "      <td>1.0</td>\n",
       "    </tr>\n",
       "    <tr>\n",
       "      <th>4</th>\n",
       "      <td>502.0</td>\n",
       "      <td>42.0</td>\n",
       "      <td>8</td>\n",
       "      <td>159660.80</td>\n",
       "      <td>3</td>\n",
       "      <td>1</td>\n",
       "      <td>0</td>\n",
       "      <td>113931.57</td>\n",
       "      <td>1</td>\n",
       "      <td>1.0</td>\n",
       "      <td>0.0</td>\n",
       "      <td>1.0</td>\n",
       "      <td>0.0</td>\n",
       "      <td>0.0</td>\n",
       "    </tr>\n",
       "  </tbody>\n",
       "</table>\n",
       "</div>"
      ],
      "text/plain": [
       "   CreditScore   Age  Tenure    Balance  ...    1  France  Germany  Spain\n",
       "0        619.0  42.0       2       0.00  ...  0.0     1.0      0.0    0.0\n",
       "1        619.0  42.0       2       0.00  ...  0.0     1.0      0.0    0.0\n",
       "2        619.0  42.0       2       0.00  ...  0.0     1.0      0.0    0.0\n",
       "3        608.0  41.0       1   83807.86  ...  0.0     0.0      0.0    1.0\n",
       "4        502.0  42.0       8  159660.80  ...  0.0     1.0      0.0    0.0\n",
       "\n",
       "[5 rows x 14 columns]"
      ]
     },
     "execution_count": 71,
     "metadata": {
      "tags": []
     },
     "output_type": "execute_result"
    }
   ],
   "source": [
    "data_final.head()\n",
    "data_final_up.head()"
   ]
  },
  {
   "cell_type": "code",
   "execution_count": 72,
   "metadata": {
    "colab": {
     "base_uri": "https://localhost:8080/",
     "height": 351
    },
    "colab_type": "code",
    "id": "Pjx6Wzz8Z2fQ",
    "outputId": "6a538b2f-ccdc-49d3-c897-068cc04208c6"
   },
   "outputs": [
    {
     "name": "stdout",
     "output_type": "stream",
     "text": [
      "<class 'pandas.core.frame.DataFrame'>\n",
      "RangeIndex: 15926 entries, 0 to 15925\n",
      "Data columns (total 14 columns):\n",
      "CreditScore        15926 non-null float32\n",
      "Age                15926 non-null float32\n",
      "Tenure             15926 non-null float32\n",
      "Balance            15926 non-null float32\n",
      "NumOfProducts      15926 non-null float32\n",
      "HasCrCard          15926 non-null float32\n",
      "IsActiveMember     15926 non-null float32\n",
      "EstimatedSalary    15926 non-null float32\n",
      "Exited             15926 non-null float32\n",
      "0                  15926 non-null float32\n",
      "1                  15926 non-null float32\n",
      "France             15926 non-null float32\n",
      "Germany            15926 non-null float32\n",
      "Spain              15926 non-null float32\n",
      "dtypes: float32(14)\n",
      "memory usage: 871.0 KB\n"
     ]
    }
   ],
   "source": [
    "data_final_up = data_final_up.astype('float32')\n",
    "data_final_up.info()"
   ]
  },
  {
   "cell_type": "code",
   "execution_count": 73,
   "metadata": {
    "colab": {
     "base_uri": "https://localhost:8080/",
     "height": 351
    },
    "colab_type": "code",
    "id": "Ef9HxTYLiNQk",
    "outputId": "66b10eca-0ee3-416e-8187-3e45e546891d"
   },
   "outputs": [
    {
     "name": "stdout",
     "output_type": "stream",
     "text": [
      "<class 'pandas.core.frame.DataFrame'>\n",
      "RangeIndex: 10000 entries, 0 to 9999\n",
      "Data columns (total 14 columns):\n",
      "CreditScore        10000 non-null float32\n",
      "Age                10000 non-null float32\n",
      "Tenure             10000 non-null float32\n",
      "Balance            10000 non-null float32\n",
      "NumOfProducts      10000 non-null float32\n",
      "HasCrCard          10000 non-null float32\n",
      "IsActiveMember     10000 non-null float32\n",
      "EstimatedSalary    10000 non-null float32\n",
      "Exited             10000 non-null float32\n",
      "Female             10000 non-null float32\n",
      "Male               10000 non-null float32\n",
      "France             10000 non-null float32\n",
      "Germany            10000 non-null float32\n",
      "Spain              10000 non-null float32\n",
      "dtypes: float32(14)\n",
      "memory usage: 547.0 KB\n"
     ]
    }
   ],
   "source": [
    "data_final = data_final.astype('float32')\n",
    "data_final.info()"
   ]
  },
  {
   "cell_type": "markdown",
   "metadata": {
    "colab_type": "text",
    "id": "gWu3V9jRqhKt"
   },
   "source": [
    "### Test Train Split of the onehot encoded data to build the model"
   ]
  },
  {
   "cell_type": "code",
   "execution_count": 0,
   "metadata": {
    "colab": {},
    "colab_type": "code",
    "id": "r8fzzekSaT4R"
   },
   "outputs": [],
   "source": [
    "y = data_final['Exited'].values\n",
    "y_up = data_final_up['Exited'].values"
   ]
  },
  {
   "cell_type": "code",
   "execution_count": 0,
   "metadata": {
    "colab": {},
    "colab_type": "code",
    "id": "d0rV8zQQcLB2"
   },
   "outputs": [],
   "source": [
    "X = data_final.drop(columns = 'Exited').values\n",
    "X_up = data_final_up.drop(columns = 'Exited').values"
   ]
  },
  {
   "cell_type": "code",
   "execution_count": 0,
   "metadata": {
    "colab": {},
    "colab_type": "code",
    "id": "zWJ9Vde2cQIx"
   },
   "outputs": [],
   "source": [
    "from sklearn.model_selection import train_test_split"
   ]
  },
  {
   "cell_type": "code",
   "execution_count": 0,
   "metadata": {
    "colab": {},
    "colab_type": "code",
    "id": "z4MI7Hh1caM5"
   },
   "outputs": [],
   "source": [
    "X_train,X_test,y_train,y_test = train_test_split(X,y,test_size = 0.3, random_state = 123)\n",
    "X_train_up,X_test_up,y_train_up,y_test_up = train_test_split(X_up,y_up,test_size = 0.3, random_state = 123)"
   ]
  },
  {
   "cell_type": "markdown",
   "metadata": {
    "colab_type": "text",
    "id": "SESk95DedU9p"
   },
   "source": [
    "### Buiding Graph for Tensorflow Keras"
   ]
  },
  {
   "cell_type": "markdown",
   "metadata": {
    "colab_type": "text",
    "id": "KmipaWrS5FTL"
   },
   "source": [
    "#### With upsampled Data"
   ]
  },
  {
   "cell_type": "code",
   "execution_count": 0,
   "metadata": {
    "colab": {
     "base_uri": "https://localhost:8080/",
     "height": 122
    },
    "colab_type": "code",
    "id": "FDbnm7QHcRt9",
    "outputId": "5b938eb5-c4a3-42e4-adba-2e691f460160"
   },
   "outputs": [
    {
     "data": {
      "text/plain": [
       "Index([    'CreditScore',             'Age',          'Tenure',\n",
       "               'Balance',   'NumOfProducts',       'HasCrCard',\n",
       "        'IsActiveMember', 'EstimatedSalary',          'Exited',\n",
       "                       0,                 1,          'France',\n",
       "               'Germany',           'Spain'],\n",
       "      dtype='object')"
      ]
     },
     "execution_count": 102,
     "metadata": {
      "tags": []
     },
     "output_type": "execute_result"
    }
   ],
   "source": [
    "y_train_up = np.asarray(y_train_up).astype('float32').reshape((-1,1))"
   ]
  },
  {
   "cell_type": "code",
   "execution_count": 0,
   "metadata": {
    "colab": {},
    "colab_type": "code",
    "id": "oCrWDOx-1gcj"
   },
   "outputs": [],
   "source": [
    "model = tf.keras.models.Sequential()\n",
    "model.add(tf.keras.layers.BatchNormalization())\n",
    "model.add(tf.keras.layers.Dense(100, activation='sigmoid'))\n",
    "model.add(tf.keras.layers.Dense(100, activation='sigmoid'))\n",
    "model.add(tf.keras.layers.Dense(10, activation='sigmoid'))\n",
    "model.add(tf.keras.layers.Dense(1, activation='sigmoid'))"
   ]
  },
  {
   "cell_type": "code",
   "execution_count": 0,
   "metadata": {
    "colab": {},
    "colab_type": "code",
    "id": "WuWv4l8O1gXQ"
   },
   "outputs": [],
   "source": [
    "sgd_optimizer = tf.keras.optimizers.SGD(lr=0.1)\n",
    "model.compile(optimizer=sgd_optimizer, loss='binary_crossentropy', metrics=['accuracy'])"
   ]
  },
  {
   "cell_type": "code",
   "execution_count": 0,
   "metadata": {
    "colab": {
     "base_uri": "https://localhost:8080/",
     "height": 1000
    },
    "colab_type": "code",
    "id": "TgRI4bpUahKP",
    "outputId": "875473a1-23af-44eb-c744-2c683302325c"
   },
   "outputs": [
    {
     "name": "stdout",
     "output_type": "stream",
     "text": [
      "Train on 11148 samples, validate on 4778 samples\n",
      "Epoch 1/200\n",
      "11148/11148 [==============================] - 3s 244us/sample - loss: 0.6907 - acc: 0.5358 - val_loss: 0.6833 - val_acc: 0.5004\n",
      "Epoch 2/200\n",
      "11148/11148 [==============================] - 2s 192us/sample - loss: 0.6633 - acc: 0.6368 - val_loss: 0.6243 - val_acc: 0.7022\n",
      "Epoch 3/200\n",
      "11148/11148 [==============================] - 2s 188us/sample - loss: 0.5841 - acc: 0.7031 - val_loss: 0.5717 - val_acc: 0.7145\n",
      "Epoch 4/200\n",
      "11148/11148 [==============================] - 2s 188us/sample - loss: 0.5664 - acc: 0.7051 - val_loss: 0.5656 - val_acc: 0.7131\n",
      "Epoch 5/200\n",
      "11148/11148 [==============================] - 2s 189us/sample - loss: 0.5665 - acc: 0.7118 - val_loss: 0.5649 - val_acc: 0.7124\n",
      "Epoch 6/200\n",
      "11148/11148 [==============================] - 2s 197us/sample - loss: 0.5690 - acc: 0.7043 - val_loss: 0.5661 - val_acc: 0.7072\n",
      "Epoch 7/200\n",
      "11148/11148 [==============================] - 2s 209us/sample - loss: 0.5623 - acc: 0.7144 - val_loss: 0.5710 - val_acc: 0.7143\n",
      "Epoch 8/200\n",
      "11148/11148 [==============================] - 2s 200us/sample - loss: 0.5644 - acc: 0.7074 - val_loss: 0.5691 - val_acc: 0.7116\n",
      "Epoch 9/200\n",
      "11148/11148 [==============================] - 2s 194us/sample - loss: 0.5656 - acc: 0.7071 - val_loss: 0.5647 - val_acc: 0.7168\n",
      "Epoch 10/200\n",
      "11148/11148 [==============================] - 2s 194us/sample - loss: 0.5625 - acc: 0.7119 - val_loss: 0.5683 - val_acc: 0.7154\n",
      "Epoch 11/200\n",
      "11148/11148 [==============================] - 2s 189us/sample - loss: 0.5646 - acc: 0.7119 - val_loss: 0.5642 - val_acc: 0.7147\n",
      "Epoch 12/200\n",
      "11148/11148 [==============================] - 2s 195us/sample - loss: 0.5627 - acc: 0.7074 - val_loss: 0.5648 - val_acc: 0.7135\n",
      "Epoch 13/200\n",
      "11148/11148 [==============================] - 2s 191us/sample - loss: 0.5612 - acc: 0.7108 - val_loss: 0.5697 - val_acc: 0.7089\n",
      "Epoch 14/200\n",
      "11148/11148 [==============================] - 2s 187us/sample - loss: 0.5636 - acc: 0.7105 - val_loss: 0.5670 - val_acc: 0.7143\n",
      "Epoch 15/200\n",
      "11148/11148 [==============================] - 2s 191us/sample - loss: 0.5630 - acc: 0.7106 - val_loss: 0.5637 - val_acc: 0.7162\n",
      "Epoch 16/200\n",
      "11148/11148 [==============================] - 2s 188us/sample - loss: 0.5641 - acc: 0.7112 - val_loss: 0.5632 - val_acc: 0.7160\n",
      "Epoch 17/200\n",
      "11148/11148 [==============================] - 2s 188us/sample - loss: 0.5623 - acc: 0.7101 - val_loss: 0.5654 - val_acc: 0.7118\n",
      "Epoch 18/200\n",
      "11148/11148 [==============================] - 2s 198us/sample - loss: 0.5636 - acc: 0.7106 - val_loss: 0.5634 - val_acc: 0.7129\n",
      "Epoch 19/200\n",
      "11148/11148 [==============================] - 2s 188us/sample - loss: 0.5613 - acc: 0.7146 - val_loss: 0.5620 - val_acc: 0.7143\n",
      "Epoch 20/200\n",
      "11148/11148 [==============================] - 2s 186us/sample - loss: 0.5609 - acc: 0.7092 - val_loss: 0.5701 - val_acc: 0.7156\n",
      "Epoch 21/200\n",
      "11148/11148 [==============================] - 2s 189us/sample - loss: 0.5572 - acc: 0.7122 - val_loss: 0.5605 - val_acc: 0.7149\n",
      "Epoch 22/200\n",
      "11148/11148 [==============================] - 2s 189us/sample - loss: 0.5608 - acc: 0.7121 - val_loss: 0.5583 - val_acc: 0.7147\n",
      "Epoch 23/200\n",
      "11148/11148 [==============================] - 2s 189us/sample - loss: 0.5532 - acc: 0.7166 - val_loss: 0.5554 - val_acc: 0.7156\n",
      "Epoch 24/200\n",
      "11148/11148 [==============================] - 2s 187us/sample - loss: 0.5512 - acc: 0.7210 - val_loss: 0.5505 - val_acc: 0.7206\n",
      "Epoch 25/200\n",
      "11148/11148 [==============================] - 2s 193us/sample - loss: 0.5492 - acc: 0.7182 - val_loss: 0.5443 - val_acc: 0.7296\n",
      "Epoch 26/200\n",
      "11148/11148 [==============================] - 2s 191us/sample - loss: 0.5416 - acc: 0.7263 - val_loss: 0.5340 - val_acc: 0.7355\n",
      "Epoch 27/200\n",
      "11148/11148 [==============================] - 2s 190us/sample - loss: 0.5326 - acc: 0.7321 - val_loss: 0.5199 - val_acc: 0.7417\n",
      "Epoch 28/200\n",
      "11148/11148 [==============================] - 2s 194us/sample - loss: 0.5193 - acc: 0.7452 - val_loss: 0.5100 - val_acc: 0.7520\n",
      "Epoch 29/200\n",
      "11148/11148 [==============================] - 2s 193us/sample - loss: 0.5086 - acc: 0.7481 - val_loss: 0.4949 - val_acc: 0.7599\n",
      "Epoch 30/200\n",
      "11148/11148 [==============================] - 2s 191us/sample - loss: 0.5005 - acc: 0.7535 - val_loss: 0.4898 - val_acc: 0.7645\n",
      "Epoch 31/200\n",
      "11148/11148 [==============================] - 2s 187us/sample - loss: 0.5005 - acc: 0.7545 - val_loss: 0.4859 - val_acc: 0.7664\n",
      "Epoch 32/200\n",
      "11148/11148 [==============================] - 2s 190us/sample - loss: 0.4986 - acc: 0.7584 - val_loss: 0.4836 - val_acc: 0.7662\n",
      "Epoch 33/200\n",
      "11148/11148 [==============================] - 2s 193us/sample - loss: 0.4918 - acc: 0.7577 - val_loss: 0.4805 - val_acc: 0.7660\n",
      "Epoch 34/200\n",
      "11148/11148 [==============================] - 2s 189us/sample - loss: 0.4898 - acc: 0.7609 - val_loss: 0.4777 - val_acc: 0.7681\n",
      "Epoch 35/200\n",
      "11148/11148 [==============================] - 2s 187us/sample - loss: 0.4877 - acc: 0.7633 - val_loss: 0.4773 - val_acc: 0.7658\n",
      "Epoch 36/200\n",
      "11148/11148 [==============================] - 2s 188us/sample - loss: 0.4856 - acc: 0.7601 - val_loss: 0.4822 - val_acc: 0.7706\n",
      "Epoch 37/200\n",
      "11148/11148 [==============================] - 2s 190us/sample - loss: 0.4874 - acc: 0.7610 - val_loss: 0.4819 - val_acc: 0.7666\n",
      "Epoch 38/200\n",
      "11148/11148 [==============================] - 2s 203us/sample - loss: 0.4840 - acc: 0.7644 - val_loss: 0.4720 - val_acc: 0.7689\n",
      "Epoch 39/200\n",
      "11148/11148 [==============================] - 2s 202us/sample - loss: 0.4799 - acc: 0.7657 - val_loss: 0.4743 - val_acc: 0.7692\n",
      "Epoch 40/200\n",
      "11148/11148 [==============================] - 2s 205us/sample - loss: 0.4856 - acc: 0.7628 - val_loss: 0.4725 - val_acc: 0.7692\n",
      "Epoch 41/200\n",
      "11148/11148 [==============================] - 2s 203us/sample - loss: 0.4799 - acc: 0.7656 - val_loss: 0.5022 - val_acc: 0.7587\n",
      "Epoch 42/200\n",
      "11148/11148 [==============================] - 2s 204us/sample - loss: 0.4814 - acc: 0.7624 - val_loss: 0.4863 - val_acc: 0.7702\n",
      "Epoch 43/200\n",
      "11148/11148 [==============================] - 2s 192us/sample - loss: 0.4843 - acc: 0.7639 - val_loss: 0.4781 - val_acc: 0.7710\n",
      "Epoch 44/200\n",
      "11148/11148 [==============================] - 2s 190us/sample - loss: 0.4818 - acc: 0.7655 - val_loss: 0.4777 - val_acc: 0.7689\n",
      "Epoch 45/200\n",
      "11148/11148 [==============================] - 2s 191us/sample - loss: 0.4824 - acc: 0.7626 - val_loss: 0.4926 - val_acc: 0.7562\n",
      "Epoch 46/200\n",
      "11148/11148 [==============================] - 2s 187us/sample - loss: 0.4831 - acc: 0.7654 - val_loss: 0.4699 - val_acc: 0.7706\n",
      "Epoch 47/200\n",
      "11148/11148 [==============================] - 2s 195us/sample - loss: 0.4800 - acc: 0.7666 - val_loss: 0.4684 - val_acc: 0.7750\n",
      "Epoch 48/200\n",
      "11148/11148 [==============================] - 2s 188us/sample - loss: 0.4776 - acc: 0.7715 - val_loss: 0.4736 - val_acc: 0.7712\n",
      "Epoch 49/200\n",
      "11148/11148 [==============================] - 2s 188us/sample - loss: 0.4774 - acc: 0.7697 - val_loss: 0.4668 - val_acc: 0.7740\n",
      "Epoch 50/200\n",
      "11148/11148 [==============================] - 2s 186us/sample - loss: 0.4768 - acc: 0.7713 - val_loss: 0.4681 - val_acc: 0.7758\n",
      "Epoch 51/200\n",
      "11148/11148 [==============================] - 2s 188us/sample - loss: 0.4805 - acc: 0.7643 - val_loss: 0.4699 - val_acc: 0.7748\n",
      "Epoch 52/200\n",
      "11148/11148 [==============================] - 2s 186us/sample - loss: 0.4749 - acc: 0.7713 - val_loss: 0.4684 - val_acc: 0.7733\n",
      "Epoch 53/200\n",
      "11148/11148 [==============================] - 2s 192us/sample - loss: 0.4746 - acc: 0.7713 - val_loss: 0.4685 - val_acc: 0.7717\n",
      "Epoch 54/200\n",
      "11148/11148 [==============================] - 2s 188us/sample - loss: 0.4741 - acc: 0.7711 - val_loss: 0.4726 - val_acc: 0.7742\n",
      "Epoch 55/200\n",
      "11148/11148 [==============================] - 2s 185us/sample - loss: 0.4779 - acc: 0.7669 - val_loss: 0.4695 - val_acc: 0.7758\n",
      "Epoch 56/200\n",
      "11148/11148 [==============================] - 2s 189us/sample - loss: 0.4747 - acc: 0.7711 - val_loss: 0.4773 - val_acc: 0.7744\n",
      "Epoch 57/200\n",
      "11148/11148 [==============================] - 2s 188us/sample - loss: 0.4762 - acc: 0.7670 - val_loss: 0.4691 - val_acc: 0.7702\n",
      "Epoch 58/200\n",
      "11148/11148 [==============================] - 2s 191us/sample - loss: 0.4736 - acc: 0.7683 - val_loss: 0.4686 - val_acc: 0.7767\n",
      "Epoch 59/200\n",
      "11148/11148 [==============================] - 2s 189us/sample - loss: 0.4732 - acc: 0.7701 - val_loss: 0.4727 - val_acc: 0.7717\n",
      "Epoch 60/200\n",
      "11148/11148 [==============================] - 2s 186us/sample - loss: 0.4746 - acc: 0.7698 - val_loss: 0.4641 - val_acc: 0.7767\n",
      "Epoch 61/200\n",
      "11148/11148 [==============================] - 2s 188us/sample - loss: 0.4751 - acc: 0.7696 - val_loss: 0.4745 - val_acc: 0.7756\n",
      "Epoch 62/200\n",
      "11148/11148 [==============================] - 2s 188us/sample - loss: 0.4761 - acc: 0.7670 - val_loss: 0.4681 - val_acc: 0.7740\n",
      "Epoch 63/200\n",
      "11148/11148 [==============================] - 2s 193us/sample - loss: 0.4709 - acc: 0.7702 - val_loss: 0.4656 - val_acc: 0.7767\n",
      "Epoch 64/200\n",
      "11148/11148 [==============================] - 2s 187us/sample - loss: 0.4718 - acc: 0.7713 - val_loss: 0.4667 - val_acc: 0.7786\n",
      "Epoch 65/200\n",
      "11148/11148 [==============================] - 2s 186us/sample - loss: 0.4705 - acc: 0.7749 - val_loss: 0.4645 - val_acc: 0.7750\n",
      "Epoch 66/200\n",
      "11148/11148 [==============================] - 2s 189us/sample - loss: 0.4713 - acc: 0.7731 - val_loss: 0.4679 - val_acc: 0.7767\n",
      "Epoch 67/200\n",
      "11148/11148 [==============================] - 2s 185us/sample - loss: 0.4709 - acc: 0.7705 - val_loss: 0.4732 - val_acc: 0.7767\n",
      "Epoch 68/200\n",
      "11148/11148 [==============================] - 2s 187us/sample - loss: 0.4733 - acc: 0.7734 - val_loss: 0.4648 - val_acc: 0.7771\n",
      "Epoch 69/200\n",
      "11148/11148 [==============================] - 2s 188us/sample - loss: 0.4740 - acc: 0.7713 - val_loss: 0.4682 - val_acc: 0.7740\n",
      "Epoch 70/200\n",
      "11148/11148 [==============================] - 2s 186us/sample - loss: 0.4709 - acc: 0.7726 - val_loss: 0.4639 - val_acc: 0.7786\n",
      "Epoch 71/200\n",
      "11148/11148 [==============================] - 2s 186us/sample - loss: 0.4720 - acc: 0.7722 - val_loss: 0.4675 - val_acc: 0.7754\n",
      "Epoch 72/200\n",
      "11148/11148 [==============================] - 2s 188us/sample - loss: 0.4706 - acc: 0.7714 - val_loss: 0.4647 - val_acc: 0.7754\n",
      "Epoch 73/200\n",
      "11148/11148 [==============================] - 2s 192us/sample - loss: 0.4679 - acc: 0.7750 - val_loss: 0.4669 - val_acc: 0.7775\n",
      "Epoch 74/200\n",
      "11148/11148 [==============================] - 2s 187us/sample - loss: 0.4718 - acc: 0.7746 - val_loss: 0.4652 - val_acc: 0.7781\n",
      "Epoch 75/200\n",
      "11148/11148 [==============================] - 2s 188us/sample - loss: 0.4686 - acc: 0.7731 - val_loss: 0.4697 - val_acc: 0.7719\n",
      "Epoch 76/200\n",
      "11148/11148 [==============================] - 2s 187us/sample - loss: 0.4693 - acc: 0.7777 - val_loss: 0.4638 - val_acc: 0.7786\n",
      "Epoch 77/200\n",
      "11148/11148 [==============================] - 2s 186us/sample - loss: 0.4709 - acc: 0.7707 - val_loss: 0.4630 - val_acc: 0.7773\n",
      "Epoch 78/200\n",
      "11148/11148 [==============================] - 2s 195us/sample - loss: 0.4623 - acc: 0.7816 - val_loss: 0.4680 - val_acc: 0.7784\n",
      "Epoch 79/200\n",
      "11148/11148 [==============================] - 2s 185us/sample - loss: 0.4707 - acc: 0.7713 - val_loss: 0.4669 - val_acc: 0.7798\n",
      "Epoch 80/200\n",
      "11148/11148 [==============================] - 2s 193us/sample - loss: 0.4688 - acc: 0.7737 - val_loss: 0.4697 - val_acc: 0.7796\n",
      "Epoch 81/200\n",
      "11148/11148 [==============================] - 2s 188us/sample - loss: 0.4701 - acc: 0.7743 - val_loss: 0.4646 - val_acc: 0.7777\n",
      "Epoch 82/200\n",
      "11148/11148 [==============================] - 2s 189us/sample - loss: 0.4631 - acc: 0.7785 - val_loss: 0.4608 - val_acc: 0.7815\n",
      "Epoch 83/200\n",
      "11148/11148 [==============================] - 2s 197us/sample - loss: 0.4668 - acc: 0.7762 - val_loss: 0.4633 - val_acc: 0.7807\n",
      "Epoch 84/200\n",
      "11148/11148 [==============================] - 2s 194us/sample - loss: 0.4655 - acc: 0.7787 - val_loss: 0.4672 - val_acc: 0.7784\n",
      "Epoch 85/200\n",
      "11148/11148 [==============================] - 2s 190us/sample - loss: 0.4629 - acc: 0.7787 - val_loss: 0.4623 - val_acc: 0.7815\n",
      "Epoch 86/200\n",
      "11148/11148 [==============================] - 2s 188us/sample - loss: 0.4630 - acc: 0.7802 - val_loss: 0.4735 - val_acc: 0.7767\n",
      "Epoch 87/200\n",
      "11148/11148 [==============================] - 2s 194us/sample - loss: 0.4586 - acc: 0.7810 - val_loss: 0.4620 - val_acc: 0.7794\n",
      "Epoch 88/200\n",
      "11148/11148 [==============================] - 2s 192us/sample - loss: 0.4666 - acc: 0.7768 - val_loss: 0.4673 - val_acc: 0.7756\n",
      "Epoch 89/200\n",
      "11148/11148 [==============================] - 2s 187us/sample - loss: 0.4627 - acc: 0.7777 - val_loss: 0.4625 - val_acc: 0.7834\n",
      "Epoch 90/200\n",
      "11148/11148 [==============================] - 2s 190us/sample - loss: 0.4598 - acc: 0.7789 - val_loss: 0.4673 - val_acc: 0.7790\n",
      "Epoch 91/200\n",
      "11148/11148 [==============================] - 2s 191us/sample - loss: 0.4597 - acc: 0.7816 - val_loss: 0.4623 - val_acc: 0.7811\n",
      "Epoch 92/200\n",
      "11148/11148 [==============================] - 2s 189us/sample - loss: 0.4601 - acc: 0.7792 - val_loss: 0.4622 - val_acc: 0.7834\n",
      "Epoch 93/200\n",
      "11148/11148 [==============================] - 2s 195us/sample - loss: 0.4628 - acc: 0.7771 - val_loss: 0.4723 - val_acc: 0.7767\n",
      "Epoch 94/200\n",
      "11148/11148 [==============================] - 2s 192us/sample - loss: 0.4591 - acc: 0.7829 - val_loss: 0.4614 - val_acc: 0.7851\n",
      "Epoch 95/200\n",
      "11148/11148 [==============================] - 2s 189us/sample - loss: 0.4583 - acc: 0.7803 - val_loss: 0.4717 - val_acc: 0.7784\n",
      "Epoch 96/200\n",
      "11148/11148 [==============================] - 2s 191us/sample - loss: 0.4565 - acc: 0.7818 - val_loss: 0.4632 - val_acc: 0.7809\n",
      "Epoch 97/200\n",
      "11148/11148 [==============================] - 2s 193us/sample - loss: 0.4527 - acc: 0.7845 - val_loss: 0.4709 - val_acc: 0.7763\n",
      "Epoch 98/200\n",
      "11148/11148 [==============================] - 2s 193us/sample - loss: 0.4565 - acc: 0.7784 - val_loss: 0.4615 - val_acc: 0.7874\n",
      "Epoch 99/200\n",
      "11148/11148 [==============================] - 2s 188us/sample - loss: 0.4573 - acc: 0.7844 - val_loss: 0.4624 - val_acc: 0.7821\n",
      "Epoch 100/200\n",
      "11148/11148 [==============================] - 2s 185us/sample - loss: 0.4560 - acc: 0.7807 - val_loss: 0.4621 - val_acc: 0.7786\n",
      "Epoch 101/200\n",
      "11148/11148 [==============================] - 2s 189us/sample - loss: 0.4528 - acc: 0.7834 - val_loss: 0.4699 - val_acc: 0.7802\n",
      "Epoch 102/200\n",
      "11148/11148 [==============================] - 2s 184us/sample - loss: 0.4582 - acc: 0.7831 - val_loss: 0.4627 - val_acc: 0.7855\n",
      "Epoch 103/200\n",
      "11148/11148 [==============================] - 2s 190us/sample - loss: 0.4559 - acc: 0.7855 - val_loss: 0.4587 - val_acc: 0.7828\n",
      "Epoch 104/200\n",
      "11148/11148 [==============================] - 2s 184us/sample - loss: 0.4556 - acc: 0.7848 - val_loss: 0.4716 - val_acc: 0.7769\n",
      "Epoch 105/200\n",
      "11148/11148 [==============================] - 2s 186us/sample - loss: 0.4500 - acc: 0.7877 - val_loss: 0.4577 - val_acc: 0.7869\n",
      "Epoch 106/200\n",
      "11148/11148 [==============================] - 2s 182us/sample - loss: 0.4495 - acc: 0.7868 - val_loss: 0.4592 - val_acc: 0.7857\n",
      "Epoch 107/200\n",
      "11148/11148 [==============================] - 2s 186us/sample - loss: 0.4492 - acc: 0.7917 - val_loss: 0.4583 - val_acc: 0.7857\n",
      "Epoch 108/200\n",
      "11148/11148 [==============================] - 2s 191us/sample - loss: 0.4511 - acc: 0.7817 - val_loss: 0.4585 - val_acc: 0.7865\n",
      "Epoch 109/200\n",
      "11148/11148 [==============================] - 2s 188us/sample - loss: 0.4481 - acc: 0.7889 - val_loss: 0.4864 - val_acc: 0.7729\n",
      "Epoch 110/200\n",
      "11148/11148 [==============================] - 2s 192us/sample - loss: 0.4474 - acc: 0.7896 - val_loss: 0.4572 - val_acc: 0.7876\n",
      "Epoch 111/200\n",
      "11148/11148 [==============================] - 2s 190us/sample - loss: 0.4468 - acc: 0.7879 - val_loss: 0.4743 - val_acc: 0.7765\n",
      "Epoch 112/200\n",
      "11148/11148 [==============================] - 2s 191us/sample - loss: 0.4448 - acc: 0.7922 - val_loss: 0.4588 - val_acc: 0.7842\n",
      "Epoch 113/200\n",
      "11148/11148 [==============================] - 2s 190us/sample - loss: 0.4438 - acc: 0.7917 - val_loss: 0.4546 - val_acc: 0.7892\n",
      "Epoch 114/200\n",
      "11148/11148 [==============================] - 2s 191us/sample - loss: 0.4417 - acc: 0.7947 - val_loss: 0.4543 - val_acc: 0.7909\n",
      "Epoch 115/200\n",
      "11148/11148 [==============================] - 2s 189us/sample - loss: 0.4394 - acc: 0.7949 - val_loss: 0.4599 - val_acc: 0.7899\n",
      "Epoch 116/200\n",
      "11148/11148 [==============================] - 2s 194us/sample - loss: 0.4404 - acc: 0.7908 - val_loss: 0.4566 - val_acc: 0.7882\n",
      "Epoch 117/200\n",
      "11148/11148 [==============================] - 2s 190us/sample - loss: 0.4390 - acc: 0.7944 - val_loss: 0.4536 - val_acc: 0.7892\n",
      "Epoch 118/200\n",
      "11148/11148 [==============================] - 2s 192us/sample - loss: 0.4401 - acc: 0.7933 - val_loss: 0.4578 - val_acc: 0.7861\n",
      "Epoch 119/200\n",
      "11148/11148 [==============================] - 2s 187us/sample - loss: 0.4377 - acc: 0.7926 - val_loss: 0.4563 - val_acc: 0.7926\n",
      "Epoch 120/200\n",
      "11148/11148 [==============================] - 2s 189us/sample - loss: 0.4442 - acc: 0.7889 - val_loss: 0.4506 - val_acc: 0.7907\n",
      "Epoch 121/200\n",
      "11148/11148 [==============================] - 2s 185us/sample - loss: 0.4360 - acc: 0.7957 - val_loss: 0.4631 - val_acc: 0.7844\n",
      "Epoch 122/200\n",
      "11148/11148 [==============================] - 2s 189us/sample - loss: 0.4380 - acc: 0.7952 - val_loss: 0.4552 - val_acc: 0.7920\n",
      "Epoch 123/200\n",
      "11148/11148 [==============================] - 2s 186us/sample - loss: 0.4352 - acc: 0.7948 - val_loss: 0.4645 - val_acc: 0.7876\n",
      "Epoch 124/200\n",
      "11148/11148 [==============================] - 2s 189us/sample - loss: 0.4306 - acc: 0.7994 - val_loss: 0.4519 - val_acc: 0.7892\n",
      "Epoch 125/200\n",
      "11148/11148 [==============================] - 2s 193us/sample - loss: 0.4347 - acc: 0.7966 - val_loss: 0.4528 - val_acc: 0.7930\n",
      "Epoch 126/200\n",
      "11148/11148 [==============================] - 2s 190us/sample - loss: 0.4321 - acc: 0.7971 - val_loss: 0.4569 - val_acc: 0.7886\n",
      "Epoch 127/200\n",
      "11148/11148 [==============================] - 2s 187us/sample - loss: 0.4274 - acc: 0.8024 - val_loss: 0.4566 - val_acc: 0.7934\n",
      "Epoch 128/200\n",
      "11148/11148 [==============================] - 2s 194us/sample - loss: 0.4303 - acc: 0.7983 - val_loss: 0.4527 - val_acc: 0.7880\n",
      "Epoch 129/200\n",
      "11148/11148 [==============================] - 2s 189us/sample - loss: 0.4296 - acc: 0.8000 - val_loss: 0.4505 - val_acc: 0.7934\n",
      "Epoch 130/200\n",
      "11148/11148 [==============================] - 2s 188us/sample - loss: 0.4340 - acc: 0.7922 - val_loss: 0.4517 - val_acc: 0.7884\n",
      "Epoch 131/200\n",
      "11148/11148 [==============================] - 2s 186us/sample - loss: 0.4279 - acc: 0.8043 - val_loss: 0.4501 - val_acc: 0.7945\n",
      "Epoch 132/200\n",
      "11148/11148 [==============================] - 2s 189us/sample - loss: 0.4278 - acc: 0.8011 - val_loss: 0.4555 - val_acc: 0.7865\n",
      "Epoch 133/200\n",
      "11148/11148 [==============================] - 2s 193us/sample - loss: 0.4293 - acc: 0.7992 - val_loss: 0.4599 - val_acc: 0.7920\n",
      "Epoch 134/200\n",
      "11148/11148 [==============================] - 2s 187us/sample - loss: 0.4230 - acc: 0.8041 - val_loss: 0.4452 - val_acc: 0.7968\n",
      "Epoch 135/200\n",
      "11148/11148 [==============================] - 2s 187us/sample - loss: 0.4212 - acc: 0.8078 - val_loss: 0.4461 - val_acc: 0.7966\n",
      "Epoch 136/200\n",
      "11148/11148 [==============================] - 2s 185us/sample - loss: 0.4206 - acc: 0.8039 - val_loss: 0.4533 - val_acc: 0.7907\n",
      "Epoch 137/200\n",
      "11148/11148 [==============================] - 2s 190us/sample - loss: 0.4266 - acc: 0.8058 - val_loss: 0.4530 - val_acc: 0.7932\n",
      "Epoch 138/200\n",
      "11148/11148 [==============================] - 2s 189us/sample - loss: 0.4228 - acc: 0.8034 - val_loss: 0.4503 - val_acc: 0.7980\n",
      "Epoch 139/200\n",
      "11148/11148 [==============================] - 2s 184us/sample - loss: 0.4206 - acc: 0.8068 - val_loss: 0.4459 - val_acc: 0.7997\n",
      "Epoch 140/200\n",
      "11148/11148 [==============================] - 2s 190us/sample - loss: 0.4181 - acc: 0.8102 - val_loss: 0.4514 - val_acc: 0.7901\n",
      "Epoch 141/200\n",
      "11148/11148 [==============================] - 2s 183us/sample - loss: 0.4198 - acc: 0.8071 - val_loss: 0.4476 - val_acc: 0.7915\n",
      "Epoch 142/200\n",
      "11148/11148 [==============================] - 2s 186us/sample - loss: 0.4204 - acc: 0.8059 - val_loss: 0.4427 - val_acc: 0.7987\n",
      "Epoch 143/200\n",
      "11148/11148 [==============================] - 2s 196us/sample - loss: 0.4211 - acc: 0.8055 - val_loss: 0.4483 - val_acc: 0.7980\n",
      "Epoch 144/200\n",
      "11148/11148 [==============================] - 2s 193us/sample - loss: 0.4184 - acc: 0.8073 - val_loss: 0.4498 - val_acc: 0.7991\n",
      "Epoch 145/200\n",
      "11148/11148 [==============================] - 2s 188us/sample - loss: 0.4188 - acc: 0.8067 - val_loss: 0.4486 - val_acc: 0.7968\n",
      "Epoch 146/200\n",
      "11148/11148 [==============================] - 2s 183us/sample - loss: 0.4153 - acc: 0.8079 - val_loss: 0.4459 - val_acc: 0.8012\n",
      "Epoch 147/200\n",
      "11148/11148 [==============================] - 2s 190us/sample - loss: 0.4191 - acc: 0.8049 - val_loss: 0.4701 - val_acc: 0.7846\n",
      "Epoch 148/200\n",
      "11148/11148 [==============================] - 2s 188us/sample - loss: 0.4110 - acc: 0.8145 - val_loss: 0.4388 - val_acc: 0.8049\n",
      "Epoch 149/200\n",
      "11148/11148 [==============================] - 2s 185us/sample - loss: 0.4111 - acc: 0.8140 - val_loss: 0.4458 - val_acc: 0.7945\n",
      "Epoch 150/200\n",
      "11148/11148 [==============================] - 2s 196us/sample - loss: 0.4116 - acc: 0.8090 - val_loss: 0.4421 - val_acc: 0.8026\n",
      "Epoch 151/200\n",
      "11148/11148 [==============================] - 2s 203us/sample - loss: 0.4159 - acc: 0.8042 - val_loss: 0.4445 - val_acc: 0.7961\n",
      "Epoch 152/200\n",
      "11148/11148 [==============================] - 2s 199us/sample - loss: 0.4080 - acc: 0.8123 - val_loss: 0.4413 - val_acc: 0.7987\n",
      "Epoch 153/200\n",
      "11148/11148 [==============================] - 2s 189us/sample - loss: 0.4136 - acc: 0.8092 - val_loss: 0.4531 - val_acc: 0.7934\n",
      "Epoch 154/200\n",
      "11148/11148 [==============================] - 2s 187us/sample - loss: 0.4074 - acc: 0.8101 - val_loss: 0.4546 - val_acc: 0.7920\n",
      "Epoch 155/200\n",
      "11148/11148 [==============================] - 2s 186us/sample - loss: 0.4100 - acc: 0.8047 - val_loss: 0.4445 - val_acc: 0.7899\n",
      "Epoch 156/200\n",
      "11148/11148 [==============================] - 2s 191us/sample - loss: 0.4087 - acc: 0.8088 - val_loss: 0.4385 - val_acc: 0.8018\n",
      "Epoch 157/200\n",
      "11148/11148 [==============================] - 2s 188us/sample - loss: 0.4093 - acc: 0.8109 - val_loss: 0.4418 - val_acc: 0.7961\n",
      "Epoch 158/200\n",
      "11148/11148 [==============================] - 2s 190us/sample - loss: 0.4038 - acc: 0.8118 - val_loss: 0.4499 - val_acc: 0.7945\n",
      "Epoch 159/200\n",
      "11148/11148 [==============================] - 2s 184us/sample - loss: 0.4057 - acc: 0.8124 - val_loss: 0.4527 - val_acc: 0.7905\n",
      "Epoch 160/200\n",
      "11148/11148 [==============================] - 2s 188us/sample - loss: 0.4059 - acc: 0.8127 - val_loss: 0.4383 - val_acc: 0.7966\n",
      "Epoch 161/200\n",
      "11148/11148 [==============================] - 2s 189us/sample - loss: 0.4093 - acc: 0.8115 - val_loss: 0.4378 - val_acc: 0.8035\n",
      "Epoch 162/200\n",
      "11148/11148 [==============================] - 2s 190us/sample - loss: 0.4045 - acc: 0.8176 - val_loss: 0.4449 - val_acc: 0.8001\n",
      "Epoch 163/200\n",
      "11148/11148 [==============================] - 2s 185us/sample - loss: 0.4075 - acc: 0.8091 - val_loss: 0.4407 - val_acc: 0.7987\n",
      "Epoch 164/200\n",
      "11148/11148 [==============================] - 2s 188us/sample - loss: 0.4022 - acc: 0.8128 - val_loss: 0.4338 - val_acc: 0.8037\n",
      "Epoch 165/200\n",
      "11148/11148 [==============================] - 2s 190us/sample - loss: 0.4009 - acc: 0.8161 - val_loss: 0.4392 - val_acc: 0.7976\n",
      "Epoch 166/200\n",
      "11148/11148 [==============================] - 2s 188us/sample - loss: 0.4045 - acc: 0.8158 - val_loss: 0.4408 - val_acc: 0.7966\n",
      "Epoch 167/200\n",
      "11148/11148 [==============================] - 2s 185us/sample - loss: 0.4041 - acc: 0.8113 - val_loss: 0.4320 - val_acc: 0.8008\n",
      "Epoch 168/200\n",
      "11148/11148 [==============================] - 2s 188us/sample - loss: 0.4017 - acc: 0.8144 - val_loss: 0.4357 - val_acc: 0.7972\n",
      "Epoch 169/200\n",
      "11148/11148 [==============================] - 2s 188us/sample - loss: 0.3998 - acc: 0.8178 - val_loss: 0.4365 - val_acc: 0.7980\n",
      "Epoch 170/200\n",
      "11148/11148 [==============================] - 2s 188us/sample - loss: 0.4000 - acc: 0.8134 - val_loss: 0.4373 - val_acc: 0.8003\n",
      "Epoch 171/200\n",
      "11148/11148 [==============================] - 2s 190us/sample - loss: 0.4036 - acc: 0.8150 - val_loss: 0.4444 - val_acc: 0.7932\n",
      "Epoch 172/200\n",
      "11148/11148 [==============================] - 2s 189us/sample - loss: 0.4001 - acc: 0.8149 - val_loss: 0.4645 - val_acc: 0.7895\n",
      "Epoch 173/200\n",
      "11148/11148 [==============================] - 2s 187us/sample - loss: 0.3994 - acc: 0.8160 - val_loss: 0.4313 - val_acc: 0.8018\n",
      "Epoch 174/200\n",
      "11148/11148 [==============================] - 2s 190us/sample - loss: 0.3979 - acc: 0.8177 - val_loss: 0.4288 - val_acc: 0.8031\n",
      "Epoch 175/200\n",
      "11148/11148 [==============================] - 2s 188us/sample - loss: 0.3975 - acc: 0.8177 - val_loss: 0.4293 - val_acc: 0.8024\n",
      "Epoch 176/200\n",
      "11148/11148 [==============================] - 2s 188us/sample - loss: 0.3992 - acc: 0.8149 - val_loss: 0.4364 - val_acc: 0.7995\n",
      "Epoch 177/200\n",
      "11148/11148 [==============================] - 2s 191us/sample - loss: 0.3973 - acc: 0.8147 - val_loss: 0.4395 - val_acc: 0.8008\n",
      "Epoch 178/200\n",
      "11148/11148 [==============================] - 2s 186us/sample - loss: 0.3928 - acc: 0.8176 - val_loss: 0.4293 - val_acc: 0.8010\n",
      "Epoch 179/200\n",
      "11148/11148 [==============================] - 2s 191us/sample - loss: 0.3953 - acc: 0.8157 - val_loss: 0.4389 - val_acc: 0.8024\n",
      "Epoch 180/200\n",
      "11148/11148 [==============================] - 2s 186us/sample - loss: 0.3967 - acc: 0.8193 - val_loss: 0.4262 - val_acc: 0.8056\n",
      "Epoch 181/200\n",
      "11148/11148 [==============================] - 2s 188us/sample - loss: 0.3991 - acc: 0.8148 - val_loss: 0.4352 - val_acc: 0.7953\n",
      "Epoch 182/200\n",
      "11148/11148 [==============================] - 2s 191us/sample - loss: 0.3930 - acc: 0.8182 - val_loss: 0.4302 - val_acc: 0.8008\n",
      "Epoch 183/200\n",
      "11148/11148 [==============================] - 2s 187us/sample - loss: 0.3937 - acc: 0.8203 - val_loss: 0.4488 - val_acc: 0.7945\n",
      "Epoch 184/200\n",
      "11148/11148 [==============================] - 2s 187us/sample - loss: 0.3949 - acc: 0.8211 - val_loss: 0.4279 - val_acc: 0.8037\n",
      "Epoch 185/200\n",
      "11148/11148 [==============================] - 2s 198us/sample - loss: 0.3886 - acc: 0.8206 - val_loss: 0.4228 - val_acc: 0.8066\n",
      "Epoch 186/200\n",
      "11148/11148 [==============================] - 2s 203us/sample - loss: 0.3902 - acc: 0.8202 - val_loss: 0.4282 - val_acc: 0.8045\n",
      "Epoch 187/200\n",
      "11148/11148 [==============================] - 2s 202us/sample - loss: 0.3926 - acc: 0.8188 - val_loss: 0.4225 - val_acc: 0.8056\n",
      "Epoch 188/200\n",
      "11148/11148 [==============================] - 2s 203us/sample - loss: 0.3921 - acc: 0.8207 - val_loss: 0.4287 - val_acc: 0.8051\n",
      "Epoch 189/200\n",
      "11148/11148 [==============================] - 2s 201us/sample - loss: 0.3920 - acc: 0.8194 - val_loss: 0.4225 - val_acc: 0.8054\n",
      "Epoch 190/200\n",
      "11148/11148 [==============================] - 2s 186us/sample - loss: 0.3856 - acc: 0.8231 - val_loss: 0.4238 - val_acc: 0.8022\n",
      "Epoch 191/200\n",
      "11148/11148 [==============================] - 2s 188us/sample - loss: 0.3838 - acc: 0.8254 - val_loss: 0.4235 - val_acc: 0.8098\n",
      "Epoch 192/200\n",
      "11148/11148 [==============================] - 2s 185us/sample - loss: 0.3887 - acc: 0.8210 - val_loss: 0.4222 - val_acc: 0.8060\n",
      "Epoch 193/200\n",
      "11148/11148 [==============================] - 2s 187us/sample - loss: 0.3916 - acc: 0.8202 - val_loss: 0.4220 - val_acc: 0.8047\n",
      "Epoch 194/200\n",
      "11148/11148 [==============================] - 2s 195us/sample - loss: 0.3854 - acc: 0.8236 - val_loss: 0.4192 - val_acc: 0.8102\n",
      "Epoch 195/200\n",
      "11148/11148 [==============================] - 2s 186us/sample - loss: 0.3897 - acc: 0.8176 - val_loss: 0.4240 - val_acc: 0.8081\n",
      "Epoch 196/200\n",
      "11148/11148 [==============================] - 2s 188us/sample - loss: 0.3845 - acc: 0.8248 - val_loss: 0.4249 - val_acc: 0.8075\n",
      "Epoch 197/200\n",
      "11148/11148 [==============================] - 2s 192us/sample - loss: 0.3844 - acc: 0.8245 - val_loss: 0.4301 - val_acc: 0.7999\n",
      "Epoch 198/200\n",
      "11148/11148 [==============================] - 2s 183us/sample - loss: 0.3841 - acc: 0.8224 - val_loss: 0.4152 - val_acc: 0.8121\n",
      "Epoch 199/200\n",
      "11148/11148 [==============================] - 2s 193us/sample - loss: 0.3854 - acc: 0.8257 - val_loss: 0.4262 - val_acc: 0.8045\n",
      "Epoch 200/200\n",
      "11148/11148 [==============================] - 2s 188us/sample - loss: 0.3809 - acc: 0.8259 - val_loss: 0.4187 - val_acc: 0.8081\n"
     ]
    },
    {
     "data": {
      "text/plain": [
       "<tensorflow.python.keras.callbacks.History at 0x7f10c159c390>"
      ]
     },
     "execution_count": 108,
     "metadata": {
      "tags": []
     },
     "output_type": "execute_result"
    }
   ],
   "source": [
    "model.fit(X_train_up,np.array(y_train_up),          \n",
    "          validation_data=(X_test_up,np.array(y_test_up)),\n",
    "          epochs=200,\n",
    "          batch_size=30)"
   ]
  },
  {
   "cell_type": "markdown",
   "metadata": {
    "colab_type": "text",
    "id": "LyPUbUKsGwrb"
   },
   "source": [
    "Upsampling the data decreased the accuracy of the mode. "
   ]
  },
  {
   "cell_type": "markdown",
   "metadata": {
    "colab_type": "text",
    "id": "8_XAy-1F4-tb"
   },
   "source": [
    "#### With actual Data"
   ]
  },
  {
   "cell_type": "code",
   "execution_count": 0,
   "metadata": {
    "colab": {},
    "colab_type": "code",
    "id": "ms-ikIqLdBMK"
   },
   "outputs": [],
   "source": [
    "model = tf.keras.models.Sequential()\n",
    "model.add(tf.keras.layers.BatchNormalization())\n",
    "model.add(tf.keras.layers.Dense(100, activation='sigmoid'))\n",
    "model.add(tf.keras.layers.Dense(100, activation='sigmoid'))\n",
    "model.add(tf.keras.layers.Dense(10, activation='sigmoid'))\n",
    "model.add(tf.keras.layers.Dense(1, activation='sigmoid'))"
   ]
  },
  {
   "cell_type": "code",
   "execution_count": 0,
   "metadata": {
    "colab": {},
    "colab_type": "code",
    "id": "C1KeaSGLdGxG"
   },
   "outputs": [],
   "source": [
    "sgd_optimizer = tf.keras.optimizers.SGD(lr=0.1)\n",
    "model.compile(optimizer=sgd_optimizer, loss='binary_crossentropy', metrics=['accuracy'])"
   ]
  },
  {
   "cell_type": "code",
   "execution_count": 0,
   "metadata": {
    "colab": {},
    "colab_type": "code",
    "id": "djLEC98Jb9C6"
   },
   "outputs": [],
   "source": [
    "y_train = np.asarray(y_train).astype('float32').reshape((-1,1))"
   ]
  },
  {
   "cell_type": "code",
   "execution_count": 0,
   "metadata": {
    "colab": {
     "base_uri": "https://localhost:8080/",
     "height": 1000
    },
    "colab_type": "code",
    "id": "myTeWyN0eQLc",
    "outputId": "fdd339a4-a319-46b2-cafd-05a3d955d747"
   },
   "outputs": [
    {
     "name": "stdout",
     "output_type": "stream",
     "text": [
      "Train on 7000 samples, validate on 3000 samples\n",
      "Epoch 1/200\n",
      "7000/7000 [==============================] - 2s 273us/sample - loss: 0.5075 - acc: 0.7954 - val_loss: 0.5019 - val_acc: 0.7983\n",
      "Epoch 2/200\n",
      "7000/7000 [==============================] - 1s 183us/sample - loss: 0.5041 - acc: 0.7954 - val_loss: 0.4968 - val_acc: 0.7983\n",
      "Epoch 3/200\n",
      "7000/7000 [==============================] - 1s 182us/sample - loss: 0.5003 - acc: 0.7954 - val_loss: 0.4915 - val_acc: 0.7983\n",
      "Epoch 4/200\n",
      "7000/7000 [==============================] - 1s 186us/sample - loss: 0.4917 - acc: 0.7954 - val_loss: 0.4790 - val_acc: 0.7983\n",
      "Epoch 5/200\n",
      "7000/7000 [==============================] - 1s 178us/sample - loss: 0.4731 - acc: 0.7954 - val_loss: 0.4493 - val_acc: 0.7983\n",
      "Epoch 6/200\n",
      "7000/7000 [==============================] - 1s 187us/sample - loss: 0.4453 - acc: 0.7997 - val_loss: 0.4300 - val_acc: 0.8223\n",
      "Epoch 7/200\n",
      "7000/7000 [==============================] - 1s 186us/sample - loss: 0.4315 - acc: 0.8124 - val_loss: 0.4125 - val_acc: 0.8240\n",
      "Epoch 8/200\n",
      "7000/7000 [==============================] - 1s 183us/sample - loss: 0.4284 - acc: 0.8130 - val_loss: 0.4105 - val_acc: 0.8260\n",
      "Epoch 9/200\n",
      "7000/7000 [==============================] - 1s 187us/sample - loss: 0.4292 - acc: 0.8157 - val_loss: 0.4097 - val_acc: 0.8253\n",
      "Epoch 10/200\n",
      "7000/7000 [==============================] - 1s 183us/sample - loss: 0.4275 - acc: 0.8143 - val_loss: 0.4110 - val_acc: 0.8220\n",
      "Epoch 11/200\n",
      "7000/7000 [==============================] - 1s 181us/sample - loss: 0.4265 - acc: 0.8173 - val_loss: 0.4111 - val_acc: 0.8217\n",
      "Epoch 12/200\n",
      "7000/7000 [==============================] - 1s 181us/sample - loss: 0.4274 - acc: 0.8119 - val_loss: 0.4133 - val_acc: 0.8210\n",
      "Epoch 13/200\n",
      "7000/7000 [==============================] - 1s 183us/sample - loss: 0.4295 - acc: 0.8107 - val_loss: 0.4091 - val_acc: 0.8247\n",
      "Epoch 14/200\n",
      "7000/7000 [==============================] - 1s 187us/sample - loss: 0.4265 - acc: 0.8153 - val_loss: 0.4132 - val_acc: 0.8213\n",
      "Epoch 15/200\n",
      "7000/7000 [==============================] - 1s 180us/sample - loss: 0.4262 - acc: 0.8173 - val_loss: 0.4112 - val_acc: 0.8213\n",
      "Epoch 16/200\n",
      "7000/7000 [==============================] - 1s 187us/sample - loss: 0.4277 - acc: 0.8124 - val_loss: 0.4095 - val_acc: 0.8237\n",
      "Epoch 17/200\n",
      "7000/7000 [==============================] - 1s 184us/sample - loss: 0.4242 - acc: 0.8173 - val_loss: 0.4146 - val_acc: 0.8220\n",
      "Epoch 18/200\n",
      "7000/7000 [==============================] - 1s 181us/sample - loss: 0.4263 - acc: 0.8147 - val_loss: 0.4366 - val_acc: 0.8047\n",
      "Epoch 19/200\n",
      "7000/7000 [==============================] - 1s 184us/sample - loss: 0.4271 - acc: 0.8151 - val_loss: 0.4118 - val_acc: 0.8217\n",
      "Epoch 20/200\n",
      "7000/7000 [==============================] - 1s 183us/sample - loss: 0.4256 - acc: 0.8154 - val_loss: 0.4089 - val_acc: 0.8260\n",
      "Epoch 21/200\n",
      "7000/7000 [==============================] - 1s 186us/sample - loss: 0.4264 - acc: 0.8167 - val_loss: 0.4120 - val_acc: 0.8220\n",
      "Epoch 22/200\n",
      "7000/7000 [==============================] - 1s 180us/sample - loss: 0.4265 - acc: 0.8131 - val_loss: 0.4142 - val_acc: 0.8210\n",
      "Epoch 23/200\n",
      "7000/7000 [==============================] - 1s 185us/sample - loss: 0.4274 - acc: 0.8163 - val_loss: 0.4097 - val_acc: 0.8233\n",
      "Epoch 24/200\n",
      "7000/7000 [==============================] - 1s 182us/sample - loss: 0.4248 - acc: 0.8181 - val_loss: 0.4191 - val_acc: 0.8197\n",
      "Epoch 25/200\n",
      "7000/7000 [==============================] - 1s 182us/sample - loss: 0.4267 - acc: 0.8144 - val_loss: 0.4099 - val_acc: 0.8257\n",
      "Epoch 26/200\n",
      "7000/7000 [==============================] - 1s 184us/sample - loss: 0.4258 - acc: 0.8147 - val_loss: 0.4116 - val_acc: 0.8220\n",
      "Epoch 27/200\n",
      "7000/7000 [==============================] - 1s 186us/sample - loss: 0.4280 - acc: 0.8140 - val_loss: 0.4089 - val_acc: 0.8263\n",
      "Epoch 28/200\n",
      "7000/7000 [==============================] - 1s 187us/sample - loss: 0.4253 - acc: 0.8160 - val_loss: 0.4102 - val_acc: 0.8230\n",
      "Epoch 29/200\n",
      "7000/7000 [==============================] - 1s 193us/sample - loss: 0.4263 - acc: 0.8156 - val_loss: 0.4086 - val_acc: 0.8270\n",
      "Epoch 30/200\n",
      "7000/7000 [==============================] - 1s 183us/sample - loss: 0.4248 - acc: 0.8167 - val_loss: 0.4091 - val_acc: 0.8257\n",
      "Epoch 31/200\n",
      "7000/7000 [==============================] - 1s 184us/sample - loss: 0.4262 - acc: 0.8137 - val_loss: 0.4228 - val_acc: 0.8203\n",
      "Epoch 32/200\n",
      "7000/7000 [==============================] - 1s 187us/sample - loss: 0.4262 - acc: 0.8131 - val_loss: 0.4099 - val_acc: 0.8233\n",
      "Epoch 33/200\n",
      "7000/7000 [==============================] - 1s 186us/sample - loss: 0.4245 - acc: 0.8171 - val_loss: 0.4097 - val_acc: 0.8237\n",
      "Epoch 34/200\n",
      "7000/7000 [==============================] - 1s 185us/sample - loss: 0.4264 - acc: 0.8147 - val_loss: 0.4090 - val_acc: 0.8243\n",
      "Epoch 35/200\n",
      "7000/7000 [==============================] - 1s 183us/sample - loss: 0.4283 - acc: 0.8143 - val_loss: 0.4135 - val_acc: 0.8233\n",
      "Epoch 36/200\n",
      "7000/7000 [==============================] - 1s 184us/sample - loss: 0.4274 - acc: 0.8149 - val_loss: 0.4204 - val_acc: 0.8193\n",
      "Epoch 37/200\n",
      "7000/7000 [==============================] - 1s 187us/sample - loss: 0.4257 - acc: 0.8156 - val_loss: 0.4102 - val_acc: 0.8253\n",
      "Epoch 38/200\n",
      "7000/7000 [==============================] - 1s 184us/sample - loss: 0.4241 - acc: 0.8157 - val_loss: 0.4107 - val_acc: 0.8243\n",
      "Epoch 39/200\n",
      "7000/7000 [==============================] - 1s 183us/sample - loss: 0.4242 - acc: 0.8160 - val_loss: 0.4101 - val_acc: 0.8243\n",
      "Epoch 40/200\n",
      "7000/7000 [==============================] - 1s 184us/sample - loss: 0.4237 - acc: 0.8193 - val_loss: 0.4119 - val_acc: 0.8223\n",
      "Epoch 41/200\n",
      "7000/7000 [==============================] - 1s 186us/sample - loss: 0.4266 - acc: 0.8141 - val_loss: 0.4097 - val_acc: 0.8237\n",
      "Epoch 42/200\n",
      "7000/7000 [==============================] - 1s 182us/sample - loss: 0.4248 - acc: 0.8181 - val_loss: 0.4081 - val_acc: 0.8253\n",
      "Epoch 43/200\n",
      "7000/7000 [==============================] - 1s 179us/sample - loss: 0.4283 - acc: 0.8153 - val_loss: 0.4084 - val_acc: 0.8270\n",
      "Epoch 44/200\n",
      "7000/7000 [==============================] - 1s 178us/sample - loss: 0.4265 - acc: 0.8140 - val_loss: 0.4085 - val_acc: 0.8250\n",
      "Epoch 45/200\n",
      "7000/7000 [==============================] - 1s 184us/sample - loss: 0.4253 - acc: 0.8177 - val_loss: 0.4114 - val_acc: 0.8213\n",
      "Epoch 46/200\n",
      "7000/7000 [==============================] - 1s 188us/sample - loss: 0.4261 - acc: 0.8163 - val_loss: 0.4086 - val_acc: 0.8263\n",
      "Epoch 47/200\n",
      "7000/7000 [==============================] - 1s 182us/sample - loss: 0.4245 - acc: 0.8166 - val_loss: 0.4145 - val_acc: 0.8220\n",
      "Epoch 48/200\n",
      "7000/7000 [==============================] - 1s 181us/sample - loss: 0.4260 - acc: 0.8124 - val_loss: 0.4133 - val_acc: 0.8260\n",
      "Epoch 49/200\n",
      "7000/7000 [==============================] - 1s 189us/sample - loss: 0.4238 - acc: 0.8163 - val_loss: 0.4098 - val_acc: 0.8270\n",
      "Epoch 50/200\n",
      "7000/7000 [==============================] - 1s 182us/sample - loss: 0.4253 - acc: 0.8166 - val_loss: 0.4089 - val_acc: 0.8263\n",
      "Epoch 51/200\n",
      "7000/7000 [==============================] - 1s 182us/sample - loss: 0.4234 - acc: 0.8210 - val_loss: 0.4074 - val_acc: 0.8263\n",
      "Epoch 52/200\n",
      "7000/7000 [==============================] - 1s 181us/sample - loss: 0.4245 - acc: 0.8161 - val_loss: 0.4083 - val_acc: 0.8273\n",
      "Epoch 53/200\n",
      "7000/7000 [==============================] - 1s 192us/sample - loss: 0.4238 - acc: 0.8163 - val_loss: 0.4114 - val_acc: 0.8277\n",
      "Epoch 54/200\n",
      "7000/7000 [==============================] - 1s 186us/sample - loss: 0.4247 - acc: 0.8159 - val_loss: 0.4088 - val_acc: 0.8267\n",
      "Epoch 55/200\n",
      "7000/7000 [==============================] - 1s 184us/sample - loss: 0.4244 - acc: 0.8156 - val_loss: 0.4112 - val_acc: 0.8257\n",
      "Epoch 56/200\n",
      "7000/7000 [==============================] - 1s 183us/sample - loss: 0.4249 - acc: 0.8176 - val_loss: 0.4094 - val_acc: 0.8273\n",
      "Epoch 57/200\n",
      "7000/7000 [==============================] - 1s 189us/sample - loss: 0.4251 - acc: 0.8183 - val_loss: 0.4102 - val_acc: 0.8260\n",
      "Epoch 58/200\n",
      "7000/7000 [==============================] - 1s 189us/sample - loss: 0.4234 - acc: 0.8174 - val_loss: 0.4084 - val_acc: 0.8267\n",
      "Epoch 59/200\n",
      "7000/7000 [==============================] - 1s 183us/sample - loss: 0.4235 - acc: 0.8170 - val_loss: 0.4090 - val_acc: 0.8267\n",
      "Epoch 60/200\n",
      "7000/7000 [==============================] - 1s 185us/sample - loss: 0.4237 - acc: 0.8171 - val_loss: 0.4075 - val_acc: 0.8267\n",
      "Epoch 61/200\n",
      "7000/7000 [==============================] - 1s 191us/sample - loss: 0.4212 - acc: 0.8189 - val_loss: 0.4085 - val_acc: 0.8257\n",
      "Epoch 62/200\n",
      "7000/7000 [==============================] - 1s 185us/sample - loss: 0.4252 - acc: 0.8157 - val_loss: 0.4091 - val_acc: 0.8277\n",
      "Epoch 63/200\n",
      "7000/7000 [==============================] - 1s 184us/sample - loss: 0.4245 - acc: 0.8173 - val_loss: 0.4078 - val_acc: 0.8250\n",
      "Epoch 64/200\n",
      "7000/7000 [==============================] - 1s 184us/sample - loss: 0.4244 - acc: 0.8161 - val_loss: 0.4146 - val_acc: 0.8213\n",
      "Epoch 65/200\n",
      "7000/7000 [==============================] - 1s 182us/sample - loss: 0.4248 - acc: 0.8187 - val_loss: 0.4099 - val_acc: 0.8253\n",
      "Epoch 66/200\n",
      "7000/7000 [==============================] - 1s 183us/sample - loss: 0.4215 - acc: 0.8190 - val_loss: 0.4075 - val_acc: 0.8280\n",
      "Epoch 67/200\n",
      "7000/7000 [==============================] - 1s 179us/sample - loss: 0.4234 - acc: 0.8157 - val_loss: 0.4078 - val_acc: 0.8257\n",
      "Epoch 68/200\n",
      "7000/7000 [==============================] - 1s 185us/sample - loss: 0.4229 - acc: 0.8164 - val_loss: 0.4083 - val_acc: 0.8290\n",
      "Epoch 69/200\n",
      "7000/7000 [==============================] - 1s 182us/sample - loss: 0.4241 - acc: 0.8176 - val_loss: 0.4064 - val_acc: 0.8290\n",
      "Epoch 70/200\n",
      "7000/7000 [==============================] - 1s 187us/sample - loss: 0.4228 - acc: 0.8184 - val_loss: 0.4092 - val_acc: 0.8260\n",
      "Epoch 71/200\n",
      "7000/7000 [==============================] - 1s 185us/sample - loss: 0.4228 - acc: 0.8176 - val_loss: 0.4059 - val_acc: 0.8293\n",
      "Epoch 72/200\n",
      "7000/7000 [==============================] - 1s 187us/sample - loss: 0.4192 - acc: 0.8203 - val_loss: 0.4068 - val_acc: 0.8310\n",
      "Epoch 73/200\n",
      "7000/7000 [==============================] - 1s 182us/sample - loss: 0.4213 - acc: 0.8183 - val_loss: 0.4054 - val_acc: 0.8280\n",
      "Epoch 74/200\n",
      "7000/7000 [==============================] - 1s 180us/sample - loss: 0.4190 - acc: 0.8201 - val_loss: 0.4063 - val_acc: 0.8303\n",
      "Epoch 75/200\n",
      "7000/7000 [==============================] - 1s 186us/sample - loss: 0.4197 - acc: 0.8186 - val_loss: 0.4043 - val_acc: 0.8293\n",
      "Epoch 76/200\n",
      "7000/7000 [==============================] - 1s 184us/sample - loss: 0.4212 - acc: 0.8176 - val_loss: 0.4048 - val_acc: 0.8283\n",
      "Epoch 77/200\n",
      "7000/7000 [==============================] - 1s 189us/sample - loss: 0.4185 - acc: 0.8200 - val_loss: 0.4037 - val_acc: 0.8287\n",
      "Epoch 78/200\n",
      "7000/7000 [==============================] - 1s 188us/sample - loss: 0.4176 - acc: 0.8224 - val_loss: 0.4034 - val_acc: 0.8323\n",
      "Epoch 79/200\n",
      "7000/7000 [==============================] - 1s 181us/sample - loss: 0.4187 - acc: 0.8187 - val_loss: 0.4019 - val_acc: 0.8293\n",
      "Epoch 80/200\n",
      "7000/7000 [==============================] - 1s 182us/sample - loss: 0.4172 - acc: 0.8196 - val_loss: 0.4055 - val_acc: 0.8313\n",
      "Epoch 81/200\n",
      "7000/7000 [==============================] - 1s 183us/sample - loss: 0.4159 - acc: 0.8210 - val_loss: 0.3995 - val_acc: 0.8307\n",
      "Epoch 82/200\n",
      "7000/7000 [==============================] - 1s 183us/sample - loss: 0.4158 - acc: 0.8216 - val_loss: 0.4012 - val_acc: 0.8347\n",
      "Epoch 83/200\n",
      "7000/7000 [==============================] - 1s 183us/sample - loss: 0.4157 - acc: 0.8169 - val_loss: 0.3964 - val_acc: 0.8310\n",
      "Epoch 84/200\n",
      "7000/7000 [==============================] - 1s 189us/sample - loss: 0.4144 - acc: 0.8219 - val_loss: 0.3935 - val_acc: 0.8327\n",
      "Epoch 85/200\n",
      "7000/7000 [==============================] - 1s 184us/sample - loss: 0.4099 - acc: 0.8234 - val_loss: 0.3903 - val_acc: 0.8347\n",
      "Epoch 86/200\n",
      "7000/7000 [==============================] - 1s 190us/sample - loss: 0.4131 - acc: 0.8240 - val_loss: 0.3921 - val_acc: 0.8277\n",
      "Epoch 87/200\n",
      "7000/7000 [==============================] - 1s 191us/sample - loss: 0.4048 - acc: 0.8270 - val_loss: 0.3860 - val_acc: 0.8323\n",
      "Epoch 88/200\n",
      "7000/7000 [==============================] - 1s 183us/sample - loss: 0.4039 - acc: 0.8250 - val_loss: 0.3798 - val_acc: 0.8373\n",
      "Epoch 89/200\n",
      "7000/7000 [==============================] - 1s 181us/sample - loss: 0.3987 - acc: 0.8261 - val_loss: 0.3762 - val_acc: 0.8487\n",
      "Epoch 90/200\n",
      "7000/7000 [==============================] - 1s 183us/sample - loss: 0.3962 - acc: 0.8317 - val_loss: 0.4175 - val_acc: 0.8227\n",
      "Epoch 91/200\n",
      "7000/7000 [==============================] - 1s 186us/sample - loss: 0.3923 - acc: 0.8331 - val_loss: 0.3663 - val_acc: 0.8547\n",
      "Epoch 92/200\n",
      "7000/7000 [==============================] - 1s 182us/sample - loss: 0.3834 - acc: 0.8369 - val_loss: 0.3573 - val_acc: 0.8553\n",
      "Epoch 93/200\n",
      "7000/7000 [==============================] - 1s 187us/sample - loss: 0.3807 - acc: 0.8360 - val_loss: 0.3576 - val_acc: 0.8453\n",
      "Epoch 94/200\n",
      "7000/7000 [==============================] - 1s 187us/sample - loss: 0.3806 - acc: 0.8390 - val_loss: 0.3508 - val_acc: 0.8597\n",
      "Epoch 95/200\n",
      "7000/7000 [==============================] - 1s 183us/sample - loss: 0.3759 - acc: 0.8411 - val_loss: 0.3459 - val_acc: 0.8580\n",
      "Epoch 96/200\n",
      "7000/7000 [==============================] - 1s 184us/sample - loss: 0.3720 - acc: 0.8450 - val_loss: 0.3646 - val_acc: 0.8470\n",
      "Epoch 97/200\n",
      "7000/7000 [==============================] - 1s 181us/sample - loss: 0.3762 - acc: 0.8391 - val_loss: 0.3433 - val_acc: 0.8580\n",
      "Epoch 98/200\n",
      "7000/7000 [==============================] - 1s 185us/sample - loss: 0.3715 - acc: 0.8431 - val_loss: 0.3429 - val_acc: 0.8590\n",
      "Epoch 99/200\n",
      "7000/7000 [==============================] - 1s 183us/sample - loss: 0.3721 - acc: 0.8419 - val_loss: 0.3424 - val_acc: 0.8573\n",
      "Epoch 100/200\n",
      "7000/7000 [==============================] - 1s 190us/sample - loss: 0.3713 - acc: 0.8409 - val_loss: 0.3571 - val_acc: 0.8550\n",
      "Epoch 101/200\n",
      "7000/7000 [==============================] - 1s 183us/sample - loss: 0.3704 - acc: 0.8440 - val_loss: 0.3383 - val_acc: 0.8597\n",
      "Epoch 102/200\n",
      "7000/7000 [==============================] - 1s 191us/sample - loss: 0.3730 - acc: 0.8391 - val_loss: 0.3424 - val_acc: 0.8600\n",
      "Epoch 103/200\n",
      "7000/7000 [==============================] - 1s 186us/sample - loss: 0.3669 - acc: 0.8431 - val_loss: 0.3425 - val_acc: 0.8553\n",
      "Epoch 104/200\n",
      "7000/7000 [==============================] - 1s 188us/sample - loss: 0.3669 - acc: 0.8457 - val_loss: 0.3350 - val_acc: 0.8603\n",
      "Epoch 105/200\n",
      "7000/7000 [==============================] - 1s 187us/sample - loss: 0.3648 - acc: 0.8439 - val_loss: 0.3405 - val_acc: 0.8563\n",
      "Epoch 106/200\n",
      "7000/7000 [==============================] - 1s 181us/sample - loss: 0.3683 - acc: 0.8434 - val_loss: 0.3367 - val_acc: 0.8617\n",
      "Epoch 107/200\n",
      "7000/7000 [==============================] - 1s 182us/sample - loss: 0.3654 - acc: 0.8404 - val_loss: 0.3384 - val_acc: 0.8603\n",
      "Epoch 108/200\n",
      "7000/7000 [==============================] - 1s 180us/sample - loss: 0.3681 - acc: 0.8416 - val_loss: 0.3365 - val_acc: 0.8607\n",
      "Epoch 109/200\n",
      "7000/7000 [==============================] - 1s 185us/sample - loss: 0.3628 - acc: 0.8470 - val_loss: 0.3379 - val_acc: 0.8580\n",
      "Epoch 110/200\n",
      "7000/7000 [==============================] - 1s 192us/sample - loss: 0.3638 - acc: 0.8427 - val_loss: 0.3469 - val_acc: 0.8543\n",
      "Epoch 111/200\n",
      "7000/7000 [==============================] - 1s 184us/sample - loss: 0.3665 - acc: 0.8424 - val_loss: 0.3482 - val_acc: 0.8543\n",
      "Epoch 112/200\n",
      "7000/7000 [==============================] - 1s 186us/sample - loss: 0.3653 - acc: 0.8426 - val_loss: 0.3322 - val_acc: 0.8613\n",
      "Epoch 113/200\n",
      "7000/7000 [==============================] - 1s 180us/sample - loss: 0.3643 - acc: 0.8467 - val_loss: 0.3353 - val_acc: 0.8627\n",
      "Epoch 114/200\n",
      "7000/7000 [==============================] - 1s 187us/sample - loss: 0.3622 - acc: 0.8439 - val_loss: 0.3548 - val_acc: 0.8557\n",
      "Epoch 115/200\n",
      "7000/7000 [==============================] - 1s 190us/sample - loss: 0.3641 - acc: 0.8447 - val_loss: 0.3510 - val_acc: 0.8583\n",
      "Epoch 116/200\n",
      "7000/7000 [==============================] - 1s 177us/sample - loss: 0.3636 - acc: 0.8437 - val_loss: 0.3477 - val_acc: 0.8603\n",
      "Epoch 117/200\n",
      "7000/7000 [==============================] - 1s 182us/sample - loss: 0.3679 - acc: 0.8427 - val_loss: 0.3478 - val_acc: 0.8507\n",
      "Epoch 118/200\n",
      "7000/7000 [==============================] - 1s 182us/sample - loss: 0.3614 - acc: 0.8449 - val_loss: 0.3429 - val_acc: 0.8583\n",
      "Epoch 119/200\n",
      "7000/7000 [==============================] - 1s 183us/sample - loss: 0.3634 - acc: 0.8450 - val_loss: 0.3356 - val_acc: 0.8623\n",
      "Epoch 120/200\n",
      "7000/7000 [==============================] - 1s 183us/sample - loss: 0.3632 - acc: 0.8466 - val_loss: 0.3587 - val_acc: 0.8473\n",
      "Epoch 121/200\n",
      "7000/7000 [==============================] - 1s 184us/sample - loss: 0.3636 - acc: 0.8467 - val_loss: 0.3358 - val_acc: 0.8613\n",
      "Epoch 122/200\n",
      "7000/7000 [==============================] - 1s 178us/sample - loss: 0.3649 - acc: 0.8447 - val_loss: 0.3353 - val_acc: 0.8620\n",
      "Epoch 123/200\n",
      "7000/7000 [==============================] - 1s 189us/sample - loss: 0.3634 - acc: 0.8450 - val_loss: 0.3343 - val_acc: 0.8640\n",
      "Epoch 124/200\n",
      "7000/7000 [==============================] - 1s 184us/sample - loss: 0.3638 - acc: 0.8437 - val_loss: 0.3487 - val_acc: 0.8623\n",
      "Epoch 125/200\n",
      "7000/7000 [==============================] - 1s 186us/sample - loss: 0.3629 - acc: 0.8466 - val_loss: 0.3333 - val_acc: 0.8630\n",
      "Epoch 126/200\n",
      "7000/7000 [==============================] - 1s 184us/sample - loss: 0.3585 - acc: 0.8480 - val_loss: 0.3355 - val_acc: 0.8630\n",
      "Epoch 127/200\n",
      "7000/7000 [==============================] - 1s 190us/sample - loss: 0.3647 - acc: 0.8447 - val_loss: 0.3471 - val_acc: 0.8570\n",
      "Epoch 128/200\n",
      "7000/7000 [==============================] - 1s 180us/sample - loss: 0.3627 - acc: 0.8446 - val_loss: 0.3373 - val_acc: 0.8623\n",
      "Epoch 129/200\n",
      "7000/7000 [==============================] - 1s 188us/sample - loss: 0.3586 - acc: 0.8490 - val_loss: 0.3360 - val_acc: 0.8607\n",
      "Epoch 130/200\n",
      "7000/7000 [==============================] - 1s 187us/sample - loss: 0.3627 - acc: 0.8500 - val_loss: 0.3322 - val_acc: 0.8667\n",
      "Epoch 131/200\n",
      "7000/7000 [==============================] - 1s 188us/sample - loss: 0.3623 - acc: 0.8446 - val_loss: 0.3334 - val_acc: 0.8657\n",
      "Epoch 132/200\n",
      "7000/7000 [==============================] - 1s 188us/sample - loss: 0.3593 - acc: 0.8473 - val_loss: 0.3370 - val_acc: 0.8627\n",
      "Epoch 133/200\n",
      "7000/7000 [==============================] - 1s 184us/sample - loss: 0.3612 - acc: 0.8439 - val_loss: 0.3344 - val_acc: 0.8660\n",
      "Epoch 134/200\n",
      "7000/7000 [==============================] - 1s 196us/sample - loss: 0.3583 - acc: 0.8470 - val_loss: 0.3399 - val_acc: 0.8580\n",
      "Epoch 135/200\n",
      "7000/7000 [==============================] - 1s 195us/sample - loss: 0.3608 - acc: 0.8481 - val_loss: 0.3334 - val_acc: 0.8643\n",
      "Epoch 136/200\n",
      "7000/7000 [==============================] - 1s 189us/sample - loss: 0.3577 - acc: 0.8484 - val_loss: 0.3365 - val_acc: 0.8587\n",
      "Epoch 137/200\n",
      "7000/7000 [==============================] - 1s 190us/sample - loss: 0.3595 - acc: 0.8476 - val_loss: 0.3473 - val_acc: 0.8593\n",
      "Epoch 138/200\n",
      "7000/7000 [==============================] - 1s 187us/sample - loss: 0.3587 - acc: 0.8479 - val_loss: 0.3396 - val_acc: 0.8620\n",
      "Epoch 139/200\n",
      "7000/7000 [==============================] - 1s 187us/sample - loss: 0.3613 - acc: 0.8446 - val_loss: 0.3370 - val_acc: 0.8627\n",
      "Epoch 140/200\n",
      "7000/7000 [==============================] - 1s 184us/sample - loss: 0.3597 - acc: 0.8473 - val_loss: 0.3331 - val_acc: 0.8650\n",
      "Epoch 141/200\n",
      "7000/7000 [==============================] - 1s 181us/sample - loss: 0.3602 - acc: 0.8459 - val_loss: 0.3352 - val_acc: 0.8613\n",
      "Epoch 142/200\n",
      "7000/7000 [==============================] - 1s 183us/sample - loss: 0.3601 - acc: 0.8474 - val_loss: 0.3336 - val_acc: 0.8640\n",
      "Epoch 143/200\n",
      "7000/7000 [==============================] - 1s 191us/sample - loss: 0.3583 - acc: 0.8494 - val_loss: 0.3339 - val_acc: 0.8623\n",
      "Epoch 144/200\n",
      "7000/7000 [==============================] - 1s 186us/sample - loss: 0.3591 - acc: 0.8481 - val_loss: 0.3514 - val_acc: 0.8590\n",
      "Epoch 145/200\n",
      "7000/7000 [==============================] - 1s 188us/sample - loss: 0.3595 - acc: 0.8441 - val_loss: 0.3357 - val_acc: 0.8637\n",
      "Epoch 146/200\n",
      "7000/7000 [==============================] - 1s 185us/sample - loss: 0.3588 - acc: 0.8461 - val_loss: 0.3340 - val_acc: 0.8640\n",
      "Epoch 147/200\n",
      "7000/7000 [==============================] - 1s 187us/sample - loss: 0.3586 - acc: 0.8476 - val_loss: 0.3345 - val_acc: 0.8633\n",
      "Epoch 148/200\n",
      "7000/7000 [==============================] - 1s 186us/sample - loss: 0.3569 - acc: 0.8486 - val_loss: 0.3372 - val_acc: 0.8610\n",
      "Epoch 149/200\n",
      "7000/7000 [==============================] - 1s 185us/sample - loss: 0.3562 - acc: 0.8490 - val_loss: 0.3349 - val_acc: 0.8623\n",
      "Epoch 150/200\n",
      "7000/7000 [==============================] - 1s 186us/sample - loss: 0.3583 - acc: 0.8464 - val_loss: 0.3344 - val_acc: 0.8620\n",
      "Epoch 151/200\n",
      "7000/7000 [==============================] - 1s 191us/sample - loss: 0.3565 - acc: 0.8504 - val_loss: 0.3331 - val_acc: 0.8657\n",
      "Epoch 152/200\n",
      "7000/7000 [==============================] - 1s 185us/sample - loss: 0.3576 - acc: 0.8490 - val_loss: 0.3389 - val_acc: 0.8590\n",
      "Epoch 153/200\n",
      "7000/7000 [==============================] - 1s 186us/sample - loss: 0.3579 - acc: 0.8477 - val_loss: 0.3375 - val_acc: 0.8570\n",
      "Epoch 154/200\n",
      "7000/7000 [==============================] - 1s 186us/sample - loss: 0.3570 - acc: 0.8484 - val_loss: 0.3354 - val_acc: 0.8643\n",
      "Epoch 155/200\n",
      "7000/7000 [==============================] - 1s 190us/sample - loss: 0.3562 - acc: 0.8501 - val_loss: 0.3408 - val_acc: 0.8623\n",
      "Epoch 156/200\n",
      "7000/7000 [==============================] - 1s 187us/sample - loss: 0.3595 - acc: 0.8447 - val_loss: 0.3363 - val_acc: 0.8600\n",
      "Epoch 157/200\n",
      "7000/7000 [==============================] - 1s 187us/sample - loss: 0.3583 - acc: 0.8483 - val_loss: 0.3369 - val_acc: 0.8613\n",
      "Epoch 158/200\n",
      "7000/7000 [==============================] - 1s 184us/sample - loss: 0.3605 - acc: 0.8489 - val_loss: 0.3390 - val_acc: 0.8630\n",
      "Epoch 159/200\n",
      "7000/7000 [==============================] - 1s 190us/sample - loss: 0.3581 - acc: 0.8490 - val_loss: 0.3338 - val_acc: 0.8653\n",
      "Epoch 160/200\n",
      "7000/7000 [==============================] - 1s 188us/sample - loss: 0.3564 - acc: 0.8467 - val_loss: 0.3384 - val_acc: 0.8607\n",
      "Epoch 161/200\n",
      "7000/7000 [==============================] - 1s 185us/sample - loss: 0.3542 - acc: 0.8476 - val_loss: 0.3372 - val_acc: 0.8643\n",
      "Epoch 162/200\n",
      "7000/7000 [==============================] - 1s 189us/sample - loss: 0.3563 - acc: 0.8486 - val_loss: 0.3433 - val_acc: 0.8610\n",
      "Epoch 163/200\n",
      "7000/7000 [==============================] - 1s 187us/sample - loss: 0.3554 - acc: 0.8497 - val_loss: 0.3356 - val_acc: 0.8633\n",
      "Epoch 164/200\n",
      "7000/7000 [==============================] - 1s 190us/sample - loss: 0.3590 - acc: 0.8467 - val_loss: 0.3392 - val_acc: 0.8603\n",
      "Epoch 165/200\n",
      "7000/7000 [==============================] - 1s 185us/sample - loss: 0.3562 - acc: 0.8494 - val_loss: 0.3359 - val_acc: 0.8643\n",
      "Epoch 166/200\n",
      "7000/7000 [==============================] - 1s 183us/sample - loss: 0.3558 - acc: 0.8510 - val_loss: 0.3453 - val_acc: 0.8557\n",
      "Epoch 167/200\n",
      "7000/7000 [==============================] - 1s 194us/sample - loss: 0.3589 - acc: 0.8480 - val_loss: 0.3419 - val_acc: 0.8617\n",
      "Epoch 168/200\n",
      "7000/7000 [==============================] - 1s 189us/sample - loss: 0.3556 - acc: 0.8473 - val_loss: 0.3383 - val_acc: 0.8590\n",
      "Epoch 169/200\n",
      "7000/7000 [==============================] - 1s 185us/sample - loss: 0.3549 - acc: 0.8477 - val_loss: 0.3424 - val_acc: 0.8650\n",
      "Epoch 170/200\n",
      "7000/7000 [==============================] - 1s 189us/sample - loss: 0.3538 - acc: 0.8494 - val_loss: 0.3359 - val_acc: 0.8627\n",
      "Epoch 171/200\n",
      "7000/7000 [==============================] - 1s 183us/sample - loss: 0.3565 - acc: 0.8464 - val_loss: 0.3353 - val_acc: 0.8613\n",
      "Epoch 172/200\n",
      "7000/7000 [==============================] - 1s 185us/sample - loss: 0.3581 - acc: 0.8477 - val_loss: 0.3387 - val_acc: 0.8597\n",
      "Epoch 173/200\n",
      "7000/7000 [==============================] - 1s 185us/sample - loss: 0.3545 - acc: 0.8504 - val_loss: 0.3452 - val_acc: 0.8543\n",
      "Epoch 174/200\n",
      "7000/7000 [==============================] - 1s 189us/sample - loss: 0.3541 - acc: 0.8517 - val_loss: 0.3351 - val_acc: 0.8653\n",
      "Epoch 175/200\n",
      "7000/7000 [==============================] - 1s 192us/sample - loss: 0.3550 - acc: 0.8469 - val_loss: 0.3398 - val_acc: 0.8593\n",
      "Epoch 176/200\n",
      "7000/7000 [==============================] - 1s 184us/sample - loss: 0.3552 - acc: 0.8481 - val_loss: 0.3431 - val_acc: 0.8630\n",
      "Epoch 177/200\n",
      "7000/7000 [==============================] - 1s 184us/sample - loss: 0.3549 - acc: 0.8484 - val_loss: 0.3529 - val_acc: 0.8520\n",
      "Epoch 178/200\n",
      "7000/7000 [==============================] - 1s 189us/sample - loss: 0.3560 - acc: 0.8499 - val_loss: 0.3366 - val_acc: 0.8607\n",
      "Epoch 179/200\n",
      "7000/7000 [==============================] - 1s 188us/sample - loss: 0.3541 - acc: 0.8479 - val_loss: 0.3372 - val_acc: 0.8633\n",
      "Epoch 180/200\n",
      "7000/7000 [==============================] - 1s 184us/sample - loss: 0.3566 - acc: 0.8466 - val_loss: 0.3380 - val_acc: 0.8657\n",
      "Epoch 181/200\n",
      "7000/7000 [==============================] - 1s 186us/sample - loss: 0.3545 - acc: 0.8501 - val_loss: 0.3393 - val_acc: 0.8627\n",
      "Epoch 182/200\n",
      "7000/7000 [==============================] - 1s 184us/sample - loss: 0.3512 - acc: 0.8503 - val_loss: 0.3354 - val_acc: 0.8640\n",
      "Epoch 183/200\n",
      "7000/7000 [==============================] - 1s 182us/sample - loss: 0.3548 - acc: 0.8504 - val_loss: 0.3370 - val_acc: 0.8633\n",
      "Epoch 184/200\n",
      "7000/7000 [==============================] - 1s 189us/sample - loss: 0.3540 - acc: 0.8507 - val_loss: 0.3429 - val_acc: 0.8613\n",
      "Epoch 185/200\n",
      "7000/7000 [==============================] - 1s 188us/sample - loss: 0.3549 - acc: 0.8507 - val_loss: 0.3382 - val_acc: 0.8640\n",
      "Epoch 186/200\n",
      "7000/7000 [==============================] - 1s 191us/sample - loss: 0.3543 - acc: 0.8489 - val_loss: 0.3355 - val_acc: 0.8633\n",
      "Epoch 187/200\n",
      "7000/7000 [==============================] - 1s 192us/sample - loss: 0.3509 - acc: 0.8504 - val_loss: 0.3379 - val_acc: 0.8623\n",
      "Epoch 188/200\n",
      "7000/7000 [==============================] - 1s 208us/sample - loss: 0.3535 - acc: 0.8484 - val_loss: 0.3361 - val_acc: 0.8640\n",
      "Epoch 189/200\n",
      "7000/7000 [==============================] - 1s 199us/sample - loss: 0.3525 - acc: 0.8511 - val_loss: 0.3386 - val_acc: 0.8600\n",
      "Epoch 190/200\n",
      "7000/7000 [==============================] - 1s 198us/sample - loss: 0.3512 - acc: 0.8494 - val_loss: 0.3362 - val_acc: 0.8620\n",
      "Epoch 191/200\n",
      "7000/7000 [==============================] - 1s 194us/sample - loss: 0.3538 - acc: 0.8501 - val_loss: 0.3355 - val_acc: 0.8603\n",
      "Epoch 192/200\n",
      "7000/7000 [==============================] - 1s 184us/sample - loss: 0.3499 - acc: 0.8520 - val_loss: 0.3379 - val_acc: 0.8577\n",
      "Epoch 193/200\n",
      "7000/7000 [==============================] - 1s 183us/sample - loss: 0.3545 - acc: 0.8490 - val_loss: 0.3403 - val_acc: 0.8633\n",
      "Epoch 194/200\n",
      "7000/7000 [==============================] - 1s 191us/sample - loss: 0.3501 - acc: 0.8513 - val_loss: 0.3399 - val_acc: 0.8607\n",
      "Epoch 195/200\n",
      "7000/7000 [==============================] - 1s 183us/sample - loss: 0.3461 - acc: 0.8529 - val_loss: 0.3394 - val_acc: 0.8617\n",
      "Epoch 196/200\n",
      "7000/7000 [==============================] - 1s 188us/sample - loss: 0.3536 - acc: 0.8451 - val_loss: 0.3406 - val_acc: 0.8633\n",
      "Epoch 197/200\n",
      "7000/7000 [==============================] - 1s 181us/sample - loss: 0.3530 - acc: 0.8481 - val_loss: 0.3433 - val_acc: 0.8597\n",
      "Epoch 198/200\n",
      "7000/7000 [==============================] - 1s 185us/sample - loss: 0.3526 - acc: 0.8489 - val_loss: 0.3364 - val_acc: 0.8617\n",
      "Epoch 199/200\n",
      "7000/7000 [==============================] - 1s 191us/sample - loss: 0.3503 - acc: 0.8504 - val_loss: 0.3446 - val_acc: 0.8603\n",
      "Epoch 200/200\n",
      "7000/7000 [==============================] - 1s 188us/sample - loss: 0.3545 - acc: 0.8480 - val_loss: 0.3431 - val_acc: 0.8613\n"
     ]
    },
    {
     "data": {
      "text/plain": [
       "<tensorflow.python.keras.callbacks.History at 0x7f10c36e0400>"
      ]
     },
     "execution_count": 101,
     "metadata": {
      "tags": []
     },
     "output_type": "execute_result"
    }
   ],
   "source": [
    "model.fit(X_train,y_train,          \n",
    "          validation_data=(X_test,y_test),\n",
    "          epochs=200,\n",
    "          batch_size=30)"
   ]
  },
  {
   "cell_type": "markdown",
   "metadata": {
    "colab_type": "text",
    "id": "Bq-QNLJXrfd5"
   },
   "source": [
    "### Trying PCA on the given data to see if it can improve the accuracy.(though the number of columns are less, checking if the it is possible)"
   ]
  },
  {
   "cell_type": "code",
   "execution_count": 0,
   "metadata": {
    "colab": {
     "base_uri": "https://localhost:8080/",
     "height": 312
    },
    "colab_type": "code",
    "id": "Pd4sShF-ej4A",
    "outputId": "f64622c9-e2e5-4ac1-8e9f-7767aba43485"
   },
   "outputs": [
    {
     "name": "stdout",
     "output_type": "stream",
     "text": [
      "<class 'pandas.core.frame.DataFrame'>\n",
      "RangeIndex: 10000 entries, 0 to 9999\n",
      "Data columns (total 12 columns):\n",
      "Surname            10000 non-null object\n",
      "CreditScore        10000 non-null float64\n",
      "Geography          10000 non-null int64\n",
      "Gender             10000 non-null int64\n",
      "Age                10000 non-null float64\n",
      "Tenure             10000 non-null int64\n",
      "Balance            10000 non-null float64\n",
      "NumOfProducts      10000 non-null int64\n",
      "HasCrCard          10000 non-null int64\n",
      "IsActiveMember     10000 non-null int64\n",
      "EstimatedSalary    10000 non-null float64\n",
      "Exited             10000 non-null int64\n",
      "dtypes: float64(4), int64(7), object(1)\n",
      "memory usage: 937.6+ KB\n"
     ]
    }
   ],
   "source": [
    "data.info()"
   ]
  },
  {
   "cell_type": "markdown",
   "metadata": {
    "colab_type": "text",
    "id": "W1_xwLkksKJK"
   },
   "source": [
    "Removing the surname column as it has about 2000 distinct surnames, i.e. too many categorical variables to work with(not fesible)"
   ]
  },
  {
   "cell_type": "code",
   "execution_count": 0,
   "metadata": {
    "colab": {},
    "colab_type": "code",
    "id": "nutAmVK1rp6b"
   },
   "outputs": [],
   "source": [
    "data.drop(columns='Surname', inplace = True)"
   ]
  },
  {
   "cell_type": "code",
   "execution_count": 0,
   "metadata": {
    "colab": {},
    "colab_type": "code",
    "id": "suMDsWb7smdp"
   },
   "outputs": [],
   "source": [
    "data = data.astype('float32')"
   ]
  },
  {
   "cell_type": "code",
   "execution_count": 0,
   "metadata": {
    "colab": {
     "base_uri": "https://localhost:8080/",
     "height": 202
    },
    "colab_type": "code",
    "id": "X1rn3U1Hswa4",
    "outputId": "46632a93-715f-479a-cdf8-296eb6b98bee"
   },
   "outputs": [
    {
     "data": {
      "text/html": [
       "<div>\n",
       "<style scoped>\n",
       "    .dataframe tbody tr th:only-of-type {\n",
       "        vertical-align: middle;\n",
       "    }\n",
       "\n",
       "    .dataframe tbody tr th {\n",
       "        vertical-align: top;\n",
       "    }\n",
       "\n",
       "    .dataframe thead th {\n",
       "        text-align: right;\n",
       "    }\n",
       "</style>\n",
       "<table border=\"1\" class=\"dataframe\">\n",
       "  <thead>\n",
       "    <tr style=\"text-align: right;\">\n",
       "      <th></th>\n",
       "      <th>CreditScore</th>\n",
       "      <th>Geography</th>\n",
       "      <th>Gender</th>\n",
       "      <th>Age</th>\n",
       "      <th>Tenure</th>\n",
       "      <th>Balance</th>\n",
       "      <th>NumOfProducts</th>\n",
       "      <th>HasCrCard</th>\n",
       "      <th>IsActiveMember</th>\n",
       "      <th>EstimatedSalary</th>\n",
       "      <th>Exited</th>\n",
       "    </tr>\n",
       "  </thead>\n",
       "  <tbody>\n",
       "    <tr>\n",
       "      <th>0</th>\n",
       "      <td>619.0</td>\n",
       "      <td>0.0</td>\n",
       "      <td>0.0</td>\n",
       "      <td>42.0</td>\n",
       "      <td>2.0</td>\n",
       "      <td>0.000000</td>\n",
       "      <td>1.0</td>\n",
       "      <td>1.0</td>\n",
       "      <td>1.0</td>\n",
       "      <td>101348.882812</td>\n",
       "      <td>1.0</td>\n",
       "    </tr>\n",
       "    <tr>\n",
       "      <th>1</th>\n",
       "      <td>608.0</td>\n",
       "      <td>2.0</td>\n",
       "      <td>0.0</td>\n",
       "      <td>41.0</td>\n",
       "      <td>1.0</td>\n",
       "      <td>83807.859375</td>\n",
       "      <td>1.0</td>\n",
       "      <td>0.0</td>\n",
       "      <td>1.0</td>\n",
       "      <td>112542.578125</td>\n",
       "      <td>0.0</td>\n",
       "    </tr>\n",
       "    <tr>\n",
       "      <th>2</th>\n",
       "      <td>502.0</td>\n",
       "      <td>0.0</td>\n",
       "      <td>0.0</td>\n",
       "      <td>42.0</td>\n",
       "      <td>8.0</td>\n",
       "      <td>159660.796875</td>\n",
       "      <td>3.0</td>\n",
       "      <td>1.0</td>\n",
       "      <td>0.0</td>\n",
       "      <td>113931.570312</td>\n",
       "      <td>1.0</td>\n",
       "    </tr>\n",
       "    <tr>\n",
       "      <th>3</th>\n",
       "      <td>699.0</td>\n",
       "      <td>0.0</td>\n",
       "      <td>0.0</td>\n",
       "      <td>39.0</td>\n",
       "      <td>1.0</td>\n",
       "      <td>0.000000</td>\n",
       "      <td>2.0</td>\n",
       "      <td>0.0</td>\n",
       "      <td>0.0</td>\n",
       "      <td>93826.632812</td>\n",
       "      <td>0.0</td>\n",
       "    </tr>\n",
       "    <tr>\n",
       "      <th>4</th>\n",
       "      <td>850.0</td>\n",
       "      <td>2.0</td>\n",
       "      <td>0.0</td>\n",
       "      <td>43.0</td>\n",
       "      <td>2.0</td>\n",
       "      <td>125510.820312</td>\n",
       "      <td>1.0</td>\n",
       "      <td>1.0</td>\n",
       "      <td>1.0</td>\n",
       "      <td>79084.101562</td>\n",
       "      <td>0.0</td>\n",
       "    </tr>\n",
       "  </tbody>\n",
       "</table>\n",
       "</div>"
      ],
      "text/plain": [
       "   CreditScore  Geography  Gender  ...  IsActiveMember  EstimatedSalary  Exited\n",
       "0        619.0        0.0     0.0  ...             1.0    101348.882812     1.0\n",
       "1        608.0        2.0     0.0  ...             1.0    112542.578125     0.0\n",
       "2        502.0        0.0     0.0  ...             0.0    113931.570312     1.0\n",
       "3        699.0        0.0     0.0  ...             0.0     93826.632812     0.0\n",
       "4        850.0        2.0     0.0  ...             1.0     79084.101562     0.0\n",
       "\n",
       "[5 rows x 11 columns]"
      ]
     },
     "execution_count": 399,
     "metadata": {
      "tags": []
     },
     "output_type": "execute_result"
    }
   ],
   "source": [
    "data.head()"
   ]
  },
  {
   "cell_type": "code",
   "execution_count": 0,
   "metadata": {
    "colab": {},
    "colab_type": "code",
    "id": "hXPTWilCsyBM"
   },
   "outputs": [],
   "source": [
    "geo = tf.keras.utils.to_categorical(data['Geography'], num_classes=3)"
   ]
  },
  {
   "cell_type": "code",
   "execution_count": 0,
   "metadata": {
    "colab": {},
    "colab_type": "code",
    "id": "T7hFkV7KtWdb"
   },
   "outputs": [],
   "source": [
    "geo = pd.DataFrame(geo)"
   ]
  },
  {
   "cell_type": "code",
   "execution_count": 0,
   "metadata": {
    "colab": {},
    "colab_type": "code",
    "id": "BFQqPEh_tWZn"
   },
   "outputs": [],
   "source": [
    "geo.columns = ['France','Germany','Spain']"
   ]
  },
  {
   "cell_type": "code",
   "execution_count": 0,
   "metadata": {
    "colab": {},
    "colab_type": "code",
    "id": "j29jzaAUs-V_"
   },
   "outputs": [],
   "source": [
    "gen = tf.keras.utils.to_categorical(data['Gender'],num_classes=2)"
   ]
  },
  {
   "cell_type": "code",
   "execution_count": 0,
   "metadata": {
    "colab": {},
    "colab_type": "code",
    "id": "wg3FMSXMtHF5"
   },
   "outputs": [],
   "source": [
    "gen = pd.DataFrame(gen)"
   ]
  },
  {
   "cell_type": "code",
   "execution_count": 0,
   "metadata": {
    "colab": {},
    "colab_type": "code",
    "id": "9_4ZVgX6tOYo"
   },
   "outputs": [],
   "source": [
    "gen.columns = ['Female','Male']"
   ]
  },
  {
   "cell_type": "code",
   "execution_count": 0,
   "metadata": {
    "colab": {},
    "colab_type": "code",
    "id": "RAjqRV4It2qf"
   },
   "outputs": [],
   "source": [
    "data = pd.concat([data, gen], axis = 1)"
   ]
  },
  {
   "cell_type": "code",
   "execution_count": 0,
   "metadata": {
    "colab": {},
    "colab_type": "code",
    "id": "74upPbf3t_c5"
   },
   "outputs": [],
   "source": [
    "data = pd.concat([data, geo],axis = 1)"
   ]
  },
  {
   "cell_type": "code",
   "execution_count": 0,
   "metadata": {
    "colab": {
     "base_uri": "https://localhost:8080/",
     "height": 87
    },
    "colab_type": "code",
    "id": "j5tupa-EudpW",
    "outputId": "89c83620-6525-4153-c76e-b4a129d664cc"
   },
   "outputs": [
    {
     "data": {
      "text/plain": [
       "Index(['CreditScore', 'Geography', 'Gender', 'Age', 'Tenure', 'Balance',\n",
       "       'NumOfProducts', 'HasCrCard', 'IsActiveMember', 'EstimatedSalary',\n",
       "       'Exited', 'Female', 'Male', 'France', 'Germany', 'Spain'],\n",
       "      dtype='object')"
      ]
     },
     "execution_count": 408,
     "metadata": {
      "tags": []
     },
     "output_type": "execute_result"
    }
   ],
   "source": [
    "data.columns"
   ]
  },
  {
   "cell_type": "code",
   "execution_count": 0,
   "metadata": {
    "colab": {},
    "colab_type": "code",
    "id": "9iM7j27KuiGK"
   },
   "outputs": [],
   "source": [
    "data.drop(columns = {'Gender','Geography'},inplace = True)"
   ]
  },
  {
   "cell_type": "markdown",
   "metadata": {
    "colab_type": "text",
    "id": "gbjPeUIcBGcC"
   },
   "source": [
    "#### Applying PCA to check the required variables"
   ]
  },
  {
   "cell_type": "code",
   "execution_count": 0,
   "metadata": {
    "colab": {},
    "colab_type": "code",
    "id": "aMFG2cgXAcEP"
   },
   "outputs": [],
   "source": [
    "data_columns = data.columns"
   ]
  },
  {
   "cell_type": "code",
   "execution_count": 0,
   "metadata": {
    "colab": {},
    "colab_type": "code",
    "id": "iEu3-034Arql"
   },
   "outputs": [],
   "source": [
    "from sklearn import preprocessing"
   ]
  },
  {
   "cell_type": "code",
   "execution_count": 0,
   "metadata": {
    "colab": {},
    "colab_type": "code",
    "id": "KF-wxQKxFqTB"
   },
   "outputs": [],
   "source": [
    "data.drop(columns = 'Surname',inplace = True)"
   ]
  },
  {
   "cell_type": "code",
   "execution_count": 0,
   "metadata": {
    "colab": {},
    "colab_type": "code",
    "id": "3XPceEyQAN4E"
   },
   "outputs": [],
   "source": [
    "scaler = preprocessing.StandardScaler().fit(data)\n",
    "data_transformed = pd.DataFrame(scaler.transform(data))\n",
    "data_transformed.columns = data_columns"
   ]
  },
  {
   "cell_type": "code",
   "execution_count": 84,
   "metadata": {
    "colab": {
     "base_uri": "https://localhost:8080/",
     "height": 52
    },
    "colab_type": "code",
    "id": "BLrwk1-iANxw",
    "outputId": "fdbc5c64-820e-40d9-c11c-48fdfa307ca4"
   },
   "outputs": [
    {
     "data": {
      "text/plain": [
       "PCA(copy=True, iterated_power='auto', n_components=None, random_state=None,\n",
       "    svd_solver='auto', tol=0.0, whiten=False)"
      ]
     },
     "execution_count": 84,
     "metadata": {
      "tags": []
     },
     "output_type": "execute_result"
    }
   ],
   "source": [
    "from sklearn.decomposition import PCA\n",
    "pca = PCA()\n",
    "pca.fit(data_transformed)"
   ]
  },
  {
   "cell_type": "code",
   "execution_count": 85,
   "metadata": {
    "colab": {
     "base_uri": "https://localhost:8080/",
     "height": 34
    },
    "colab_type": "code",
    "id": "nd6EwQWoANpf",
    "outputId": "38d1ebd3-be7f-4835-daa5-eb1f92f15061"
   },
   "outputs": [
    {
     "data": {
      "text/plain": [
       "(10000, 11)"
      ]
     },
     "execution_count": 85,
     "metadata": {
      "tags": []
     },
     "output_type": "execute_result"
    }
   ],
   "source": [
    "data_pca = pca.transform(data_transformed)\n",
    "data_pca.shape"
   ]
  },
  {
   "cell_type": "code",
   "execution_count": 86,
   "metadata": {
    "colab": {
     "base_uri": "https://localhost:8080/",
     "height": 401
    },
    "colab_type": "code",
    "id": "8Bp7hrraANfY",
    "outputId": "3fc2cb83-b359-4645-f021-bff4737d6a83"
   },
   "outputs": [
    {
     "data": {
      "text/html": [
       "<div>\n",
       "<style scoped>\n",
       "    .dataframe tbody tr th:only-of-type {\n",
       "        vertical-align: middle;\n",
       "    }\n",
       "\n",
       "    .dataframe tbody tr th {\n",
       "        vertical-align: top;\n",
       "    }\n",
       "\n",
       "    .dataframe thead th {\n",
       "        text-align: right;\n",
       "    }\n",
       "</style>\n",
       "<table border=\"1\" class=\"dataframe\">\n",
       "  <thead>\n",
       "    <tr style=\"text-align: right;\">\n",
       "      <th></th>\n",
       "      <th>CreditScore</th>\n",
       "      <th>Geography</th>\n",
       "      <th>Gender</th>\n",
       "      <th>Age</th>\n",
       "      <th>Tenure</th>\n",
       "      <th>Balance</th>\n",
       "      <th>NumOfProducts</th>\n",
       "      <th>HasCrCard</th>\n",
       "      <th>IsActiveMember</th>\n",
       "      <th>EstimatedSalary</th>\n",
       "      <th>Exited</th>\n",
       "    </tr>\n",
       "  </thead>\n",
       "  <tbody>\n",
       "    <tr>\n",
       "      <th>0</th>\n",
       "      <td>-0.031615</td>\n",
       "      <td>0.128074</td>\n",
       "      <td>-0.146470</td>\n",
       "      <td>0.494404</td>\n",
       "      <td>-0.035078</td>\n",
       "      <td>0.427515</td>\n",
       "      <td>-0.352825</td>\n",
       "      <td>-0.042207</td>\n",
       "      <td>-0.229515</td>\n",
       "      <td>0.027187</td>\n",
       "      <td>0.594159</td>\n",
       "    </tr>\n",
       "    <tr>\n",
       "      <th>1</th>\n",
       "      <td>-0.025245</td>\n",
       "      <td>-0.067912</td>\n",
       "      <td>-0.284521</td>\n",
       "      <td>0.326412</td>\n",
       "      <td>0.044237</td>\n",
       "      <td>-0.543772</td>\n",
       "      <td>0.590181</td>\n",
       "      <td>0.016656</td>\n",
       "      <td>-0.227640</td>\n",
       "      <td>0.048123</td>\n",
       "      <td>0.326928</td>\n",
       "    </tr>\n",
       "    <tr>\n",
       "      <th>2</th>\n",
       "      <td>0.278974</td>\n",
       "      <td>0.211088</td>\n",
       "      <td>-0.137815</td>\n",
       "      <td>0.171543</td>\n",
       "      <td>-0.562408</td>\n",
       "      <td>-0.028214</td>\n",
       "      <td>0.102595</td>\n",
       "      <td>-0.494144</td>\n",
       "      <td>0.503836</td>\n",
       "      <td>-0.059448</td>\n",
       "      <td>0.002890</td>\n",
       "    </tr>\n",
       "    <tr>\n",
       "      <th>3</th>\n",
       "      <td>0.405723</td>\n",
       "      <td>0.682410</td>\n",
       "      <td>0.285630</td>\n",
       "      <td>0.130223</td>\n",
       "      <td>0.463060</td>\n",
       "      <td>0.006940</td>\n",
       "      <td>0.167166</td>\n",
       "      <td>0.110942</td>\n",
       "      <td>0.120306</td>\n",
       "      <td>0.043047</td>\n",
       "      <td>0.010540</td>\n",
       "    </tr>\n",
       "    <tr>\n",
       "      <th>4</th>\n",
       "      <td>-0.068476</td>\n",
       "      <td>0.023183</td>\n",
       "      <td>-0.042921</td>\n",
       "      <td>-0.123258</td>\n",
       "      <td>0.126251</td>\n",
       "      <td>0.059695</td>\n",
       "      <td>0.020156</td>\n",
       "      <td>-0.417465</td>\n",
       "      <td>-0.107045</td>\n",
       "      <td>0.877189</td>\n",
       "      <td>-0.051330</td>\n",
       "    </tr>\n",
       "    <tr>\n",
       "      <th>5</th>\n",
       "      <td>-0.809805</td>\n",
       "      <td>0.383657</td>\n",
       "      <td>0.279341</td>\n",
       "      <td>0.066071</td>\n",
       "      <td>-0.007732</td>\n",
       "      <td>-0.056310</td>\n",
       "      <td>0.096800</td>\n",
       "      <td>-0.267127</td>\n",
       "      <td>0.027838</td>\n",
       "      <td>-0.172275</td>\n",
       "      <td>-0.014702</td>\n",
       "    </tr>\n",
       "    <tr>\n",
       "      <th>6</th>\n",
       "      <td>0.221610</td>\n",
       "      <td>-0.400448</td>\n",
       "      <td>0.424515</td>\n",
       "      <td>0.136555</td>\n",
       "      <td>0.321697</td>\n",
       "      <td>-0.061248</td>\n",
       "      <td>-0.031770</td>\n",
       "      <td>-0.613736</td>\n",
       "      <td>-0.158684</td>\n",
       "      <td>-0.282588</td>\n",
       "      <td>0.041364</td>\n",
       "    </tr>\n",
       "    <tr>\n",
       "      <th>7</th>\n",
       "      <td>0.053658</td>\n",
       "      <td>0.285872</td>\n",
       "      <td>-0.621676</td>\n",
       "      <td>-0.378108</td>\n",
       "      <td>0.225874</td>\n",
       "      <td>0.079535</td>\n",
       "      <td>-0.031567</td>\n",
       "      <td>-0.344403</td>\n",
       "      <td>-0.304019</td>\n",
       "      <td>-0.330198</td>\n",
       "      <td>-0.086826</td>\n",
       "    </tr>\n",
       "    <tr>\n",
       "      <th>8</th>\n",
       "      <td>-0.206163</td>\n",
       "      <td>-0.229287</td>\n",
       "      <td>-0.359425</td>\n",
       "      <td>0.211002</td>\n",
       "      <td>0.542888</td>\n",
       "      <td>0.026956</td>\n",
       "      <td>-0.082642</td>\n",
       "      <td>-0.009700</td>\n",
       "      <td>0.654782</td>\n",
       "      <td>-0.001331</td>\n",
       "      <td>-0.009841</td>\n",
       "    </tr>\n",
       "    <tr>\n",
       "      <th>9</th>\n",
       "      <td>-0.029119</td>\n",
       "      <td>-0.158619</td>\n",
       "      <td>0.073291</td>\n",
       "      <td>-0.262577</td>\n",
       "      <td>0.012182</td>\n",
       "      <td>0.631189</td>\n",
       "      <td>0.651075</td>\n",
       "      <td>0.010088</td>\n",
       "      <td>0.109984</td>\n",
       "      <td>-0.058309</td>\n",
       "      <td>0.248254</td>\n",
       "    </tr>\n",
       "    <tr>\n",
       "      <th>10</th>\n",
       "      <td>0.010584</td>\n",
       "      <td>0.034625</td>\n",
       "      <td>0.126060</td>\n",
       "      <td>-0.554974</td>\n",
       "      <td>0.026532</td>\n",
       "      <td>-0.323667</td>\n",
       "      <td>-0.214991</td>\n",
       "      <td>-0.018428</td>\n",
       "      <td>0.237698</td>\n",
       "      <td>0.011434</td>\n",
       "      <td>0.682749</td>\n",
       "    </tr>\n",
       "  </tbody>\n",
       "</table>\n",
       "</div>"
      ],
      "text/plain": [
       "    CreditScore  Geography    Gender  ...  IsActiveMember  EstimatedSalary    Exited\n",
       "0     -0.031615   0.128074 -0.146470  ...       -0.229515         0.027187  0.594159\n",
       "1     -0.025245  -0.067912 -0.284521  ...       -0.227640         0.048123  0.326928\n",
       "2      0.278974   0.211088 -0.137815  ...        0.503836        -0.059448  0.002890\n",
       "3      0.405723   0.682410  0.285630  ...        0.120306         0.043047  0.010540\n",
       "4     -0.068476   0.023183 -0.042921  ...       -0.107045         0.877189 -0.051330\n",
       "5     -0.809805   0.383657  0.279341  ...        0.027838        -0.172275 -0.014702\n",
       "6      0.221610  -0.400448  0.424515  ...       -0.158684        -0.282588  0.041364\n",
       "7      0.053658   0.285872 -0.621676  ...       -0.304019        -0.330198 -0.086826\n",
       "8     -0.206163  -0.229287 -0.359425  ...        0.654782        -0.001331 -0.009841\n",
       "9     -0.029119  -0.158619  0.073291  ...        0.109984        -0.058309  0.248254\n",
       "10     0.010584   0.034625  0.126060  ...        0.237698         0.011434  0.682749\n",
       "\n",
       "[11 rows x 11 columns]"
      ]
     },
     "execution_count": 86,
     "metadata": {
      "tags": []
     },
     "output_type": "execute_result"
    }
   ],
   "source": [
    "rel_data = pd.DataFrame(pca.components_)\n",
    "rel_data.columns = data_columns\n",
    "rel_data"
   ]
  },
  {
   "cell_type": "code",
   "execution_count": 87,
   "metadata": {
    "colab": {
     "base_uri": "https://localhost:8080/",
     "height": 70
    },
    "colab_type": "code",
    "id": "Rd6s66dfCI7P",
    "outputId": "26458bf1-7ecd-4794-b5dd-231a6734f444"
   },
   "outputs": [
    {
     "data": {
      "text/plain": [
       "array([ 13.53689233,  24.85611504,  34.38013128,  43.60832315,\n",
       "        52.76855809,  61.81652656,  70.67819108,  79.45601861,\n",
       "        88.08959964,  94.41599485, 100.        ])"
      ]
     },
     "execution_count": 87,
     "metadata": {
      "tags": []
     },
     "output_type": "execute_result"
    }
   ],
   "source": [
    "np.cumsum(pca.explained_variance_ratio_*100)"
   ]
  },
  {
   "cell_type": "markdown",
   "metadata": {
    "colab_type": "text",
    "id": "SzhBPf5sGObM"
   },
   "source": [
    "#### spliting the data and training the model"
   ]
  },
  {
   "cell_type": "code",
   "execution_count": 0,
   "metadata": {
    "colab": {},
    "colab_type": "code",
    "id": "D0xby-_4utE9"
   },
   "outputs": [],
   "source": [
    "y = data['Exited']"
   ]
  },
  {
   "cell_type": "code",
   "execution_count": 0,
   "metadata": {
    "colab": {},
    "colab_type": "code",
    "id": "Bik4_63ou-Mq"
   },
   "outputs": [],
   "source": [
    "X = data.drop(columns = 'Exited').values"
   ]
  },
  {
   "cell_type": "code",
   "execution_count": 0,
   "metadata": {
    "colab": {},
    "colab_type": "code",
    "id": "3iDXBE3FvCc5"
   },
   "outputs": [],
   "source": [
    "X_train,X_test,y_train,y_test = train_test_split(X,y,test_size = 0.3, random_state = 123)"
   ]
  },
  {
   "cell_type": "code",
   "execution_count": 0,
   "metadata": {
    "colab": {
     "base_uri": "https://localhost:8080/",
     "height": 69
    },
    "colab_type": "code",
    "id": "iqc_4We9vLrm",
    "outputId": "6f557067-c796-43bb-8414-fa0e9a649870"
   },
   "outputs": [
    {
     "data": {
      "text/plain": [
       "0.0    2395\n",
       "1.0     605\n",
       "Name: Exited, dtype: int64"
      ]
     },
     "execution_count": 413,
     "metadata": {
      "tags": []
     },
     "output_type": "execute_result"
    }
   ],
   "source": [
    "y_test.value_counts()"
   ]
  },
  {
   "cell_type": "code",
   "execution_count": 0,
   "metadata": {
    "colab": {
     "base_uri": "https://localhost:8080/",
     "height": 69
    },
    "colab_type": "code",
    "id": "SN3Za0iavR8u",
    "outputId": "535c3bf0-32e8-44c9-88c3-f77621d8cf1e"
   },
   "outputs": [
    {
     "data": {
      "text/plain": [
       "0.0    5568\n",
       "1.0    1432\n",
       "Name: Exited, dtype: int64"
      ]
     },
     "execution_count": 414,
     "metadata": {
      "tags": []
     },
     "output_type": "execute_result"
    }
   ],
   "source": [
    "y_train.value_counts()"
   ]
  },
  {
   "cell_type": "code",
   "execution_count": 0,
   "metadata": {
    "colab": {},
    "colab_type": "code",
    "id": "HN4Kz-PixKnp"
   },
   "outputs": [],
   "source": [
    "X_train = X_train.astype('float32')\n",
    "X_test = X_test.astype('float32')\n",
    "y_test = y_test.astype('float32')\n",
    "y_train = y_train.astype('float32')"
   ]
  },
  {
   "cell_type": "code",
   "execution_count": 0,
   "metadata": {
    "colab": {},
    "colab_type": "code",
    "id": "1ALu3MI1vWoE"
   },
   "outputs": [],
   "source": [
    "model1 = tf.keras.models.Sequential()\n",
    "model1.add(tf.keras.layers.BatchNormalization())\n",
    "model1.add(tf.keras.layers.Dense(20, activation='sigmoid'))\n",
    "model1.add(tf.keras.layers.Dense(50, activation='sigmoid'))\n",
    "model1.add(tf.keras.layers.Dense(100, activation='sigmoid'))\n",
    "model1.add(tf.keras.layers.Dense(100, activation='sigmoid'))\n",
    "model1.add(tf.keras.layers.Dense(2, activation='sigmoid'))"
   ]
  },
  {
   "cell_type": "code",
   "execution_count": 0,
   "metadata": {
    "colab": {},
    "colab_type": "code",
    "id": "mw4SrAsgviZ5"
   },
   "outputs": [],
   "source": [
    "sgd_optimizer = tf.keras.optimizers.SGD(lr=0.5)\n",
    "model1.compile(optimizer=sgd_optimizer, loss='binary_crossentropy', metrics=['accuracy'])"
   ]
  },
  {
   "cell_type": "code",
   "execution_count": 0,
   "metadata": {
    "colab": {
     "base_uri": "https://localhost:8080/",
     "height": 1000
    },
    "colab_type": "code",
    "id": "JIfdFkxVvmTA",
    "outputId": "a7e3f74d-62b3-4e61-8b3f-eb0a5f803866"
   },
   "outputs": [
    {
     "name": "stdout",
     "output_type": "stream",
     "text": [
      "Train on 7000 samples, validate on 3000 samples\n",
      "Epoch 1/200\n",
      "7000/7000 [==============================] - 1s 164us/sample - loss: 0.5250 - acc: 0.7939 - val_loss: 0.5084 - val_acc: 0.7983\n",
      "Epoch 2/200\n",
      "7000/7000 [==============================] - 1s 116us/sample - loss: 0.5128 - acc: 0.7954 - val_loss: 0.5331 - val_acc: 0.7983\n",
      "Epoch 3/200\n",
      "7000/7000 [==============================] - 1s 117us/sample - loss: 0.5140 - acc: 0.7954 - val_loss: 0.5230 - val_acc: 0.7983\n",
      "Epoch 4/200\n",
      "7000/7000 [==============================] - 1s 115us/sample - loss: 0.5134 - acc: 0.7954 - val_loss: 0.5024 - val_acc: 0.7983\n",
      "Epoch 5/200\n",
      "7000/7000 [==============================] - 1s 114us/sample - loss: 0.5108 - acc: 0.7954 - val_loss: 0.5040 - val_acc: 0.7983\n",
      "Epoch 6/200\n",
      "7000/7000 [==============================] - 1s 125us/sample - loss: 0.5111 - acc: 0.7954 - val_loss: 0.5061 - val_acc: 0.7983\n",
      "Epoch 7/200\n",
      "7000/7000 [==============================] - 1s 115us/sample - loss: 0.5091 - acc: 0.7954 - val_loss: 0.5019 - val_acc: 0.7983\n",
      "Epoch 8/200\n",
      "7000/7000 [==============================] - 1s 115us/sample - loss: 0.5081 - acc: 0.7954 - val_loss: 0.5058 - val_acc: 0.7983\n",
      "Epoch 9/200\n",
      "7000/7000 [==============================] - 1s 117us/sample - loss: 0.5072 - acc: 0.7954 - val_loss: 0.5014 - val_acc: 0.7983\n",
      "Epoch 10/200\n",
      "7000/7000 [==============================] - 1s 113us/sample - loss: 0.5064 - acc: 0.7954 - val_loss: 0.5000 - val_acc: 0.7983\n",
      "Epoch 11/200\n",
      "7000/7000 [==============================] - 1s 117us/sample - loss: 0.5044 - acc: 0.7954 - val_loss: 0.4960 - val_acc: 0.7983\n",
      "Epoch 12/200\n",
      "7000/7000 [==============================] - 1s 115us/sample - loss: 0.4986 - acc: 0.7954 - val_loss: 0.4917 - val_acc: 0.7983\n",
      "Epoch 13/200\n",
      "7000/7000 [==============================] - 1s 116us/sample - loss: 0.4697 - acc: 0.7957 - val_loss: 0.4378 - val_acc: 0.8120\n",
      "Epoch 14/200\n",
      "7000/7000 [==============================] - 1s 113us/sample - loss: 0.4374 - acc: 0.8032 - val_loss: 0.4158 - val_acc: 0.8227\n",
      "Epoch 15/200\n",
      "7000/7000 [==============================] - 1s 119us/sample - loss: 0.4327 - acc: 0.8098 - val_loss: 0.4111 - val_acc: 0.8245\n",
      "Epoch 16/200\n",
      "7000/7000 [==============================] - 1s 116us/sample - loss: 0.4326 - acc: 0.8113 - val_loss: 0.4123 - val_acc: 0.8190\n",
      "Epoch 17/200\n",
      "7000/7000 [==============================] - 1s 116us/sample - loss: 0.4311 - acc: 0.8095 - val_loss: 0.4129 - val_acc: 0.8192\n",
      "Epoch 18/200\n",
      "7000/7000 [==============================] - 1s 114us/sample - loss: 0.4283 - acc: 0.8138 - val_loss: 0.4079 - val_acc: 0.8190\n",
      "Epoch 19/200\n",
      "7000/7000 [==============================] - 1s 115us/sample - loss: 0.4204 - acc: 0.8081 - val_loss: 0.3877 - val_acc: 0.8298\n",
      "Epoch 20/200\n",
      "7000/7000 [==============================] - 1s 116us/sample - loss: 0.4066 - acc: 0.8178 - val_loss: 0.3628 - val_acc: 0.8460\n",
      "Epoch 21/200\n",
      "7000/7000 [==============================] - 1s 117us/sample - loss: 0.3966 - acc: 0.8245 - val_loss: 0.3563 - val_acc: 0.8482\n",
      "Epoch 22/200\n",
      "7000/7000 [==============================] - 1s 115us/sample - loss: 0.3938 - acc: 0.8322 - val_loss: 0.3633 - val_acc: 0.8522\n",
      "Epoch 23/200\n",
      "7000/7000 [==============================] - 1s 114us/sample - loss: 0.3917 - acc: 0.8304 - val_loss: 0.3534 - val_acc: 0.8578\n",
      "Epoch 24/200\n",
      "7000/7000 [==============================] - 1s 113us/sample - loss: 0.3869 - acc: 0.8348 - val_loss: 0.3999 - val_acc: 0.8373\n",
      "Epoch 25/200\n",
      "7000/7000 [==============================] - 1s 114us/sample - loss: 0.3774 - acc: 0.8379 - val_loss: 0.3477 - val_acc: 0.8573\n",
      "Epoch 26/200\n",
      "7000/7000 [==============================] - 1s 116us/sample - loss: 0.3790 - acc: 0.8390 - val_loss: 0.3435 - val_acc: 0.8613\n",
      "Epoch 27/200\n",
      "7000/7000 [==============================] - 1s 117us/sample - loss: 0.3791 - acc: 0.8424 - val_loss: 0.3413 - val_acc: 0.8595\n",
      "Epoch 28/200\n",
      "7000/7000 [==============================] - 1s 122us/sample - loss: 0.3707 - acc: 0.8427 - val_loss: 0.3540 - val_acc: 0.8497\n",
      "Epoch 29/200\n",
      "7000/7000 [==============================] - 1s 115us/sample - loss: 0.3798 - acc: 0.8340 - val_loss: 0.3400 - val_acc: 0.8630\n",
      "Epoch 30/200\n",
      "7000/7000 [==============================] - 1s 115us/sample - loss: 0.3737 - acc: 0.8413 - val_loss: 0.3448 - val_acc: 0.8580\n",
      "Epoch 31/200\n",
      "7000/7000 [==============================] - 1s 117us/sample - loss: 0.3739 - acc: 0.8426 - val_loss: 0.3424 - val_acc: 0.8570\n",
      "Epoch 32/200\n",
      "7000/7000 [==============================] - 1s 117us/sample - loss: 0.3735 - acc: 0.8384 - val_loss: 0.3433 - val_acc: 0.8630\n",
      "Epoch 33/200\n",
      "7000/7000 [==============================] - 1s 115us/sample - loss: 0.3714 - acc: 0.8423 - val_loss: 0.3427 - val_acc: 0.8552\n",
      "Epoch 34/200\n",
      "7000/7000 [==============================] - 1s 113us/sample - loss: 0.3704 - acc: 0.8424 - val_loss: 0.3489 - val_acc: 0.8492\n",
      "Epoch 35/200\n",
      "7000/7000 [==============================] - 1s 116us/sample - loss: 0.3707 - acc: 0.8446 - val_loss: 0.3542 - val_acc: 0.8517\n",
      "Epoch 36/200\n",
      "7000/7000 [==============================] - 1s 116us/sample - loss: 0.3687 - acc: 0.8447 - val_loss: 0.3483 - val_acc: 0.8555\n",
      "Epoch 37/200\n",
      "7000/7000 [==============================] - 1s 118us/sample - loss: 0.3696 - acc: 0.8426 - val_loss: 0.3415 - val_acc: 0.8583\n",
      "Epoch 38/200\n",
      "7000/7000 [==============================] - 1s 118us/sample - loss: 0.3690 - acc: 0.8405 - val_loss: 0.3437 - val_acc: 0.8557\n",
      "Epoch 39/200\n",
      "7000/7000 [==============================] - 1s 116us/sample - loss: 0.3703 - acc: 0.8403 - val_loss: 0.3415 - val_acc: 0.8612\n",
      "Epoch 40/200\n",
      "7000/7000 [==============================] - 1s 118us/sample - loss: 0.3660 - acc: 0.8451 - val_loss: 0.3409 - val_acc: 0.8557\n",
      "Epoch 41/200\n",
      "7000/7000 [==============================] - 1s 120us/sample - loss: 0.3657 - acc: 0.8455 - val_loss: 0.3367 - val_acc: 0.8608\n",
      "Epoch 42/200\n",
      "7000/7000 [==============================] - 1s 118us/sample - loss: 0.3677 - acc: 0.8436 - val_loss: 0.3365 - val_acc: 0.8623\n",
      "Epoch 43/200\n",
      "7000/7000 [==============================] - 1s 116us/sample - loss: 0.3652 - acc: 0.8436 - val_loss: 0.3387 - val_acc: 0.8607\n",
      "Epoch 44/200\n",
      "7000/7000 [==============================] - 1s 115us/sample - loss: 0.3667 - acc: 0.8422 - val_loss: 0.3376 - val_acc: 0.8590\n",
      "Epoch 45/200\n",
      "7000/7000 [==============================] - 1s 116us/sample - loss: 0.3639 - acc: 0.8469 - val_loss: 0.3412 - val_acc: 0.8623\n",
      "Epoch 46/200\n",
      "7000/7000 [==============================] - 1s 115us/sample - loss: 0.3622 - acc: 0.8470 - val_loss: 0.3371 - val_acc: 0.8608\n",
      "Epoch 47/200\n",
      "7000/7000 [==============================] - 1s 116us/sample - loss: 0.3629 - acc: 0.8429 - val_loss: 0.3411 - val_acc: 0.8587\n",
      "Epoch 48/200\n",
      "7000/7000 [==============================] - 1s 115us/sample - loss: 0.3615 - acc: 0.8469 - val_loss: 0.3401 - val_acc: 0.8603\n",
      "Epoch 49/200\n",
      "7000/7000 [==============================] - 1s 114us/sample - loss: 0.3611 - acc: 0.8469 - val_loss: 0.3354 - val_acc: 0.8597\n",
      "Epoch 50/200\n",
      "7000/7000 [==============================] - 1s 117us/sample - loss: 0.3629 - acc: 0.8461 - val_loss: 0.3420 - val_acc: 0.8597\n",
      "Epoch 51/200\n",
      "7000/7000 [==============================] - 1s 115us/sample - loss: 0.3585 - acc: 0.8484 - val_loss: 0.3427 - val_acc: 0.8573\n",
      "Epoch 52/200\n",
      "7000/7000 [==============================] - 1s 115us/sample - loss: 0.3638 - acc: 0.8426 - val_loss: 0.3371 - val_acc: 0.8612\n",
      "Epoch 53/200\n",
      "7000/7000 [==============================] - 1s 111us/sample - loss: 0.3603 - acc: 0.8491 - val_loss: 0.3361 - val_acc: 0.8613\n",
      "Epoch 54/200\n",
      "7000/7000 [==============================] - 1s 118us/sample - loss: 0.3599 - acc: 0.8495 - val_loss: 0.3372 - val_acc: 0.8610\n",
      "Epoch 55/200\n",
      "7000/7000 [==============================] - 1s 113us/sample - loss: 0.3587 - acc: 0.8474 - val_loss: 0.3384 - val_acc: 0.8605\n",
      "Epoch 56/200\n",
      "7000/7000 [==============================] - 1s 115us/sample - loss: 0.3597 - acc: 0.8446 - val_loss: 0.3363 - val_acc: 0.8617\n",
      "Epoch 57/200\n",
      "7000/7000 [==============================] - 1s 117us/sample - loss: 0.3619 - acc: 0.8475 - val_loss: 0.3355 - val_acc: 0.8607\n",
      "Epoch 58/200\n",
      "7000/7000 [==============================] - 1s 115us/sample - loss: 0.3610 - acc: 0.8479 - val_loss: 0.3356 - val_acc: 0.8622\n",
      "Epoch 59/200\n",
      "7000/7000 [==============================] - 1s 117us/sample - loss: 0.3586 - acc: 0.8458 - val_loss: 0.3347 - val_acc: 0.8585\n",
      "Epoch 60/200\n",
      "7000/7000 [==============================] - 1s 115us/sample - loss: 0.3600 - acc: 0.8494 - val_loss: 0.3359 - val_acc: 0.8608\n",
      "Epoch 61/200\n",
      "7000/7000 [==============================] - 1s 116us/sample - loss: 0.3606 - acc: 0.8431 - val_loss: 0.3362 - val_acc: 0.8643\n",
      "Epoch 62/200\n",
      "7000/7000 [==============================] - 1s 117us/sample - loss: 0.3605 - acc: 0.8487 - val_loss: 0.3374 - val_acc: 0.8598\n",
      "Epoch 63/200\n",
      "7000/7000 [==============================] - 1s 117us/sample - loss: 0.3553 - acc: 0.8526 - val_loss: 0.3376 - val_acc: 0.8565\n",
      "Epoch 64/200\n",
      "7000/7000 [==============================] - 1s 117us/sample - loss: 0.3580 - acc: 0.8474 - val_loss: 0.3388 - val_acc: 0.8565\n",
      "Epoch 65/200\n",
      "7000/7000 [==============================] - 1s 119us/sample - loss: 0.3591 - acc: 0.8467 - val_loss: 0.3344 - val_acc: 0.8600\n",
      "Epoch 66/200\n",
      "7000/7000 [==============================] - 1s 112us/sample - loss: 0.3551 - acc: 0.8506 - val_loss: 0.3555 - val_acc: 0.8538\n",
      "Epoch 67/200\n",
      "7000/7000 [==============================] - 1s 114us/sample - loss: 0.3558 - acc: 0.8457 - val_loss: 0.3349 - val_acc: 0.8613\n",
      "Epoch 68/200\n",
      "7000/7000 [==============================] - 1s 115us/sample - loss: 0.3596 - acc: 0.8489 - val_loss: 0.3452 - val_acc: 0.8600\n",
      "Epoch 69/200\n",
      "7000/7000 [==============================] - 1s 116us/sample - loss: 0.3543 - acc: 0.8479 - val_loss: 0.3441 - val_acc: 0.8523\n",
      "Epoch 70/200\n",
      "7000/7000 [==============================] - 1s 113us/sample - loss: 0.3593 - acc: 0.8490 - val_loss: 0.3387 - val_acc: 0.8620\n",
      "Epoch 71/200\n",
      "7000/7000 [==============================] - 1s 117us/sample - loss: 0.3541 - acc: 0.8496 - val_loss: 0.3473 - val_acc: 0.8568\n",
      "Epoch 72/200\n",
      "7000/7000 [==============================] - 1s 115us/sample - loss: 0.3606 - acc: 0.8471 - val_loss: 0.3345 - val_acc: 0.8602\n",
      "Epoch 73/200\n",
      "7000/7000 [==============================] - 1s 114us/sample - loss: 0.3555 - acc: 0.8479 - val_loss: 0.3375 - val_acc: 0.8605\n",
      "Epoch 74/200\n",
      "7000/7000 [==============================] - 1s 116us/sample - loss: 0.3557 - acc: 0.8478 - val_loss: 0.3381 - val_acc: 0.8553\n",
      "Epoch 75/200\n",
      "7000/7000 [==============================] - 1s 113us/sample - loss: 0.3515 - acc: 0.8481 - val_loss: 0.3378 - val_acc: 0.8558\n",
      "Epoch 76/200\n",
      "7000/7000 [==============================] - 1s 115us/sample - loss: 0.3560 - acc: 0.8514 - val_loss: 0.3462 - val_acc: 0.8565\n",
      "Epoch 77/200\n",
      "7000/7000 [==============================] - 1s 116us/sample - loss: 0.3561 - acc: 0.8486 - val_loss: 0.3352 - val_acc: 0.8628\n",
      "Epoch 78/200\n",
      "7000/7000 [==============================] - 1s 118us/sample - loss: 0.3550 - acc: 0.8502 - val_loss: 0.3383 - val_acc: 0.8543\n",
      "Epoch 79/200\n",
      "7000/7000 [==============================] - 1s 121us/sample - loss: 0.3574 - acc: 0.8509 - val_loss: 0.3371 - val_acc: 0.8613\n",
      "Epoch 80/200\n",
      "7000/7000 [==============================] - 1s 121us/sample - loss: 0.3534 - acc: 0.8489 - val_loss: 0.3408 - val_acc: 0.8528\n",
      "Epoch 81/200\n",
      "7000/7000 [==============================] - 1s 122us/sample - loss: 0.3527 - acc: 0.8505 - val_loss: 0.3417 - val_acc: 0.8597\n",
      "Epoch 82/200\n",
      "7000/7000 [==============================] - 1s 119us/sample - loss: 0.3545 - acc: 0.8485 - val_loss: 0.3388 - val_acc: 0.8562\n",
      "Epoch 83/200\n",
      "7000/7000 [==============================] - 1s 118us/sample - loss: 0.3556 - acc: 0.8477 - val_loss: 0.3440 - val_acc: 0.8610\n",
      "Epoch 84/200\n",
      "7000/7000 [==============================] - 1s 122us/sample - loss: 0.3542 - acc: 0.8529 - val_loss: 0.3364 - val_acc: 0.8598\n",
      "Epoch 85/200\n",
      "7000/7000 [==============================] - 1s 120us/sample - loss: 0.3522 - acc: 0.8519 - val_loss: 0.3363 - val_acc: 0.8597\n",
      "Epoch 86/200\n",
      "7000/7000 [==============================] - 1s 118us/sample - loss: 0.3552 - acc: 0.8476 - val_loss: 0.3454 - val_acc: 0.8500\n",
      "Epoch 87/200\n",
      "7000/7000 [==============================] - 1s 118us/sample - loss: 0.3516 - acc: 0.8522 - val_loss: 0.3379 - val_acc: 0.8583\n",
      "Epoch 88/200\n",
      "7000/7000 [==============================] - 1s 120us/sample - loss: 0.3530 - acc: 0.8494 - val_loss: 0.3387 - val_acc: 0.8625\n",
      "Epoch 89/200\n",
      "7000/7000 [==============================] - 1s 115us/sample - loss: 0.3545 - acc: 0.8484 - val_loss: 0.3389 - val_acc: 0.8562\n",
      "Epoch 90/200\n",
      "7000/7000 [==============================] - 1s 113us/sample - loss: 0.3528 - acc: 0.8492 - val_loss: 0.3443 - val_acc: 0.8612\n",
      "Epoch 91/200\n",
      "7000/7000 [==============================] - 1s 116us/sample - loss: 0.3536 - acc: 0.8481 - val_loss: 0.3378 - val_acc: 0.8597\n",
      "Epoch 92/200\n",
      "7000/7000 [==============================] - 1s 117us/sample - loss: 0.3532 - acc: 0.8499 - val_loss: 0.3388 - val_acc: 0.8605\n",
      "Epoch 93/200\n",
      "7000/7000 [==============================] - 1s 114us/sample - loss: 0.3500 - acc: 0.8512 - val_loss: 0.3403 - val_acc: 0.8593\n",
      "Epoch 94/200\n",
      "7000/7000 [==============================] - 1s 116us/sample - loss: 0.3518 - acc: 0.8485 - val_loss: 0.3383 - val_acc: 0.8560\n",
      "Epoch 95/200\n",
      "7000/7000 [==============================] - 1s 115us/sample - loss: 0.3533 - acc: 0.8506 - val_loss: 0.3360 - val_acc: 0.8600\n",
      "Epoch 96/200\n",
      "7000/7000 [==============================] - 1s 117us/sample - loss: 0.3552 - acc: 0.8479 - val_loss: 0.3360 - val_acc: 0.8597\n",
      "Epoch 97/200\n",
      "7000/7000 [==============================] - 1s 116us/sample - loss: 0.3538 - acc: 0.8521 - val_loss: 0.3423 - val_acc: 0.8558\n",
      "Epoch 98/200\n",
      "7000/7000 [==============================] - 1s 112us/sample - loss: 0.3551 - acc: 0.8473 - val_loss: 0.3394 - val_acc: 0.8572\n",
      "Epoch 99/200\n",
      "7000/7000 [==============================] - 1s 117us/sample - loss: 0.3514 - acc: 0.8507 - val_loss: 0.3377 - val_acc: 0.8592\n",
      "Epoch 100/200\n",
      "7000/7000 [==============================] - 1s 115us/sample - loss: 0.3503 - acc: 0.8564 - val_loss: 0.3442 - val_acc: 0.8587\n",
      "Epoch 101/200\n",
      "7000/7000 [==============================] - 1s 118us/sample - loss: 0.3505 - acc: 0.8505 - val_loss: 0.3346 - val_acc: 0.8583\n",
      "Epoch 102/200\n",
      "7000/7000 [==============================] - 1s 117us/sample - loss: 0.3486 - acc: 0.8535 - val_loss: 0.3400 - val_acc: 0.8593\n",
      "Epoch 103/200\n",
      "7000/7000 [==============================] - 1s 114us/sample - loss: 0.3504 - acc: 0.8517 - val_loss: 0.3364 - val_acc: 0.8567\n",
      "Epoch 104/200\n",
      "7000/7000 [==============================] - 1s 113us/sample - loss: 0.3515 - acc: 0.8530 - val_loss: 0.3457 - val_acc: 0.8560\n",
      "Epoch 105/200\n",
      "7000/7000 [==============================] - 1s 116us/sample - loss: 0.3488 - acc: 0.8529 - val_loss: 0.3388 - val_acc: 0.8593\n",
      "Epoch 106/200\n",
      "7000/7000 [==============================] - 1s 119us/sample - loss: 0.3514 - acc: 0.8526 - val_loss: 0.3484 - val_acc: 0.8625\n",
      "Epoch 107/200\n",
      "7000/7000 [==============================] - 1s 121us/sample - loss: 0.3516 - acc: 0.8518 - val_loss: 0.3453 - val_acc: 0.8513\n",
      "Epoch 108/200\n",
      "7000/7000 [==============================] - 1s 113us/sample - loss: 0.3493 - acc: 0.8532 - val_loss: 0.3398 - val_acc: 0.8568\n",
      "Epoch 109/200\n",
      "7000/7000 [==============================] - 1s 113us/sample - loss: 0.3510 - acc: 0.8510 - val_loss: 0.3368 - val_acc: 0.8582\n",
      "Epoch 110/200\n",
      "7000/7000 [==============================] - 1s 118us/sample - loss: 0.3513 - acc: 0.8513 - val_loss: 0.3370 - val_acc: 0.8572\n",
      "Epoch 111/200\n",
      "7000/7000 [==============================] - 1s 117us/sample - loss: 0.3504 - acc: 0.8519 - val_loss: 0.3377 - val_acc: 0.8567\n",
      "Epoch 112/200\n",
      "7000/7000 [==============================] - 1s 114us/sample - loss: 0.3495 - acc: 0.8505 - val_loss: 0.3420 - val_acc: 0.8587\n",
      "Epoch 113/200\n",
      "7000/7000 [==============================] - 1s 113us/sample - loss: 0.3483 - acc: 0.8498 - val_loss: 0.3507 - val_acc: 0.8580\n",
      "Epoch 114/200\n",
      "7000/7000 [==============================] - 1s 115us/sample - loss: 0.3491 - acc: 0.8530 - val_loss: 0.3405 - val_acc: 0.8597\n",
      "Epoch 115/200\n",
      "7000/7000 [==============================] - 1s 114us/sample - loss: 0.3534 - acc: 0.8516 - val_loss: 0.3432 - val_acc: 0.8540\n",
      "Epoch 116/200\n",
      "7000/7000 [==============================] - 1s 118us/sample - loss: 0.3484 - acc: 0.8503 - val_loss: 0.3472 - val_acc: 0.8567\n",
      "Epoch 117/200\n",
      "7000/7000 [==============================] - 1s 116us/sample - loss: 0.3500 - acc: 0.8489 - val_loss: 0.3479 - val_acc: 0.8553\n",
      "Epoch 118/200\n",
      "7000/7000 [==============================] - 1s 114us/sample - loss: 0.3518 - acc: 0.8507 - val_loss: 0.3428 - val_acc: 0.8607\n",
      "Epoch 119/200\n",
      "7000/7000 [==============================] - 1s 115us/sample - loss: 0.3511 - acc: 0.8524 - val_loss: 0.3374 - val_acc: 0.8533\n",
      "Epoch 120/200\n",
      "7000/7000 [==============================] - 1s 119us/sample - loss: 0.3495 - acc: 0.8514 - val_loss: 0.3375 - val_acc: 0.8558\n",
      "Epoch 121/200\n",
      "7000/7000 [==============================] - 1s 114us/sample - loss: 0.3499 - acc: 0.8554 - val_loss: 0.3464 - val_acc: 0.8583\n",
      "Epoch 122/200\n",
      "7000/7000 [==============================] - 1s 112us/sample - loss: 0.3505 - acc: 0.8496 - val_loss: 0.3402 - val_acc: 0.8570\n",
      "Epoch 123/200\n",
      "7000/7000 [==============================] - 1s 111us/sample - loss: 0.3475 - acc: 0.8544 - val_loss: 0.3377 - val_acc: 0.8558\n",
      "Epoch 124/200\n",
      "7000/7000 [==============================] - 1s 114us/sample - loss: 0.3476 - acc: 0.8534 - val_loss: 0.3393 - val_acc: 0.8557\n",
      "Epoch 125/200\n",
      "7000/7000 [==============================] - 1s 115us/sample - loss: 0.3494 - acc: 0.8540 - val_loss: 0.3410 - val_acc: 0.8550\n",
      "Epoch 126/200\n",
      "7000/7000 [==============================] - 1s 115us/sample - loss: 0.3528 - acc: 0.8497 - val_loss: 0.3398 - val_acc: 0.8550\n",
      "Epoch 127/200\n",
      "7000/7000 [==============================] - 1s 115us/sample - loss: 0.3525 - acc: 0.8526 - val_loss: 0.3364 - val_acc: 0.8570\n",
      "Epoch 128/200\n",
      "7000/7000 [==============================] - 1s 115us/sample - loss: 0.3482 - acc: 0.8532 - val_loss: 0.3360 - val_acc: 0.8583\n",
      "Epoch 129/200\n",
      "7000/7000 [==============================] - 1s 116us/sample - loss: 0.3495 - acc: 0.8505 - val_loss: 0.3389 - val_acc: 0.8548\n",
      "Epoch 130/200\n",
      "7000/7000 [==============================] - 1s 113us/sample - loss: 0.3495 - acc: 0.8520 - val_loss: 0.3377 - val_acc: 0.8580\n",
      "Epoch 131/200\n",
      "7000/7000 [==============================] - 1s 115us/sample - loss: 0.3507 - acc: 0.8533 - val_loss: 0.3518 - val_acc: 0.8590\n",
      "Epoch 132/200\n",
      "7000/7000 [==============================] - 1s 114us/sample - loss: 0.3507 - acc: 0.8489 - val_loss: 0.3383 - val_acc: 0.8583\n",
      "Epoch 133/200\n",
      "7000/7000 [==============================] - 1s 116us/sample - loss: 0.3490 - acc: 0.8546 - val_loss: 0.3396 - val_acc: 0.8578\n",
      "Epoch 134/200\n",
      "7000/7000 [==============================] - 1s 117us/sample - loss: 0.3492 - acc: 0.8536 - val_loss: 0.3371 - val_acc: 0.8563\n",
      "Epoch 135/200\n",
      "7000/7000 [==============================] - 1s 113us/sample - loss: 0.3495 - acc: 0.8510 - val_loss: 0.3366 - val_acc: 0.8563\n",
      "Epoch 136/200\n",
      "7000/7000 [==============================] - 1s 117us/sample - loss: 0.3483 - acc: 0.8499 - val_loss: 0.3374 - val_acc: 0.8563\n",
      "Epoch 137/200\n",
      "7000/7000 [==============================] - 1s 119us/sample - loss: 0.3503 - acc: 0.8487 - val_loss: 0.3366 - val_acc: 0.8578\n",
      "Epoch 138/200\n",
      "7000/7000 [==============================] - 1s 120us/sample - loss: 0.3473 - acc: 0.8529 - val_loss: 0.3423 - val_acc: 0.8513\n",
      "Epoch 139/200\n",
      "7000/7000 [==============================] - 1s 122us/sample - loss: 0.3470 - acc: 0.8521 - val_loss: 0.3381 - val_acc: 0.8587\n",
      "Epoch 140/200\n",
      "7000/7000 [==============================] - 1s 121us/sample - loss: 0.3525 - acc: 0.8504 - val_loss: 0.3388 - val_acc: 0.8560\n",
      "Epoch 141/200\n",
      "7000/7000 [==============================] - 1s 118us/sample - loss: 0.3509 - acc: 0.8514 - val_loss: 0.3396 - val_acc: 0.8565\n",
      "Epoch 142/200\n",
      "7000/7000 [==============================] - 1s 116us/sample - loss: 0.3490 - acc: 0.8529 - val_loss: 0.3425 - val_acc: 0.8495\n",
      "Epoch 143/200\n",
      "7000/7000 [==============================] - 1s 113us/sample - loss: 0.3518 - acc: 0.8521 - val_loss: 0.3397 - val_acc: 0.8577\n",
      "Epoch 144/200\n",
      "7000/7000 [==============================] - 1s 114us/sample - loss: 0.3501 - acc: 0.8491 - val_loss: 0.3409 - val_acc: 0.8593\n",
      "Epoch 145/200\n",
      "7000/7000 [==============================] - 1s 114us/sample - loss: 0.3523 - acc: 0.8526 - val_loss: 0.3397 - val_acc: 0.8563\n",
      "Epoch 146/200\n",
      "7000/7000 [==============================] - 1s 113us/sample - loss: 0.3470 - acc: 0.8519 - val_loss: 0.3403 - val_acc: 0.8557\n",
      "Epoch 147/200\n",
      "7000/7000 [==============================] - 1s 112us/sample - loss: 0.3488 - acc: 0.8544 - val_loss: 0.3429 - val_acc: 0.8573\n",
      "Epoch 148/200\n",
      "7000/7000 [==============================] - 1s 114us/sample - loss: 0.3477 - acc: 0.8535 - val_loss: 0.3386 - val_acc: 0.8573\n",
      "Epoch 149/200\n",
      "7000/7000 [==============================] - 1s 115us/sample - loss: 0.3470 - acc: 0.8538 - val_loss: 0.3418 - val_acc: 0.8580\n",
      "Epoch 150/200\n",
      "7000/7000 [==============================] - 1s 113us/sample - loss: 0.3510 - acc: 0.8506 - val_loss: 0.3384 - val_acc: 0.8550\n",
      "Epoch 151/200\n",
      "7000/7000 [==============================] - 1s 112us/sample - loss: 0.3490 - acc: 0.8544 - val_loss: 0.3383 - val_acc: 0.8563\n",
      "Epoch 152/200\n",
      "7000/7000 [==============================] - 1s 114us/sample - loss: 0.3521 - acc: 0.8500 - val_loss: 0.3371 - val_acc: 0.8573\n",
      "Epoch 153/200\n",
      "7000/7000 [==============================] - 1s 115us/sample - loss: 0.3438 - acc: 0.8549 - val_loss: 0.3521 - val_acc: 0.8523\n",
      "Epoch 154/200\n",
      "7000/7000 [==============================] - 1s 114us/sample - loss: 0.3463 - acc: 0.8514 - val_loss: 0.3366 - val_acc: 0.8557\n",
      "Epoch 155/200\n",
      "7000/7000 [==============================] - 1s 115us/sample - loss: 0.3492 - acc: 0.8518 - val_loss: 0.3414 - val_acc: 0.8560\n",
      "Epoch 156/200\n",
      "7000/7000 [==============================] - 1s 112us/sample - loss: 0.3453 - acc: 0.8533 - val_loss: 0.3362 - val_acc: 0.8563\n",
      "Epoch 157/200\n",
      "7000/7000 [==============================] - 1s 113us/sample - loss: 0.3491 - acc: 0.8506 - val_loss: 0.3392 - val_acc: 0.8553\n",
      "Epoch 158/200\n",
      "7000/7000 [==============================] - 1s 110us/sample - loss: 0.3496 - acc: 0.8505 - val_loss: 0.3405 - val_acc: 0.8590\n",
      "Epoch 159/200\n",
      "7000/7000 [==============================] - 1s 115us/sample - loss: 0.3459 - acc: 0.8533 - val_loss: 0.3369 - val_acc: 0.8557\n",
      "Epoch 160/200\n",
      "7000/7000 [==============================] - 1s 118us/sample - loss: 0.3484 - acc: 0.8521 - val_loss: 0.3386 - val_acc: 0.8567\n",
      "Epoch 161/200\n",
      "7000/7000 [==============================] - 1s 114us/sample - loss: 0.3502 - acc: 0.8528 - val_loss: 0.3405 - val_acc: 0.8550\n",
      "Epoch 162/200\n",
      "7000/7000 [==============================] - 1s 115us/sample - loss: 0.3484 - acc: 0.8526 - val_loss: 0.3373 - val_acc: 0.8558\n",
      "Epoch 163/200\n",
      "7000/7000 [==============================] - 1s 114us/sample - loss: 0.3511 - acc: 0.8493 - val_loss: 0.3380 - val_acc: 0.8578\n",
      "Epoch 164/200\n",
      "7000/7000 [==============================] - 1s 116us/sample - loss: 0.3474 - acc: 0.8534 - val_loss: 0.3396 - val_acc: 0.8555\n",
      "Epoch 165/200\n",
      "7000/7000 [==============================] - 1s 113us/sample - loss: 0.3500 - acc: 0.8486 - val_loss: 0.3371 - val_acc: 0.8565\n",
      "Epoch 166/200\n",
      "7000/7000 [==============================] - 1s 115us/sample - loss: 0.3470 - acc: 0.8537 - val_loss: 0.3417 - val_acc: 0.8517\n",
      "Epoch 167/200\n",
      "7000/7000 [==============================] - 1s 115us/sample - loss: 0.3490 - acc: 0.8541 - val_loss: 0.3370 - val_acc: 0.8572\n",
      "Epoch 168/200\n",
      "7000/7000 [==============================] - 1s 115us/sample - loss: 0.3472 - acc: 0.8517 - val_loss: 0.3627 - val_acc: 0.8535\n",
      "Epoch 169/200\n",
      "7000/7000 [==============================] - 1s 115us/sample - loss: 0.3479 - acc: 0.8520 - val_loss: 0.3391 - val_acc: 0.8572\n",
      "Epoch 170/200\n",
      "7000/7000 [==============================] - 1s 113us/sample - loss: 0.3460 - acc: 0.8514 - val_loss: 0.3387 - val_acc: 0.8572\n",
      "Epoch 171/200\n",
      "7000/7000 [==============================] - 1s 116us/sample - loss: 0.3469 - acc: 0.8539 - val_loss: 0.3395 - val_acc: 0.8537\n",
      "Epoch 172/200\n",
      "7000/7000 [==============================] - 1s 116us/sample - loss: 0.3443 - acc: 0.8551 - val_loss: 0.3373 - val_acc: 0.8540\n",
      "Epoch 173/200\n",
      "7000/7000 [==============================] - 1s 115us/sample - loss: 0.3472 - acc: 0.8504 - val_loss: 0.3378 - val_acc: 0.8570\n",
      "Epoch 174/200\n",
      "7000/7000 [==============================] - 1s 117us/sample - loss: 0.3500 - acc: 0.8528 - val_loss: 0.3365 - val_acc: 0.8562\n",
      "Epoch 175/200\n",
      "7000/7000 [==============================] - 1s 115us/sample - loss: 0.3471 - acc: 0.8521 - val_loss: 0.3405 - val_acc: 0.8577\n",
      "Epoch 176/200\n",
      "7000/7000 [==============================] - 1s 114us/sample - loss: 0.3438 - acc: 0.8543 - val_loss: 0.3368 - val_acc: 0.8555\n",
      "Epoch 177/200\n",
      "7000/7000 [==============================] - 1s 115us/sample - loss: 0.3472 - acc: 0.8516 - val_loss: 0.3370 - val_acc: 0.8570\n",
      "Epoch 178/200\n",
      "7000/7000 [==============================] - 1s 113us/sample - loss: 0.3441 - acc: 0.8551 - val_loss: 0.3360 - val_acc: 0.8597\n",
      "Epoch 179/200\n",
      "7000/7000 [==============================] - 1s 113us/sample - loss: 0.3497 - acc: 0.8503 - val_loss: 0.3434 - val_acc: 0.8583\n",
      "Epoch 180/200\n",
      "7000/7000 [==============================] - 1s 113us/sample - loss: 0.3467 - acc: 0.8523 - val_loss: 0.3368 - val_acc: 0.8565\n",
      "Epoch 181/200\n",
      "7000/7000 [==============================] - 1s 112us/sample - loss: 0.3473 - acc: 0.8535 - val_loss: 0.3381 - val_acc: 0.8553\n",
      "Epoch 182/200\n",
      "7000/7000 [==============================] - 1s 117us/sample - loss: 0.3459 - acc: 0.8516 - val_loss: 0.3408 - val_acc: 0.8593\n",
      "Epoch 183/200\n",
      "7000/7000 [==============================] - 1s 117us/sample - loss: 0.3484 - acc: 0.8512 - val_loss: 0.3403 - val_acc: 0.8540\n",
      "Epoch 184/200\n",
      "7000/7000 [==============================] - 1s 114us/sample - loss: 0.3463 - acc: 0.8523 - val_loss: 0.3380 - val_acc: 0.8578\n",
      "Epoch 185/200\n",
      "7000/7000 [==============================] - 1s 116us/sample - loss: 0.3443 - acc: 0.8569 - val_loss: 0.3437 - val_acc: 0.8568\n",
      "Epoch 186/200\n",
      "7000/7000 [==============================] - 1s 116us/sample - loss: 0.3461 - acc: 0.8530 - val_loss: 0.3398 - val_acc: 0.8573\n",
      "Epoch 187/200\n",
      "7000/7000 [==============================] - 1s 117us/sample - loss: 0.3442 - acc: 0.8515 - val_loss: 0.3390 - val_acc: 0.8580\n",
      "Epoch 188/200\n",
      "7000/7000 [==============================] - 1s 119us/sample - loss: 0.3460 - acc: 0.8516 - val_loss: 0.3399 - val_acc: 0.8600\n",
      "Epoch 189/200\n",
      "7000/7000 [==============================] - 1s 113us/sample - loss: 0.3479 - acc: 0.8486 - val_loss: 0.3361 - val_acc: 0.8570\n",
      "Epoch 190/200\n",
      "7000/7000 [==============================] - 1s 114us/sample - loss: 0.3474 - acc: 0.8538 - val_loss: 0.3373 - val_acc: 0.8567\n",
      "Epoch 191/200\n",
      "7000/7000 [==============================] - 1s 117us/sample - loss: 0.3454 - acc: 0.8541 - val_loss: 0.3391 - val_acc: 0.8570\n",
      "Epoch 192/200\n",
      "7000/7000 [==============================] - 1s 115us/sample - loss: 0.3465 - acc: 0.8533 - val_loss: 0.3366 - val_acc: 0.8557\n",
      "Epoch 193/200\n",
      "7000/7000 [==============================] - 1s 114us/sample - loss: 0.3478 - acc: 0.8490 - val_loss: 0.3375 - val_acc: 0.8555\n",
      "Epoch 194/200\n",
      "7000/7000 [==============================] - 1s 114us/sample - loss: 0.3497 - acc: 0.8506 - val_loss: 0.3467 - val_acc: 0.8570\n",
      "Epoch 195/200\n",
      "7000/7000 [==============================] - 1s 117us/sample - loss: 0.3469 - acc: 0.8496 - val_loss: 0.3423 - val_acc: 0.8583\n",
      "Epoch 196/200\n",
      "7000/7000 [==============================] - 1s 116us/sample - loss: 0.3470 - acc: 0.8501 - val_loss: 0.3376 - val_acc: 0.8557\n",
      "Epoch 197/200\n",
      "7000/7000 [==============================] - 1s 116us/sample - loss: 0.3453 - acc: 0.8527 - val_loss: 0.3370 - val_acc: 0.8555\n",
      "Epoch 198/200\n",
      "7000/7000 [==============================] - 1s 115us/sample - loss: 0.3439 - acc: 0.8535 - val_loss: 0.3401 - val_acc: 0.8568\n",
      "Epoch 199/200\n",
      "7000/7000 [==============================] - 1s 116us/sample - loss: 0.3493 - acc: 0.8510 - val_loss: 0.3373 - val_acc: 0.8575\n",
      "Epoch 200/200\n",
      "7000/7000 [==============================] - 1s 115us/sample - loss: 0.3483 - acc: 0.8514 - val_loss: 0.3397 - val_acc: 0.8560\n"
     ]
    },
    {
     "data": {
      "text/plain": [
       "<tensorflow.python.keras.callbacks.History at 0x7f7fedfb1748>"
      ]
     },
     "execution_count": 418,
     "metadata": {
      "tags": []
     },
     "output_type": "execute_result"
    }
   ],
   "source": [
    "model1.fit(X_train,np.array(y_train),          \n",
    "          validation_data=(X_test,np.array(y_test)),\n",
    "          epochs=200,\n",
    "          batch_size=35)"
   ]
  },
  {
   "cell_type": "code",
   "execution_count": 0,
   "metadata": {
    "colab": {},
    "colab_type": "code",
    "id": "E34HqvqIwRtr"
   },
   "outputs": [],
   "source": []
  }
 ],
 "metadata": {
  "accelerator": "GPU",
  "colab": {
   "collapsed_sections": [
    "Bq-QNLJXrfd5",
    "gbjPeUIcBGcC",
    "SzhBPf5sGObM"
   ],
   "name": "DeepLearning_R6_Project1_Amaravadi_Praneeth_V2.ipynb",
   "provenance": []
  },
  "kernelspec": {
   "display_name": "Python 3",
   "language": "python",
   "name": "python3"
  },
  "language_info": {
   "codemirror_mode": {
    "name": "ipython",
    "version": 3
   },
   "file_extension": ".py",
   "mimetype": "text/x-python",
   "name": "python",
   "nbconvert_exporter": "python",
   "pygments_lexer": "ipython3",
   "version": "3.7.1"
  }
 },
 "nbformat": 4,
 "nbformat_minor": 1
}
