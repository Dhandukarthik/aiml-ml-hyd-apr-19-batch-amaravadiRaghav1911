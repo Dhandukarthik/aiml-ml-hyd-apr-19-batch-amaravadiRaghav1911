{
  "nbformat": 4,
  "nbformat_minor": 0,
  "metadata": {
    "colab": {
      "name": "R10_Internal_Lab_AmaravadiPraneeth.ipynb",
      "provenance": [],
      "collapsed_sections": []
    },
    "kernelspec": {
      "display_name": "Python 3",
      "language": "python",
      "name": "python3"
    },
    "language_info": {
      "codemirror_mode": {
        "name": "ipython",
        "version": 3
      },
      "file_extension": ".py",
      "mimetype": "text/x-python",
      "name": "python",
      "nbconvert_exporter": "python",
      "pygments_lexer": "ipython3",
      "version": "3.6.5"
    }
  },
  "cells": [
    {
      "cell_type": "markdown",
      "metadata": {
        "colab_type": "text",
        "id": "I-P5m4iA_xe7"
      },
      "source": [
        "# Bounding box detection - Racoon data\n",
        "\n",
        "\n",
        "## Data files\n",
        "- images_racoon.rar: contain images of racoons\n",
        "- train_labels.cv: contains coordinates for bounding box for every image"
      ]
    },
    {
      "cell_type": "markdown",
      "metadata": {
        "colab_type": "text",
        "id": "d8M5gzwKWGiU"
      },
      "source": [
        "### Import the necessary libraries"
      ]
    },
    {
      "cell_type": "code",
      "metadata": {
        "colab_type": "code",
        "id": "VOMKpZJcWGiV",
        "colab": {}
      },
      "source": [
        "import os\n",
        "import numpy as np\n",
        "import pandas as pd"
      ],
      "execution_count": 0,
      "outputs": []
    },
    {
      "cell_type": "code",
      "metadata": {
        "id": "I_7M2JC5da74",
        "colab_type": "code",
        "outputId": "a216198c-0517-4f49-d5e7-e9035e0768dc",
        "colab": {
          "base_uri": "https://localhost:8080/",
          "height": 124
        }
      },
      "source": [
        "from google.colab import drive\n",
        "drive.mount('/content/drive')"
      ],
      "execution_count": 2,
      "outputs": [
        {
          "output_type": "stream",
          "text": [
            "Go to this URL in a browser: https://accounts.google.com/o/oauth2/auth?client_id=947318989803-6bn6qk8qdgf4n4g3pfee6491hc0brc4i.apps.googleusercontent.com&redirect_uri=urn%3aietf%3awg%3aoauth%3a2.0%3aoob&response_type=code&scope=email%20https%3a%2f%2fwww.googleapis.com%2fauth%2fdocs.test%20https%3a%2f%2fwww.googleapis.com%2fauth%2fdrive%20https%3a%2f%2fwww.googleapis.com%2fauth%2fdrive.photos.readonly%20https%3a%2f%2fwww.googleapis.com%2fauth%2fpeopleapi.readonly\n",
            "\n",
            "Enter your authorization code:\n",
            "··········\n",
            "Mounted at /content/drive\n"
          ],
          "name": "stdout"
        }
      ]
    },
    {
      "cell_type": "markdown",
      "metadata": {
        "id": "ox9pJleT5VQZ",
        "colab_type": "text"
      },
      "source": [
        "#### 1. Install TensorFlow Object Detection API\n",
        "- Please make sure you have installed tensorflow or tensorflow-gpu already. \n",
        "- For latest install instructions, check the [github](https://github.com/tensorflow/models/tree/master/research/object_detection) page or [readthedocs](https://tensorflow-object-detection-api-tutorial.readthedocs.io/en/latest/training.html) site for this API."
      ]
    },
    {
      "cell_type": "code",
      "metadata": {
        "id": "iIVuMwtW5LM1",
        "colab_type": "code",
        "outputId": "f14e1ff6-96af-4fe8-8886-8ae9ea0a324d",
        "colab": {
          "base_uri": "https://localhost:8080/",
          "height": 156
        }
      },
      "source": [
        "!git clone https://github.com/tensorflow/models"
      ],
      "execution_count": 3,
      "outputs": [
        {
          "output_type": "stream",
          "text": [
            "Cloning into 'models'...\n",
            "remote: Enumerating objects: 5, done.\u001b[K\n",
            "remote: Counting objects: 100% (5/5), done.\u001b[K\n",
            "remote: Compressing objects: 100% (5/5), done.\u001b[K\n",
            "remote: Total 33720 (delta 0), reused 1 (delta 0), pack-reused 33715\u001b[K\n",
            "Receiving objects: 100% (33720/33720), 511.98 MiB | 32.72 MiB/s, done.\n",
            "Resolving deltas: 100% (21577/21577), done.\n",
            "Checking out files: 100% (3194/3194), done.\n"
          ],
          "name": "stdout"
        }
      ]
    },
    {
      "cell_type": "code",
      "metadata": {
        "id": "UnqFirSI5LXm",
        "colab_type": "code",
        "outputId": "59ce91c5-88e3-456e-d59e-ad9dfbf659ad",
        "colab": {
          "base_uri": "https://localhost:8080/",
          "height": 87
        }
      },
      "source": [
        "#Verify that models folder exist\n",
        "!ls -l"
      ],
      "execution_count": 4,
      "outputs": [
        {
          "output_type": "stream",
          "text": [
            "total 12\n",
            "drwx------ 4 root root 4096 Jan 16 06:10 drive\n",
            "drwxr-xr-x 7 root root 4096 Jan 16 06:11 models\n",
            "drwxr-xr-x 1 root root 4096 Jan 13 16:38 sample_data\n"
          ],
          "name": "stdout"
        }
      ]
    },
    {
      "cell_type": "code",
      "metadata": {
        "id": "MHOBNmih5LiF",
        "colab_type": "code",
        "outputId": "05906889-2f61-4c22-914b-cece52773c46",
        "colab": {
          "base_uri": "https://localhost:8080/",
          "height": 1000
        }
      },
      "source": [
        "#Multiple folders including object_detection should exist in models/research folder\n",
        "!ls -l models/research/"
      ],
      "execution_count": 5,
      "outputs": [
        {
          "output_type": "stream",
          "text": [
            "total 280\n",
            "drwxr-xr-x  2 root root 4096 Jan 16 06:11 a3c_blogpost\n",
            "drwxr-xr-x  2 root root 4096 Jan 16 06:11 adversarial_crypto\n",
            "drwxr-xr-x  4 root root 4096 Jan 16 06:11 adversarial_logit_pairing\n",
            "drwxr-xr-x  3 root root 4096 Jan 16 06:11 adversarial_text\n",
            "drwxr-xr-x  2 root root 4096 Jan 16 06:11 adv_imagenet_models\n",
            "drwxr-xr-x  2 root root 4096 Jan 16 06:11 astronet\n",
            "drwxr-xr-x  3 root root 4096 Jan 16 06:11 attention_ocr\n",
            "drwxr-xr-x  4 root root 4096 Jan 16 06:11 audioset\n",
            "drwxr-xr-x  2 root root 4096 Jan 16 06:11 autoaugment\n",
            "drwxr-xr-x  3 root root 4096 Jan 16 06:11 autoencoder\n",
            "drwxr-xr-x  4 root root 4096 Jan 16 06:11 brain_coder\n",
            "drwxr-xr-x 11 root root 4096 Jan 16 06:11 cognitive_mapping_and_planning\n",
            "drwxr-xr-x  4 root root 4096 Jan 16 06:11 cognitive_planning\n",
            "drwxr-xr-x  4 root root 4096 Jan 16 06:11 compression\n",
            "drwxr-xr-x  7 root root 4096 Jan 16 06:11 cvt_text\n",
            "drwxr-xr-x  3 root root 4096 Jan 16 06:11 deep_contextual_bandits\n",
            "drwxr-xr-x  9 root root 4096 Jan 16 06:11 deeplab\n",
            "drwxr-xr-x  3 root root 4096 Jan 16 06:11 deep_speech\n",
            "drwxr-xr-x  3 root root 4096 Jan 16 06:11 delf\n",
            "drwxr-xr-x  2 root root 4096 Jan 16 06:11 differential_privacy\n",
            "drwxr-xr-x  5 root root 4096 Jan 16 06:11 domain_adaptation\n",
            "drwxr-xr-x  8 root root 4096 Jan 16 06:11 efficient-hrl\n",
            "drwxr-xr-x  5 root root 4096 Jan 16 06:11 feelvos\n",
            "drwxr-xr-x  5 root root 4096 Jan 16 06:11 fivo\n",
            "drwxr-xr-x 12 root root 4096 Jan 16 06:11 gan\n",
            "drwxr-xr-x  2 root root 4096 Jan 16 06:11 global_objectives\n",
            "drwxr-xr-x  5 root root 4096 Jan 16 06:11 im2txt\n",
            "drwxr-xr-x  4 root root 4096 Jan 16 06:11 inception\n",
            "drwxr-xr-x  3 root root 4096 Jan 16 06:11 keypointnet\n",
            "drwxr-xr-x  4 root root 4096 Jan 16 06:11 learned_optimizer\n",
            "drwxr-xr-x  2 root root 4096 Jan 16 06:11 learning_to_remember_rare_events\n",
            "drwxr-xr-x  5 root root 4096 Jan 16 06:11 learning_unsupervised_learning\n",
            "drwxr-xr-x  2 root root 4096 Jan 16 06:11 lexnet_nc\n",
            "drwxr-xr-x  3 root root 4096 Jan 16 06:11 lfads\n",
            "drwxr-xr-x  2 root root 4096 Jan 16 06:11 lm_1b\n",
            "drwxr-xr-x  2 root root 4096 Jan 16 06:11 lm_commonsense\n",
            "drwxr-xr-x 13 root root 4096 Jan 16 06:11 lstm_object_detection\n",
            "drwxr-xr-x  2 root root 4096 Jan 16 06:11 marco\n",
            "drwxr-xr-x  8 root root 4096 Jan 16 06:11 maskgan\n",
            "drwxr-xr-x  7 root root 4096 Jan 16 06:11 morph_net\n",
            "drwxr-xr-x  2 root root 4096 Jan 16 06:11 namignizer\n",
            "drwxr-xr-x  2 root root 4096 Jan 16 06:11 neural_gpu\n",
            "drwxr-xr-x  2 root root 4096 Jan 16 06:11 neural_programmer\n",
            "drwxr-xr-x  4 root root 4096 Jan 16 06:11 next_frame_prediction\n",
            "drwxr-xr-x  2 root root 4096 Jan 16 06:11 nst_blogpost\n",
            "drwxr-xr-x 25 root root 4096 Jan 16 06:11 object_detection\n",
            "drwxr-xr-x  2 root root 4096 Jan 16 06:11 pcl_rl\n",
            "drwxr-xr-x  3 root root 4096 Jan 16 06:11 ptn\n",
            "drwxr-xr-x  5 root root 4096 Jan 16 06:11 qa_kg\n",
            "-rw-r--r--  1 root root 5008 Jan 16 06:11 README.md\n",
            "drwxr-xr-x  2 root root 4096 Jan 16 06:11 real_nvp\n",
            "drwxr-xr-x  2 root root 4096 Jan 16 06:11 rebar\n",
            "drwxr-xr-x  3 root root 4096 Jan 16 06:11 resnet\n",
            "drwxr-xr-x  3 root root 4096 Jan 16 06:11 sentiment_analysis\n",
            "drwxr-xr-x  3 root root 4096 Jan 16 06:11 seq2species\n",
            "-rw-r--r--  1 root root  446 Jan 16 06:11 setup.py\n",
            "drwxr-xr-x  3 root root 4096 Jan 16 06:11 skip_thoughts\n",
            "drwxr-xr-x  7 root root 4096 Jan 16 06:11 slim\n",
            "drwxr-xr-x  3 root root 4096 Jan 16 06:11 steve\n",
            "drwxr-xr-x  6 root root 4096 Jan 16 06:11 street\n",
            "drwxr-xr-x  2 root root 4096 Jan 16 06:11 struct2depth\n",
            "drwxr-xr-x  2 root root 4096 Jan 16 06:11 swivel\n",
            "drwxr-xr-x 11 root root 4096 Jan 16 06:11 syntaxnet\n",
            "drwxr-xr-x  7 root root 4096 Jan 16 06:11 tcn\n",
            "drwxr-xr-x  2 root root 4096 Jan 16 06:11 tensorrt\n",
            "drwxr-xr-x  3 root root 4096 Jan 16 06:11 textsum\n",
            "drwxr-xr-x  3 root root 4096 Jan 16 06:11 transformer\n",
            "drwxr-xr-x  5 root root 4096 Jan 16 06:11 vid2depth\n",
            "drwxr-xr-x  2 root root 4096 Jan 16 06:11 video_prediction\n"
          ],
          "name": "stdout"
        }
      ]
    },
    {
      "cell_type": "code",
      "metadata": {
        "id": "cj2ZfSfr5LqT",
        "colab_type": "code",
        "outputId": "2493eb2a-1ef9-4bbc-c69e-5e7b81be691a",
        "colab": {
          "base_uri": "https://localhost:8080/",
          "height": 676
        }
      },
      "source": [
        "#Install other dependencies including protobuf compiler\n",
        "!apt-get -qq install protobuf-compiler python-pil python-lxml python-tk\n",
        "!pip install --user Cython  --quiet\n",
        "!pip install --user contextlib2 --quiet\n",
        "!pip install --user jupyter --quiet\n",
        "!pip install --user matplotlib --quiet"
      ],
      "execution_count": 6,
      "outputs": [
        {
          "output_type": "stream",
          "text": [
            "Selecting previously unselected package python-bs4.\n",
            "(Reading database ... \r(Reading database ... 5%\r(Reading database ... 10%\r(Reading database ... 15%\r(Reading database ... 20%\r(Reading database ... 25%\r(Reading database ... 30%\r(Reading database ... 35%\r(Reading database ... 40%\r(Reading database ... 45%\r(Reading database ... 50%\r(Reading database ... 55%\r(Reading database ... 60%\r(Reading database ... 65%\r(Reading database ... 70%\r(Reading database ... 75%\r(Reading database ... 80%\r(Reading database ... 85%\r(Reading database ... 90%\r(Reading database ... 95%\r(Reading database ... 100%\r(Reading database ... 135004 files and directories currently installed.)\n",
            "Preparing to unpack .../0-python-bs4_4.6.0-1_all.deb ...\n",
            "Unpacking python-bs4 (4.6.0-1) ...\n",
            "Selecting previously unselected package python-pkg-resources.\n",
            "Preparing to unpack .../1-python-pkg-resources_39.0.1-2_all.deb ...\n",
            "Unpacking python-pkg-resources (39.0.1-2) ...\n",
            "Selecting previously unselected package python-chardet.\n",
            "Preparing to unpack .../2-python-chardet_3.0.4-1_all.deb ...\n",
            "Unpacking python-chardet (3.0.4-1) ...\n",
            "Selecting previously unselected package python-six.\n",
            "Preparing to unpack .../3-python-six_1.11.0-2_all.deb ...\n",
            "Unpacking python-six (1.11.0-2) ...\n",
            "Selecting previously unselected package python-webencodings.\n",
            "Preparing to unpack .../4-python-webencodings_0.5-2_all.deb ...\n",
            "Unpacking python-webencodings (0.5-2) ...\n",
            "Selecting previously unselected package python-html5lib.\n",
            "Preparing to unpack .../5-python-html5lib_0.999999999-1_all.deb ...\n",
            "Unpacking python-html5lib (0.999999999-1) ...\n",
            "Selecting previously unselected package python-lxml:amd64.\n",
            "Preparing to unpack .../6-python-lxml_4.2.1-1ubuntu0.1_amd64.deb ...\n",
            "Unpacking python-lxml:amd64 (4.2.1-1ubuntu0.1) ...\n",
            "Selecting previously unselected package python-olefile.\n",
            "Preparing to unpack .../7-python-olefile_0.45.1-1_all.deb ...\n",
            "Unpacking python-olefile (0.45.1-1) ...\n",
            "Selecting previously unselected package python-pil:amd64.\n",
            "Preparing to unpack .../8-python-pil_5.1.0-1_amd64.deb ...\n",
            "Unpacking python-pil:amd64 (5.1.0-1) ...\n",
            "Setting up python-pkg-resources (39.0.1-2) ...\n",
            "Setting up python-six (1.11.0-2) ...\n",
            "Setting up python-bs4 (4.6.0-1) ...\n",
            "Setting up python-lxml:amd64 (4.2.1-1ubuntu0.1) ...\n",
            "Setting up python-olefile (0.45.1-1) ...\n",
            "Setting up python-pil:amd64 (5.1.0-1) ...\n",
            "Setting up python-webencodings (0.5-2) ...\n",
            "Setting up python-chardet (3.0.4-1) ...\n",
            "Setting up python-html5lib (0.999999999-1) ...\n",
            "Processing triggers for man-db (2.8.3-2ubuntu0.1) ...\n"
          ],
          "name": "stdout"
        }
      ]
    },
    {
      "cell_type": "markdown",
      "metadata": {
        "id": "hKE6R5M46gSO",
        "colab_type": "text"
      },
      "source": [
        "Protobuf compilation\n",
        "- Convert .pb files to python code in object detection folder"
      ]
    },
    {
      "cell_type": "code",
      "metadata": {
        "id": "pWp2QOvG5Lyk",
        "colab_type": "code",
        "outputId": "12db5d5e-4954-471e-d7a8-9c3c17fce57d",
        "colab": {
          "base_uri": "https://localhost:8080/",
          "height": 1000
        }
      },
      "source": [
        "#Move to models/research folder\n",
        "%cd models/research\n",
        "\n",
        "#Convert protobuf files to Python code using Protobuf compiler installed in previous step\n",
        "!protoc object_detection/protos/*.proto --python_out=.\n",
        "!ls -l object_detection/protos"
      ],
      "execution_count": 7,
      "outputs": [
        {
          "output_type": "stream",
          "text": [
            "/content/models/research\n",
            "total 724\n",
            "-rw-r--r-- 1 root root   6848 Jan 16 06:15 anchor_generator_pb2.py\n",
            "-rw-r--r-- 1 root root    747 Jan 16 06:11 anchor_generator.proto\n",
            "-rw-r--r-- 1 root root   4359 Jan 16 06:15 argmax_matcher_pb2.py\n",
            "-rw-r--r-- 1 root root   1151 Jan 16 06:11 argmax_matcher.proto\n",
            "-rw-r--r-- 1 root root   2175 Jan 16 06:15 bipartite_matcher_pb2.py\n",
            "-rw-r--r-- 1 root root    350 Jan 16 06:11 bipartite_matcher.proto\n",
            "-rw-r--r-- 1 root root   6208 Jan 16 06:15 box_coder_pb2.py\n",
            "-rw-r--r-- 1 root root    656 Jan 16 06:11 box_coder.proto\n",
            "-rw-r--r-- 1 root root  35788 Jan 16 06:15 box_predictor_pb2.py\n",
            "-rw-r--r-- 1 root root   7366 Jan 16 06:11 box_predictor.proto\n",
            "-rw-r--r-- 1 root root  24908 Jan 16 06:15 calibration_pb2.py\n",
            "-rw-r--r-- 1 root root   2876 Jan 16 06:11 calibration.proto\n",
            "-rw-r--r-- 1 root root  13553 Jan 16 06:15 eval_pb2.py\n",
            "-rw-r--r-- 1 root root   3923 Jan 16 06:11 eval.proto\n",
            "-rw-r--r-- 1 root root   3445 Jan 16 06:15 faster_rcnn_box_coder_pb2.py\n",
            "-rw-r--r-- 1 root root    531 Jan 16 06:11 faster_rcnn_box_coder.proto\n",
            "-rw-r--r-- 1 root root  24448 Jan 16 06:15 faster_rcnn_pb2.py\n",
            "-rw-r--r-- 1 root root   8484 Jan 16 06:11 faster_rcnn.proto\n",
            "-rw-r--r-- 1 root root   6105 Jan 16 06:15 flexible_grid_anchor_generator_pb2.py\n",
            "-rw-r--r-- 1 root root    816 Jan 16 06:11 flexible_grid_anchor_generator.proto\n",
            "-rw-r--r-- 1 root root   4720 Jan 16 06:15 graph_rewriter_pb2.py\n",
            "-rw-r--r-- 1 root root    847 Jan 16 06:11 graph_rewriter.proto\n",
            "-rw-r--r-- 1 root root   5082 Jan 16 06:15 grid_anchor_generator_pb2.py\n",
            "-rw-r--r-- 1 root root   1020 Jan 16 06:11 grid_anchor_generator.proto\n",
            "-rw-r--r-- 1 root root  26158 Jan 16 06:15 hyperparams_pb2.py\n",
            "-rw-r--r-- 1 root root   4061 Jan 16 06:11 hyperparams.proto\n",
            "-rw-r--r-- 1 root root  17448 Jan 16 06:15 image_resizer_pb2.py\n",
            "-rw-r--r-- 1 root root   3445 Jan 16 06:11 image_resizer.proto\n",
            "-rw-r--r-- 1 root root      0 Jan 16 06:11 __init__.py\n",
            "-rw-r--r-- 1 root root  17379 Jan 16 06:15 input_reader_pb2.py\n",
            "-rw-r--r-- 1 root root   5132 Jan 16 06:11 input_reader.proto\n",
            "-rw-r--r-- 1 root root   3810 Jan 16 06:15 keypoint_box_coder_pb2.py\n",
            "-rw-r--r-- 1 root root    575 Jan 16 06:11 keypoint_box_coder.proto\n",
            "-rw-r--r-- 1 root root  38048 Jan 16 06:15 losses_pb2.py\n",
            "-rw-r--r-- 1 root root   7552 Jan 16 06:11 losses.proto\n",
            "-rw-r--r-- 1 root root   3882 Jan 16 06:15 matcher_pb2.py\n",
            "-rw-r--r-- 1 root root    418 Jan 16 06:11 matcher.proto\n",
            "-rw-r--r-- 1 root root   2184 Jan 16 06:15 mean_stddev_box_coder_pb2.py\n",
            "-rw-r--r-- 1 root root    293 Jan 16 06:11 mean_stddev_box_coder.proto\n",
            "-rw-r--r-- 1 root root   5805 Jan 16 06:15 model_pb2.py\n",
            "-rw-r--r-- 1 root root    667 Jan 16 06:11 model.proto\n",
            "-rw-r--r-- 1 root root   4438 Jan 16 06:15 multiscale_anchor_generator_pb2.py\n",
            "-rw-r--r-- 1 root root    847 Jan 16 06:11 multiscale_anchor_generator.proto\n",
            "-rw-r--r-- 1 root root  28035 Jan 16 06:15 optimizer_pb2.py\n",
            "-rw-r--r-- 1 root root   3327 Jan 16 06:11 optimizer.proto\n",
            "-rw-r--r-- 1 root root   6430 Jan 16 06:15 pipeline_pb2.py\n",
            "-rw-r--r-- 1 root root    773 Jan 16 06:11 pipeline.proto\n",
            "-rw-r--r-- 1 root root  10448 Jan 16 06:15 post_processing_pb2.py\n",
            "-rw-r--r-- 1 root root   2905 Jan 16 06:11 post_processing.proto\n",
            "-rw-r--r-- 1 root root 121055 Jan 16 06:15 preprocessor_pb2.py\n",
            "-rw-r--r-- 1 root root  19720 Jan 16 06:11 preprocessor.proto\n",
            "-rw-r--r-- 1 root root   9582 Jan 16 06:15 region_similarity_calculator_pb2.py\n",
            "-rw-r--r-- 1 root root    950 Jan 16 06:11 region_similarity_calculator.proto\n",
            "-rw-r--r-- 1 root root   2944 Jan 16 06:15 square_box_coder_pb2.py\n",
            "-rw-r--r-- 1 root root    419 Jan 16 06:11 square_box_coder.proto\n",
            "-rw-r--r-- 1 root root   7278 Jan 16 06:15 ssd_anchor_generator_pb2.py\n",
            "-rw-r--r-- 1 root root   2254 Jan 16 06:11 ssd_anchor_generator.proto\n",
            "-rw-r--r-- 1 root root  27896 Jan 16 06:15 ssd_pb2.py\n",
            "-rw-r--r-- 1 root root   9376 Jan 16 06:11 ssd.proto\n",
            "-rw-r--r-- 1 root root   4387 Jan 16 06:15 string_int_label_map_pb2.py\n",
            "-rw-r--r-- 1 root root    724 Jan 16 06:11 string_int_label_map.proto\n",
            "-rw-r--r-- 1 root root   4176 Jan 16 06:15 target_assigner_pb2.py\n",
            "-rw-r--r-- 1 root root    443 Jan 16 06:11 target_assigner.proto\n",
            "-rw-r--r-- 1 root root  15802 Jan 16 06:15 train_pb2.py\n",
            "-rw-r--r-- 1 root root   5378 Jan 16 06:11 train.proto\n"
          ],
          "name": "stdout"
        }
      ]
    },
    {
      "cell_type": "code",
      "metadata": {
        "id": "yVGCa6Ar5L6J",
        "colab_type": "code",
        "outputId": "9995ef5f-e242-4ec5-a24e-0f8ef9a15f29",
        "colab": {
          "base_uri": "https://localhost:8080/",
          "height": 35
        }
      },
      "source": [
        "#Setup environment variable\n",
        "#Change path to models/research and models/research/slim folders based on where you have cloned github repository above\n",
        "%set_env PYTHONPATH=$PYTHONPATH:/content/models/research:/content/models/research/slim"
      ],
      "execution_count": 8,
      "outputs": [
        {
          "output_type": "stream",
          "text": [
            "env: PYTHONPATH=$PYTHONPATH:/content/models/research:/content/models/research/slim\n"
          ],
          "name": "stdout"
        }
      ]
    },
    {
      "cell_type": "code",
      "metadata": {
        "id": "rIr6J7uo5MBp",
        "colab_type": "code",
        "outputId": "53587f7d-5934-4f33-d3b1-261537a8e07f",
        "colab": {
          "base_uri": "https://localhost:8080/",
          "height": 921
        }
      },
      "source": [
        "#To be run from models/research folder\n",
        "!python object_detection/builders/model_builder_test.py"
      ],
      "execution_count": 9,
      "outputs": [
        {
          "output_type": "stream",
          "text": [
            "WARNING:tensorflow:\n",
            "The TensorFlow contrib module will not be included in TensorFlow 2.0.\n",
            "For more information, please see:\n",
            "  * https://github.com/tensorflow/community/blob/master/rfcs/20180907-contrib-sunset.md\n",
            "  * https://github.com/tensorflow/addons\n",
            "  * https://github.com/tensorflow/io (for I/O related ops)\n",
            "If you depend on functionality not listed there, please file an issue.\n",
            "\n",
            "WARNING:tensorflow:From /content/models/research/slim/nets/inception_resnet_v2.py:374: The name tf.GraphKeys is deprecated. Please use tf.compat.v1.GraphKeys instead.\n",
            "\n",
            "WARNING:tensorflow:From /content/models/research/slim/nets/mobilenet/mobilenet.py:397: The name tf.nn.avg_pool is deprecated. Please use tf.nn.avg_pool2d instead.\n",
            "\n",
            "Running tests under Python 3.6.9: /usr/bin/python3\n",
            "[ RUN      ] ModelBuilderTest.test_create_experimental_model\n",
            "[       OK ] ModelBuilderTest.test_create_experimental_model\n",
            "[ RUN      ] ModelBuilderTest.test_create_faster_rcnn_model_from_config_with_example_miner\n",
            "[       OK ] ModelBuilderTest.test_create_faster_rcnn_model_from_config_with_example_miner\n",
            "[ RUN      ] ModelBuilderTest.test_create_faster_rcnn_models_from_config_faster_rcnn_with_matmul\n",
            "[       OK ] ModelBuilderTest.test_create_faster_rcnn_models_from_config_faster_rcnn_with_matmul\n",
            "[ RUN      ] ModelBuilderTest.test_create_faster_rcnn_models_from_config_faster_rcnn_without_matmul\n",
            "[       OK ] ModelBuilderTest.test_create_faster_rcnn_models_from_config_faster_rcnn_without_matmul\n",
            "[ RUN      ] ModelBuilderTest.test_create_faster_rcnn_models_from_config_mask_rcnn_with_matmul\n",
            "[       OK ] ModelBuilderTest.test_create_faster_rcnn_models_from_config_mask_rcnn_with_matmul\n",
            "[ RUN      ] ModelBuilderTest.test_create_faster_rcnn_models_from_config_mask_rcnn_without_matmul\n",
            "[       OK ] ModelBuilderTest.test_create_faster_rcnn_models_from_config_mask_rcnn_without_matmul\n",
            "[ RUN      ] ModelBuilderTest.test_create_rfcn_model_from_config\n",
            "[       OK ] ModelBuilderTest.test_create_rfcn_model_from_config\n",
            "[ RUN      ] ModelBuilderTest.test_create_ssd_fpn_model_from_config\n",
            "[       OK ] ModelBuilderTest.test_create_ssd_fpn_model_from_config\n",
            "[ RUN      ] ModelBuilderTest.test_create_ssd_models_from_config\n",
            "[       OK ] ModelBuilderTest.test_create_ssd_models_from_config\n",
            "[ RUN      ] ModelBuilderTest.test_invalid_faster_rcnn_batchnorm_update\n",
            "[       OK ] ModelBuilderTest.test_invalid_faster_rcnn_batchnorm_update\n",
            "[ RUN      ] ModelBuilderTest.test_invalid_first_stage_nms_iou_threshold\n",
            "[       OK ] ModelBuilderTest.test_invalid_first_stage_nms_iou_threshold\n",
            "[ RUN      ] ModelBuilderTest.test_invalid_model_config_proto\n",
            "[       OK ] ModelBuilderTest.test_invalid_model_config_proto\n",
            "[ RUN      ] ModelBuilderTest.test_invalid_second_stage_batch_size\n",
            "[       OK ] ModelBuilderTest.test_invalid_second_stage_batch_size\n",
            "[ RUN      ] ModelBuilderTest.test_session\n",
            "[  SKIPPED ] ModelBuilderTest.test_session\n",
            "[ RUN      ] ModelBuilderTest.test_unknown_faster_rcnn_feature_extractor\n",
            "[       OK ] ModelBuilderTest.test_unknown_faster_rcnn_feature_extractor\n",
            "[ RUN      ] ModelBuilderTest.test_unknown_meta_architecture\n",
            "[       OK ] ModelBuilderTest.test_unknown_meta_architecture\n",
            "[ RUN      ] ModelBuilderTest.test_unknown_ssd_feature_extractor\n",
            "[       OK ] ModelBuilderTest.test_unknown_ssd_feature_extractor\n",
            "----------------------------------------------------------------------\n",
            "Ran 17 tests in 0.225s\n",
            "\n",
            "OK (skipped=1)\n"
          ],
          "name": "stdout"
        }
      ]
    },
    {
      "cell_type": "code",
      "metadata": {
        "id": "-hw3aUei5MJO",
        "colab_type": "code",
        "colab": {}
      },
      "source": [
        ""
      ],
      "execution_count": 0,
      "outputs": []
    },
    {
      "cell_type": "code",
      "metadata": {
        "id": "6jsvGvG3uBhI",
        "colab_type": "code",
        "colab": {}
      },
      "source": [
        ""
      ],
      "execution_count": 0,
      "outputs": []
    },
    {
      "cell_type": "markdown",
      "metadata": {
        "colab_type": "text",
        "id": "Z_INIZOi_tUW"
      },
      "source": [
        "### Change directory"
      ]
    },
    {
      "cell_type": "code",
      "metadata": {
        "colab_type": "code",
        "id": "Sxgw3GT1AR9Y",
        "colab": {}
      },
      "source": [
        "os.chdir('/content/drive/My Drive/Residency_10/Lab_Internal')"
      ],
      "execution_count": 0,
      "outputs": []
    },
    {
      "cell_type": "markdown",
      "metadata": {
        "colab_type": "text",
        "id": "lwxBtvYRWGii"
      },
      "source": [
        "### Load the training data from train.csv file"
      ]
    },
    {
      "cell_type": "code",
      "metadata": {
        "colab_type": "code",
        "id": "wiTjjKtpWGij",
        "colab": {}
      },
      "source": [
        "train_data = pd.read_csv('train_labels.csv')"
      ],
      "execution_count": 0,
      "outputs": []
    },
    {
      "cell_type": "markdown",
      "metadata": {
        "colab_type": "text",
        "id": "-F3CkYxUWGin"
      },
      "source": [
        "### Print the shape of the train dataset"
      ]
    },
    {
      "cell_type": "code",
      "metadata": {
        "colab_type": "code",
        "id": "uRz_MtnvWGip",
        "outputId": "5211149b-7cf2-45b8-b97f-598b6a21f9b8",
        "colab": {
          "base_uri": "https://localhost:8080/",
          "height": 35
        }
      },
      "source": [
        "train_data.shape"
      ],
      "execution_count": 12,
      "outputs": [
        {
          "output_type": "execute_result",
          "data": {
            "text/plain": [
              "(173, 8)"
            ]
          },
          "metadata": {
            "tags": []
          },
          "execution_count": 12
        }
      ]
    },
    {
      "cell_type": "code",
      "metadata": {
        "id": "-NMHg9aUd9UQ",
        "colab_type": "code",
        "outputId": "d979dc0c-6390-4d34-c5a0-0447b9249337",
        "colab": {
          "base_uri": "https://localhost:8080/",
          "height": 355
        }
      },
      "source": [
        "train_data.head(10)"
      ],
      "execution_count": 13,
      "outputs": [
        {
          "output_type": "execute_result",
          "data": {
            "text/html": [
              "<div>\n",
              "<style scoped>\n",
              "    .dataframe tbody tr th:only-of-type {\n",
              "        vertical-align: middle;\n",
              "    }\n",
              "\n",
              "    .dataframe tbody tr th {\n",
              "        vertical-align: top;\n",
              "    }\n",
              "\n",
              "    .dataframe thead th {\n",
              "        text-align: right;\n",
              "    }\n",
              "</style>\n",
              "<table border=\"1\" class=\"dataframe\">\n",
              "  <thead>\n",
              "    <tr style=\"text-align: right;\">\n",
              "      <th></th>\n",
              "      <th>filename</th>\n",
              "      <th>width</th>\n",
              "      <th>height</th>\n",
              "      <th>class</th>\n",
              "      <th>xmin</th>\n",
              "      <th>ymin</th>\n",
              "      <th>xmax</th>\n",
              "      <th>ymax</th>\n",
              "    </tr>\n",
              "  </thead>\n",
              "  <tbody>\n",
              "    <tr>\n",
              "      <th>0</th>\n",
              "      <td>raccoon-17.jpg</td>\n",
              "      <td>259</td>\n",
              "      <td>194</td>\n",
              "      <td>raccoon</td>\n",
              "      <td>95</td>\n",
              "      <td>60</td>\n",
              "      <td>167</td>\n",
              "      <td>118</td>\n",
              "    </tr>\n",
              "    <tr>\n",
              "      <th>1</th>\n",
              "      <td>raccoon-11.jpg</td>\n",
              "      <td>660</td>\n",
              "      <td>432</td>\n",
              "      <td>raccoon</td>\n",
              "      <td>3</td>\n",
              "      <td>1</td>\n",
              "      <td>461</td>\n",
              "      <td>431</td>\n",
              "    </tr>\n",
              "    <tr>\n",
              "      <th>2</th>\n",
              "      <td>raccoon-63.jpg</td>\n",
              "      <td>600</td>\n",
              "      <td>400</td>\n",
              "      <td>raccoon</td>\n",
              "      <td>74</td>\n",
              "      <td>107</td>\n",
              "      <td>280</td>\n",
              "      <td>290</td>\n",
              "    </tr>\n",
              "    <tr>\n",
              "      <th>3</th>\n",
              "      <td>raccoon-63.jpg</td>\n",
              "      <td>600</td>\n",
              "      <td>400</td>\n",
              "      <td>raccoon</td>\n",
              "      <td>227</td>\n",
              "      <td>93</td>\n",
              "      <td>403</td>\n",
              "      <td>298</td>\n",
              "    </tr>\n",
              "    <tr>\n",
              "      <th>4</th>\n",
              "      <td>raccoon-60.jpg</td>\n",
              "      <td>273</td>\n",
              "      <td>185</td>\n",
              "      <td>raccoon</td>\n",
              "      <td>58</td>\n",
              "      <td>33</td>\n",
              "      <td>197</td>\n",
              "      <td>127</td>\n",
              "    </tr>\n",
              "    <tr>\n",
              "      <th>5</th>\n",
              "      <td>raccoon-69.jpg</td>\n",
              "      <td>205</td>\n",
              "      <td>246</td>\n",
              "      <td>raccoon</td>\n",
              "      <td>12</td>\n",
              "      <td>11</td>\n",
              "      <td>188</td>\n",
              "      <td>240</td>\n",
              "    </tr>\n",
              "    <tr>\n",
              "      <th>6</th>\n",
              "      <td>raccoon-180.jpg</td>\n",
              "      <td>600</td>\n",
              "      <td>400</td>\n",
              "      <td>raccoon</td>\n",
              "      <td>119</td>\n",
              "      <td>21</td>\n",
              "      <td>368</td>\n",
              "      <td>399</td>\n",
              "    </tr>\n",
              "    <tr>\n",
              "      <th>7</th>\n",
              "      <td>raccoon-200.jpg</td>\n",
              "      <td>261</td>\n",
              "      <td>193</td>\n",
              "      <td>raccoon</td>\n",
              "      <td>107</td>\n",
              "      <td>10</td>\n",
              "      <td>249</td>\n",
              "      <td>166</td>\n",
              "    </tr>\n",
              "    <tr>\n",
              "      <th>8</th>\n",
              "      <td>raccoon-141.jpg</td>\n",
              "      <td>249</td>\n",
              "      <td>202</td>\n",
              "      <td>raccoon</td>\n",
              "      <td>1</td>\n",
              "      <td>1</td>\n",
              "      <td>154</td>\n",
              "      <td>176</td>\n",
              "    </tr>\n",
              "    <tr>\n",
              "      <th>9</th>\n",
              "      <td>raccoon-19.jpg</td>\n",
              "      <td>259</td>\n",
              "      <td>194</td>\n",
              "      <td>raccoon</td>\n",
              "      <td>87</td>\n",
              "      <td>8</td>\n",
              "      <td>182</td>\n",
              "      <td>89</td>\n",
              "    </tr>\n",
              "  </tbody>\n",
              "</table>\n",
              "</div>"
            ],
            "text/plain": [
              "          filename  width  height    class  xmin  ymin  xmax  ymax\n",
              "0   raccoon-17.jpg    259     194  raccoon    95    60   167   118\n",
              "1   raccoon-11.jpg    660     432  raccoon     3     1   461   431\n",
              "2   raccoon-63.jpg    600     400  raccoon    74   107   280   290\n",
              "3   raccoon-63.jpg    600     400  raccoon   227    93   403   298\n",
              "4   raccoon-60.jpg    273     185  raccoon    58    33   197   127\n",
              "5   raccoon-69.jpg    205     246  raccoon    12    11   188   240\n",
              "6  raccoon-180.jpg    600     400  raccoon   119    21   368   399\n",
              "7  raccoon-200.jpg    261     193  raccoon   107    10   249   166\n",
              "8  raccoon-141.jpg    249     202  raccoon     1     1   154   176\n",
              "9   raccoon-19.jpg    259     194  raccoon    87     8   182    89"
            ]
          },
          "metadata": {
            "tags": []
          },
          "execution_count": 13
        }
      ]
    },
    {
      "cell_type": "markdown",
      "metadata": {
        "colab_type": "text",
        "id": "axf5m10eWGis"
      },
      "source": [
        "### Declare a variable IMAGE_SIZE = 128 as we will be using MobileNet which will be taking Input shape as 128 * 128 "
      ]
    },
    {
      "cell_type": "code",
      "metadata": {
        "colab_type": "code",
        "id": "7ayEk2c9WGit",
        "colab": {}
      },
      "source": [
        "IMAGE_SIZE = 128"
      ],
      "execution_count": 0,
      "outputs": []
    },
    {
      "cell_type": "markdown",
      "metadata": {
        "colab_type": "text",
        "id": "wbrrYb5IWGix"
      },
      "source": [
        "### With the help of csv.reader write a for loop which can load the train.csv file and store the path, width, height, x0,y0,x1,y1 in induvidual variables. <br>\n",
        "1. Create a list variable known as 'path' which has all the path for all the training images\n",
        "2. Create an array 'coords' which has the resized coordinates of the bounding box for the training images\n",
        "\n",
        "<u>Note:</u> All the training images should be downsampled to 128 * 128 as it is the input shape of MobileNet (which we will be using for Object detection). Hence the corresponding coordinates of the bounding boxes should be changed to match the image dimension of 128 * 128 "
      ]
    },
    {
      "cell_type": "code",
      "metadata": {
        "colab_type": "code",
        "id": "twSTiPpRWGiy",
        "colab": {}
      },
      "source": [
        "import csv\n",
        "with open('train_labels.csv','r') as csvfile:\n",
        "    paths = []\n",
        "    coords = np.zeros((sum(1 for line in csvfile) - 1, 4))\n",
        "    spamreader = csv.reader(csvfile, delimiter=',')\n",
        "    csvfile.seek(0)\n",
        "    next(spamreader, None)\n",
        "    for i,row in enumerate(spamreader):\n",
        "        #print(row)\n",
        "        for j, r in enumerate(row): # Parse row with seven entities\n",
        "            #print(i)\n",
        "            if((j!= 0) & (j!=3)):\n",
        "                row[j] = int(r)\n",
        "            \n",
        "        #print(row)      \n",
        "        path, width, height, class_, xmin, ymin, xmax, ymax = row\n",
        "        paths.append(path)\n",
        "        #print(i)\n",
        "        coords[i,0] = xmin * IMAGE_SIZE / width\n",
        "        coords[i,1] = ymin * IMAGE_SIZE / height\n",
        "        coords[i,2] = xmax * IMAGE_SIZE / width # Normalize bounding box by image size\n",
        "        coords[i,3] = ymax * IMAGE_SIZE / height"
      ],
      "execution_count": 0,
      "outputs": []
    },
    {
      "cell_type": "code",
      "metadata": {
        "id": "tnvlQTuEhTGt",
        "colab_type": "code",
        "outputId": "45ff453d-6214-4be6-9cf3-4ad1bedb59a2",
        "colab": {
          "base_uri": "https://localhost:8080/",
          "height": 35
        }
      },
      "source": [
        "row"
      ],
      "execution_count": 16,
      "outputs": [
        {
          "output_type": "execute_result",
          "data": {
            "text/plain": [
              "['raccoon-152.jpg', 275, 183, 'raccoon', 41, 60, 223, 155]"
            ]
          },
          "metadata": {
            "tags": []
          },
          "execution_count": 16
        }
      ]
    },
    {
      "cell_type": "code",
      "metadata": {
        "id": "89kB4rlWhVcQ",
        "colab_type": "code",
        "outputId": "2c2552f9-d3ad-4402-ac92-81b5c4bca97d",
        "colab": {
          "base_uri": "https://localhost:8080/",
          "height": 1000
        }
      },
      "source": [
        "coords"
      ],
      "execution_count": 17,
      "outputs": [
        {
          "output_type": "execute_result",
          "data": {
            "text/plain": [
              "array([[4.69498069e+01, 3.95876289e+01, 8.25328185e+01, 7.78556701e+01],\n",
              "       [5.81818182e-01, 2.96296296e-01, 8.94060606e+01, 1.27703704e+02],\n",
              "       [1.57866667e+01, 3.42400000e+01, 5.97333333e+01, 9.28000000e+01],\n",
              "       [4.84266667e+01, 2.97600000e+01, 8.59733333e+01, 9.53600000e+01],\n",
              "       [2.71941392e+01, 2.28324324e+01, 9.23663004e+01, 8.78702703e+01],\n",
              "       [7.49268293e+00, 5.72357724e+00, 1.17385366e+02, 1.24878049e+02],\n",
              "       [2.53866667e+01, 6.72000000e+00, 7.85066667e+01, 1.27680000e+02],\n",
              "       [5.24750958e+01, 6.63212435e+00, 1.22114943e+02, 1.10093264e+02],\n",
              "       [5.14056225e-01, 6.33663366e-01, 7.91646586e+01, 1.11524752e+02],\n",
              "       [4.29961390e+01, 5.27835052e+00, 8.99459459e+01, 5.87216495e+01],\n",
              "       [1.30957096e+01, 4.62650602e+00, 8.32211221e+01, 1.25686747e+02],\n",
              "       [8.40154440e+00, 2.57319588e+01, 1.18115830e+02, 9.69896907e+01],\n",
              "       [4.35200000e+00, 3.12320000e+01, 7.14240000e+01, 1.27744000e+02],\n",
              "       [6.83333333e+00, 6.66666667e-01, 1.13833333e+02, 1.22266667e+02],\n",
              "       [1.19322034e+01, 5.70700637e+00, 1.17152542e+02, 1.25554140e+02],\n",
              "       [2.40000000e+01, 3.01176471e-01, 1.13600000e+02, 1.28000000e+02],\n",
              "       [3.36573705e+01, 1.84676617e+01, 1.18820717e+02, 1.20995025e+02],\n",
              "       [3.55555556e-01, 6.87407407e+00, 1.28000000e+02, 1.19229630e+02],\n",
              "       [2.68422877e+01, 2.57500000e+01, 9.09532062e+01, 9.58750000e+01],\n",
              "       [9.88416988e+00, 3.95876289e+00, 8.74749035e+01, 1.10185567e+02],\n",
              "       [1.14285714e+00, 5.68888889e-01, 1.13714286e+02, 1.25724444e+02],\n",
              "       [2.58000000e+01, 1.53239437e+01, 1.25600000e+02, 1.12075117e+02],\n",
              "       [2.29120000e+01, 2.01650413e+00, 8.66560000e+01, 1.07450863e+02],\n",
              "       [1.59507692e+01, 2.70119904e+01, 1.02793846e+02, 1.25237410e+02],\n",
              "       [4.03772358e+01, 3.12958435e-01, 1.14263415e+02, 1.28000000e+02],\n",
              "       [1.02400000e+00, 2.56000000e-01, 1.07861333e+02, 1.28000000e+02],\n",
              "       [9.77454545e+00, 7.69398907e+00, 9.30909091e+01, 1.28000000e+02],\n",
              "       [1.72000000e+01, 1.59248826e+01, 8.00000000e+01, 1.06967136e+02],\n",
              "       [3.69777778e+01, 5.17171717e-01, 1.26862222e+02, 1.26189899e+02],\n",
              "       [4.21463415e+01, 2.57662338e+01, 8.11707317e+01, 9.97402597e+01],\n",
              "       [1.62000000e+01, 1.54000000e+01, 1.13400000e+02, 1.23400000e+02],\n",
              "       [3.45945946e+00, 1.12164948e+01, 1.27011583e+02, 1.18762887e+02],\n",
              "       [2.50181818e+01, 4.14016173e+00, 9.89090909e+01, 1.14199461e+02],\n",
              "       [2.13750000e+01, 2.70000000e+01, 1.01375000e+02, 1.23333333e+02],\n",
              "       [3.37920000e+01, 1.70666667e+01, 7.80800000e+01, 8.39680000e+01],\n",
              "       [5.04000000e+01, 2.24373957e+01, 1.23520000e+02, 1.15392321e+02],\n",
              "       [2.66666667e-01, 2.31111111e+01, 6.37333333e+01, 1.12355556e+02],\n",
              "       [5.60000000e+01, 1.32413793e+01, 1.10000000e+02, 1.23586207e+02],\n",
              "       [3.27441860e+01, 9.78512397e+00, 1.03739535e+02, 1.16363636e+02],\n",
              "       [3.68876081e+00, 1.75686275e+00, 1.28000000e+02, 1.18211765e+02],\n",
              "       [2.74618182e+01, 8.39344262e+00, 1.12640000e+02, 1.25901639e+02],\n",
              "       [1.66106870e+01, 2.65284974e+00, 1.13832061e+02, 1.28000000e+02],\n",
              "       [4.94208494e-01, 3.28205128e+00, 8.64864865e+01, 1.28000000e+02],\n",
              "       [1.65847176e+01, 1.88790560e+00, 1.09926910e+02, 1.25734513e+02],\n",
              "       [3.22000000e+01, 3.55555556e-01, 1.25400000e+02, 1.17333333e+02],\n",
              "       [2.27335907e+01, 6.00412371e+01, 7.06718147e+01, 1.11505155e+02],\n",
              "       [8.89575290e+00, 3.95876289e+00, 1.11196911e+02, 1.16123711e+02],\n",
              "       [1.82857143e+00, 1.82857143e-01, 1.11908571e+02, 1.28000000e+02],\n",
              "       [2.13333333e-01, 5.00622222e+01, 5.76000000e+01, 1.21457778e+02],\n",
              "       [1.53239437e+01, 2.60000000e+01, 1.05464789e+02, 1.11200000e+02],\n",
              "       [4.94208494e-01, 6.59793814e-01, 1.22069498e+02, 1.28000000e+02],\n",
              "       [1.06666667e+01, 3.65714286e+00, 1.19466667e+02, 1.22514286e+02],\n",
              "       [1.92000000e+01, 1.06666667e+01, 1.05386667e+02, 1.25714286e+02],\n",
              "       [2.76480000e+01, 8.93023256e+00, 1.28000000e+02, 1.23534884e+02],\n",
              "       [4.76862745e+01, 1.71122995e+00, 1.28000000e+02, 1.15336898e+02],\n",
              "       [2.22393822e+01, 2.24329897e+01, 7.95675676e+01, 1.21402062e+02],\n",
              "       [2.61930502e+01, 1.78144330e+01, 1.25528958e+02, 1.14144330e+02],\n",
              "       [5.69281768e+01, 4.01568627e+01, 1.03248619e+02, 9.89579832e+01],\n",
              "       [4.94208494e-01, 6.59793814e-01, 9.83474903e+01, 1.21402062e+02],\n",
              "       [1.66666667e+01, 8.61345853e+00, 7.84000000e+01, 1.05564945e+02],\n",
              "       [4.93333333e+00, 6.40000000e+00, 9.72000000e+01, 1.08600000e+02],\n",
              "       [4.64353312e+00, 3.23004695e+01, 8.88328076e+01, 1.24845070e+02],\n",
              "       [2.76756757e+01, 3.56288660e+01, 1.11691120e+02, 9.89690722e+01],\n",
              "       [5.81818182e-01, 5.58951965e-01, 8.37818182e+01, 1.16820961e+02],\n",
              "       [2.09801325e+01, 1.41039501e+01, 8.51920530e+01, 1.23476091e+02],\n",
              "       [5.81818182e-01, 2.96296296e-01, 8.45575758e+01, 1.27407407e+02],\n",
              "       [2.00000000e+01, 3.54285714e+01, 5.32000000e+01, 9.25714286e+01],\n",
              "       [6.84000000e+01, 2.88571429e+01, 1.14000000e+02, 8.48571429e+01],\n",
              "       [1.38378378e+01, 1.38556701e+01, 6.22702703e+01, 1.19422680e+02],\n",
              "       [4.20077220e+01, 2.17731959e+01, 1.16138996e+02, 1.27340206e+02],\n",
              "       [1.53962264e+01, 3.56000000e+01, 1.07169811e+02, 1.26400000e+02],\n",
              "       [8.80000000e+00, 2.70422535e+01, 1.15400000e+02, 1.28000000e+02],\n",
              "       [3.50000000e+00, 2.72893401e+01, 8.10000000e+01, 1.28000000e+02],\n",
              "       [2.00000000e-01, 2.00000000e-01, 1.28000000e+02, 9.18000000e+01],\n",
              "       [5.60000000e+00, 1.91401869e+01, 1.06000000e+02, 1.20224299e+02],\n",
              "       [2.56000000e-01, 1.04223919e+01, 8.78080000e+01, 9.99898219e+01],\n",
              "       [7.23478261e+00, 2.39788918e+01, 1.01843478e+02, 1.12802111e+02],\n",
              "       [2.60413793e+01, 1.47126437e+00, 9.53379310e+01, 1.25793103e+02],\n",
              "       [4.65454545e-01, 6.99453552e-01, 7.63345455e+01, 1.28000000e+02],\n",
              "       [4.87225806e+01, 2.39483871e+01, 1.23458065e+02, 1.18090323e+02],\n",
              "       [3.24000000e+01, 1.16658228e+01, 1.22200000e+02, 1.28000000e+02],\n",
              "       [2.75200000e+01, 1.08528678e+01, 1.01333333e+02, 1.28000000e+02],\n",
              "       [4.94208494e-01, 1.31958763e+00, 1.12185328e+02, 1.28000000e+02],\n",
              "       [4.55965665e+01, 5.15555556e+01, 1.15914163e+02, 1.25037037e+02],\n",
              "       [1.55826087e+01, 1.46118721e+01, 1.12973913e+02, 1.02283105e+02],\n",
              "       [1.77777778e-01, 2.66666667e-01, 1.28000000e+02, 1.26933333e+02],\n",
              "       [9.60000000e+00, 1.13926702e+01, 7.39200000e+01, 1.11469459e+02],\n",
              "       [1.68000000e+01, 2.40150094e+00, 8.03200000e+01, 1.20315197e+02],\n",
              "       [8.53333333e-01, 1.53600000e+01, 1.22453333e+02, 1.16622222e+02],\n",
              "       [2.09600000e+01, 3.88013937e+01, 1.24000000e+02, 1.25547038e+02],\n",
              "       [1.70666667e+01, 2.05128205e+01, 1.07200000e+02, 1.06666667e+02],\n",
              "       [2.83428571e+01, 2.74089936e+00, 9.92914286e+01, 1.21970021e+02],\n",
              "       [2.88000000e+01, 1.10222222e+01, 9.36000000e+01, 1.09511111e+02],\n",
              "       [2.01696970e+01, 1.03504043e+00, 9.87151515e+01, 1.27309973e+02],\n",
              "       [2.26000000e+01, 8.07476636e+00, 9.36000000e+01, 1.28000000e+02],\n",
              "       [3.67761194e+01, 3.26808511e+01, 8.54925373e+01, 1.06212766e+02],\n",
              "       [6.63880597e+01, 5.24255319e+01, 9.64776119e+01, 9.87234043e+01],\n",
              "       [1.42222222e+01, 6.31466667e+01, 1.12071111e+02, 1.28000000e+02],\n",
              "       [1.21135647e+00, 1.50407674e+01, 5.04731861e+01, 9.82254197e+01],\n",
              "       [5.53186120e+01, 8.28776978e+00, 1.13665615e+02, 1.25851319e+02],\n",
              "       [1.39305994e+01, 2.99002625e+01, 7.14700315e+01, 1.26992126e+02],\n",
              "       [3.09677419e+00, 4.41379310e+00, 1.23870968e+02, 9.89950739e+01],\n",
              "       [2.10881226e+01, 1.85699482e+01, 1.17701149e+02, 1.16725389e+02],\n",
              "       [1.53600000e+01, 1.36533333e+00, 1.07776000e+02, 1.25952000e+02],\n",
              "       [5.12000000e+00, 1.48893058e+01, 1.15840000e+02, 8.47729831e+01],\n",
              "       [6.75200000e+01, 8.62138837e+01, 8.86400000e+01, 9.65403377e+01],\n",
              "       [6.33600000e+01, 9.41388368e+01, 8.96000000e+01, 1.13590994e+02],\n",
              "       [2.32000000e+01, 1.09333333e+01, 1.05200000e+02, 1.16266667e+02],\n",
              "       [4.39124088e+01, 4.38260870e+01, 9.10948905e+01, 1.02956522e+02],\n",
              "       [6.63357664e+01, 2.71304348e+01, 9.95036496e+01, 7.51304348e+01],\n",
              "       [1.17333333e+01, 1.09072682e+01, 8.87466667e+01, 1.20942356e+02],\n",
              "       [2.25600000e+01, 1.44090056e+00, 7.55200000e+01, 1.21275797e+02],\n",
              "       [2.08979592e+00, 1.20000000e+00, 1.24342857e+02, 1.26200000e+02],\n",
              "       [3.71014493e+00, 1.25901639e+01, 7.28115942e+01, 1.24502732e+02],\n",
              "       [6.77101449e+01, 9.09289617e+00, 1.21971014e+02, 1.02120219e+02],\n",
              "       [7.92920354e+00, 6.31390135e+00, 1.26300885e+02, 1.26852018e+02],\n",
              "       [3.50888031e+01, 2.96907216e+01, 9.73590734e+01, 1.12824742e+02],\n",
              "       [2.96525097e+00, 1.31958763e+00, 1.18610039e+02, 8.64329897e+01],\n",
              "       [2.81698842e+01, 1.38556701e+01, 7.80849421e+01, 1.21402062e+02],\n",
              "       [5.53513514e+01, 2.11134021e+01, 9.83474903e+01, 1.04247423e+02],\n",
              "       [2.45333333e+01, 1.08000000e+01, 1.22666667e+02, 1.09000000e+02],\n",
              "       [3.22222222e+01, 8.05031447e-01, 9.40000000e+01, 1.28000000e+02],\n",
              "       [1.67563636e+01, 1.39890710e+00, 8.09890909e+01, 1.20306011e+02],\n",
              "       [3.20000000e+00, 2.15851602e-01, 1.23076923e+02, 1.27784148e+02],\n",
              "       [5.35040000e+01, 2.69279539e+01, 9.85600000e+01, 6.86109510e+01],\n",
              "       [1.18518519e-01, 7.46666667e+00, 1.04888889e+02, 1.23496296e+02],\n",
              "       [1.80224000e+01, 2.83759036e+01, 9.68704000e+01, 1.01166265e+02],\n",
              "       [6.26000000e+01, 2.16888889e+01, 1.22800000e+02, 1.28000000e+02],\n",
              "       [3.90610329e+00, 2.00000000e-01, 1.28000000e+02, 9.72000000e+01],\n",
              "       [2.38933333e+01, 5.34755556e+01, 6.14400000e+01, 1.27431111e+02],\n",
              "       [1.19466667e+01, 1.53600000e+01, 1.00693333e+02, 1.03537778e+02],\n",
              "       [2.66666667e-01, 1.56444444e+01, 8.18666667e+01, 1.12355556e+02],\n",
              "       [2.91446154e+01, 1.71073986e+01, 1.01809231e+02, 1.05699284e+02],\n",
              "       [1.98000000e+01, 2.40375587e+00, 1.21000000e+02, 1.21389671e+02],\n",
              "       [3.11428571e+01, 1.33602694e+01, 8.77142857e+01, 1.28000000e+02],\n",
              "       [3.72363636e+01, 4.33661202e+01, 8.70400000e+01, 1.18207650e+02],\n",
              "       [4.94208494e-01, 6.59793814e-01, 5.83166023e+01, 1.00288660e+02],\n",
              "       [4.46000000e+01, 1.86291080e+01, 9.94000000e+01, 9.22441315e+01],\n",
              "       [9.06000000e+01, 1.23192488e+01, 1.28000000e+02, 1.27098592e+02],\n",
              "       [2.87219512e+01, 3.28311688e+01, 8.46048780e+01, 1.09714286e+02],\n",
              "       [4.22400000e+01, 1.04951768e+01, 1.26976000e+02, 1.21414791e+02],\n",
              "       [4.70109091e+01, 6.92783505e+00, 1.19854545e+02, 1.27670103e+02],\n",
              "       [1.73668342e+01, 5.56521739e+00, 1.24783920e+02, 1.15351779e+02],\n",
              "       [6.25867508e+00, 1.63744150e+01, 6.56151420e+01, 1.28000000e+02],\n",
              "       [8.47058824e+00, 1.17621622e+01, 1.05411765e+02, 1.16237838e+02],\n",
              "       [1.06666667e+01, 7.24040404e+00, 7.62181818e+01, 8.09373737e+01],\n",
              "       [2.01892744e+01, 2.56000000e+01, 9.65047319e+01, 9.52089888e+01],\n",
              "       [2.89032258e+01, 2.06451613e+00, 9.37290323e+01, 1.27311828e+02],\n",
              "       [4.44745763e+01, 1.25607477e+01, 1.01423729e+02, 1.17831776e+02],\n",
              "       [5.96610169e+00, 3.28971963e+01, 4.33898305e+01, 8.67289720e+01],\n",
              "       [3.80878049e+01, 1.96069364e+01, 8.30439024e+01, 1.11722543e+02],\n",
              "       [7.30666667e+01, 2.22222222e+00, 1.27200000e+02, 1.15555556e+02],\n",
              "       [8.19200000e+00, 6.04160000e+01, 4.45440000e+01, 1.07861333e+02],\n",
              "       [7.91040000e+01, 5.87093333e+01, 1.09568000e+02, 1.07520000e+02],\n",
              "       [5.33745174e+01, 6.59793814e-01, 1.27505792e+02, 1.28000000e+02],\n",
              "       [3.75338346e+01, 1.68421053e+01, 8.75789474e+01, 1.19242105e+02],\n",
              "       [1.89235880e+01, 1.82206406e+00, 1.26086379e+02, 1.28000000e+02],\n",
              "       [2.55000000e+01, 1.55939086e+01, 9.90000000e+01, 1.24751269e+02],\n",
              "       [4.95616000e+01, 1.07177033e+01, 1.07110400e+02, 8.08421053e+01],\n",
              "       [7.96444444e+00, 5.68888889e-01, 1.20604444e+02, 7.50933333e+01],\n",
              "       [4.03200000e+01, 1.72631579e+01, 7.25333333e+01, 1.04842105e+02],\n",
              "       [6.00000000e+00, 4.94208494e-01, 1.18000000e+02, 1.24540541e+02],\n",
              "       [5.00000000e-01, 1.94923858e+00, 1.03000000e+02, 1.24101523e+02],\n",
              "       [2.00000000e-01, 2.66666667e-01, 7.68000000e+01, 1.16266667e+02],\n",
              "       [1.60717489e+01, 8.49557522e+00, 1.26852018e+02, 1.22336283e+02],\n",
              "       [3.28000000e+01, 9.60000000e+00, 9.01333333e+01, 1.00977778e+02],\n",
              "       [5.03370787e+00, 3.16607774e+00, 1.25123596e+02, 8.95547703e+01],\n",
              "       [2.52394366e+01, 1.15706215e+01, 1.23492958e+02, 1.20045198e+02],\n",
              "       [2.84000000e+01, 4.26666667e+00, 1.21600000e+02, 1.24266667e+02],\n",
              "       [6.17142857e+01, 1.19466667e+01, 1.02857143e+02, 6.54222222e+01],\n",
              "       [3.85482625e+01, 3.56288660e+01, 7.56138996e+01, 8.90721649e+01],\n",
              "       [5.04000000e+01, 2.70222222e+01, 9.32000000e+01, 1.19111111e+02],\n",
              "       [1.90836364e+01, 4.19672131e+01, 1.03796364e+02, 1.08415301e+02]])"
            ]
          },
          "metadata": {
            "tags": []
          },
          "execution_count": 17
        }
      ]
    },
    {
      "cell_type": "markdown",
      "metadata": {
        "colab_type": "text",
        "id": "Z9iZWEpKWGi2"
      },
      "source": [
        "### Write a for loop which can load all the training images into a variable 'batch_images' using the paths from the 'paths' variable\n",
        "<u>Note:</u> Convert the image to RGB scale as the MobileNet accepts 3 channels as inputs   "
      ]
    },
    {
      "cell_type": "code",
      "metadata": {
        "colab_type": "code",
        "id": "h6e99qquWGi3",
        "colab": {
          "base_uri": "https://localhost:8080/",
          "height": 81
        },
        "outputId": "3e0190e8-2366-40ac-ff0a-2d201f204a85"
      },
      "source": [
        "from PIL import Image\n",
        "from keras_applications import mobilenet\n",
        "from keras.applications.mobilenet import preprocess_input\n",
        "from keras.backend import epsilon\n",
        "from keras.models import Model\n",
        "from keras.layers import Conv2D\n",
        "from keras.layers import Reshape"
      ],
      "execution_count": 18,
      "outputs": [
        {
          "output_type": "stream",
          "text": [
            "Using TensorFlow backend.\n"
          ],
          "name": "stderr"
        },
        {
          "output_type": "display_data",
          "data": {
            "text/html": [
              "<p style=\"color: red;\">\n",
              "The default version of TensorFlow in Colab will soon switch to TensorFlow 2.x.<br>\n",
              "We recommend you <a href=\"https://www.tensorflow.org/guide/migrate\" target=\"_blank\">upgrade</a> now \n",
              "or ensure your notebook will continue to use TensorFlow 1.x via the <code>%tensorflow_version 1.x</code> magic:\n",
              "<a href=\"https://colab.research.google.com/notebooks/tensorflow_version.ipynb\" target=\"_blank\">more info</a>.</p>\n"
            ],
            "text/plain": [
              "<IPython.core.display.HTML object>"
            ]
          },
          "metadata": {
            "tags": []
          }
        }
      ]
    },
    {
      "cell_type": "code",
      "metadata": {
        "id": "3OG3R8wq9Pw3",
        "colab_type": "code",
        "colab": {
          "base_uri": "https://localhost:8080/",
          "height": 211
        },
        "outputId": "267c91ce-8a2a-4a2e-c46a-fdb45cc04e02"
      },
      "source": [
        "!pip install patool\n",
        "import patoolib\n",
        "patoolib.extract_archive('images_racoon-1.rar')"
      ],
      "execution_count": 19,
      "outputs": [
        {
          "output_type": "stream",
          "text": [
            "Collecting patool\n",
            "\u001b[?25l  Downloading https://files.pythonhosted.org/packages/43/94/52243ddff508780dd2d8110964320ab4851134a55ab102285b46e740f76a/patool-1.12-py2.py3-none-any.whl (77kB)\n",
            "\r\u001b[K     |████▎                           | 10kB 17.3MB/s eta 0:00:01\r\u001b[K     |████████▌                       | 20kB 3.3MB/s eta 0:00:01\r\u001b[K     |████████████▊                   | 30kB 4.3MB/s eta 0:00:01\r\u001b[K     |█████████████████               | 40kB 2.9MB/s eta 0:00:01\r\u001b[K     |█████████████████████▏          | 51kB 3.3MB/s eta 0:00:01\r\u001b[K     |█████████████████████████▍      | 61kB 3.9MB/s eta 0:00:01\r\u001b[K     |█████████████████████████████▋  | 71kB 4.3MB/s eta 0:00:01\r\u001b[K     |████████████████████████████████| 81kB 3.4MB/s \n",
            "\u001b[?25hInstalling collected packages: patool\n",
            "Successfully installed patool-1.12\n",
            "patool: Extracting images_racoon-1.rar ...\n",
            "patool: running /usr/bin/unrar x -- \"/content/drive/My Drive/Residency_10/Lab_Internal/images_racoon-1.rar\"\n",
            "patool:     with cwd='./Unpack_oto6kcwk'\n",
            "patool: ... images_racoon-1.rar extracted to `images'.\n"
          ],
          "name": "stdout"
        },
        {
          "output_type": "execute_result",
          "data": {
            "text/plain": [
              "'images'"
            ]
          },
          "metadata": {
            "tags": []
          },
          "execution_count": 19
        }
      ]
    },
    {
      "cell_type": "code",
      "metadata": {
        "id": "BJQ9nYt8Bih4",
        "colab_type": "code",
        "colab": {}
      },
      "source": [
        "batch_images = np.zeros(shape=(len(paths),IMAGE_SIZE,IMAGE_SIZE,3),dtype=np.float32)"
      ],
      "execution_count": 0,
      "outputs": []
    },
    {
      "cell_type": "code",
      "metadata": {
        "id": "A2FVT3Qcuitw",
        "colab_type": "code",
        "colab": {}
      },
      "source": [
        "for i,img_name in enumerate(paths):\n",
        "  img=Image.open('/content/drive/My Drive/Residency_10/Lab_Internal/images/'+img_name)\n",
        "  img=img.resize((IMAGE_SIZE,IMAGE_SIZE))\n",
        "  img = img.convert(\"RGB\")\n",
        "  batch_images[i]=preprocess_input(np.array(img,dtype=np.float32))"
      ],
      "execution_count": 0,
      "outputs": []
    },
    {
      "cell_type": "markdown",
      "metadata": {
        "colab_type": "text",
        "id": "L2YVmKdE9eDb"
      },
      "source": [
        "### Import MobileNet and load MobileNet into a variable named 'model' which takes input shape of 128 * 128 * 3. Freeze all the layers. Add convolution and reshape layers at the end to ensure the output is 4 coordinates"
      ]
    },
    {
      "cell_type": "code",
      "metadata": {
        "colab_type": "code",
        "id": "-3cPwQng9eDe",
        "colab": {
          "base_uri": "https://localhost:8080/",
          "height": 453
        },
        "outputId": "a55a87aa-b438-49b2-9fca-80c1d6facfbe"
      },
      "source": [
        "from keras.applications.mobilenet import MobileNet\n",
        "IMG_SHAPE=(IMAGE_SIZE, IMAGE_SIZE, 3)\n",
        "model = MobileNet(input_shape=IMG_SHAPE,include_top=False,alpha=1.0)"
      ],
      "execution_count": 23,
      "outputs": [
        {
          "output_type": "stream",
          "text": [
            "WARNING:tensorflow:From /usr/local/lib/python3.6/dist-packages/keras/backend/tensorflow_backend.py:66: The name tf.get_default_graph is deprecated. Please use tf.compat.v1.get_default_graph instead.\n",
            "\n",
            "WARNING:tensorflow:From /usr/local/lib/python3.6/dist-packages/keras/backend/tensorflow_backend.py:541: The name tf.placeholder is deprecated. Please use tf.compat.v1.placeholder instead.\n",
            "\n",
            "WARNING:tensorflow:From /usr/local/lib/python3.6/dist-packages/keras/backend/tensorflow_backend.py:4432: The name tf.random_uniform is deprecated. Please use tf.random.uniform instead.\n",
            "\n",
            "WARNING:tensorflow:From /usr/local/lib/python3.6/dist-packages/keras/backend/tensorflow_backend.py:190: The name tf.get_default_session is deprecated. Please use tf.compat.v1.get_default_session instead.\n",
            "\n",
            "WARNING:tensorflow:From /usr/local/lib/python3.6/dist-packages/keras/backend/tensorflow_backend.py:197: The name tf.ConfigProto is deprecated. Please use tf.compat.v1.ConfigProto instead.\n",
            "\n",
            "WARNING:tensorflow:From /usr/local/lib/python3.6/dist-packages/keras/backend/tensorflow_backend.py:203: The name tf.Session is deprecated. Please use tf.compat.v1.Session instead.\n",
            "\n",
            "WARNING:tensorflow:From /usr/local/lib/python3.6/dist-packages/keras/backend/tensorflow_backend.py:207: The name tf.global_variables is deprecated. Please use tf.compat.v1.global_variables instead.\n",
            "\n",
            "WARNING:tensorflow:From /usr/local/lib/python3.6/dist-packages/keras/backend/tensorflow_backend.py:216: The name tf.is_variable_initialized is deprecated. Please use tf.compat.v1.is_variable_initialized instead.\n",
            "\n",
            "WARNING:tensorflow:From /usr/local/lib/python3.6/dist-packages/keras/backend/tensorflow_backend.py:223: The name tf.variables_initializer is deprecated. Please use tf.compat.v1.variables_initializer instead.\n",
            "\n",
            "WARNING:tensorflow:From /usr/local/lib/python3.6/dist-packages/keras/backend/tensorflow_backend.py:2041: The name tf.nn.fused_batch_norm is deprecated. Please use tf.compat.v1.nn.fused_batch_norm instead.\n",
            "\n",
            "WARNING:tensorflow:From /usr/local/lib/python3.6/dist-packages/keras/backend/tensorflow_backend.py:148: The name tf.placeholder_with_default is deprecated. Please use tf.compat.v1.placeholder_with_default instead.\n",
            "\n",
            "Downloading data from https://github.com/fchollet/deep-learning-models/releases/download/v0.6/mobilenet_1_0_128_tf_no_top.h5\n",
            "17227776/17225924 [==============================] - 1s 0us/step\n"
          ],
          "name": "stdout"
        }
      ]
    },
    {
      "cell_type": "code",
      "metadata": {
        "id": "8EPHBMdeZG0X",
        "colab_type": "code",
        "colab": {}
      },
      "source": [
        "for layers in model.layers:\n",
        "  layers.trainable=False"
      ],
      "execution_count": 0,
      "outputs": []
    },
    {
      "cell_type": "code",
      "metadata": {
        "id": "5M1DKKVzZQoA",
        "colab_type": "code",
        "colab": {}
      },
      "source": [
        "X=model.layers[-1].output\n",
        "X=Conv2D(4,kernel_size=4)(X)\n",
        "X=Reshape((4,))(X)"
      ],
      "execution_count": 0,
      "outputs": []
    },
    {
      "cell_type": "code",
      "metadata": {
        "id": "h7J3l4n-eBjS",
        "colab_type": "code",
        "outputId": "b920a190-2c6f-4d00-ef11-4b3085551d90",
        "colab": {
          "base_uri": "https://localhost:8080/",
          "height": 72
        }
      },
      "source": [
        "model=Model(inputs=model.input, output=X)"
      ],
      "execution_count": 26,
      "outputs": [
        {
          "output_type": "stream",
          "text": [
            "/usr/local/lib/python3.6/dist-packages/ipykernel_launcher.py:1: UserWarning: Update your `Model` call to the Keras 2 API: `Model(inputs=Tensor(\"in..., outputs=Tensor(\"re...)`\n",
            "  \"\"\"Entry point for launching an IPython kernel.\n"
          ],
          "name": "stderr"
        }
      ]
    },
    {
      "cell_type": "markdown",
      "metadata": {
        "colab_type": "text",
        "id": "nsQSHWgpWGjC"
      },
      "source": [
        "### Define a custom loss function IoU which calculates Intersection Over Union"
      ]
    },
    {
      "cell_type": "code",
      "metadata": {
        "colab_type": "code",
        "id": "7Ig_Gsn-WGjD",
        "colab": {}
      },
      "source": [
        "def loss(gt,pred):\n",
        "    intersections = 0\n",
        "    unions = 0\n",
        "    diff_width = np.minimum(gt[:,0] + gt[:,2], pred[:,0] + pred[:,2]) - np.maximum(gt[:,0], pred[:,0])\n",
        "    diff_height = np.minimum(gt[:,1] + gt[:,3], pred[:,1] + pred[:,3]) - np.maximum(gt[:,1], pred[:,1])\n",
        "    intersection = diff_width * diff_height\n",
        "    \n",
        "    # Compute union\n",
        "    area_gt = gt[:,2] * gt[:,3]\n",
        "    area_pred = pred[:,2] * pred[:,3]\n",
        "    union = area_gt + area_pred - intersection\n",
        "\n",
        "#     Compute intersection and union over multiple boxes\n",
        "    for j, _ in enumerate(union):\n",
        "        if union[j] > 0 and intersection[j] > 0 and union[j] >= intersection[j]:\n",
        "            intersections += intersection[j]\n",
        "            unions += union[j]\n",
        "\n",
        "    # Compute IOU. Use epsilon to prevent division by zero\n",
        "    iou = np.round(intersections / (unions + epsilon()), 4)\n",
        "    iou = iou.astype(np.float32)\n",
        "    return iou\n",
        "\n",
        "def IoU(y_true, y_pred):\n",
        "    iou = tf.py_func(loss, [y_true, y_pred], tf.float32)\n",
        "    return iou"
      ],
      "execution_count": 0,
      "outputs": []
    },
    {
      "cell_type": "markdown",
      "metadata": {
        "colab_type": "text",
        "id": "2Zs7VcSVWGjF"
      },
      "source": [
        "### Write model.compile function & model.fit function with: <br>\n",
        "1. Optimizer = Adam, Loss = 'mse' and metrics = IoU\n",
        "2. Epochs = 30, batch_size = 32, verbose = 1"
      ]
    },
    {
      "cell_type": "code",
      "metadata": {
        "colab_type": "code",
        "id": "f35dLEJlWGjG",
        "colab": {
          "base_uri": "https://localhost:8080/",
          "height": 297
        },
        "outputId": "911cdf6c-eaa7-4e70-9aa4-25ebaeb8e746"
      },
      "source": [
        "import tensorflow as tf\n",
        "model.compile(optimizer='adam',loss='mse',metrics=[IoU])"
      ],
      "execution_count": 28,
      "outputs": [
        {
          "output_type": "stream",
          "text": [
            "WARNING:tensorflow:From /usr/local/lib/python3.6/dist-packages/keras/optimizers.py:793: The name tf.train.Optimizer is deprecated. Please use tf.compat.v1.train.Optimizer instead.\n",
            "\n",
            "WARNING:tensorflow:From <ipython-input-27-a811784d62ce>:25: py_func (from tensorflow.python.ops.script_ops) is deprecated and will be removed in a future version.\n",
            "Instructions for updating:\n",
            "tf.py_func is deprecated in TF V2. Instead, there are two\n",
            "    options available in V2.\n",
            "    - tf.py_function takes a python function which manipulates tf eager\n",
            "    tensors instead of numpy arrays. It's easy to convert a tf eager tensor to\n",
            "    an ndarray (just call tensor.numpy()) but having access to eager tensors\n",
            "    means `tf.py_function`s can use accelerators such as GPUs as well as\n",
            "    being differentiable using a gradient tape.\n",
            "    - tf.numpy_function maintains the semantics of the deprecated tf.py_func\n",
            "    (it is not differentiable, and manipulates numpy arrays). It drops the\n",
            "    stateful argument making all functions stateful.\n",
            "    \n"
          ],
          "name": "stdout"
        }
      ]
    },
    {
      "cell_type": "code",
      "metadata": {
        "id": "PA_DI70s9vok",
        "colab_type": "code",
        "colab": {
          "base_uri": "https://localhost:8080/",
          "height": 1000
        },
        "outputId": "2317e1fb-5ced-46ff-b02b-a1a5e9154a38"
      },
      "source": [
        "model.fit(batch_images,coords,epochs=30,batch_size=32,verbose=1)"
      ],
      "execution_count": 29,
      "outputs": [
        {
          "output_type": "stream",
          "text": [
            "WARNING:tensorflow:From /usr/local/lib/python3.6/dist-packages/keras/backend/tensorflow_backend.py:1033: The name tf.assign_add is deprecated. Please use tf.compat.v1.assign_add instead.\n",
            "\n",
            "WARNING:tensorflow:From /usr/local/lib/python3.6/dist-packages/keras/backend/tensorflow_backend.py:1020: The name tf.assign is deprecated. Please use tf.compat.v1.assign instead.\n",
            "\n",
            "Epoch 1/30\n",
            "173/173 [==============================] - 6s 34ms/step - loss: 4333.8767 - IoU: 0.0542\n",
            "Epoch 2/30\n",
            "173/173 [==============================] - 5s 29ms/step - loss: 1013.9434 - IoU: 0.3619\n",
            "Epoch 3/30\n",
            "173/173 [==============================] - 5s 29ms/step - loss: 421.1313 - IoU: 0.5707\n",
            "Epoch 4/30\n",
            "173/173 [==============================] - 5s 29ms/step - loss: 619.8392 - IoU: 0.5468\n",
            "Epoch 5/30\n",
            "173/173 [==============================] - 5s 29ms/step - loss: 440.3158 - IoU: 0.5693\n",
            "Epoch 6/30\n",
            "173/173 [==============================] - 5s 29ms/step - loss: 235.5991 - IoU: 0.6414\n",
            "Epoch 7/30\n",
            "173/173 [==============================] - 5s 29ms/step - loss: 209.8047 - IoU: 0.6357\n",
            "Epoch 8/30\n",
            "173/173 [==============================] - 5s 30ms/step - loss: 192.9059 - IoU: 0.6640\n",
            "Epoch 9/30\n",
            "173/173 [==============================] - 5s 30ms/step - loss: 155.4744 - IoU: 0.7060\n",
            "Epoch 10/30\n",
            "173/173 [==============================] - 5s 29ms/step - loss: 137.1486 - IoU: 0.7315\n",
            "Epoch 11/30\n",
            "173/173 [==============================] - 5s 29ms/step - loss: 125.3309 - IoU: 0.7423\n",
            "Epoch 12/30\n",
            "173/173 [==============================] - 5s 29ms/step - loss: 113.7329 - IoU: 0.7515\n",
            "Epoch 13/30\n",
            "173/173 [==============================] - 5s 29ms/step - loss: 104.4831 - IoU: 0.7590\n",
            "Epoch 14/30\n",
            "173/173 [==============================] - 5s 29ms/step - loss: 99.4766 - IoU: 0.7636\n",
            "Epoch 15/30\n",
            "173/173 [==============================] - 5s 29ms/step - loss: 94.9717 - IoU: 0.7712\n",
            "Epoch 16/30\n",
            "173/173 [==============================] - 5s 29ms/step - loss: 87.1319 - IoU: 0.7811\n",
            "Epoch 17/30\n",
            "173/173 [==============================] - 5s 29ms/step - loss: 85.5200 - IoU: 0.7876\n",
            "Epoch 18/30\n",
            "173/173 [==============================] - 5s 29ms/step - loss: 79.7240 - IoU: 0.7905\n",
            "Epoch 19/30\n",
            "173/173 [==============================] - 5s 29ms/step - loss: 75.8359 - IoU: 0.8006\n",
            "Epoch 20/30\n",
            "173/173 [==============================] - 5s 29ms/step - loss: 74.1540 - IoU: 0.7989\n",
            "Epoch 21/30\n",
            "173/173 [==============================] - 5s 29ms/step - loss: 71.3568 - IoU: 0.8080\n",
            "Epoch 22/30\n",
            "173/173 [==============================] - 5s 29ms/step - loss: 71.0027 - IoU: 0.8112\n",
            "Epoch 23/30\n",
            "173/173 [==============================] - 5s 29ms/step - loss: 69.1356 - IoU: 0.8040\n",
            "Epoch 24/30\n",
            "173/173 [==============================] - 5s 29ms/step - loss: 69.6181 - IoU: 0.8143\n",
            "Epoch 25/30\n",
            "173/173 [==============================] - 5s 29ms/step - loss: 72.9567 - IoU: 0.7942\n",
            "Epoch 26/30\n",
            "173/173 [==============================] - 5s 29ms/step - loss: 68.7524 - IoU: 0.8043\n",
            "Epoch 27/30\n",
            "173/173 [==============================] - 5s 29ms/step - loss: 67.1072 - IoU: 0.8158\n",
            "Epoch 28/30\n",
            "173/173 [==============================] - 5s 29ms/step - loss: 62.4739 - IoU: 0.8200\n",
            "Epoch 29/30\n",
            "173/173 [==============================] - 5s 29ms/step - loss: 59.3107 - IoU: 0.8312\n",
            "Epoch 30/30\n",
            "173/173 [==============================] - 5s 29ms/step - loss: 63.3246 - IoU: 0.8288\n"
          ],
          "name": "stdout"
        },
        {
          "output_type": "execute_result",
          "data": {
            "text/plain": [
              "<keras.callbacks.History at 0x7f8e7cef7898>"
            ]
          },
          "metadata": {
            "tags": []
          },
          "execution_count": 29
        }
      ]
    },
    {
      "cell_type": "markdown",
      "metadata": {
        "colab_type": "text",
        "id": "II1itmqiWGjK"
      },
      "source": [
        "### Pick a test image from the given data"
      ]
    },
    {
      "cell_type": "code",
      "metadata": {
        "colab_type": "code",
        "id": "0ULErYeSWGjK",
        "colab": {
          "base_uri": "https://localhost:8080/",
          "height": 35
        },
        "outputId": "a25a013c-07e4-46b7-eb8c-89a781247926"
      },
      "source": [
        "# Pick a test image, run model, show image, and show predicted bounding box overlaid on the image\n",
        "import cv2\n",
        "\n",
        "#Pickup a random image number\n",
        "img_num = np.random.randint(0, train_data.shape[0])\n",
        "\n",
        "#Read the image\n",
        "img_file = '/content/drive/My Drive/Residency_10/Lab_Internal/images/' +paths[img_num]\n",
        "\n",
        "#image_name = 'images/raccoon-144.jpg'\n",
        "unscaled = cv2.imread(img_file) # Original image for display\n",
        "image_height, image_width, _ = unscaled.shape\n",
        "print(image_height,image_width,)"
      ],
      "execution_count": 31,
      "outputs": [
        {
          "output_type": "stream",
          "text": [
            "768 1024\n"
          ],
          "name": "stdout"
        }
      ]
    },
    {
      "cell_type": "markdown",
      "metadata": {
        "colab_type": "text",
        "id": "h99SC9MjWGjO"
      },
      "source": [
        "### Resize the image to 128 * 128 and preprocess the image for the MobileNet model"
      ]
    },
    {
      "cell_type": "code",
      "metadata": {
        "colab_type": "code",
        "id": "J3jbKm7_WGjP",
        "colab": {}
      },
      "source": [
        "image = cv2.resize(unscaled, (IMAGE_SIZE, IMAGE_SIZE)) # Rescaled image to run the network\n",
        "feat_scaled = preprocess_input(np.array(image, dtype=np.float32))"
      ],
      "execution_count": 0,
      "outputs": []
    },
    {
      "cell_type": "markdown",
      "metadata": {
        "colab_type": "text",
        "id": "aGK4IjdaWGjR"
      },
      "source": [
        "### Predict the coordinates of the bounding box for the given test image"
      ]
    },
    {
      "cell_type": "code",
      "metadata": {
        "colab_type": "code",
        "id": "abnXH5F7WGjS",
        "colab": {}
      },
      "source": [
        "region = model.predict(x=np.array([feat_scaled]))[0] # Predict the BBox"
      ],
      "execution_count": 0,
      "outputs": []
    },
    {
      "cell_type": "markdown",
      "metadata": {
        "colab_type": "text",
        "id": "CXbjVdLWWGjW"
      },
      "source": [
        "### Plot the test image using .imshow and draw a boundary box around the image with the coordinates obtained from the model"
      ]
    },
    {
      "cell_type": "code",
      "metadata": {
        "colab_type": "code",
        "id": "t4Ah05MlWGjY",
        "colab": {
          "base_uri": "https://localhost:8080/",
          "height": 269
        },
        "outputId": "c0ca8696-d1fe-40b3-fba3-52115d5a3f04"
      },
      "source": [
        "x0 = int(region[0] * image_width / IMAGE_SIZE) # Scale the BBox\n",
        "y0 = int(region[1] * image_height / IMAGE_SIZE)\n",
        "\n",
        "x1 = int((region[2]) * image_width / IMAGE_SIZE)\n",
        "y1 = int((region[3]) * image_height / IMAGE_SIZE)\n",
        "\n",
        "\n",
        "import matplotlib.pyplot as plt\n",
        "import matplotlib.patches as patches\n",
        "from PIL import Image\n",
        "import numpy as np\n",
        "\n",
        "\n",
        "# Create figure and axes\n",
        "fig,ax = plt.subplots(1)\n",
        "\n",
        "# Display the image\n",
        "ax.imshow(unscaled)\n",
        "\n",
        "# Create a Rectangle patch\n",
        "rect = patches.Rectangle((x0, y0), (x1 - x0) , (y1 - y0) , linewidth=2, edgecolor='r', facecolor='none')\n",
        "\n",
        "# Add the patch to the Axes\n",
        "ax.add_patch(rect)\n",
        "\n",
        "plt.show()"
      ],
      "execution_count": 34,
      "outputs": [
        {
          "output_type": "display_data",
          "data": {
            "image/png": "[encoded data removed]",
            "text/plain": [
              "<Figure size 432x288 with 1 Axes>"
            ]
          },
          "metadata": {
            "tags": []
          }
        }
      ]
    },
    {
      "cell_type": "code",
      "metadata": {
        "colab_type": "code",
        "id": "FHbIWp-D7Jyn",
        "colab": {}
      },
      "source": [
        ""
      ],
      "execution_count": 0,
      "outputs": []
    }
  ]
}