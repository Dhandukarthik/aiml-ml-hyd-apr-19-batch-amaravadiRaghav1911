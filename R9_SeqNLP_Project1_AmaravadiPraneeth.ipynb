{
  "nbformat": 4,
  "nbformat_minor": 0,
  "metadata": {
    "accelerator": "GPU",
    "colab": {
      "name": "SeqNLP_Project1_Questions.ipynb",
      "provenance": [],
      "collapsed_sections": []
    },
    "kernelspec": {
      "display_name": "Python 3",
      "language": "python",
      "name": "python3"
    },
    "language_info": {
      "codemirror_mode": {
        "name": "ipython",
        "version": 3
      },
      "file_extension": ".py",
      "mimetype": "text/x-python",
      "name": "python",
      "nbconvert_exporter": "python",
      "pygments_lexer": "ipython3",
      "version": "3.7.1"
    }
  },
  "cells": [
    {
      "cell_type": "markdown",
      "metadata": {
        "colab_type": "text",
        "id": "xT7MKZuMRaCg"
      },
      "source": [
        "# Sentiment Classification\n",
        "\n",
        "\n",
        "### Generate Word Embeddings and retrieve outputs of each layer with Keras based on Classification task\n",
        "\n",
        "Word embeddings are a type of word representation that allows words with similar meaning to have a similar representation.\n",
        "\n",
        "It is a distributed representation for text that is perhaps one of the key breakthroughs for the impressive performance of deep learning methods on challenging natural language processing problems.\n",
        "\n",
        "We willl use the imdb dataset to learn word embeddings as we train our dataset. This dataset contains 25,000 movie reviews from IMDB, labeled with sentiment (positive or negative). \n",
        "\n",
        "\n",
        "\n",
        "### Dataset\n",
        "\n",
        "`from keras.datasets import imdb`\n",
        "\n",
        "Dataset of 25,000 movies reviews from IMDB, labeled by sentiment (positive/negative). Reviews have been preprocessed, and each review is encoded as a sequence of word indexes (integers). For convenience, the words are indexed by their frequency in the dataset, meaning the for that has index 1 is the most frequent word. Use the first 20 words from each review to speed up training, using a max vocab size of 10,000.\n",
        "\n",
        "As a convention, \"0\" does not stand for a specific word, but instead is used to encode any unknown word.\n",
        "\n",
        "\n",
        "### Aim\n",
        "\n",
        "1. Import test and train data  \n",
        "2. Import the labels ( train and test) \n",
        "3. Get the word index and then Create key value pair for word and word_id. (12.5 points)\n",
        "4. Build a Sequential Model using Keras for Sentiment Classification task. (10 points)\n",
        "5. Report the Accuracy of the model. (5 points)  \n",
        "6. Retrive the output of each layer in keras for a given single test sample from the trained model you built. (2.5 points)\n"
      ]
    },
    {
      "cell_type": "markdown",
      "metadata": {
        "colab_type": "text",
        "id": "Wq4RCyyPSYRp"
      },
      "source": [
        "#### Usage:"
      ]
    },
    {
      "cell_type": "markdown",
      "metadata": {
        "id": "vK8-guO1eH_W",
        "colab_type": "text"
      },
      "source": [
        "Import test and train data and the labels"
      ]
    },
    {
      "cell_type": "code",
      "metadata": {
        "colab_type": "code",
        "id": "NGCtiXUhSWss",
        "colab": {
          "base_uri": "https://localhost:8080/",
          "height": 69
        },
        "outputId": "cb5092e9-36d6-4e83-eb34-b40764c4439f"
      },
      "source": [
        "%tensorflow_version 1.x\n",
        "from keras.datasets import imdb\n",
        "\n",
        "vocab_size = 10000 #vocab size\n",
        "\n",
        "(x_train, y_train), (x_test, y_test) = imdb.load_data(num_words=vocab_size) # vocab_size is no.of words to consider from the dataset, ordering based on frequency."
      ],
      "execution_count": 3,
      "outputs": [
        {
          "output_type": "stream",
          "text": [
            "Using TensorFlow backend.\n"
          ],
          "name": "stderr"
        },
        {
          "output_type": "stream",
          "text": [
            "Downloading data from https://s3.amazonaws.com/text-datasets/imdb.npz\n",
            "17465344/17464789 [==============================] - 1s 0us/step\n"
          ],
          "name": "stdout"
        }
      ]
    },
    {
      "cell_type": "markdown",
      "metadata": {
        "id": "8AO6xqXpeVBy",
        "colab_type": "text"
      },
      "source": [
        "Get the word index and then Create key value pair for word and word_id. (12.5 points)"
      ]
    },
    {
      "cell_type": "code",
      "metadata": {
        "id": "B0fbpvy8MeyR",
        "colab_type": "code",
        "colab": {
          "base_uri": "https://localhost:8080/",
          "height": 52
        },
        "outputId": "4fc6ca17-b3f9-45e0-d950-9bbab2c14249"
      },
      "source": [
        "wrd_indx = imdb.get_word_index()"
      ],
      "execution_count": 4,
      "outputs": [
        {
          "output_type": "stream",
          "text": [
            "Downloading data from https://s3.amazonaws.com/text-datasets/imdb_word_index.json\n",
            "1646592/1641221 [==============================] - 0s 0us/step\n"
          ],
          "name": "stdout"
        }
      ]
    },
    {
      "cell_type": "code",
      "metadata": {
        "id": "I2RT3OiTbiyk",
        "colab_type": "code",
        "colab": {}
      },
      "source": [
        "word_dict = dict(wrd_indx)"
      ],
      "execution_count": 0,
      "outputs": []
    },
    {
      "cell_type": "markdown",
      "metadata": {
        "id": "4ksvWU-Wfy-Y",
        "colab_type": "text"
      },
      "source": [
        "Use the first 20 words from each review to speed up training, using a max vocab size of 10,000."
      ]
    },
    {
      "cell_type": "code",
      "metadata": {
        "id": "_DcQm55HWrx4",
        "colab_type": "code",
        "colab": {}
      },
      "source": [
        "import numpy as np"
      ],
      "execution_count": 0,
      "outputs": []
    },
    {
      "cell_type": "code",
      "metadata": {
        "id": "n9kIwZKxWQ4V",
        "colab_type": "code",
        "colab": {}
      },
      "source": [
        "#X_train_new = []\n",
        "#for n in range(0,x_train.shape[0]):\n",
        "#  X_train_new.append(np.array(x_train[n][:20]))\n",
        "\n",
        "#Using all words to improve on the accuracy of the model\n",
        "X_train_new = x_train"
      ],
      "execution_count": 0,
      "outputs": []
    },
    {
      "cell_type": "code",
      "metadata": {
        "id": "wak_povuWQwB",
        "colab_type": "code",
        "colab": {}
      },
      "source": [
        "#X_test_new = []\n",
        "#for n in range(0,x_test.shape[0]):\n",
        "#  X_test_new.append(np.array(x_test[n][:20]))\n",
        "\n",
        "#Using all words to improve on the accuracy of the model\n",
        "X_test_new = x_test"
      ],
      "execution_count": 0,
      "outputs": []
    },
    {
      "cell_type": "code",
      "metadata": {
        "colab_type": "code",
        "id": "fCPC_WN-eCyw",
        "colab": {}
      },
      "source": [
        "from keras.preprocessing.sequence import pad_sequences\n",
        "vocab_size = 10000 #vocab size\n",
        "maxlen = 300  #number of word used from each review"
      ],
      "execution_count": 0,
      "outputs": []
    },
    {
      "cell_type": "code",
      "metadata": {
        "colab_type": "code",
        "id": "h0g381XzeCyz",
        "colab": {}
      },
      "source": [
        "#load dataset as a list of ints\n",
        "#(x_train, y_train), (x_test, y_test) = imdb.load_data(num_words=vocab_size)\n",
        "#make all sequences of the same length\n",
        "#import pandas as pd\n",
        "#X_train = pd.DataFrame(x_train)\n",
        "#X_train = X_train.iloc[:,0:21]\n",
        "x_train_pad = pad_sequences(X_train_new, maxlen=maxlen)\n",
        "x_test_pad =  pad_sequences(X_test_new, maxlen=maxlen)"
      ],
      "execution_count": 0,
      "outputs": []
    },
    {
      "cell_type": "code",
      "metadata": {
        "id": "Cu3ombGcMwQq",
        "colab_type": "code",
        "outputId": "fa4e503c-9338-48a1-c664-61e78ffa5383",
        "colab": {
          "base_uri": "https://localhost:8080/",
          "height": 780
        }
      },
      "source": [
        "print('x_train_pad :',x_train_pad[1])\n",
        "print('x_test_pad :',x_test_pad[1])"
      ],
      "execution_count": 19,
      "outputs": [
        {
          "output_type": "stream",
          "text": [
            "x_train_pad : [   0    0    0    0    0    0    0    0    0    0    0    0    0    0\n",
            "    0    0    0    0    0    0    0    0    0    0    0    0    0    0\n",
            "    0    0    0    0    0    0    0    0    0    0    0    0    0    0\n",
            "    0    0    0    0    0    0    0    0    0    0    0    0    0    0\n",
            "    0    0    0    0    0    0    0    0    0    0    0    0    0    0\n",
            "    0    0    0    0    0    0    0    0    0    0    0    0    0    0\n",
            "    0    0    0    0    0    0    0    0    0    0    0    0    0    0\n",
            "    0    0    0    0    0    0    0    0    0    0    0    0    0    1\n",
            "  194 1153  194 8255   78  228    5    6 1463 4369 5012  134   26    4\n",
            "  715    8  118 1634   14  394   20   13  119  954  189  102    5  207\n",
            "  110 3103   21   14   69  188    8   30   23    7    4  249  126   93\n",
            "    4  114    9 2300 1523    5  647    4  116    9   35 8163    4  229\n",
            "    9  340 1322    4  118    9    4  130 4901   19    4 1002    5   89\n",
            "   29  952   46   37    4  455    9   45   43   38 1543 1905  398    4\n",
            " 1649   26 6853    5  163   11 3215    2    4 1153    9  194  775    7\n",
            " 8255    2  349 2637  148  605    2 8003   15  123  125   68    2 6853\n",
            "   15  349  165 4362   98    5    4  228    9   43    2 1157   15  299\n",
            "  120    5  120  174   11  220  175  136   50    9 4373  228 8255    5\n",
            "    2  656  245 2350    5    4 9837  131  152  491   18    2   32 7464\n",
            " 1212   14    9    6  371   78   22  625   64 1382    9    8  168  145\n",
            "   23    4 1690   15   16    4 1355    5   28    6   52  154  462   33\n",
            "   89   78  285   16  145   95]\n",
            "x_test_pad : [   0    0    0    0    0    0    0    0    0    0    0    0    0    0\n",
            "    0    0    0    0    0    0    0    0    0    0    0    0    0    0\n",
            "    0    0    0    0    0    0    0    0    0    0    0    0    1   14\n",
            "   22 3443    6  176    7 5063   88   12 2679   23 1310    5  109  943\n",
            "    4  114    9   55  606    5  111    7    4  139  193  273   23    4\n",
            "  172  270   11 7216    2    4 8463 2801  109 1603   21    4   22 3861\n",
            "    8    6 1193 1330   10   10    4  105  987   35  841    2   19  861\n",
            " 1074    5 1987    2   45   55  221   15  670 5304  526   14 1069    4\n",
            "  405    5 2438    7   27   85  108  131    4 5045 5304 3884  405    9\n",
            " 3523  133    5   50   13  104   51   66  166   14   22  157    9    4\n",
            "  530  239   34 8463 2801   45  407   31    7   41 3778  105   21   59\n",
            "  299   12   38  950    5 4521   15   45  629  488 2733  127    6   52\n",
            "  292   17    4 6936  185  132 1988 5304 1799  488 2693   47    6  392\n",
            "  173    4    2 4378  270 2352    4 1500    7    4   65   55   73   11\n",
            "  346   14   20    9    6  976 2078    7 5293  861    2    5 4182   30\n",
            " 3127    2   56    4  841    5  990  692    8    4 1669  398  229   10\n",
            "   10   13 2822  670 5304   14    9   31    7   27  111  108   15 2033\n",
            "   19 7836 1429  875  551   14   22    9 1193   21   45 4829    5   45\n",
            "  252    8    2    6  565  921 3639   39    4  529   48   25  181    8\n",
            "   67   35 1732   22   49  238   60  135 1162   14    9  290    4   58\n",
            "   10   10  472   45   55  878    8  169   11  374 5687   25  203   28\n",
            "    8  818   12  125    4 3077]\n"
          ],
          "name": "stdout"
        }
      ]
    },
    {
      "cell_type": "code",
      "metadata": {
        "colab_type": "code",
        "id": "Jy6n-uM2eCy2",
        "colab": {
          "base_uri": "https://localhost:8080/",
          "height": 52
        },
        "outputId": "5ae63c5c-fc37-4ba3-a9eb-4c253802b21a"
      },
      "source": [
        "print('y_train: ',y_train)\n",
        "print('y_test: ',y_test)"
      ],
      "execution_count": 20,
      "outputs": [
        {
          "output_type": "stream",
          "text": [
            "y_train:  [1 0 0 ... 0 1 0]\n",
            "y_test:  [0 1 1 ... 0 0 0]\n"
          ],
          "name": "stdout"
        }
      ]
    },
    {
      "cell_type": "markdown",
      "metadata": {
        "colab_type": "text",
        "id": "dybtUgUReCy8"
      },
      "source": [
        "## Build Keras Embedding Layer Model\n",
        "We can think of the Embedding layer as a dicionary that maps a index assigned to a word to a word vector. This layer is very flexible and can be used in a few ways:\n",
        "\n",
        "* The embedding layer can be used at the start of a larger deep learning model. \n",
        "* Also we could load pre-train word embeddings into the embedding layer when we create our model.\n",
        "* Use the embedding layer to train our own word2vec models.\n",
        "\n",
        "The keras embedding layer doesn't require us to onehot encode our words, instead we have to give each word a unqiue intger number as an id. For the imdb dataset we've loaded this has already been done, but if this wasn't the case we could use sklearn [LabelEncoder](http://scikit-learn.org/stable/modules/generated/sklearn.preprocessing.LabelEncoder.html)."
      ]
    },
    {
      "cell_type": "code",
      "metadata": {
        "colab_type": "code",
        "id": "A5OLM4eBeCy9",
        "colab": {}
      },
      "source": [
        "import tensorflow as tf\n",
        "from keras.callbacks import ModelCheckpoint, EarlyStopping"
      ],
      "execution_count": 0,
      "outputs": []
    },
    {
      "cell_type": "code",
      "metadata": {
        "colab_type": "code",
        "id": "TxNDNhrseCzA",
        "colab": {}
      },
      "source": [
        "#Initialize model\n",
        "tf.keras.backend.clear_session()\n",
        "model = tf.keras.Sequential()"
      ],
      "execution_count": 0,
      "outputs": []
    },
    {
      "cell_type": "code",
      "metadata": {
        "colab_type": "code",
        "id": "L3CSVVPPeCzD",
        "colab": {
          "base_uri": "https://localhost:8080/",
          "height": 141
        },
        "outputId": "645acdc0-e73e-48af-b28d-0a5a6b9e0747"
      },
      "source": [
        "model.add(tf.keras.layers.Embedding(vocab_size + 1, #Vocablury size\n",
        "                                    50, #Embedding size\n",
        "                                    input_length=maxlen) #Number of words in each review\n",
        "          )"
      ],
      "execution_count": 23,
      "outputs": [
        {
          "output_type": "stream",
          "text": [
            "WARNING:tensorflow:From /usr/local/lib/python3.6/dist-packages/tensorflow_core/python/keras/initializers.py:119: calling RandomUniform.__init__ (from tensorflow.python.ops.init_ops) with dtype is deprecated and will be removed in a future version.\n",
            "Instructions for updating:\n",
            "Call initializer instance with the dtype argument instead of passing it to the constructor\n",
            "WARNING:tensorflow:From /usr/local/lib/python3.6/dist-packages/tensorflow_core/python/ops/resource_variable_ops.py:1630: calling BaseResourceVariable.__init__ (from tensorflow.python.ops.resource_variable_ops) with constraint is deprecated and will be removed in a future version.\n",
            "Instructions for updating:\n",
            "If using Keras pass *_constraint arguments to layers.\n"
          ],
          "name": "stdout"
        }
      ]
    },
    {
      "cell_type": "code",
      "metadata": {
        "id": "KTqlBHcTYTaP",
        "colab_type": "code",
        "colab": {
          "base_uri": "https://localhost:8080/",
          "height": 35
        },
        "outputId": "6d627bb9-85c7-4a34-e404-2d336637a760"
      },
      "source": [
        "model.output"
      ],
      "execution_count": 24,
      "outputs": [
        {
          "output_type": "execute_result",
          "data": {
            "text/plain": [
              "<tf.Tensor 'embedding/embedding_lookup/Identity_1:0' shape=(?, 300, 50) dtype=float32>"
            ]
          },
          "metadata": {
            "tags": []
          },
          "execution_count": 24
        }
      ]
    },
    {
      "cell_type": "code",
      "metadata": {
        "id": "roQX-fuFYdtt",
        "colab_type": "code",
        "colab": {}
      },
      "source": [
        "model.add(tf.keras.layers.LSTM(256, #RNN State - size of cell state and hidden state\n",
        "                               dropout=0.2, #Dropout before feeding the data to LSTM layer\n",
        "                               recurrent_dropout=0.4)) #Dropout applied to the output of LSTM layer"
      ],
      "execution_count": 0,
      "outputs": []
    },
    {
      "cell_type": "code",
      "metadata": {
        "id": "bhStpvTaYm8-",
        "colab_type": "code",
        "colab": {}
      },
      "source": [
        "model.add(tf.keras.layers.Dense(1,activation='sigmoid'))"
      ],
      "execution_count": 0,
      "outputs": []
    },
    {
      "cell_type": "code",
      "metadata": {
        "id": "v_mljp0yYm5o",
        "colab_type": "code",
        "colab": {
          "base_uri": "https://localhost:8080/",
          "height": 89
        },
        "outputId": "27f263aa-560c-4f70-82b9-e9e6a83a5123"
      },
      "source": [
        "#Compile the model\n",
        "adam = tf.keras.optimizers.Adadelta(learning_rate=1.0, rho=0.95)\n",
        "model.compile(optimizer=adam,loss='binary_crossentropy',metrics=['accuracy'])"
      ],
      "execution_count": 27,
      "outputs": [
        {
          "output_type": "stream",
          "text": [
            "WARNING:tensorflow:From /usr/local/lib/python3.6/dist-packages/tensorflow_core/python/ops/nn_impl.py:183: where (from tensorflow.python.ops.array_ops) is deprecated and will be removed in a future version.\n",
            "Instructions for updating:\n",
            "Use tf.where in 2.0, which has the same broadcast rule as np.where\n"
          ],
          "name": "stdout"
        }
      ]
    },
    {
      "cell_type": "code",
      "metadata": {
        "id": "f1KMcCsKYm2z",
        "colab_type": "code",
        "colab": {
          "base_uri": "https://localhost:8080/",
          "height": 260
        },
        "outputId": "6c975fbe-5314-4611-a689-63708be10f69"
      },
      "source": [
        "model.summary()"
      ],
      "execution_count": 28,
      "outputs": [
        {
          "output_type": "stream",
          "text": [
            "Model: \"sequential\"\n",
            "_________________________________________________________________\n",
            "Layer (type)                 Output Shape              Param #   \n",
            "=================================================================\n",
            "embedding (Embedding)        (None, 300, 50)           500050    \n",
            "_________________________________________________________________\n",
            "lstm (LSTM)                  (None, 256)               314368    \n",
            "_________________________________________________________________\n",
            "dense (Dense)                (None, 1)                 257       \n",
            "=================================================================\n",
            "Total params: 814,675\n",
            "Trainable params: 814,675\n",
            "Non-trainable params: 0\n",
            "_________________________________________________________________\n"
          ],
          "name": "stdout"
        }
      ]
    },
    {
      "cell_type": "code",
      "metadata": {
        "id": "iWtEk9QU3KVl",
        "colab_type": "code",
        "colab": {}
      },
      "source": [
        "checkpoint = ModelCheckpoint(\"seqNLP_best.h5\", monitor='val_acc', verbose=1, save_best_only=True, mode='auto')\n",
        "early = EarlyStopping(monitor='val_acc', min_delta=0, patience=5, verbose=1, mode='auto')"
      ],
      "execution_count": 0,
      "outputs": []
    },
    {
      "cell_type": "code",
      "metadata": {
        "id": "BVXcPK1AYmz6",
        "colab_type": "code",
        "colab": {
          "base_uri": "https://localhost:8080/",
          "height": 765
        },
        "outputId": "47fffd09-aed2-4703-f539-6182ff0d68a4"
      },
      "source": [
        "model.fit(x_train_pad,y_train,\n",
        "          epochs=10,\n",
        "          batch_size=100,          \n",
        "          validation_data=(x_test_pad, y_test),callbacks = [checkpoint, early])"
      ],
      "execution_count": 30,
      "outputs": [
        {
          "output_type": "stream",
          "text": [
            "Train on 25000 samples, validate on 25000 samples\n",
            "Epoch 1/10\n",
            "24900/25000 [============================>.] - ETA: 0s - loss: 0.6903 - acc: 0.5282\n",
            "Epoch 00001: val_acc improved from -inf to 0.60800, saving model to seqNLP_best.h5\n",
            "25000/25000 [==============================] - 195s 8ms/sample - loss: 0.6902 - acc: 0.5280 - val_loss: 0.6727 - val_acc: 0.6080\n",
            "Epoch 2/10\n",
            "24900/25000 [============================>.] - ETA: 0s - loss: 0.5909 - acc: 0.6914\n",
            "Epoch 00002: val_acc improved from 0.60800 to 0.79228, saving model to seqNLP_best.h5\n",
            "25000/25000 [==============================] - 193s 8ms/sample - loss: 0.5903 - acc: 0.6918 - val_loss: 0.4429 - val_acc: 0.7923\n",
            "Epoch 3/10\n",
            "24900/25000 [============================>.] - ETA: 0s - loss: 0.4591 - acc: 0.7972\n",
            "Epoch 00003: val_acc improved from 0.79228 to 0.83128, saving model to seqNLP_best.h5\n",
            "25000/25000 [==============================] - 193s 8ms/sample - loss: 0.4591 - acc: 0.7972 - val_loss: 0.3896 - val_acc: 0.8313\n",
            "Epoch 4/10\n",
            "24900/25000 [============================>.] - ETA: 0s - loss: 0.4048 - acc: 0.8243\n",
            "Epoch 00004: val_acc improved from 0.83128 to 0.83192, saving model to seqNLP_best.h5\n",
            "25000/25000 [==============================] - 191s 8ms/sample - loss: 0.4048 - acc: 0.8244 - val_loss: 0.3863 - val_acc: 0.8319\n",
            "Epoch 5/10\n",
            "24900/25000 [============================>.] - ETA: 0s - loss: 0.3887 - acc: 0.8364\n",
            "Epoch 00005: val_acc did not improve from 0.83192\n",
            "25000/25000 [==============================] - 193s 8ms/sample - loss: 0.3889 - acc: 0.8363 - val_loss: 0.3988 - val_acc: 0.8220\n",
            "Epoch 6/10\n",
            "24900/25000 [============================>.] - ETA: 0s - loss: 0.3528 - acc: 0.8545\n",
            "Epoch 00006: val_acc improved from 0.83192 to 0.83980, saving model to seqNLP_best.h5\n",
            "25000/25000 [==============================] - 193s 8ms/sample - loss: 0.3525 - acc: 0.8546 - val_loss: 0.3684 - val_acc: 0.8398\n",
            "Epoch 7/10\n",
            "24900/25000 [============================>.] - ETA: 0s - loss: 0.3420 - acc: 0.8598\n",
            "Epoch 00007: val_acc improved from 0.83980 to 0.84080, saving model to seqNLP_best.h5\n",
            "25000/25000 [==============================] - 192s 8ms/sample - loss: 0.3417 - acc: 0.8600 - val_loss: 0.3716 - val_acc: 0.8408\n",
            "Epoch 8/10\n",
            "24900/25000 [============================>.] - ETA: 0s - loss: 0.3254 - acc: 0.8683\n",
            "Epoch 00008: val_acc did not improve from 0.84080\n",
            "25000/25000 [==============================] - 193s 8ms/sample - loss: 0.3255 - acc: 0.8682 - val_loss: 0.4003 - val_acc: 0.8206\n",
            "Epoch 9/10\n",
            "24900/25000 [============================>.] - ETA: 0s - loss: 0.3134 - acc: 0.8772\n",
            "Epoch 00009: val_acc improved from 0.84080 to 0.84752, saving model to seqNLP_best.h5\n",
            "25000/25000 [==============================] - 192s 8ms/sample - loss: 0.3141 - acc: 0.8770 - val_loss: 0.3549 - val_acc: 0.8475\n",
            "Epoch 10/10\n",
            "24900/25000 [============================>.] - ETA: 0s - loss: 0.3144 - acc: 0.8753\n",
            "Epoch 00010: val_acc did not improve from 0.84752\n",
            "25000/25000 [==============================] - 194s 8ms/sample - loss: 0.3141 - acc: 0.8754 - val_loss: 0.3691 - val_acc: 0.8397\n"
          ],
          "name": "stdout"
        },
        {
          "output_type": "execute_result",
          "data": {
            "text/plain": [
              "<tensorflow.python.keras.callbacks.History at 0x7ff0fa012da0>"
            ]
          },
          "metadata": {
            "tags": []
          },
          "execution_count": 30
        }
      ]
    },
    {
      "cell_type": "markdown",
      "metadata": {
        "colab_type": "text",
        "id": "Igq8Qm8GeCzG"
      },
      "source": [
        "## Retrive the output of each layer in keras for a given single test sample from the trained model you built"
      ]
    },
    {
      "cell_type": "code",
      "metadata": {
        "colab_type": "code",
        "id": "0AqOnLa2eCzH",
        "colab": {
          "base_uri": "https://localhost:8080/",
          "height": 69
        },
        "outputId": "d8d1dcf2-b142-40d5-be67-09dbf2a8300c"
      },
      "source": [
        "for i in range(0,np.size(model.layers)):\n",
        "  print(model.layers[i])"
      ],
      "execution_count": 144,
      "outputs": [
        {
          "output_type": "stream",
          "text": [
            "<tensorflow.python.keras.layers.embeddings.Embedding object at 0x7f6951bb78d0>\n",
            "<tensorflow.python.keras.layers.recurrent.LSTM object at 0x7f6951bb7cc0>\n",
            "<tensorflow.python.keras.layers.core.Dense object at 0x7f6951bb7c88>\n"
          ],
          "name": "stdout"
        }
      ]
    },
    {
      "cell_type": "code",
      "metadata": {
        "colab_type": "code",
        "id": "-dUDSg7VeCzM",
        "colab": {
          "base_uri": "https://localhost:8080/",
          "height": 35
        },
        "outputId": "f81a2847-4059-4647-cd48-94dd7c8b2ed5"
      },
      "source": [
        ""
      ],
      "execution_count": 147,
      "outputs": [
        {
          "output_type": "execute_result",
          "data": {
            "text/plain": [
              "<tf.Tensor 'dense/Sigmoid:0' shape=(?, 1) dtype=float32>"
            ]
          },
          "metadata": {
            "tags": []
          },
          "execution_count": 147
        }
      ]
    },
    {
      "cell_type": "code",
      "metadata": {
        "colab_type": "code",
        "id": "Tskt_1npeCzP",
        "colab": {}
      },
      "source": [
        ""
      ],
      "execution_count": 0,
      "outputs": []
    }
  ]
}